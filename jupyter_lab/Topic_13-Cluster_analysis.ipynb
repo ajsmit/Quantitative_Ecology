{
 "cells": [
  {
   "cell_type": "markdown",
   "id": "87ffbf2b-d3f7-4207-9cc8-b7016d88593e",
   "metadata": {},
   "source": [
    "**Author:** Prof. AJ Smit\n",
    "\n",
    "Department of Biodiversity and Conservation Biology\n",
    "\n",
    "University of the Western Cape\n",
    "\n",
    "# Topic 13: Cluster analysis\n",
    "\n",
    "In this example we will apply two types of cluster analyses, viz. **K-means clustering** and **hierarchical clustering**. Whereas ordination attempts to display the presence and influence of gradients, clustering tries to place our samples into a certain number of discrete units or clusters. We have seen that the WHO/SDG data seem to form neat groupings of countries within their respective parent locations. Let's explore this dataset with cluster analysis.\n",
    "\n",
    "Additional examples of clustering to study are:\n",
    "\n",
    "1. Numerical Ecology in R, pp. 53-62. Later pages in the Cluster chapter go deeper into clustering and you should read over it for a broad overview. For the purpose of this module, we will focus on 4.3 Hierarchical Clustering and 4.4 Agglomerative Clustering.\n",
    "2. A [Kaggle challenge](https://www.kaggle.com/rohan0301/unsupervised-learning-on-country-data) with examples of both Hierarchical Clustering and K-means Clustering.\n",
    "\n",
    "## Set-up the analysis environment"
   ]
  },
  {
   "cell_type": "code",
   "execution_count": 1,
   "id": "f140d5ca-70fd-4f86-bccc-209ddc1dd6aa",
   "metadata": {},
   "outputs": [
    {
     "name": "stderr",
     "output_type": "stream",
     "text": [
      "── \u001b[1mAttaching packages\u001b[22m ──────────────────────────────────────────────────────────────────────────────────────────────────────────────── tidyverse 1.3.1 ──\n",
      "\n",
      "\u001b[32m✔\u001b[39m \u001b[34mggplot2\u001b[39m 3.3.5     \u001b[32m✔\u001b[39m \u001b[34mpurrr  \u001b[39m 0.3.4\n",
      "\u001b[32m✔\u001b[39m \u001b[34mtibble \u001b[39m 3.1.2     \u001b[32m✔\u001b[39m \u001b[34mdplyr  \u001b[39m 1.0.7\n",
      "\u001b[32m✔\u001b[39m \u001b[34mtidyr  \u001b[39m 1.1.3     \u001b[32m✔\u001b[39m \u001b[34mstringr\u001b[39m 1.4.0\n",
      "\u001b[32m✔\u001b[39m \u001b[34mreadr  \u001b[39m 1.4.0     \u001b[32m✔\u001b[39m \u001b[34mforcats\u001b[39m 0.5.1\n",
      "\n",
      "── \u001b[1mConflicts\u001b[22m ─────────────────────────────────────────────────────────────────────────────────────────────────────────────────── tidyverse_conflicts() ──\n",
      "\u001b[31m✖\u001b[39m \u001b[34mdplyr\u001b[39m::\u001b[32mfilter()\u001b[39m masks \u001b[34mstats\u001b[39m::filter()\n",
      "\u001b[31m✖\u001b[39m \u001b[34mdplyr\u001b[39m::\u001b[32mlag()\u001b[39m    masks \u001b[34mstats\u001b[39m::lag()\n",
      "\n",
      "Registered S3 method overwritten by 'GGally':\n",
      "  method from   \n",
      "  +.gg   ggplot2\n",
      "\n",
      "\n",
      "---------------------\n",
      "Welcome to dendextend version 1.15.1\n",
      "Type citation('dendextend') for how to cite the package.\n",
      "\n",
      "Type browseVignettes(package = 'dendextend') for the package vignette.\n",
      "The github page is: https://github.com/talgalili/dendextend/\n",
      "\n",
      "Suggestions and bug-reports can be submitted at: https://github.com/talgalili/dendextend/issues\n",
      "Or contact: <tal.galili@gmail.com>\n",
      "\n",
      "\tTo suppress this message use:  suppressPackageStartupMessages(library(dendextend))\n",
      "---------------------\n",
      "\n",
      "\n",
      "\n",
      "Attaching package: ‘dendextend’\n",
      "\n",
      "\n",
      "The following object is masked from ‘package:stats’:\n",
      "\n",
      "    cutree\n",
      "\n",
      "\n",
      "Welcome! Want to learn more? See two factoextra-related books at https://goo.gl/ve3WBa\n",
      "\n",
      "\n",
      "Attaching package: ‘gridExtra’\n",
      "\n",
      "\n",
      "The following object is masked from ‘package:dplyr’:\n",
      "\n",
      "    combine\n",
      "\n",
      "\n",
      "Loading required package: permute\n",
      "\n",
      "\n",
      "Attaching package: ‘permute’\n",
      "\n",
      "\n",
      "The following object is masked from ‘package:dendextend’:\n",
      "\n",
      "    shuffle\n",
      "\n",
      "\n",
      "Loading required package: lattice\n",
      "\n",
      "Registered S3 method overwritten by 'vegan':\n",
      "  method     from      \n",
      "  rev.hclust dendextend\n",
      "\n",
      "This is vegan 2.5-7\n",
      "\n"
     ]
    }
   ],
   "source": [
    "library(tidyverse) \n",
    "library(GGally)\n",
    "library(cluster)\n",
    "library(dendextend)\n",
    "library(ggcorrplot)\n",
    "library(factoextra)\n",
    "library(gridExtra)\n",
    "library(vegan)"
   ]
  },
  {
   "cell_type": "markdown",
   "id": "0866c301-9b34-457f-a7ac-023ad0fffc2e",
   "metadata": {},
   "source": [
    "## Load the SDG data\n",
    "\n",
    "I load the combined dataset that already had their missing values imputed (as per the [PCA](https://github.com/ajsmit/Quantitative_Ecology/blob/main/jupyter_lab/Topic_8-PCA-SDG-example.ipynb) example)."
   ]
  },
  {
   "cell_type": "code",
   "execution_count": 5,
   "id": "1af89980-b6a5-4288-8f7c-46dad022fca8",
   "metadata": {},
   "outputs": [
    {
     "name": "stderr",
     "output_type": "stream",
     "text": [
      "\n",
      "\u001b[36m──\u001b[39m \u001b[1m\u001b[1mColumn specification\u001b[1m\u001b[22m \u001b[36m─────────────────────────────────────────────────────────────────────────────────────────────────────────────────────────────────\u001b[39m\n",
      "cols(\n",
      "  .default = col_double(),\n",
      "  ParentLocation = \u001b[31mcol_character()\u001b[39m,\n",
      "  Location = \u001b[31mcol_character()\u001b[39m\n",
      ")\n",
      "\u001b[36mℹ\u001b[39m Use \u001b[30m\u001b[47m\u001b[30m\u001b[47m`spec()`\u001b[47m\u001b[30m\u001b[49m\u001b[39m for the full column specifications.\n",
      "\n",
      "\n"
     ]
    },
    {
     "data": {
      "text/html": [
       "<table class=\"dataframe\">\n",
       "<caption>A tibble: 6 × 40</caption>\n",
       "<thead>\n",
       "\t<tr><th scope=col>ParentLocation</th><th scope=col>Location</th><th scope=col>other_1</th><th scope=col>other_2</th><th scope=col>SDG1.a</th><th scope=col>SDG16.1</th><th scope=col>SDG3.1_1</th><th scope=col>SDG3.2_1</th><th scope=col>SDG3.2_2</th><th scope=col>SDG3.2_3</th><th scope=col>⋯</th><th scope=col>SDG3.b_4</th><th scope=col>SDG3.c_1</th><th scope=col>SDG3.c_2</th><th scope=col>SDG3.c_3</th><th scope=col>SDG3.c_4</th><th scope=col>SDG3.d_1</th><th scope=col>SDG3.7</th><th scope=col>SDG3.a</th><th scope=col>SDG3.1_2</th><th scope=col>SDG3.b_5</th></tr>\n",
       "\t<tr><th scope=col>&lt;chr&gt;</th><th scope=col>&lt;chr&gt;</th><th scope=col>&lt;dbl&gt;</th><th scope=col>&lt;dbl&gt;</th><th scope=col>&lt;dbl&gt;</th><th scope=col>&lt;dbl&gt;</th><th scope=col>&lt;dbl&gt;</th><th scope=col>&lt;dbl&gt;</th><th scope=col>&lt;dbl&gt;</th><th scope=col>&lt;dbl&gt;</th><th scope=col>⋯</th><th scope=col>&lt;dbl&gt;</th><th scope=col>&lt;dbl&gt;</th><th scope=col>&lt;dbl&gt;</th><th scope=col>&lt;dbl&gt;</th><th scope=col>&lt;dbl&gt;</th><th scope=col>&lt;dbl&gt;</th><th scope=col>&lt;dbl&gt;</th><th scope=col>&lt;dbl&gt;</th><th scope=col>&lt;dbl&gt;</th><th scope=col>&lt;dbl&gt;</th></tr>\n",
       "</thead>\n",
       "<tbody>\n",
       "\t<tr><td>Eastern Mediterranean</td><td>Afghanistan        </td><td>61.65</td><td>15.59</td><td> 2.14</td><td>9.02</td><td>673</td><td>134.802054</td><td>230.59499</td><td>175.34049</td><td>⋯</td><td>62.00000</td><td> 2.780000</td><td> 1.480000</td><td> 0.034000</td><td> 0.4700000</td><td>42.00000</td><td> 97.20786</td><td>14.35881</td><td>66.57461</td><td>68.86648</td></tr>\n",
       "\t<tr><td>Europe               </td><td>Albania            </td><td>77.84</td><td>21.13</td><td> 9.62</td><td>3.78</td><td> 16</td><td>  7.552973</td><td> 11.31237</td><td> 10.04785</td><td>⋯</td><td>98.00000</td><td>12.160000</td><td>36.500000</td><td> 5.163544</td><td> 6.4885512</td><td>82.02704</td><td> 17.30000</td><td>29.70000</td><td>94.66754</td><td>56.50277</td></tr>\n",
       "\t<tr><td>Africa               </td><td>Algeria            </td><td>76.54</td><td>21.81</td><td>10.73</td><td>1.66</td><td>113</td><td> 37.999310</td><td> 61.62882</td><td> 53.23844</td><td>⋯</td><td>61.00000</td><td>18.330000</td><td>22.430000</td><td> 4.262742</td><td> 5.6060842</td><td>73.00000</td><td> 43.97764</td><td>19.10000</td><td>87.91192</td><td>65.47076</td></tr>\n",
       "\t<tr><td>Africa               </td><td>Angola             </td><td>61.72</td><td>16.71</td><td> 5.43</td><td>9.82</td><td>246</td><td>124.853365</td><td>341.33898</td><td>228.84115</td><td>⋯</td><td>55.00000</td><td>-5.914274</td><td>-9.936513</td><td>-1.082242</td><td>-0.7075023</td><td>55.48743</td><td>111.43513</td><td>13.59252</td><td>61.05841</td><td>68.24041</td></tr>\n",
       "\t<tr><td>Americas             </td><td>Antigua and Barbuda</td><td>76.14</td><td>20.43</td><td>11.61</td><td>2.42</td><td> 43</td><td>  5.940594</td><td> 10.89109</td><td>  9.90099</td><td>⋯</td><td>85.61069</td><td>27.541210</td><td>44.870000</td><td> 5.042694</td><td> 6.3336920</td><td>81.00000</td><td> 31.10000</td><td>23.60171</td><td>94.20909</td><td>55.99846</td></tr>\n",
       "\t<tr><td>Americas             </td><td>Argentina          </td><td>76.17</td><td>20.98</td><td>13.47</td><td>6.23</td><td> 40</td><td> 11.006454</td><td> 18.74016</td><td> 16.69441</td><td>⋯</td><td>82.00000</td><td>40.010000</td><td>25.820000</td><td> 5.358117</td><td> 6.6479615</td><td>76.00000</td><td> 25.93560</td><td>23.60000</td><td>98.40000</td><td>56.00000</td></tr>\n",
       "</tbody>\n",
       "</table>\n"
      ],
      "text/latex": [
       "A tibble: 6 × 40\n",
       "\\begin{tabular}{lllllllllllllllllllll}\n",
       " ParentLocation & Location & other\\_1 & other\\_2 & SDG1.a & SDG16.1 & SDG3.1\\_1 & SDG3.2\\_1 & SDG3.2\\_2 & SDG3.2\\_3 & ⋯ & SDG3.b\\_4 & SDG3.c\\_1 & SDG3.c\\_2 & SDG3.c\\_3 & SDG3.c\\_4 & SDG3.d\\_1 & SDG3.7 & SDG3.a & SDG3.1\\_2 & SDG3.b\\_5\\\\\n",
       " <chr> & <chr> & <dbl> & <dbl> & <dbl> & <dbl> & <dbl> & <dbl> & <dbl> & <dbl> & ⋯ & <dbl> & <dbl> & <dbl> & <dbl> & <dbl> & <dbl> & <dbl> & <dbl> & <dbl> & <dbl>\\\\\n",
       "\\hline\n",
       "\t Eastern Mediterranean & Afghanistan         & 61.65 & 15.59 &  2.14 & 9.02 & 673 & 134.802054 & 230.59499 & 175.34049 & ⋯ & 62.00000 &  2.780000 &  1.480000 &  0.034000 &  0.4700000 & 42.00000 &  97.20786 & 14.35881 & 66.57461 & 68.86648\\\\\n",
       "\t Europe                & Albania             & 77.84 & 21.13 &  9.62 & 3.78 &  16 &   7.552973 &  11.31237 &  10.04785 & ⋯ & 98.00000 & 12.160000 & 36.500000 &  5.163544 &  6.4885512 & 82.02704 &  17.30000 & 29.70000 & 94.66754 & 56.50277\\\\\n",
       "\t Africa                & Algeria             & 76.54 & 21.81 & 10.73 & 1.66 & 113 &  37.999310 &  61.62882 &  53.23844 & ⋯ & 61.00000 & 18.330000 & 22.430000 &  4.262742 &  5.6060842 & 73.00000 &  43.97764 & 19.10000 & 87.91192 & 65.47076\\\\\n",
       "\t Africa                & Angola              & 61.72 & 16.71 &  5.43 & 9.82 & 246 & 124.853365 & 341.33898 & 228.84115 & ⋯ & 55.00000 & -5.914274 & -9.936513 & -1.082242 & -0.7075023 & 55.48743 & 111.43513 & 13.59252 & 61.05841 & 68.24041\\\\\n",
       "\t Americas              & Antigua and Barbuda & 76.14 & 20.43 & 11.61 & 2.42 &  43 &   5.940594 &  10.89109 &   9.90099 & ⋯ & 85.61069 & 27.541210 & 44.870000 &  5.042694 &  6.3336920 & 81.00000 &  31.10000 & 23.60171 & 94.20909 & 55.99846\\\\\n",
       "\t Americas              & Argentina           & 76.17 & 20.98 & 13.47 & 6.23 &  40 &  11.006454 &  18.74016 &  16.69441 & ⋯ & 82.00000 & 40.010000 & 25.820000 &  5.358117 &  6.6479615 & 76.00000 &  25.93560 & 23.60000 & 98.40000 & 56.00000\\\\\n",
       "\\end{tabular}\n"
      ],
      "text/markdown": [
       "\n",
       "A tibble: 6 × 40\n",
       "\n",
       "| ParentLocation &lt;chr&gt; | Location &lt;chr&gt; | other_1 &lt;dbl&gt; | other_2 &lt;dbl&gt; | SDG1.a &lt;dbl&gt; | SDG16.1 &lt;dbl&gt; | SDG3.1_1 &lt;dbl&gt; | SDG3.2_1 &lt;dbl&gt; | SDG3.2_2 &lt;dbl&gt; | SDG3.2_3 &lt;dbl&gt; | ⋯ ⋯ | SDG3.b_4 &lt;dbl&gt; | SDG3.c_1 &lt;dbl&gt; | SDG3.c_2 &lt;dbl&gt; | SDG3.c_3 &lt;dbl&gt; | SDG3.c_4 &lt;dbl&gt; | SDG3.d_1 &lt;dbl&gt; | SDG3.7 &lt;dbl&gt; | SDG3.a &lt;dbl&gt; | SDG3.1_2 &lt;dbl&gt; | SDG3.b_5 &lt;dbl&gt; |\n",
       "|---|---|---|---|---|---|---|---|---|---|---|---|---|---|---|---|---|---|---|---|---|\n",
       "| Eastern Mediterranean | Afghanistan         | 61.65 | 15.59 |  2.14 | 9.02 | 673 | 134.802054 | 230.59499 | 175.34049 | ⋯ | 62.00000 |  2.780000 |  1.480000 |  0.034000 |  0.4700000 | 42.00000 |  97.20786 | 14.35881 | 66.57461 | 68.86648 |\n",
       "| Europe                | Albania             | 77.84 | 21.13 |  9.62 | 3.78 |  16 |   7.552973 |  11.31237 |  10.04785 | ⋯ | 98.00000 | 12.160000 | 36.500000 |  5.163544 |  6.4885512 | 82.02704 |  17.30000 | 29.70000 | 94.66754 | 56.50277 |\n",
       "| Africa                | Algeria             | 76.54 | 21.81 | 10.73 | 1.66 | 113 |  37.999310 |  61.62882 |  53.23844 | ⋯ | 61.00000 | 18.330000 | 22.430000 |  4.262742 |  5.6060842 | 73.00000 |  43.97764 | 19.10000 | 87.91192 | 65.47076 |\n",
       "| Africa                | Angola              | 61.72 | 16.71 |  5.43 | 9.82 | 246 | 124.853365 | 341.33898 | 228.84115 | ⋯ | 55.00000 | -5.914274 | -9.936513 | -1.082242 | -0.7075023 | 55.48743 | 111.43513 | 13.59252 | 61.05841 | 68.24041 |\n",
       "| Americas              | Antigua and Barbuda | 76.14 | 20.43 | 11.61 | 2.42 |  43 |   5.940594 |  10.89109 |   9.90099 | ⋯ | 85.61069 | 27.541210 | 44.870000 |  5.042694 |  6.3336920 | 81.00000 |  31.10000 | 23.60171 | 94.20909 | 55.99846 |\n",
       "| Americas              | Argentina           | 76.17 | 20.98 | 13.47 | 6.23 |  40 |  11.006454 |  18.74016 |  16.69441 | ⋯ | 82.00000 | 40.010000 | 25.820000 |  5.358117 |  6.6479615 | 76.00000 |  25.93560 | 23.60000 | 98.40000 | 56.00000 |\n",
       "\n"
      ],
      "text/plain": [
       "  ParentLocation        Location            other_1 other_2 SDG1.a SDG16.1\n",
       "1 Eastern Mediterranean Afghanistan         61.65   15.59    2.14  9.02   \n",
       "2 Europe                Albania             77.84   21.13    9.62  3.78   \n",
       "3 Africa                Algeria             76.54   21.81   10.73  1.66   \n",
       "4 Africa                Angola              61.72   16.71    5.43  9.82   \n",
       "5 Americas              Antigua and Barbuda 76.14   20.43   11.61  2.42   \n",
       "6 Americas              Argentina           76.17   20.98   13.47  6.23   \n",
       "  SDG3.1_1 SDG3.2_1   SDG3.2_2  SDG3.2_3  ⋯ SDG3.b_4 SDG3.c_1  SDG3.c_2 \n",
       "1 673      134.802054 230.59499 175.34049 ⋯ 62.00000  2.780000  1.480000\n",
       "2  16        7.552973  11.31237  10.04785 ⋯ 98.00000 12.160000 36.500000\n",
       "3 113       37.999310  61.62882  53.23844 ⋯ 61.00000 18.330000 22.430000\n",
       "4 246      124.853365 341.33898 228.84115 ⋯ 55.00000 -5.914274 -9.936513\n",
       "5  43        5.940594  10.89109   9.90099 ⋯ 85.61069 27.541210 44.870000\n",
       "6  40       11.006454  18.74016  16.69441 ⋯ 82.00000 40.010000 25.820000\n",
       "  SDG3.c_3  SDG3.c_4   SDG3.d_1 SDG3.7    SDG3.a   SDG3.1_2 SDG3.b_5\n",
       "1  0.034000  0.4700000 42.00000  97.20786 14.35881 66.57461 68.86648\n",
       "2  5.163544  6.4885512 82.02704  17.30000 29.70000 94.66754 56.50277\n",
       "3  4.262742  5.6060842 73.00000  43.97764 19.10000 87.91192 65.47076\n",
       "4 -1.082242 -0.7075023 55.48743 111.43513 13.59252 61.05841 68.24041\n",
       "5  5.042694  6.3336920 81.00000  31.10000 23.60171 94.20909 55.99846\n",
       "6  5.358117  6.6479615 76.00000  25.93560 23.60000 98.40000 56.00000"
      ]
     },
     "metadata": {},
     "output_type": "display_data"
    }
   ],
   "source": [
    "SDGs <- read_csv(\"/Users/ajsmit/Dropbox/R/workshops/Quantitative_Ecology/exercises/WHO/SDG_complete.csv\")\n",
    "head(SDGs)"
   ]
  },
  {
   "cell_type": "markdown",
   "id": "581dbc2b-c3c4-4286-8dff-6192f90bd962",
   "metadata": {},
   "source": [
    "The parent locations:"
   ]
  },
  {
   "cell_type": "code",
   "execution_count": 7,
   "id": "e79383d3-9bed-4c69-a2f6-80534edf1cee",
   "metadata": {},
   "outputs": [
    {
     "data": {
      "text/html": [
       "<style>\n",
       ".list-inline {list-style: none; margin:0; padding: 0}\n",
       ".list-inline>li {display: inline-block}\n",
       ".list-inline>li:not(:last-child)::after {content: \"\\00b7\"; padding: 0 .5ex}\n",
       "</style>\n",
       "<ol class=list-inline><li>'Eastern Mediterranean'</li><li>'Europe'</li><li>'Africa'</li><li>'Americas'</li><li>'Western Pacific'</li><li>'South-East Asia'</li></ol>\n"
      ],
      "text/latex": [
       "\\begin{enumerate*}\n",
       "\\item 'Eastern Mediterranean'\n",
       "\\item 'Europe'\n",
       "\\item 'Africa'\n",
       "\\item 'Americas'\n",
       "\\item 'Western Pacific'\n",
       "\\item 'South-East Asia'\n",
       "\\end{enumerate*}\n"
      ],
      "text/markdown": [
       "1. 'Eastern Mediterranean'\n",
       "2. 'Europe'\n",
       "3. 'Africa'\n",
       "4. 'Americas'\n",
       "5. 'Western Pacific'\n",
       "6. 'South-East Asia'\n",
       "\n",
       "\n"
      ],
      "text/plain": [
       "[1] \"Eastern Mediterranean\" \"Europe\"                \"Africa\"               \n",
       "[4] \"Americas\"              \"Western Pacific\"       \"South-East Asia\"      "
      ]
     },
     "metadata": {},
     "output_type": "display_data"
    },
    {
     "data": {
      "text/html": [
       "6"
      ],
      "text/latex": [
       "6"
      ],
      "text/markdown": [
       "6"
      ],
      "text/plain": [
       "[1] 6"
      ]
     },
     "metadata": {},
     "output_type": "display_data"
    }
   ],
   "source": [
    "unique(SDGs$ParentLocation)\n",
    "length(unique(SDGs$ParentLocation))"
   ]
  },
  {
   "cell_type": "markdown",
   "id": "7f679341-32d9-432a-93f3-c31d3af6caea",
   "metadata": {},
   "source": [
    "The number of countries:"
   ]
  },
  {
   "cell_type": "code",
   "execution_count": 8,
   "id": "c4a7b569-e2fb-4d7c-8cc1-d51ac59825cb",
   "metadata": {},
   "outputs": [
    {
     "data": {
      "text/html": [
       "176"
      ],
      "text/latex": [
       "176"
      ],
      "text/markdown": [
       "176"
      ],
      "text/plain": [
       "[1] 176"
      ]
     },
     "metadata": {},
     "output_type": "display_data"
    }
   ],
   "source": [
    "length(SDGs$Location)"
   ]
  }
 ],
 "metadata": {
  "kernelspec": {
   "display_name": "R",
   "language": "R",
   "name": "ir"
  },
  "language_info": {
   "codemirror_mode": "r",
   "file_extension": ".r",
   "mimetype": "text/x-r-source",
   "name": "R",
   "pygments_lexer": "r",
   "version": "4.1.0"
  }
 },
 "nbformat": 4,
 "nbformat_minor": 5
}
