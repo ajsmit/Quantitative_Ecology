{
 "cells": [
  {
   "cell_type": "markdown",
   "id": "80e11fe0-6690-44d3-b1b7-f13927a0656e",
   "metadata": {},
   "source": [
    "**Author:** Prof. AJ Smit\n",
    "\n",
    "Department of Biodiversity and Conservation Biology\n",
    "\n",
    "University of the Western Cape"
   ]
  },
  {
   "cell_type": "markdown",
   "id": "0294cc81-5b15-4a05-81c4-8ede8c3a4551",
   "metadata": {},
   "source": [
    "# A deeper dive into gradients\n",
    "\n",
    "In the previous two sections we looked at calculations involving biodiversity (specifically the dissimilarity matricies made from a species table) and environmental variables (distances). What can we do with the two forms of contemporary β-diversity? What do they mean? Can we look to environmental distances for more insight? \n",
    "\n",
    "Let's do a deeper analysis and create a figure to demonstrate these findings. I regress $\\beta_{\\text{sør}}$ on the spatial distance between section pairs (see below) and on the environmental distance ($\\beta_{\\text{E}}$) in each bioregion and used the magnitude of the slope (per 100 km) of this relationship as a metric of β-diversity or ‘distance decay’ of dissimilarity.\n",
    "\n",
    "Effectively, what these lines of code do is regreate Figure 5 in Smit et al. (2017).\n",
    "\n",
    "(To be updated...)"
   ]
  },
  {
   "cell_type": "markdown",
   "id": "31fe34c1-41d7-432e-acbd-23c4a2d6c570",
   "metadata": {},
   "source": [
    "## Setting up the analysis environment"
   ]
  },
  {
   "cell_type": "code",
   "execution_count": 1,
   "id": "bfd0eb4d-4041-4fd3-a83c-e05ec95e7fcf",
   "metadata": {},
   "outputs": [
    {
     "name": "stderr",
     "output_type": "stream",
     "text": [
      "Loading required package: permute\n",
      "\n",
      "Loading required package: lattice\n",
      "\n",
      "This is vegan 2.5-7\n",
      "\n",
      "Loading required package: tcltk\n",
      "\n",
      "Registered S3 methods overwritten by 'lme4':\n",
      "  method                          from\n",
      "  cooks.distance.influence.merMod car \n",
      "  influence.merMod                car \n",
      "  dfbeta.influence.merMod         car \n",
      "  dfbetas.influence.merMod        car \n",
      "\n",
      "BiodiversityR 2.13-1: Use command BiodiversityRGUI() to launch the Graphical User Interface; \n",
      "to see changes use BiodiversityRGUI(changeLog=TRUE, backward.compatibility.messages=TRUE)\n",
      "\n",
      "\n"
     ]
    }
   ],
   "source": [
    "library(plyr)\n",
    "library(vegan)\n",
    "library(betapart) # for partitioning beta-diversity\n",
    "library(BiodiversityR) # for calcs of species richness etc.\n",
    "library(tidyr)\n",
    "library(ggplot2)"
   ]
  },
  {
   "cell_type": "markdown",
   "id": "0aae2d53-20b3-494e-836d-ea3a3d20bece",
   "metadata": {},
   "source": [
    "## Load all of the data"
   ]
  },
  {
   "cell_type": "code",
   "execution_count": 2,
   "id": "ffb1667e-f580-494e-947e-f6550430c613",
   "metadata": {},
   "outputs": [],
   "source": [
    "# ---- setup-data ----\n",
    "# load the environmental data:\n",
    "load(\"/Users/ajsmit/Dropbox/R/workshops/Quantitative_Ecology/exercises/diversity/SeaweedEnv.RData\")\n",
    "env <- as.data.frame(env)\n",
    "env <- env[, c(\"annMean\", \"annRange\", \"annSD\", \"febMean\", \"febRange\", \"febSD\", \"augMean\", \"augRange\", \"augSD\")] # keep only some..."
   ]
  },
  {
   "cell_type": "code",
   "execution_count": 3,
   "id": "e0727769-7f89-488f-b67e-52ab0ddb1f5e",
   "metadata": {},
   "outputs": [],
   "source": [
    "# ---- env-bioregion ----\n",
    "env.BMP <- env[1:16, ]\n",
    "env.BATZ <- env[17:21, ]\n",
    "env.AMP <- env[22:41, ]\n",
    "env.ECTZ <- env[42:58, ]"
   ]
  },
  {
   "cell_type": "markdown",
   "id": "826f69d2-ef20-4432-b6c1-ee81b5c62c1c",
   "metadata": {},
   "source": [
    "Since the connectivity between sections is constrained by their location along a shoreline, we calculated the distances between sections not as ‘as the crow flies’ distances (e.g. Section 1 is not connected in a straight line to Section 58 because of the intervening land in-between), but as the great circle geodesic distances between each pair of sections along a ‘route’. Traveling from **1** to **58** therefore requires visiting **2**, then **3**, and eventually all the way up to **58**. The total distance between a pair of arbitrary sections is thus the cumulative sum of the great circle distances between each consecutive pair of intervening sections along the route. These data are contained in `dists_mat.RData` (I prepared it earlier):"
   ]
  },
  {
   "cell_type": "code",
   "execution_count": 4,
   "id": "c4f2cf3b-b5d3-48d1-a51e-7fac928189c3",
   "metadata": {},
   "outputs": [],
   "source": [
    "# ---- distances ----\n",
    "load(\"/Users/ajsmit/Dropbox/R/workshops/Quantitative_Ecology/exercises/diversity/dists_mat.RData\") # loads as dists.mat"
   ]
  },
  {
   "cell_type": "markdown",
   "id": "522e9dfd-c67c-41c2-a95a-5e35ea12f0e8",
   "metadata": {},
   "source": [
    "Various bioregions have been defined for South African marine biota. I prefer to use the one made by John Bolton and Herre Stegenga in 2002:"
   ]
  },
  {
   "cell_type": "code",
   "execution_count": 5,
   "id": "20a1f498-8190-4d73-a467-4d4ccc8f8e99",
   "metadata": {},
   "outputs": [],
   "source": [
    "# ---- bioregions ----\n",
    "bioreg <- read.csv('/Users/ajsmit/Dropbox/R/workshops/Quantitative_Ecology/exercises/diversity/bioregions.csv', header = TRUE)\n",
    "\n",
    "# Make a full matrix that constrains pairwise comparisons to pairs within bioregions:\n",
    "bioreg.mat <- dists.mat\n",
    "bioreg.mat[1:58, 1:58] <- \"out\"\n",
    "bioreg.mat[1:16, 1:16] <- \"BMP\"\n",
    "bioreg.mat[17:21, 17:21] <- \"B-ATZ\"\n",
    "bioreg.mat[22:41, 22:41] <- \"AMP\"\n",
    "bioreg.mat[42:58, 42:58] <- \"ECTZ\"\n",
    "bioreg.tri <- gdata::lowerTriangle(bioreg.mat, diag = FALSE) # requires the gdata package"
   ]
  },
  {
   "cell_type": "markdown",
   "id": "fb333763-c3e0-46a8-98da-3d7fab665c0d",
   "metadata": {},
   "source": [
    "Make an environmental dataframe for use with plots of pairwise correlations etc.:"
   ]
  },
  {
   "cell_type": "code",
   "execution_count": 6,
   "id": "99525052-6b03-4def-a192-0640ae03fd1a",
   "metadata": {},
   "outputs": [],
   "source": [
    "env.df <- data.frame(bio = bioreg$bolton, env)"
   ]
  },
  {
   "cell_type": "code",
   "execution_count": 7,
   "id": "76ce35ec-b69f-475e-8f84-6633263f0b01",
   "metadata": {},
   "outputs": [],
   "source": [
    "# ---- seaweeds ----\n",
    "# load the seaweed data:\n",
    "spp <- read.csv('/Users/ajsmit/Dropbox/R/workshops/Quantitative_Ecology/exercises/diversity/SeaweedsSpp.csv')\n",
    "spp <- dplyr::select(spp, -1) # because it clashes with select from MASS"
   ]
  },
  {
   "cell_type": "markdown",
   "id": "61018311-971c-42f8-906f-30f07d9d3878",
   "metadata": {},
   "source": [
    "## Start calculating"
   ]
  },
  {
   "cell_type": "markdown",
   "id": "d9bb1a00-b5b8-47ea-8cfb-14eccc6ab45d",
   "metadata": {},
   "source": [
    "Calculate beta-diversity using the Sørensen index of dissimilarity. This is used throughout; binary Bray-Curtis is equivalent to Sørensen in **vegan**."
   ]
  },
  {
   "cell_type": "code",
   "execution_count": 8,
   "id": "1c1b7084-6ef4-4bcb-9414-f73f0e4d2893",
   "metadata": {},
   "outputs": [],
   "source": [
    "# ---- Sorensen-index ----\n",
    "Y <- vegdist(spp, binary = TRUE) # this is used throughout\n",
    "Y.mat <- as.matrix(Y)\n",
    "Y.diag <- diag(Y.mat[-1, -nrow(Y.mat)]) # extract the subdiagonal\n",
    "Y.diag <- append(0, Y.diag, after = 1) # add a zero in front"
   ]
  },
  {
   "cell_type": "markdown",
   "id": "ef899f96-5523-4887-a005-65cedfd51a79",
   "metadata": {},
   "source": [
    "Decompose into turnover and nestedness-resultant beta-diversity:"
   ]
  },
  {
   "cell_type": "code",
   "execution_count": 9,
   "id": "3df2fedb-7ffd-42f3-abf7-14dceab40377",
   "metadata": {},
   "outputs": [],
   "source": [
    "# ---- do-betapart ----\n",
    "## Calculations with betapart:\n",
    "Y.core <- betapart.core(spp)\n",
    "\n",
    "# Using the Sørensen index, compute three distance matrices accounting for the (i) turnover (replacement),\n",
    "# (ii) nestedness-resultant component, and (iii) total dissimilarity (i.e. the sum of both components):\n",
    "Y.pair <- beta.pair(Y.core, index.family = \"sor\") # use for pairwise plotting"
   ]
  },
  {
   "cell_type": "markdown",
   "id": "ac865c1f-bcdd-48c9-825c-99f1a4625f51",
   "metadata": {},
   "source": [
    "Extract the subdiagonal for plotting later on:"
   ]
  },
  {
   "cell_type": "code",
   "execution_count": 10,
   "id": "b4e66300-f800-45a5-aa2d-38d687b43794",
   "metadata": {},
   "outputs": [],
   "source": [
    "Y1.mat <- as.matrix(Y.pair$beta.sim)\n",
    "Y1.diag <- diag(Y1.mat  [-1, -nrow(Y1.mat)]) # extract the subdiagonal\n",
    "Y1.diag <- append(0, Y1.diag, after = 1) # add a zero in front\n",
    "\n",
    "Y2.mat <- as.matrix(Y.pair$beta.sne)\n",
    "Y2.diag <- diag(Y2.mat[-1, -nrow(Y2.mat)]) # extract the subdiagonal\n",
    "Y2.diag <- append(0, Y2.diag, after = 1) # add a zero in front"
   ]
  },
  {
   "cell_type": "markdown",
   "id": "4f2dad3b-06f3-4af4-a4a7-b7f1ebf28999",
   "metadata": {},
   "source": [
    "Create separate matrices for each bioregion:"
   ]
  },
  {
   "cell_type": "code",
   "execution_count": 11,
   "id": "cb95a352-4bb2-42a6-aff3-492d903ae4c7",
   "metadata": {},
   "outputs": [],
   "source": [
    "# ---- spp-bioregion ----\n",
    "spp.BMP <- spp[1:16, ]\n",
    "Y.BMP <- vegdist(spp.BMP, binary = TRUE)\n",
    "spp.core.BMP <- betapart.core(spp.BMP)\n",
    "Y.pair.BMP <- beta.pair(spp.core.BMP, index.family = \"sor\") # use for pairwise plotting\n",
    "\n",
    "spp.BATZ <- spp[17:21, ]\n",
    "Y.BATZ <- vegdist(spp.BATZ, binary = TRUE)\n",
    "spp.core.BATZ <- betapart.core(spp.BATZ)\n",
    "Y.pair.BATZ <- beta.pair(spp.core.BATZ, index.family = \"sor\") # use for pairwise plotting\n",
    "\n",
    "spp.AMP <- spp[22:41, ]\n",
    "Y.AMP <- vegdist(spp.AMP, binary = TRUE)\n",
    "spp.core.AMP <- betapart.core(spp.AMP)\n",
    "Y.pair.AMP <- beta.pair(spp.core.AMP, index.family = \"sor\") # use for pairwise plotting\n",
    "\n",
    "spp.ECTZ <- spp[42:58, ]\n",
    "Y.ECTZ <- vegdist(spp.ECTZ, binary = TRUE)\n",
    "spp.core.ECTZ <- betapart.core(spp.ECTZ)\n",
    "Y.pair.ECTZ <- beta.pair(spp.core.ECTZ, index.family = \"sor\") # use for pairwise plotting"
   ]
  },
  {
   "cell_type": "markdown",
   "id": "ada483e9-d273-4d42-8162-b7a47bf62595",
   "metadata": {},
   "source": [
    "Calculate species richness (alpha-diversity):"
   ]
  },
  {
   "cell_type": "code",
   "execution_count": 12,
   "id": "b4086e19-dee5-4f27-909d-90e285adbe32",
   "metadata": {},
   "outputs": [],
   "source": [
    "# ---- do-species-richness ----\n",
    "spp.richness.site <- diversityresult(spp, index = 'richness', method = 'each site')"
   ]
  },
  {
   "cell_type": "markdown",
   "id": "c9ec83bd-5472-44eb-8b05-4d882236af87",
   "metadata": {},
   "source": [
    "Calculate the environmental distances:"
   ]
  },
  {
   "cell_type": "code",
   "execution_count": 13,
   "id": "f703d231-2ac4-47b9-a61b-2954606f17bc",
   "metadata": {},
   "outputs": [],
   "source": [
    "# ---- environmental-distance ----\n",
    "# Euclidian distances on temperatures:\n",
    "env.raw <- env # first make a copy so we can use untransformed data later on\n",
    "env <- decostand(env, method = \"standardize\") # calculate z-scores"
   ]
  },
  {
   "cell_type": "markdown",
   "id": "324124d5-0efb-45b3-8c73-b3b264d24edb",
   "metadata": {},
   "source": [
    "Using individual thermal variables, calculate Euclidian distances, make a matrix and extract the subdiagonal. The data have already been standardised in `env`:"
   ]
  },
  {
   "cell_type": "code",
   "execution_count": 14,
   "id": "c34f5b62-fa84-4906-af73-2bb06553314b",
   "metadata": {},
   "outputs": [],
   "source": [
    "# augMean\n",
    "env4 <- dplyr::select(env, augMean) # as used in env.rda2\n",
    "env4 <- vegdist(env4, method = 'euclidian')\n",
    "env4.mat <- as.matrix(env4)\n",
    "env4.diag <- diag(env4.mat[-1, -nrow(env4.mat)])\n",
    "env4.diag <- append(0, env4.diag, after = 1)"
   ]
  },
  {
   "cell_type": "code",
   "execution_count": 15,
   "id": "faaf6f65-c10e-4efa-96c0-ab9f954d976f",
   "metadata": {},
   "outputs": [],
   "source": [
    "# febRange:\n",
    "env5 <- dplyr::select(env, febRange) # as used in env.rda2\n",
    "env5 <- vegdist(env5, method = 'euclidian')\n",
    "env5.mat <- as.matrix(env5)\n",
    "env5.diag <- diag(env5.mat[-1, -nrow(env5.mat)])\n",
    "env5.diag <- append(0, env5.diag, after = 1)"
   ]
  },
  {
   "cell_type": "code",
   "execution_count": 16,
   "id": "873ab1aa-db85-4d79-b17e-d397d75c6a86",
   "metadata": {},
   "outputs": [],
   "source": [
    "# febSD:\n",
    "env6 <- dplyr::select(env, febSD) # as used in env.rda2\n",
    "env6 <- vegdist(env6, method = 'euclidian')\n",
    "env6.mat <- as.matrix(env6)\n",
    "env6.diag <- diag(env6.mat[-1, -nrow(env6.mat)])\n",
    "env6.diag <- append(0, env6.diag, after = 1)"
   ]
  },
  {
   "cell_type": "code",
   "execution_count": 17,
   "id": "d75bb2c8-5f66-4c39-aa0e-641a3270e056",
   "metadata": {},
   "outputs": [],
   "source": [
    "# augSD:\n",
    "env7 <- dplyr::select(env, augSD) # as used in env.rda2\n",
    "env7 <- vegdist(env7, method = 'euclidian')\n",
    "env7.mat <- as.matrix(env7)\n",
    "env7.diag <- diag(env7.mat[-1, -nrow(env7.mat)])\n",
    "env7.diag <- append(0, env7.diag, after = 1)"
   ]
  },
  {
   "cell_type": "code",
   "execution_count": 18,
   "id": "da19ffdf-c1c5-401b-9694-e222d02bcd5a",
   "metadata": {},
   "outputs": [],
   "source": [
    "# annMean:\n",
    "env8 <- dplyr::select(env, annMean) # as used in env.rda2\n",
    "env8 <- vegdist(env8, method = 'euclidian')\n",
    "env8.mat <- as.matrix(env8)\n",
    "env8.diag <- diag(env8.mat[-1, -nrow(env8.mat)])\n",
    "env8.diag <- append(0, env8.diag, after = 1)"
   ]
  },
  {
   "cell_type": "code",
   "execution_count": 19,
   "id": "d764a768-c44c-434e-b7f7-bb939dd7518f",
   "metadata": {},
   "outputs": [],
   "source": [
    "# combined variables selected with the db-RDA:\n",
    "# these have a far poorer fit...\n",
    "env.comb <- dplyr::select(env, augMean, febRange, febSD, augSD)\n",
    "env.comb <- vegdist(env.comb, method = 'euclidian')\n",
    "env.comb.mat <- as.matrix(env.comb)\n",
    "env.comb.diag <- diag(env.comb.mat[-1, -nrow(env.comb.mat)])\n",
    "env.comb.diag <- append(0, env.comb.diag, after = 1)"
   ]
  },
  {
   "cell_type": "code",
   "execution_count": 20,
   "id": "5ddd35aa-c357-4233-a2ea-c86ada4ea074",
   "metadata": {},
   "outputs": [],
   "source": [
    "# ---- do-figure-5 ----\n",
    "# Assemble data frame for plotting:\n",
    "spp.df <- data.frame(dist = as.vector(dists.mat),\n",
    "                     bio = as.vector(bioreg.mat),\n",
    "                     augMean = as.vector(env4.mat),\n",
    "                     febRange = as.vector(env5.mat),\n",
    "                     febSD = as.vector(env6.mat),\n",
    "                     augSD = as.vector(env7.mat),\n",
    "                     annMean = as.vector(env8.mat),\n",
    "                     Y = as.vector(Y.mat),\n",
    "                     Y1 = as.vector(Y1.mat),\n",
    "                     Y2 = as.vector(Y2.mat))"
   ]
  },
  {
   "cell_type": "markdown",
   "id": "a88a6746-5d80-463a-b65c-a693cdd02b92",
   "metadata": {},
   "source": [
    "Do the various linear regressions of Sørensen dissimilarities (*β~sor~*), turnover (*β~sim~*) and nestedness-related *β*-diversity (*β~sne~*) as a function of the various thermal distances. I only display the results of the linear regression for $Y1$ regressed on geographical distance, `dist`, but do all the calculations:"
   ]
  },
  {
   "cell_type": "code",
   "execution_count": 21,
   "id": "ad2e8bdf-7fa2-44c9-8caf-df1a873abe36",
   "metadata": {},
   "outputs": [
    {
     "data": {
      "text/html": [
       "<table class=\"dataframe\">\n",
       "<caption>A data.frame: 6 × 10</caption>\n",
       "<thead>\n",
       "\t<tr><th></th><th scope=col>dist</th><th scope=col>bio</th><th scope=col>augMean</th><th scope=col>febRange</th><th scope=col>febSD</th><th scope=col>augSD</th><th scope=col>annMean</th><th scope=col>Y</th><th scope=col>Y1</th><th scope=col>Y2</th></tr>\n",
       "\t<tr><th></th><th scope=col>&lt;dbl&gt;</th><th scope=col>&lt;chr&gt;</th><th scope=col>&lt;dbl&gt;</th><th scope=col>&lt;dbl&gt;</th><th scope=col>&lt;dbl&gt;</th><th scope=col>&lt;dbl&gt;</th><th scope=col>&lt;dbl&gt;</th><th scope=col>&lt;dbl&gt;</th><th scope=col>&lt;dbl&gt;</th><th scope=col>&lt;dbl&gt;</th></tr>\n",
       "</thead>\n",
       "<tbody>\n",
       "\t<tr><th scope=row>1</th><td>  0.000</td><td>BMP</td><td>0.000000000</td><td>0.000000000</td><td>0.000000000</td><td>0.00000000</td><td>0.000000000</td><td>0.0000000000</td><td>0.0000000000</td><td>0.0000000000</td></tr>\n",
       "\t<tr><th scope=row>2</th><td> 51.138</td><td>BMP</td><td>0.057413686</td><td>0.098844037</td><td>0.162952710</td><td>0.31327996</td><td>0.015018458</td><td>0.0036101083</td><td>0.0000000000</td><td>0.0036101083</td></tr>\n",
       "\t<tr><th scope=row>3</th><td>104.443</td><td>BMP</td><td>0.150439037</td><td>0.348877544</td><td>0.099341627</td><td>0.41882390</td><td>0.026022466</td><td>0.0036101083</td><td>0.0000000000</td><td>0.0036101083</td></tr>\n",
       "\t<tr><th scope=row>4</th><td>153.042</td><td>BMP</td><td>0.203224406</td><td>0.557654418</td><td>0.040720995</td><td>0.41525879</td><td>0.051341700</td><td>0.0071942446</td><td>0.0000000000</td><td>0.0071942446</td></tr>\n",
       "\t<tr><th scope=row>5</th><td>207.386</td><td>BMP</td><td>0.169908896</td><td>0.596480756</td><td>0.138250544</td><td>0.45110735</td><td>0.110354710</td><td>0.0249110320</td><td>0.0072463768</td><td>0.0176646552</td></tr>\n",
       "\t<tr><th scope=row>6</th><td>253.246</td><td>BMP</td><td>0.082131062</td><td>0.506493762</td><td>0.158074740</td><td>0.50536019</td><td>0.141115516</td><td>0.0391459075</td><td>0.0217391304</td><td>0.0174067770</td></tr>\n",
       "</tbody>\n",
       "</table>\n"
      ],
      "text/latex": [
       "A data.frame: 6 × 10\n",
       "\\begin{tabular}{r|llllllllll}\n",
       "  & dist & bio & augMean & febRange & febSD & augSD & annMean & Y & Y1 & Y2\\\\\n",
       "  & <dbl> & <chr> & <dbl> & <dbl> & <dbl> & <dbl> & <dbl> & <dbl> & <dbl> & <dbl>\\\\\n",
       "\\hline\n",
       "\t1 &   0.000 & BMP & 0.000000000 & 0.000000000 & 0.000000000 & 0.00000000 & 0.000000000 & 0.0000000000 & 0.0000000000 & 0.0000000000\\\\\n",
       "\t2 &  51.138 & BMP & 0.057413686 & 0.098844037 & 0.162952710 & 0.31327996 & 0.015018458 & 0.0036101083 & 0.0000000000 & 0.0036101083\\\\\n",
       "\t3 & 104.443 & BMP & 0.150439037 & 0.348877544 & 0.099341627 & 0.41882390 & 0.026022466 & 0.0036101083 & 0.0000000000 & 0.0036101083\\\\\n",
       "\t4 & 153.042 & BMP & 0.203224406 & 0.557654418 & 0.040720995 & 0.41525879 & 0.051341700 & 0.0071942446 & 0.0000000000 & 0.0071942446\\\\\n",
       "\t5 & 207.386 & BMP & 0.169908896 & 0.596480756 & 0.138250544 & 0.45110735 & 0.110354710 & 0.0249110320 & 0.0072463768 & 0.0176646552\\\\\n",
       "\t6 & 253.246 & BMP & 0.082131062 & 0.506493762 & 0.158074740 & 0.50536019 & 0.141115516 & 0.0391459075 & 0.0217391304 & 0.0174067770\\\\\n",
       "\\end{tabular}\n"
      ],
      "text/markdown": [
       "\n",
       "A data.frame: 6 × 10\n",
       "\n",
       "| <!--/--> | dist &lt;dbl&gt; | bio &lt;chr&gt; | augMean &lt;dbl&gt; | febRange &lt;dbl&gt; | febSD &lt;dbl&gt; | augSD &lt;dbl&gt; | annMean &lt;dbl&gt; | Y &lt;dbl&gt; | Y1 &lt;dbl&gt; | Y2 &lt;dbl&gt; |\n",
       "|---|---|---|---|---|---|---|---|---|---|---|\n",
       "| 1 |   0.000 | BMP | 0.000000000 | 0.000000000 | 0.000000000 | 0.00000000 | 0.000000000 | 0.0000000000 | 0.0000000000 | 0.0000000000 |\n",
       "| 2 |  51.138 | BMP | 0.057413686 | 0.098844037 | 0.162952710 | 0.31327996 | 0.015018458 | 0.0036101083 | 0.0000000000 | 0.0036101083 |\n",
       "| 3 | 104.443 | BMP | 0.150439037 | 0.348877544 | 0.099341627 | 0.41882390 | 0.026022466 | 0.0036101083 | 0.0000000000 | 0.0036101083 |\n",
       "| 4 | 153.042 | BMP | 0.203224406 | 0.557654418 | 0.040720995 | 0.41525879 | 0.051341700 | 0.0071942446 | 0.0000000000 | 0.0071942446 |\n",
       "| 5 | 207.386 | BMP | 0.169908896 | 0.596480756 | 0.138250544 | 0.45110735 | 0.110354710 | 0.0249110320 | 0.0072463768 | 0.0176646552 |\n",
       "| 6 | 253.246 | BMP | 0.082131062 | 0.506493762 | 0.158074740 | 0.50536019 | 0.141115516 | 0.0391459075 | 0.0217391304 | 0.0174067770 |\n",
       "\n"
      ],
      "text/plain": [
       "  dist    bio augMean     febRange    febSD       augSD      annMean    \n",
       "1   0.000 BMP 0.000000000 0.000000000 0.000000000 0.00000000 0.000000000\n",
       "2  51.138 BMP 0.057413686 0.098844037 0.162952710 0.31327996 0.015018458\n",
       "3 104.443 BMP 0.150439037 0.348877544 0.099341627 0.41882390 0.026022466\n",
       "4 153.042 BMP 0.203224406 0.557654418 0.040720995 0.41525879 0.051341700\n",
       "5 207.386 BMP 0.169908896 0.596480756 0.138250544 0.45110735 0.110354710\n",
       "6 253.246 BMP 0.082131062 0.506493762 0.158074740 0.50536019 0.141115516\n",
       "  Y            Y1           Y2          \n",
       "1 0.0000000000 0.0000000000 0.0000000000\n",
       "2 0.0036101083 0.0000000000 0.0036101083\n",
       "3 0.0036101083 0.0000000000 0.0036101083\n",
       "4 0.0071942446 0.0000000000 0.0071942446\n",
       "5 0.0249110320 0.0072463768 0.0176646552\n",
       "6 0.0391459075 0.0217391304 0.0174067770"
      ]
     },
     "metadata": {},
     "output_type": "display_data"
    },
    {
     "data": {
      "text/plain": [
       "$AMP\n",
       "\n",
       "Call:\n",
       "lm(formula = Y1 ~ dist, data = x)\n",
       "\n",
       "Residuals:\n",
       "       Min         1Q     Median         3Q        Max \n",
       "-0.0595754 -0.0195099 -0.0045457  0.0150607  0.0676548 \n",
       "\n",
       "Coefficients:\n",
       "               Estimate  Std. Error t value Pr(>|t|)    \n",
       "(Intercept) -5.1753e-03  2.4057e-03 -2.1513  0.03205 *  \n",
       "dist         2.9388e-04  6.5671e-06 44.7508  < 2e-16 ***\n",
       "---\n",
       "Signif. codes:  0 ‘***’ 0.001 ‘**’ 0.01 ‘*’ 0.05 ‘.’ 0.1 ‘ ’ 1\n",
       "\n",
       "Residual standard error: 0.027858 on 398 degrees of freedom\n",
       "Multiple R-squared:  0.83421,\tAdjusted R-squared:  0.83379 \n",
       "F-statistic: 2002.6 on 1 and 398 DF,  p-value: < 2.22e-16\n",
       "\n",
       "\n",
       "$`B-ATZ`\n",
       "\n",
       "Call:\n",
       "lm(formula = Y1 ~ dist, data = x)\n",
       "\n",
       "Residuals:\n",
       "      Min        1Q    Median        3Q       Max \n",
       "-0.070629 -0.024865  0.008058  0.022698  0.059443 \n",
       "\n",
       "Coefficients:\n",
       "               Estimate  Std. Error t value  Pr(>|t|)    \n",
       "(Intercept) -0.00805800  0.01364463 -0.5906    0.5606    \n",
       "dist         0.00109279  0.00015899  6.8732 5.229e-07 ***\n",
       "---\n",
       "Signif. codes:  0 ‘***’ 0.001 ‘**’ 0.01 ‘*’ 0.05 ‘.’ 0.1 ‘ ’ 1\n",
       "\n",
       "Residual standard error: 0.041102 on 23 degrees of freedom\n",
       "Multiple R-squared:  0.67256,\tAdjusted R-squared:  0.65832 \n",
       "F-statistic: 47.241 on 1 and 23 DF,  p-value: 5.2292e-07\n",
       "\n",
       "\n",
       "$BMP\n",
       "\n",
       "Call:\n",
       "lm(formula = Y1 ~ dist, data = x)\n",
       "\n",
       "Residuals:\n",
       "       Min         1Q     Median         3Q        Max \n",
       "-0.0377507 -0.0274619 -0.0238939  0.0015289  0.2693766 \n",
       "\n",
       "Coefficients:\n",
       "              Estimate Std. Error t value  Pr(>|t|)    \n",
       "(Intercept) 2.3923e-02 5.4997e-03  4.3498 1.975e-05 ***\n",
       "dist        7.0949e-05 1.8256e-05  3.8864 0.0001299 ***\n",
       "---\n",
       "Signif. codes:  0 ‘***’ 0.001 ‘**’ 0.01 ‘*’ 0.05 ‘.’ 0.1 ‘ ’ 1\n",
       "\n",
       "Residual standard error: 0.051294 on 254 degrees of freedom\n",
       "Multiple R-squared:  0.056126,\tAdjusted R-squared:  0.05241 \n",
       "F-statistic: 15.104 on 1 and 254 DF,  p-value: 0.00012991\n",
       "\n",
       "\n",
       "$ECTZ\n",
       "\n",
       "Call:\n",
       "lm(formula = Y1 ~ dist, data = x)\n",
       "\n",
       "Residuals:\n",
       "       Min         1Q     Median         3Q        Max \n",
       "-0.1188184 -0.0268483  0.0053999  0.0244034  0.1196065 \n",
       "\n",
       "Coefficients:\n",
       "               Estimate  Std. Error t value Pr(>|t|)    \n",
       "(Intercept) -5.3999e-03  4.2574e-03 -1.2683   0.2057    \n",
       "dist         7.8600e-04  1.2086e-05 65.0326   <2e-16 ***\n",
       "---\n",
       "Signif. codes:  0 ‘***’ 0.001 ‘**’ 0.01 ‘*’ 0.05 ‘.’ 0.1 ‘ ’ 1\n",
       "\n",
       "Residual standard error: 0.041937 on 287 degrees of freedom\n",
       "Multiple R-squared:  0.93645,\tAdjusted R-squared:  0.93623 \n",
       "F-statistic: 4229.2 on 1 and 287 DF,  p-value: < 2.22e-16\n",
       "\n"
      ]
     },
     "metadata": {},
     "output_type": "display_data"
    }
   ],
   "source": [
    "spp.df2 <- droplevels(subset(spp.df, bio !=  \"out\"))\n",
    "head(spp.df2)\n",
    "\n",
    "# turnover...\n",
    "Y1.lm1 <- dlply(spp.df2, .(bio), function(x) lm(Y1 ~ dist, data = x))\n",
    "lapply(Y1.lm1, summary)\n",
    "Y1.lm2 <- dlply(spp.df2, .(bio), function(x) lm(Y1 ~ augMean , data = x))\n",
    "# lapply(Y1.lm2, summary)\n",
    "Y1.lm3 <- dlply(spp.df2, .(bio), function(x) lm(Y1 ~ augSD , data = x))\n",
    "# lapply(Y1.lm3, summary)\n",
    "Y1.lm4 <- dlply(spp.df2, .(bio), function(x) lm(Y1 ~ febRange , data = x))\n",
    "# lapply(Y1.lm4, summary)\n",
    "Y1.lm5 <- dlply(spp.df2, .(bio), function(x) lm(Y1 ~ febSD , data = x))\n",
    "# lapply(Y1.lm5, summary)\n",
    "\n",
    "# nestedness-resultant...\n",
    "Y2.lm1 <- dlply(spp.df2, .(bio), function(x) lm(Y2 ~ dist, data = x))\n",
    "# lapply(Y2.lm1, summary)\n",
    "Y2.lm2 <- dlply(spp.df2, .(bio), function(x) lm(Y2 ~ annMean , data = x))\n",
    "# lapply(Y2.lm2, summary)"
   ]
  },
  {
   "cell_type": "markdown",
   "id": "7277d055-413b-4c6e-8f6f-96a01fd1ff88",
   "metadata": {},
   "source": [
    "## Make the plots"
   ]
  },
  {
   "cell_type": "markdown",
   "id": "6e6b53fd-79ed-4444-8f6e-ed9b6d309475",
   "metadata": {},
   "source": [
    "Now assemble **Figure 5.** It is a plot of pairwise (a) Sørensen dissimilarities (*β~sor~*), (b) turnover (*β~sim~*) and (c) nestedness-related *β*-diversity (*β~sne~*) (*sensu* Baselga, 2010) as a function of distance between sections. Section pairs falling within individual bioregions are colour-coded; where the pairs include sections across different bioregions the symbols are coloured grey and labeled ‘out’."
   ]
  },
  {
   "cell_type": "markdown",
   "id": "9904ccbf-71f7-46ae-9b6e-27fc4a322f99",
   "metadata": {},
   "source": [
    "Combine the data in a way that makes for easy plotting:"
   ]
  },
  {
   "cell_type": "code",
   "execution_count": 22,
   "id": "d9db3d25-90c9-4b3c-a19e-fda7c56ab186",
   "metadata": {},
   "outputs": [],
   "source": [
    "# Plots:\n",
    "spp.long <- spp.df %>%\n",
    "  gather(beta, dissim, Y:Y2) %>%\n",
    "  gather(metric, distance, c(dist, augMean:annMean))\n",
    "spp.long$metric = factor(spp.long$metric, levels = c('dist','augMean','febRange','febSD', 'augSD', 'annMean'))"
   ]
  },
  {
   "cell_type": "markdown",
   "id": "7d56bb0f-8421-4c53-a9a5-8b1928c4a9a6",
   "metadata": {},
   "source": [
    "The repetive portions of code needed to create each of the panels. I was too lazy to write neater and more concise code:"
   ]
  },
  {
   "cell_type": "code",
   "execution_count": 23,
   "id": "a2a02d70-5449-4c8c-9c9b-32ee62d81471",
   "metadata": {},
   "outputs": [],
   "source": [
    "# sim as a function of geographic distance:\n",
    "plt5a <- spp.long %>%\n",
    "  dplyr::filter(beta %in% \"Y1\" & metric %in% \"dist\") %>%\n",
    "  ggplot(aes(x = distance, y = dissim, group = bio)) +\n",
    "  geom_point(aes(colour = bio, shape = bio), size = 1.2, alpha = 0.8) +\n",
    "  geom_point(aes(colour = bio, size = bio, alpha = bio, shape = bio)) +\n",
    "  geom_line(stat = \"smooth\", method = \"lm\", formula = y~x, alpha = 1.0, size = 0.6,\n",
    "            colour = \"black\",\n",
    "            aes(linetype = bio)) +\n",
    "  scale_linetype_manual(name = \"Bioregion\", values = c(\"dashed\", \"solid\", \"dotted\", \"longdash\", \"blank\")) +\n",
    "  scale_colour_brewer(name = \"Bioregion\", palette = \"Set1\") +\n",
    "  scale_shape_manual(name = \"Bioregion\", values = c(0, 19, 2, 5, 46)) +\n",
    "  scale_size_manual(name = \"Bioregion\", values = c(1.0, 1.2, 1.0, 1.0, 0.6)) +\n",
    "  scale_alpha_manual(name = \"Bioregion\", values = c(0.85, 1.0, 0.85, 0.85, 0.1)) +\n",
    "  xlab(expression(paste(\"Distance (km)\"))) +\n",
    "  ylab(expression(paste(beta[sim]))) +\n",
    "  scale_y_continuous(limits = c(0, 0.75)) +\n",
    "  scale_x_continuous(limits = c(0, 1000)) +\n",
    "  theme_grey() +\n",
    "  theme(panel.grid.minor = element_line(colour = NA),\n",
    "        plot.title = element_text(hjust = 0, size = 10),\n",
    "        # legend.position = c(0.2, 0.7),\n",
    "        # legend.direction = \"vertical\",\n",
    "        aspect.ratio = 0.6) +\n",
    "  ggtitle(expression(paste(beta[sim], \" as a function of distance\")))"
   ]
  },
  {
   "cell_type": "code",
   "execution_count": null,
   "id": "41ee2ddc-b4ab-4f34-b349-6354c1f5ee46",
   "metadata": {},
   "outputs": [],
   "source": [
    "# sim as a function of augMean:\n",
    "plt5b <- spp.long %>%\n",
    "  dplyr::filter(beta %in% \"Y1\" & metric %in% \"augMean\") %>%\n",
    "  ggplot(aes(x = distance, y = dissim, group = bio)) +\n",
    "  geom_point(aes(colour = bio, shape = bio), size = 1.2, alpha = 0.8) +\n",
    "  # geom_point(aes(colour = bio, size = bio, alpha = bio, shape = bio)) +\n",
    "  geom_line(stat = \"smooth\", method = \"lm\", formula = y~x, alpha = 1.0, size = 0.6,\n",
    "            colour = \"black\",\n",
    "            aes(linetype = bio)) +\n",
    "  scale_linetype_manual(values = c(\"dashed\", \"solid\", \"dotted\", \"longdash\", \"blank\")) +\n",
    "  scale_colour_brewer(palette = \"Set1\") +\n",
    "  scale_shape_manual(values = c(0, 19, 2, 5, 46)) +\n",
    "  scale_size_manual(values = c(1.0, 1.2, 1.0, 1.0, 0.6)) +\n",
    "  scale_alpha_manual(values = c(0.85, 1.0, 0.85, 0.85, 0.1)) +\n",
    "  xlab(expression(paste(d[E]))) +\n",
    "  ylab(expression(paste(beta[sim]))) +\n",
    "  scale_y_continuous(limits = c(0, 0.75)) +\n",
    "  scale_x_continuous(limits = c(0, 2)) +\n",
    "  theme_grey() +\n",
    "  theme(panel.grid.minor = element_line(colour = NA),\n",
    "        plot.title = element_text(hjust = 0, size = 10),\n",
    "        legend.position = \"none\",\n",
    "        # legend.title = element_blank(),\n",
    "        legend.title = element_text(size = 8),\n",
    "        legend.text = element_text(size = 8),\n",
    "        legend.key = element_blank(),\n",
    "        legend.key.height = unit(.22, \"cm\"),\n",
    "        legend.background = element_blank(),\n",
    "        aspect.ratio = 0.6) +\n",
    "  ggtitle(expression(paste(beta[sim], \" as a function of augMean\")))"
   ]
  },
  {
   "cell_type": "code",
   "execution_count": null,
   "id": "e380f5a1-35eb-4a18-9bd4-9a829a18a8eb",
   "metadata": {},
   "outputs": [],
   "source": [
    "# sim as a function of febRange:\n",
    "plt5c <- spp.long %>%\n",
    "  dplyr::filter(beta %in% \"Y1\" & metric %in% \"febRange\") %>%\n",
    "  ggplot(aes(x = distance, y = dissim, group = bio)) +\n",
    "  geom_point(aes(colour = bio, shape = bio), size = 1.2, alpha = 0.8) +\n",
    "  # geom_point(aes(colour = bio, size = bio, alpha = bio, shape = bio)) +\n",
    "  geom_line(stat = \"smooth\", method = \"lm\", formula = y~x, alpha = 1.0, size = 0.6,\n",
    "            colour = \"black\",\n",
    "            aes(linetype = bio)) +\n",
    "  scale_linetype_manual(values = c(\"dashed\", \"solid\", \"dotted\", \"longdash\", \"blank\")) +\n",
    "  scale_colour_brewer(palette = \"Set1\") +\n",
    "  scale_shape_manual(values = c(0, 19, 2, 5, 46)) +\n",
    "  scale_size_manual(values = c(1.0, 1.2, 1.0, 1.0, 0.6)) +\n",
    "  scale_alpha_manual(values = c(0.85, 1.0, 0.85, 0.85, 0.1)) +\n",
    "  xlab(expression(paste(d[E]))) +\n",
    "  ylab(expression(paste(beta[sim]))) +\n",
    "  scale_y_continuous(limits = c(0, 0.75)) +\n",
    "  scale_x_continuous(limits = c(0, 4)) +\n",
    "  theme_grey() +\n",
    "  theme(panel.grid.minor = element_line(colour = NA),\n",
    "        plot.title = element_text(hjust = 0, size = 10),\n",
    "        legend.position = \"none\",\n",
    "        aspect.ratio = 0.6) +\n",
    "  ggtitle(expression(paste(beta[sim], \" as a function of febRange\")))"
   ]
  },
  {
   "cell_type": "code",
   "execution_count": null,
   "id": "a1d85cdf-5885-4e3c-ab7d-23b9fa13efb0",
   "metadata": {},
   "outputs": [],
   "source": [
    "# sim as a function of febSD:\n",
    "plt5d <- spp.long %>%\n",
    "  dplyr::filter(beta %in% \"Y1\" & metric %in% \"febSD\") %>%\n",
    "  ggplot(aes(x = distance, y = dissim, group = bio)) +\n",
    "  geom_point(aes(colour = bio, shape = bio), size = 1.2, alpha = 0.8) +\n",
    "  # geom_point(aes(colour = bio, size = bio, alpha = bio, shape = bio)) +\n",
    "  geom_line(stat = \"smooth\", method = \"lm\", formula = y~x, alpha = 1.0, size = 0.6,\n",
    "            colour = \"black\",\n",
    "            aes(linetype = bio)) +\n",
    "  scale_linetype_manual(values = c(\"dashed\", \"solid\", \"dotted\", \"longdash\", \"blank\")) +\n",
    "  scale_colour_brewer(palette = \"Set1\") +\n",
    "  scale_shape_manual(values = c(0, 19, 2, 5, 46)) +\n",
    "  scale_size_manual(values = c(1.0, 1.2, 1.0, 1.0, 0.6)) +\n",
    "  scale_alpha_manual(values = c(0.85, 1.0, 0.85, 0.85, 0.1)) +\n",
    "  xlab(expression(paste(d[E]))) +\n",
    "  ylab(expression(paste(beta[sim]))) +\n",
    "  scale_y_continuous(limits = c(0, 0.75)) +\n",
    "  scale_x_continuous(limits = c(0, 3)) +\n",
    "  theme_grey() +\n",
    "  theme(panel.grid.minor = element_line(colour = NA),\n",
    "        plot.title = element_text(hjust = 0, size = 10),\n",
    "        legend.position = \"none\",\n",
    "        aspect.ratio = 0.6) +\n",
    "  ggtitle(expression(paste(beta[sim], \" as a function of febSD\")))"
   ]
  },
  {
   "cell_type": "code",
   "execution_count": null,
   "id": "083adbd0-6b89-4d59-a12d-0e61a8d4668b",
   "metadata": {},
   "outputs": [],
   "source": [
    "# sim as a function of augSD:\n",
    "plt5e <- spp.long %>%\n",
    "  dplyr::filter(beta %in% \"Y1\" & metric %in% \"augSD\") %>%\n",
    "  ggplot(aes(x = distance, y = dissim, group = bio)) +\n",
    "  geom_point(aes(colour = bio, shape = bio), size = 1.2, alpha = 0.8) +\n",
    "  # geom_point(aes(colour = bio, size = bio, alpha = bio, shape = bio)) +\n",
    "  geom_line(stat = \"smooth\", method = \"lm\", formula = y~x, alpha = 1.0, size = 0.6,\n",
    "            colour = \"black\",\n",
    "            aes(linetype = bio)) +\n",
    "  scale_linetype_manual(values = c(\"dashed\", \"solid\", \"dotted\", \"longdash\", \"blank\")) +\n",
    "  scale_colour_brewer(palette = \"Set1\") +\n",
    "  scale_shape_manual(values = c(0, 19, 2, 5, 46)) +\n",
    "  scale_size_manual(values = c(1.0, 1.2, 1.0, 1.0, 0.6)) +\n",
    "  scale_alpha_manual(values = c(0.85, 1.0, 0.85, 0.85, 0.1)) +\n",
    "  xlab(expression(paste(d[E]))) +\n",
    "  ylab(expression(paste(beta[sim]))) +\n",
    "  scale_y_continuous(limits = c(0, 0.75)) +\n",
    "  scale_x_continuous(limits = c(0, 3)) +\n",
    "  theme_grey() +\n",
    "  theme(panel.grid.minor = element_line(colour = NA),\n",
    "        plot.title = element_text(hjust = 0, size = 10),\n",
    "        legend.position = \"none\",\n",
    "        aspect.ratio = 0.6) +\n",
    "  ggtitle(expression(paste(beta[sim], \" as a function of augSD\")))"
   ]
  },
  {
   "cell_type": "code",
   "execution_count": null,
   "id": "b5b50d25-21aa-4098-bb7a-6488f1cd4f40",
   "metadata": {},
   "outputs": [],
   "source": [
    "# sne as a function of distance:\n",
    "plt5f <- spp.long %>%\n",
    "  dplyr::filter(beta %in% \"Y2\" & metric %in% \"dist\") %>%\n",
    "  ggplot(aes(x = distance, y = dissim, group = bio)) +\n",
    "  geom_point(aes(colour = bio, shape = bio), size = 1.2, alpha = 0.8) +\n",
    "  # geom_point(aes(colour = bio, size = bio, alpha = bio, shape = bio)) +\n",
    "  geom_line(stat = \"smooth\", method = \"lm\", formula = y~x, alpha = 1.0, size = 0.6,\n",
    "            colour = \"black\",\n",
    "            aes(linetype = bio)) +\n",
    "  scale_linetype_manual(values = c(\"dashed\", \"solid\", \"dotted\", \"longdash\", \"blank\")) +\n",
    "  scale_colour_brewer(palette = \"Set1\") +\n",
    "  scale_shape_manual(values = c(0, 19, 2, 5, 46)) +\n",
    "  scale_size_manual(values = c(1.0, 1.2, 1.0, 1.0, 0.6)) +\n",
    "  scale_alpha_manual(values = c(0.85, 1.0, 0.85, 0.85, 0.1)) +\n",
    "  xlab(expression(paste(\"Distance (km)\"))) +\n",
    "  ylab(expression(paste(beta[sne]))) +\n",
    "  scale_y_continuous(limits = c(0, 0.22)) +\n",
    "  scale_x_continuous(limits = c(0, 1000)) +\n",
    "  theme_grey() +\n",
    "  theme(panel.grid.minor = element_line(colour = NA),\n",
    "        plot.title = element_text(hjust = 0, size = 10),\n",
    "        legend.position = \"none\",\n",
    "        aspect.ratio = 0.6) +\n",
    "  ggtitle(expression(paste(beta[sne], \" as a function of distance\")))"
   ]
  },
  {
   "cell_type": "code",
   "execution_count": null,
   "id": "f588d0ba-bbbe-4c2e-8418-8a6972052f46",
   "metadata": {},
   "outputs": [],
   "source": [
    "# sne as a function of annMean:\n",
    "plt5g <- spp.long %>%\n",
    "  dplyr::filter(beta %in% \"Y2\" & metric %in% \"annMean\") %>%\n",
    "  ggplot(aes(x = distance, y = dissim, group = bio)) +\n",
    "  geom_point(aes(colour = bio, shape = bio), size = 1.2, alpha = 0.8) +\n",
    "  # geom_point(aes(colour = bio, size = bio, alpha = bio, shape = bio)) +\n",
    "  geom_line(stat = \"smooth\", method = \"lm\", formula = y~x, alpha = 1.0, size = 0.6,\n",
    "            colour = \"black\",\n",
    "            aes(linetype = bio)) +\n",
    "  scale_linetype_manual(values = c(\"dashed\", \"solid\", \"dotted\", \"longdash\", \"blank\")) +\n",
    "  scale_colour_brewer(palette = \"Set1\") +\n",
    "  scale_shape_manual(values = c(0, 19, 2, 5, 46)) +\n",
    "  scale_size_manual(values = c(1.0, 1.2, 1.0, 1.0, 0.6)) +\n",
    "  scale_alpha_manual(values = c(0.85, 1.0, 0.85, 0.85, 0.1)) +\n",
    "  xlab(expression(paste(d[E]))) +\n",
    "  ylab(expression(paste(beta[sne]))) +\n",
    "  scale_y_continuous(limits = c(0, 0.22)) +\n",
    "  scale_x_continuous(limits = c(0, 2)) +\n",
    "  theme_grey() +\n",
    "  theme(panel.grid.minor = element_line(colour = NA),\n",
    "        plot.title = element_text(hjust = 0, size = 10),\n",
    "        legend.position = \"none\",\n",
    "        aspect.ratio = 0.6) +\n",
    "  ggtitle(expression(paste(beta[sne], \" as a function of annMean\")))"
   ]
  },
  {
   "cell_type": "code",
   "execution_count": null,
   "id": "19d8cb3a-4dc6-4b40-803e-37ceb34e8f2c",
   "metadata": {},
   "outputs": [],
   "source": [
    "plt5h <- ggplot(spp.long, aes(x = distance, y = dissim)) + geom_blank() +\n",
    "  theme(plot.background = element_blank(),\n",
    "        panel.grid.major = element_blank(),\n",
    "        panel.grid.minor = element_blank(),\n",
    "        panel.border = element_blank(),\n",
    "        panel.background = element_blank(),\n",
    "        axis.title.x = element_blank(),\n",
    "        axis.title.y = element_blank(),\n",
    "        axis.text.x = element_blank(),\n",
    "        axis.text.y = element_blank(),\n",
    "        axis.ticks = element_blank(),\n",
    "        axis.line = element_blank())"
   ]
  },
  {
   "cell_type": "markdown",
   "id": "d7934f45-8cf1-4955-b729-ba5c4b87690f",
   "metadata": {},
   "source": [
    "Assemble using the **cowplot** package:"
   ]
  },
  {
   "cell_type": "code",
   "execution_count": null,
   "id": "46349efb-e221-4531-92cd-6b698b373323",
   "metadata": {},
   "outputs": [],
   "source": [
    "library(cowplot)\n",
    "\n",
    "oldw <- getOption(\"warn\") # turn off warnings\n",
    "options(warn = -1)\n",
    "\n",
    "l <- get_legend(plt5a)\n",
    "# pdf(\"Fig5.pdf\", width = 9, height = 6.5)\n",
    "ggdraw() +\n",
    "  draw_plot(plot_grid(plt5a + theme(legend.position = 'none'), plt5b, plt5c,\n",
    "                      plt5d, plt5e, l,\n",
    "                      plt5f, plt5g, plt5h,\n",
    "                      ncol = 3, align = 'hv'),\n",
    "            width = 1.0)\n",
    "# dev.off()\n",
    "\n",
    "options(warn = oldw)"
   ]
  },
  {
   "cell_type": "markdown",
   "id": "ea505249-dbb0-4a41-8b1d-6d56de9a5ab4",
   "metadata": {},
   "source": [
    "# References\n",
    "\n",
    "Baselga, A. (2010). Partitioning the turnover and nestedness components of beta diversity. Global Ecology and Biogeography 19, 134–143.\n",
    "\n",
    "Bolton, J. J., and Stegenga, H. (2002). Seaweed species diversity in South Africa. South African Journal of Marine Science 24, 9–18.\n",
    "\n",
    "Smit, A. J., Bolton, J. J., & Anderson, R. J. (2017). Seaweeds in two oceans: beta-diversity. Frontiers in Marine Science, 4, 404."
   ]
  }
 ],
 "metadata": {
  "kernelspec": {
   "display_name": "R",
   "language": "R",
   "name": "ir"
  },
  "language_info": {
   "codemirror_mode": "r",
   "file_extension": ".r",
   "mimetype": "text/x-r-source",
   "name": "R",
   "pygments_lexer": "r",
   "version": "4.1.0"
  }
 },
 "nbformat": 4,
 "nbformat_minor": 5
}
