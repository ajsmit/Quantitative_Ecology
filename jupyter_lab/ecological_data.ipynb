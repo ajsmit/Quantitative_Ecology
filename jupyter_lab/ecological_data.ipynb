{
 "cells": [
  {
   "cell_type": "markdown",
   "id": "160f38de-5413-40aa-ab11-6ca8d9f8cc01",
   "metadata": {},
   "source": [
    "**Author:** Prof. AJ Smit\n",
    "\n",
    "Department of Biodiversity and Conservation Biology\n",
    "\n",
    "University of the Western Cape"
   ]
  },
  {
   "cell_type": "markdown",
   "id": "e28f81d2-4f67-4adb-a1e3-6811e5bd1f60",
   "metadata": {},
   "source": [
    "# Where do ecological data come from?\n",
    "\n",
    "Information is all around us. It has existed before sentient humans began questioning \"Life, the Universe and Everything.\" During these early times, humans often invented silly answers, especially during the time before the scientific age when the tools and ways of thinking about problems became available. Today we have access to the ways and means to question the world around us, and we may arrive at objective answers (which are hopefully no longer silly). This module concerns large amounts of quantitative data (information turned into numbers) about our world. These quantitative data have been collected over many hundreds of years (give examples of long data sets), and they continue to be collected at increasing rates, over increasing spatial scales, and at finer and finer resolution. And because of advanced deterministic general circulation models that offer a predictive capability, which may be coupled via an ecophysiological understanding of how plants and animals and things that are neither plants nor animals react to environmental stimuli, we may project how the biota may respond in the future.\n",
    "\n",
    "Let us consider some of the sources of information (data) that we will be able to analyse and turn into knowledge using the tools available to the quantitative ecologist.\n",
    "\n",
    "## Field sampling\n",
    "\n",
    "## Historical data\n",
    "\n",
    "## Remotely sensed data\n",
    "\n",
    "## Modelled data (projections)"
   ]
  }
 ],
 "metadata": {
  "kernelspec": {
   "display_name": "R",
   "language": "R",
   "name": "ir"
  },
  "language_info": {
   "codemirror_mode": "r",
   "file_extension": ".r",
   "mimetype": "text/x-r-source",
   "name": "R",
   "pygments_lexer": "r",
   "version": "4.1.0"
  }
 },
 "nbformat": 4,
 "nbformat_minor": 5
}
