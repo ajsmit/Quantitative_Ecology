{
 "cells": [
  {
   "cell_type": "markdown",
   "id": "1735b954-5c69-4364-8434-9cc1f8613d7d",
   "metadata": {},
   "source": [
    "# Exploring the data\n",
    "\n",
    "## In the beginning\n",
    "At the start of the analysis, before we get to the hypothesis testing and multivariate approaches, we need to explore the data and compute the various synthetic descriptors (refer to the Basic Statistics Workshop). Recall that this exploratory data analysis includes the various measures of central tendency and dispersion/variation around the mean or median. Using the techniques that we already know, we can produce data summaries and statistical visualisations for each variable independently. So, we say that we produce univariate summaries, and if there is a need, we may also wish to include some of the univariate inferential statistics for ecological multivariate data. But this is not always required, and will depend on the research questions and approach to data analysis. Be guided by the research questions as to what is required. Typically, I don't like to produce too many detailed inferential statistics of the univariate data, choosing in stead to see which relationships and patterns emerge from the exploratory summary plots before testing their statistical significance using multivariate approaches. But that is me. Sometimes, however, some hypotheses call for a few univariate inferential analyses, and when this is the case, please refer to Basic Statistics.\n",
    "\n",
    "## Geographical coordinates\n",
    "\n",
    "We will examine in this section ways to plot the species and environmental data on maps...\n",
    "\n",
    "## Describe the environment\n",
    "\n",
    "## Describe the community data\n",
    "\n",
    "## Data transformations\n",
    "\n",
    "Make a table of the various types of ecological distances (Euclidian, Sørensen, Bray-Curtis, etc.), and what to use them for (typically). Refer to Table 3.1, p. 51, of @borcard2011."
   ]
  }
 ],
 "metadata": {
  "kernelspec": {
   "display_name": "R",
   "language": "R",
   "name": "ir"
  },
  "language_info": {
   "codemirror_mode": "r",
   "file_extension": ".r",
   "mimetype": "text/x-r-source",
   "name": "R",
   "pygments_lexer": "r",
   "version": "4.1.0"
  }
 },
 "nbformat": 4,
 "nbformat_minor": 5
}
