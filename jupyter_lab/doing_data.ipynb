{
 "cells": [
  {
   "cell_type": "markdown",
   "id": "f486a21b-37e9-4d28-b267-3bc22a21f11f",
   "metadata": {},
   "source": [
    "**Author:** Prof. AJ Smit\n",
    "\n",
    "Department of Biodiversity and Conservation Biology\n",
    "\n",
    "University of the Western Cape"
   ]
  },
  {
   "cell_type": "markdown",
   "id": "cf292280-acca-4c9b-bc75-6ecdc946ce2f",
   "metadata": {},
   "source": [
    "# What do we do with these data?\n",
    "\n",
    "We follow the principles of reproducible research, and throughout we will implement and practice modern data analytical methods. These approaches concern i) data entry, ii) data management, iii) data-wrangling, iv) analysis, and v) reporting, and we shall discuss each under the next headings.\n",
    "\n",
    "## Initial data entry\n",
    "\n",
    "## Meta-data and data management\n",
    "\n",
    "## Data-wrangling: pre-processing and quality assurance\n",
    "\n",
    "## Analysis\n",
    "\n",
    "## Reporting\n",
    "\n",
    "## This module\n",
    "\n",
    "Practical applications of the quantitative ecological methods will be applied to studying the patterning of species along gradients, and the classification of landscapes (based on plant and animal assemblages) into clusters using some measures of (dis-)similarity."
   ]
  }
 ],
 "metadata": {
  "kernelspec": {
   "display_name": "R",
   "language": "R",
   "name": "ir"
  },
  "language_info": {
   "codemirror_mode": "r",
   "file_extension": ".r",
   "mimetype": "text/x-r-source",
   "name": "R",
   "pygments_lexer": "r",
   "version": "4.1.0"
  }
 },
 "nbformat": 4,
 "nbformat_minor": 5
}
