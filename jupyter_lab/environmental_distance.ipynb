{
 "cells": [
  {
   "cell_type": "markdown",
   "id": "82e3c46b-5a8c-4850-8b50-d0aa91689f49",
   "metadata": {},
   "source": [
    "**Author:** Prof. AJ Smit\n",
    "\n",
    "Department of Biodiversity and Conservation Biology\n",
    "\n",
    "University of the Western Cape"
   ]
  },
  {
   "cell_type": "markdown",
   "id": "8bf1709b-d607-4d90-8cf8-64ca00b59c9a",
   "metadata": {},
   "source": [
    "# Environmental distances\n",
    "\n",
    "## Set up the analysis environment"
   ]
  },
  {
   "cell_type": "code",
   "execution_count": 1,
   "id": "2f519b42-ab5a-48e6-aa1e-ec645b6d7826",
   "metadata": {},
   "outputs": [
    {
     "name": "stderr",
     "output_type": "stream",
     "text": [
      "Loading required package: permute\n",
      "\n",
      "Loading required package: lattice\n",
      "\n",
      "This is vegan 2.5-7\n",
      "\n"
     ]
    }
   ],
   "source": [
    "library(vegan)\n",
    "library(ggplot2)\n",
    "library(geodist) # for calculating geographical distances between lats/lons\n",
    "library(ggpubr) # to arrange the multipanel graphs"
   ]
  },
  {
   "cell_type": "markdown",
   "id": "924ea237-adef-4c59-9cc6-ee0fc095853e",
   "metadata": {},
   "source": [
    "## Toy data\n",
    "\n",
    "The toy data have arbitrary columns to demonstrate the Euclidian distance calculation in the lecture slides:\n",
    "\n",
    "$$ d(a,b) = \\sqrt{(a_x - b_x)^2 + (a_y - b_y)^2 + (a_z - b_z)^2} $$\n",
    "\n",
    "The distance is found between every pair of points named __*a*__ to __*g*__ whose locations are marked by the 'coordinates' $x$, $y$, and $z$---i.e. this is an example of 3-dimensional data (a space or volume, as opposed to 2D data situated on a $x$, $y$ place). We might also call each coordinate a 'variable' (sometimes called a 'dimension') and hence we have multivariate or multidimensional data.\n",
    "\n",
    "Let's load the dataset and find the size of the dataframe:"
   ]
  },
  {
   "cell_type": "code",
   "execution_count": 2,
   "id": "b42866cf-5269-49c3-89e0-bcf07e99e568",
   "metadata": {},
   "outputs": [
    {
     "data": {
      "text/html": [
       "<style>\n",
       ".list-inline {list-style: none; margin:0; padding: 0}\n",
       ".list-inline>li {display: inline-block}\n",
       ".list-inline>li:not(:last-child)::after {content: \"\\00b7\"; padding: 0 .5ex}\n",
       "</style>\n",
       "<ol class=list-inline><li>7</li><li>4</li></ol>\n"
      ],
      "text/latex": [
       "\\begin{enumerate*}\n",
       "\\item 7\n",
       "\\item 4\n",
       "\\end{enumerate*}\n"
      ],
      "text/markdown": [
       "1. 7\n",
       "2. 4\n",
       "\n",
       "\n"
      ],
      "text/plain": [
       "[1] 7 4"
      ]
     },
     "metadata": {},
     "output_type": "display_data"
    }
   ],
   "source": [
    "xyz <- read.csv(\"/Users/ajsmit/Dropbox/R/workshops/Quantitative_Ecology/_GitBook/data/Euclidian_dustance_demo_data_xyz.csv\")\n",
    "dim(xyz)"
   ]
  },
  {
   "cell_type": "markdown",
   "id": "0eaca0ca-b934-4489-87f3-224c5fccf9d2",
   "metadata": {},
   "source": [
    "There are seven rows and four columns.\n",
    "\n",
    "The data look like:"
   ]
  },
  {
   "cell_type": "code",
   "execution_count": 3,
   "id": "7a12d473-1f6c-4aa0-bd17-f5f62bcdd349",
   "metadata": {},
   "outputs": [
    {
     "data": {
      "text/html": [
       "<table class=\"dataframe\">\n",
       "<caption>A data.frame: 7 × 4</caption>\n",
       "<thead>\n",
       "\t<tr><th scope=col>site</th><th scope=col>x</th><th scope=col>y</th><th scope=col>z</th></tr>\n",
       "\t<tr><th scope=col>&lt;chr&gt;</th><th scope=col>&lt;int&gt;</th><th scope=col>&lt;int&gt;</th><th scope=col>&lt;int&gt;</th></tr>\n",
       "</thead>\n",
       "<tbody>\n",
       "\t<tr><td>a</td><td>4</td><td>1</td><td>3</td></tr>\n",
       "\t<tr><td>b</td><td>5</td><td>5</td><td>5</td></tr>\n",
       "\t<tr><td>c</td><td>6</td><td>6</td><td>4</td></tr>\n",
       "\t<tr><td>d</td><td>1</td><td>4</td><td>9</td></tr>\n",
       "\t<tr><td>e</td><td>2</td><td>3</td><td>8</td></tr>\n",
       "\t<tr><td>f</td><td>8</td><td>3</td><td>1</td></tr>\n",
       "\t<tr><td>g</td><td>9</td><td>1</td><td>5</td></tr>\n",
       "</tbody>\n",
       "</table>\n"
      ],
      "text/latex": [
       "A data.frame: 7 × 4\n",
       "\\begin{tabular}{llll}\n",
       " site & x & y & z\\\\\n",
       " <chr> & <int> & <int> & <int>\\\\\n",
       "\\hline\n",
       "\t a & 4 & 1 & 3\\\\\n",
       "\t b & 5 & 5 & 5\\\\\n",
       "\t c & 6 & 6 & 4\\\\\n",
       "\t d & 1 & 4 & 9\\\\\n",
       "\t e & 2 & 3 & 8\\\\\n",
       "\t f & 8 & 3 & 1\\\\\n",
       "\t g & 9 & 1 & 5\\\\\n",
       "\\end{tabular}\n"
      ],
      "text/markdown": [
       "\n",
       "A data.frame: 7 × 4\n",
       "\n",
       "| site &lt;chr&gt; | x &lt;int&gt; | y &lt;int&gt; | z &lt;int&gt; |\n",
       "|---|---|---|---|\n",
       "| a | 4 | 1 | 3 |\n",
       "| b | 5 | 5 | 5 |\n",
       "| c | 6 | 6 | 4 |\n",
       "| d | 1 | 4 | 9 |\n",
       "| e | 2 | 3 | 8 |\n",
       "| f | 8 | 3 | 1 |\n",
       "| g | 9 | 1 | 5 |\n",
       "\n"
      ],
      "text/plain": [
       "  site x y z\n",
       "1 a    4 1 3\n",
       "2 b    5 5 5\n",
       "3 c    6 6 4\n",
       "4 d    1 4 9\n",
       "5 e    2 3 8\n",
       "6 f    8 3 1\n",
       "7 g    9 1 5"
      ]
     },
     "metadata": {},
     "output_type": "display_data"
    }
   ],
   "source": [
    "xyz"
   ]
  },
  {
   "cell_type": "markdown",
   "id": "bf3b0abb-0595-42f6-b87f-b384fd549a4f",
   "metadata": {},
   "source": [
    "The first column contains the site names and it must be excluded from subsequent calcultions. The remaining three columns will be used below.\n",
    "\n",
    "Calculate the Euclidian distance using **vegan**'s `vegdist()` function and view the lower triangle with the diagonal:"
   ]
  },
  {
   "cell_type": "code",
   "execution_count": 4,
   "id": "910bd49e-5fd8-4950-a9bc-5fa6d41a04ed",
   "metadata": {},
   "outputs": [
    {
     "data": {
      "text/plain": [
       "        1       2       3       4       5       6       7\n",
       "1  0.0000                                                \n",
       "2  4.5826  0.0000                                        \n",
       "3  5.4772  1.7321  0.0000                                \n",
       "4  7.3485  5.7446  7.3485  0.0000                        \n",
       "5  5.7446  4.6904  6.4031  1.7321  0.0000                \n",
       "6  4.8990  5.3852  4.6904 10.6771  9.2195  0.0000        \n",
       "7  5.3852  5.6569  5.9161  9.4340  7.8740  4.5826  0.0000"
      ]
     },
     "metadata": {},
     "output_type": "display_data"
    }
   ],
   "source": [
    "xyz_euc <- round(vegdist(xyz[, 2:4], method = \"euclidian\", upper = FALSE, diag = TRUE), 4) # select only cols 2, 3 and 4\n",
    "xyz_euc"
   ]
  },
  {
   "cell_type": "markdown",
   "id": "a921115a-5940-4991-8218-001f81e7f5af",
   "metadata": {},
   "source": [
    "Convert to a dataframe and view it:"
   ]
  },
  {
   "cell_type": "code",
   "execution_count": 5,
   "id": "0754dc9d-72fb-40ab-be3d-79507da4b01c",
   "metadata": {},
   "outputs": [
    {
     "data": {
      "text/html": [
       "<table class=\"dataframe\">\n",
       "<caption>A data.frame: 7 × 7</caption>\n",
       "<thead>\n",
       "\t<tr><th></th><th scope=col>1</th><th scope=col>2</th><th scope=col>3</th><th scope=col>4</th><th scope=col>5</th><th scope=col>6</th><th scope=col>7</th></tr>\n",
       "\t<tr><th></th><th scope=col>&lt;dbl&gt;</th><th scope=col>&lt;dbl&gt;</th><th scope=col>&lt;dbl&gt;</th><th scope=col>&lt;dbl&gt;</th><th scope=col>&lt;dbl&gt;</th><th scope=col>&lt;dbl&gt;</th><th scope=col>&lt;dbl&gt;</th></tr>\n",
       "</thead>\n",
       "<tbody>\n",
       "\t<tr><th scope=row>1</th><td>0.0000</td><td>4.5826</td><td>5.4772</td><td> 7.3485</td><td>5.7446</td><td> 4.8990</td><td>5.3852</td></tr>\n",
       "\t<tr><th scope=row>2</th><td>4.5826</td><td>0.0000</td><td>1.7321</td><td> 5.7446</td><td>4.6904</td><td> 5.3852</td><td>5.6569</td></tr>\n",
       "\t<tr><th scope=row>3</th><td>5.4772</td><td>1.7321</td><td>0.0000</td><td> 7.3485</td><td>6.4031</td><td> 4.6904</td><td>5.9161</td></tr>\n",
       "\t<tr><th scope=row>4</th><td>7.3485</td><td>5.7446</td><td>7.3485</td><td> 0.0000</td><td>1.7321</td><td>10.6771</td><td>9.4340</td></tr>\n",
       "\t<tr><th scope=row>5</th><td>5.7446</td><td>4.6904</td><td>6.4031</td><td> 1.7321</td><td>0.0000</td><td> 9.2195</td><td>7.8740</td></tr>\n",
       "\t<tr><th scope=row>6</th><td>4.8990</td><td>5.3852</td><td>4.6904</td><td>10.6771</td><td>9.2195</td><td> 0.0000</td><td>4.5826</td></tr>\n",
       "\t<tr><th scope=row>7</th><td>5.3852</td><td>5.6569</td><td>5.9161</td><td> 9.4340</td><td>7.8740</td><td> 4.5826</td><td>0.0000</td></tr>\n",
       "</tbody>\n",
       "</table>\n"
      ],
      "text/latex": [
       "A data.frame: 7 × 7\n",
       "\\begin{tabular}{r|lllllll}\n",
       "  & 1 & 2 & 3 & 4 & 5 & 6 & 7\\\\\n",
       "  & <dbl> & <dbl> & <dbl> & <dbl> & <dbl> & <dbl> & <dbl>\\\\\n",
       "\\hline\n",
       "\t1 & 0.0000 & 4.5826 & 5.4772 &  7.3485 & 5.7446 &  4.8990 & 5.3852\\\\\n",
       "\t2 & 4.5826 & 0.0000 & 1.7321 &  5.7446 & 4.6904 &  5.3852 & 5.6569\\\\\n",
       "\t3 & 5.4772 & 1.7321 & 0.0000 &  7.3485 & 6.4031 &  4.6904 & 5.9161\\\\\n",
       "\t4 & 7.3485 & 5.7446 & 7.3485 &  0.0000 & 1.7321 & 10.6771 & 9.4340\\\\\n",
       "\t5 & 5.7446 & 4.6904 & 6.4031 &  1.7321 & 0.0000 &  9.2195 & 7.8740\\\\\n",
       "\t6 & 4.8990 & 5.3852 & 4.6904 & 10.6771 & 9.2195 &  0.0000 & 4.5826\\\\\n",
       "\t7 & 5.3852 & 5.6569 & 5.9161 &  9.4340 & 7.8740 &  4.5826 & 0.0000\\\\\n",
       "\\end{tabular}\n"
      ],
      "text/markdown": [
       "\n",
       "A data.frame: 7 × 7\n",
       "\n",
       "| <!--/--> | 1 &lt;dbl&gt; | 2 &lt;dbl&gt; | 3 &lt;dbl&gt; | 4 &lt;dbl&gt; | 5 &lt;dbl&gt; | 6 &lt;dbl&gt; | 7 &lt;dbl&gt; |\n",
       "|---|---|---|---|---|---|---|---|\n",
       "| 1 | 0.0000 | 4.5826 | 5.4772 |  7.3485 | 5.7446 |  4.8990 | 5.3852 |\n",
       "| 2 | 4.5826 | 0.0000 | 1.7321 |  5.7446 | 4.6904 |  5.3852 | 5.6569 |\n",
       "| 3 | 5.4772 | 1.7321 | 0.0000 |  7.3485 | 6.4031 |  4.6904 | 5.9161 |\n",
       "| 4 | 7.3485 | 5.7446 | 7.3485 |  0.0000 | 1.7321 | 10.6771 | 9.4340 |\n",
       "| 5 | 5.7446 | 4.6904 | 6.4031 |  1.7321 | 0.0000 |  9.2195 | 7.8740 |\n",
       "| 6 | 4.8990 | 5.3852 | 4.6904 | 10.6771 | 9.2195 |  0.0000 | 4.5826 |\n",
       "| 7 | 5.3852 | 5.6569 | 5.9161 |  9.4340 | 7.8740 |  4.5826 | 0.0000 |\n",
       "\n"
      ],
      "text/plain": [
       "  1      2      3      4       5      6       7     \n",
       "1 0.0000 4.5826 5.4772  7.3485 5.7446  4.8990 5.3852\n",
       "2 4.5826 0.0000 1.7321  5.7446 4.6904  5.3852 5.6569\n",
       "3 5.4772 1.7321 0.0000  7.3485 6.4031  4.6904 5.9161\n",
       "4 7.3485 5.7446 7.3485  0.0000 1.7321 10.6771 9.4340\n",
       "5 5.7446 4.6904 6.4031  1.7321 0.0000  9.2195 7.8740\n",
       "6 4.8990 5.3852 4.6904 10.6771 9.2195  0.0000 4.5826\n",
       "7 5.3852 5.6569 5.9161  9.4340 7.8740  4.5826 0.0000"
      ]
     },
     "metadata": {},
     "output_type": "display_data"
    }
   ],
   "source": [
    "xyz_df <- as.data.frame(round(as.matrix(xyz_euc), 4))\n",
    "xyz_df"
   ]
  },
  {
   "cell_type": "markdown",
   "id": "a72d960f-c8ca-403c-b3fa-0b026ee9322a",
   "metadata": {},
   "source": [
    "Distance matirices have the same properties as dissimilarity matrices, i.e.:\n",
    "\n",
    "i. The distance matrix is square (number rows = number columns).\n",
    "\n",
    "ii. The diagonal is filled with 0.\n",
    "\n",
    "iii. The matrix is symetrical---it is comprised of symetrical upper and lower triangles.\n",
    "\n",
    "In terms of the meaning of the cell values, their interpretation is also analogous with that of the species dissimilarities. A value of 0 means the properties of the sites (or sections, plots, transects, quadrats, etc.) in terms of their environmental conditions are identical (this is always the case the the diagonal). The larger the numer (which may be >1) the more different sites are in terms of their environmental conditions.\n",
    "\n",
    "Since each column, $x$, $y$, and $z$, is a variable, we can substitute them for *actual* variables or properties of the environment within which species are present. Let load such data (again fictitious):"
   ]
  },
  {
   "cell_type": "code",
   "execution_count": 6,
   "id": "d8c55418-0cc3-4b3b-ad94-b687e1f1959c",
   "metadata": {},
   "outputs": [
    {
     "data": {
      "text/html": [
       "<table class=\"dataframe\">\n",
       "<caption>A data.frame: 2 × 4</caption>\n",
       "<thead>\n",
       "\t<tr><th></th><th scope=col>site</th><th scope=col>temperature</th><th scope=col>depth</th><th scope=col>light</th></tr>\n",
       "\t<tr><th></th><th scope=col>&lt;chr&gt;</th><th scope=col>&lt;int&gt;</th><th scope=col>&lt;int&gt;</th><th scope=col>&lt;int&gt;</th></tr>\n",
       "</thead>\n",
       "<tbody>\n",
       "\t<tr><th scope=row>1</th><td>a</td><td>4</td><td>1</td><td>3</td></tr>\n",
       "\t<tr><th scope=row>2</th><td>b</td><td>5</td><td>5</td><td>5</td></tr>\n",
       "</tbody>\n",
       "</table>\n"
      ],
      "text/latex": [
       "A data.frame: 2 × 4\n",
       "\\begin{tabular}{r|llll}\n",
       "  & site & temperature & depth & light\\\\\n",
       "  & <chr> & <int> & <int> & <int>\\\\\n",
       "\\hline\n",
       "\t1 & a & 4 & 1 & 3\\\\\n",
       "\t2 & b & 5 & 5 & 5\\\\\n",
       "\\end{tabular}\n"
      ],
      "text/markdown": [
       "\n",
       "A data.frame: 2 × 4\n",
       "\n",
       "| <!--/--> | site &lt;chr&gt; | temperature &lt;int&gt; | depth &lt;int&gt; | light &lt;int&gt; |\n",
       "|---|---|---|---|---|\n",
       "| 1 | a | 4 | 1 | 3 |\n",
       "| 2 | b | 5 | 5 | 5 |\n",
       "\n"
      ],
      "text/plain": [
       "  site temperature depth light\n",
       "1 a    4           1     3    \n",
       "2 b    5           5     5    "
      ]
     },
     "metadata": {},
     "output_type": "display_data"
    }
   ],
   "source": [
    "env_fict <- read.csv(\"/Users/ajsmit/Dropbox/R/workshops/Quantitative_Ecology/_GitBook/data/Euclidian_dustance_demo_data_env.csv\")\n",
    "head(env_fict, 2) # print first two rows only"
   ]
  },
  {
   "cell_type": "markdown",
   "id": "dbf51470-7fb1-490a-ae83-aa2404617e30",
   "metadata": {},
   "source": [
    "These are the same data as in `Euclidian_dustance_demo_data_xyz.csv` but I simply renamed the columns to names of the variables temperature, depth, and light intensity. I won't repeat the analysis here as everything remains the same.\n",
    "\n",
    "Now, let use some real data."
   ]
  },
  {
   "cell_type": "markdown",
   "id": "1e456fc5-a451-4223-bf13-7212c4bd6fe7",
   "metadata": {},
   "source": [
    "## A look at the seaweed environmental data\n",
    "\n",
    "These data accompany the analysis of the South African seaweed flora (see Smit et al. 2017)."
   ]
  },
  {
   "cell_type": "code",
   "execution_count": 7,
   "id": "54aad35e-bea9-4f88-bea3-8d3a08f94330",
   "metadata": {},
   "outputs": [
    {
     "data": {
      "text/html": [
       "<style>\n",
       ".list-inline {list-style: none; margin:0; padding: 0}\n",
       ".list-inline>li {display: inline-block}\n",
       ".list-inline>li:not(:last-child)::after {content: \"\\00b7\"; padding: 0 .5ex}\n",
       "</style>\n",
       "<ol class=list-inline><li>58</li><li>18</li></ol>\n"
      ],
      "text/latex": [
       "\\begin{enumerate*}\n",
       "\\item 58\n",
       "\\item 18\n",
       "\\end{enumerate*}\n"
      ],
      "text/markdown": [
       "1. 58\n",
       "2. 18\n",
       "\n",
       "\n"
      ],
      "text/plain": [
       "[1] 58 18"
      ]
     },
     "metadata": {},
     "output_type": "display_data"
    }
   ],
   "source": [
    "load(\"/Users/ajsmit/Dropbox/R/workshops/Quantitative_Ecology/exercises/diversity/SeaweedEnv.RData\")\n",
    "\n",
    "# lets look at the data\n",
    "dim(env)"
   ]
  },
  {
   "cell_type": "markdown",
   "id": "66083190-f9a5-4753-9650-476ea02cbaf1",
   "metadata": {},
   "source": [
    "We see that the data have 58 rows and 18 columns... the same number of rows as the `seaweed.csv` data. What is in the first five rows?"
   ]
  },
  {
   "cell_type": "code",
   "execution_count": 8,
   "id": "1068546e-5d79-467e-a91e-b63febd88e58",
   "metadata": {},
   "outputs": [
    {
     "data": {
      "text/html": [
       "<table class=\"dataframe\">\n",
       "<caption>A data.frame: 5 × 5</caption>\n",
       "<thead>\n",
       "\t<tr><th></th><th scope=col>febMean</th><th scope=col>febMax</th><th scope=col>febMed</th><th scope=col>febX95</th><th scope=col>febRange</th></tr>\n",
       "\t<tr><th></th><th scope=col>&lt;dbl&gt;</th><th scope=col>&lt;dbl&gt;</th><th scope=col>&lt;dbl&gt;</th><th scope=col>&lt;dbl&gt;</th><th scope=col>&lt;dbl&gt;</th></tr>\n",
       "</thead>\n",
       "<tbody>\n",
       "\t<tr><th scope=row>1</th><td>13.0012</td><td>18.7204</td><td>12.6600</td><td>16.8097</td><td>6.0703</td></tr>\n",
       "\t<tr><th scope=row>2</th><td>13.3795</td><td>18.6190</td><td>13.1839</td><td>17.0724</td><td>5.8893</td></tr>\n",
       "\t<tr><th scope=row>3</th><td>13.3616</td><td>17.8646</td><td>13.2319</td><td>16.6111</td><td>5.4314</td></tr>\n",
       "\t<tr><th scope=row>4</th><td>13.2897</td><td>17.1207</td><td>13.1028</td><td>16.1214</td><td>5.0490</td></tr>\n",
       "\t<tr><th scope=row>5</th><td>12.8113</td><td>16.3783</td><td>12.4003</td><td>15.5324</td><td>4.9779</td></tr>\n",
       "</tbody>\n",
       "</table>\n"
      ],
      "text/latex": [
       "A data.frame: 5 × 5\n",
       "\\begin{tabular}{r|lllll}\n",
       "  & febMean & febMax & febMed & febX95 & febRange\\\\\n",
       "  & <dbl> & <dbl> & <dbl> & <dbl> & <dbl>\\\\\n",
       "\\hline\n",
       "\t1 & 13.0012 & 18.7204 & 12.6600 & 16.8097 & 6.0703\\\\\n",
       "\t2 & 13.3795 & 18.6190 & 13.1839 & 17.0724 & 5.8893\\\\\n",
       "\t3 & 13.3616 & 17.8646 & 13.2319 & 16.6111 & 5.4314\\\\\n",
       "\t4 & 13.2897 & 17.1207 & 13.1028 & 16.1214 & 5.0490\\\\\n",
       "\t5 & 12.8113 & 16.3783 & 12.4003 & 15.5324 & 4.9779\\\\\n",
       "\\end{tabular}\n"
      ],
      "text/markdown": [
       "\n",
       "A data.frame: 5 × 5\n",
       "\n",
       "| <!--/--> | febMean &lt;dbl&gt; | febMax &lt;dbl&gt; | febMed &lt;dbl&gt; | febX95 &lt;dbl&gt; | febRange &lt;dbl&gt; |\n",
       "|---|---|---|---|---|---|\n",
       "| 1 | 13.0012 | 18.7204 | 12.6600 | 16.8097 | 6.0703 |\n",
       "| 2 | 13.3795 | 18.6190 | 13.1839 | 17.0724 | 5.8893 |\n",
       "| 3 | 13.3616 | 17.8646 | 13.2319 | 16.6111 | 5.4314 |\n",
       "| 4 | 13.2897 | 17.1207 | 13.1028 | 16.1214 | 5.0490 |\n",
       "| 5 | 12.8113 | 16.3783 | 12.4003 | 15.5324 | 4.9779 |\n",
       "\n"
      ],
      "text/plain": [
       "  febMean febMax  febMed  febX95  febRange\n",
       "1 13.0012 18.7204 12.6600 16.8097 6.0703  \n",
       "2 13.3795 18.6190 13.1839 17.0724 5.8893  \n",
       "3 13.3616 17.8646 13.2319 16.6111 5.4314  \n",
       "4 13.2897 17.1207 13.1028 16.1214 5.0490  \n",
       "5 12.8113 16.3783 12.4003 15.5324 4.9779  "
      ]
     },
     "metadata": {},
     "output_type": "display_data"
    }
   ],
   "source": [
    "round(env[1:5, 1:5], 4)"
   ]
  },
  {
   "cell_type": "markdown",
   "id": "2ff66f95-865a-4e32-9013-099137a22c96",
   "metadata": {},
   "source": [
    "And the last five rows?"
   ]
  },
  {
   "cell_type": "code",
   "execution_count": 9,
   "id": "f2e29bab-cb3b-4382-b82e-7dc1630e4f2a",
   "metadata": {},
   "outputs": [
    {
     "data": {
      "text/html": [
       "<table class=\"dataframe\">\n",
       "<caption>A data.frame: 6 × 6</caption>\n",
       "<thead>\n",
       "\t<tr><th></th><th scope=col>annRange</th><th scope=col>febSD</th><th scope=col>augSD</th><th scope=col>annChl</th><th scope=col>augChl</th><th scope=col>febChl</th></tr>\n",
       "\t<tr><th></th><th scope=col>&lt;dbl&gt;</th><th scope=col>&lt;dbl&gt;</th><th scope=col>&lt;dbl&gt;</th><th scope=col>&lt;dbl&gt;</th><th scope=col>&lt;dbl&gt;</th><th scope=col>&lt;dbl&gt;</th></tr>\n",
       "</thead>\n",
       "<tbody>\n",
       "\t<tr><th scope=row>53</th><td>4.3707</td><td>1.0423</td><td>0.7735</td><td>4.3420</td><td>4.3923</td><td>4.6902</td></tr>\n",
       "\t<tr><th scope=row>54</th><td>4.3358</td><td>1.1556</td><td>0.9104</td><td>1.6469</td><td>2.2654</td><td>1.6930</td></tr>\n",
       "\t<tr><th scope=row>55</th><td>4.4104</td><td>1.1988</td><td>0.8427</td><td>0.2325</td><td>0.6001</td><td>0.5422</td></tr>\n",
       "\t<tr><th scope=row>56</th><td>4.6089</td><td>1.1909</td><td>0.6631</td><td>0.1321</td><td>0.4766</td><td>0.3464</td></tr>\n",
       "\t<tr><th scope=row>57</th><td>4.9693</td><td>1.1429</td><td>0.4994</td><td>0.1339</td><td>0.5845</td><td>0.3185</td></tr>\n",
       "\t<tr><th scope=row>58</th><td>5.5743</td><td>1.0000</td><td>0.3494</td><td>0.1486</td><td>0.7363</td><td>0.4165</td></tr>\n",
       "</tbody>\n",
       "</table>\n"
      ],
      "text/latex": [
       "A data.frame: 6 × 6\n",
       "\\begin{tabular}{r|llllll}\n",
       "  & annRange & febSD & augSD & annChl & augChl & febChl\\\\\n",
       "  & <dbl> & <dbl> & <dbl> & <dbl> & <dbl> & <dbl>\\\\\n",
       "\\hline\n",
       "\t53 & 4.3707 & 1.0423 & 0.7735 & 4.3420 & 4.3923 & 4.6902\\\\\n",
       "\t54 & 4.3358 & 1.1556 & 0.9104 & 1.6469 & 2.2654 & 1.6930\\\\\n",
       "\t55 & 4.4104 & 1.1988 & 0.8427 & 0.2325 & 0.6001 & 0.5422\\\\\n",
       "\t56 & 4.6089 & 1.1909 & 0.6631 & 0.1321 & 0.4766 & 0.3464\\\\\n",
       "\t57 & 4.9693 & 1.1429 & 0.4994 & 0.1339 & 0.5845 & 0.3185\\\\\n",
       "\t58 & 5.5743 & 1.0000 & 0.3494 & 0.1486 & 0.7363 & 0.4165\\\\\n",
       "\\end{tabular}\n"
      ],
      "text/markdown": [
       "\n",
       "A data.frame: 6 × 6\n",
       "\n",
       "| <!--/--> | annRange &lt;dbl&gt; | febSD &lt;dbl&gt; | augSD &lt;dbl&gt; | annChl &lt;dbl&gt; | augChl &lt;dbl&gt; | febChl &lt;dbl&gt; |\n",
       "|---|---|---|---|---|---|---|\n",
       "| 53 | 4.3707 | 1.0423 | 0.7735 | 4.3420 | 4.3923 | 4.6902 |\n",
       "| 54 | 4.3358 | 1.1556 | 0.9104 | 1.6469 | 2.2654 | 1.6930 |\n",
       "| 55 | 4.4104 | 1.1988 | 0.8427 | 0.2325 | 0.6001 | 0.5422 |\n",
       "| 56 | 4.6089 | 1.1909 | 0.6631 | 0.1321 | 0.4766 | 0.3464 |\n",
       "| 57 | 4.9693 | 1.1429 | 0.4994 | 0.1339 | 0.5845 | 0.3185 |\n",
       "| 58 | 5.5743 | 1.0000 | 0.3494 | 0.1486 | 0.7363 | 0.4165 |\n",
       "\n"
      ],
      "text/plain": [
       "   annRange febSD  augSD  annChl augChl febChl\n",
       "53 4.3707   1.0423 0.7735 4.3420 4.3923 4.6902\n",
       "54 4.3358   1.1556 0.9104 1.6469 2.2654 1.6930\n",
       "55 4.4104   1.1988 0.8427 0.2325 0.6001 0.5422\n",
       "56 4.6089   1.1909 0.6631 0.1321 0.4766 0.3464\n",
       "57 4.9693   1.1429 0.4994 0.1339 0.5845 0.3185\n",
       "58 5.5743   1.0000 0.3494 0.1486 0.7363 0.4165"
      ]
     },
     "metadata": {},
     "output_type": "display_data"
    }
   ],
   "source": [
    "round(env[(nrow(env) - 5):nrow(env), (ncol(env) - 5):ncol(env)], 4)"
   ]
  },
  {
   "cell_type": "markdown",
   "id": "36720c56-cae0-4107-aeb6-988d76c8b1e1",
   "metadata": {},
   "source": [
    "So, each of the rows corresponds to a site (i.e. each of the coastal sections), and the columns each contains an environmental variable. The names of the environmental variables are:"
   ]
  },
  {
   "cell_type": "code",
   "execution_count": 10,
   "id": "66f938fe-7d11-499b-bd16-0df35f3f87ee",
   "metadata": {},
   "outputs": [
    {
     "data": {
      "text/html": [
       "<style>\n",
       ".list-inline {list-style: none; margin:0; padding: 0}\n",
       ".list-inline>li {display: inline-block}\n",
       ".list-inline>li:not(:last-child)::after {content: \"\\00b7\"; padding: 0 .5ex}\n",
       "</style>\n",
       "<ol class=list-inline><li>'febMean'</li><li>'febMax'</li><li>'febMed'</li><li>'febX95'</li><li>'febRange'</li><li>'augMean'</li><li>'augMin'</li><li>'augMed'</li><li>'augX5'</li><li>'augRange'</li><li>'annMean'</li><li>'annSD'</li><li>'annRange'</li><li>'febSD'</li><li>'augSD'</li><li>'annChl'</li><li>'augChl'</li><li>'febChl'</li></ol>\n"
      ],
      "text/latex": [
       "\\begin{enumerate*}\n",
       "\\item 'febMean'\n",
       "\\item 'febMax'\n",
       "\\item 'febMed'\n",
       "\\item 'febX95'\n",
       "\\item 'febRange'\n",
       "\\item 'augMean'\n",
       "\\item 'augMin'\n",
       "\\item 'augMed'\n",
       "\\item 'augX5'\n",
       "\\item 'augRange'\n",
       "\\item 'annMean'\n",
       "\\item 'annSD'\n",
       "\\item 'annRange'\n",
       "\\item 'febSD'\n",
       "\\item 'augSD'\n",
       "\\item 'annChl'\n",
       "\\item 'augChl'\n",
       "\\item 'febChl'\n",
       "\\end{enumerate*}\n"
      ],
      "text/markdown": [
       "1. 'febMean'\n",
       "2. 'febMax'\n",
       "3. 'febMed'\n",
       "4. 'febX95'\n",
       "5. 'febRange'\n",
       "6. 'augMean'\n",
       "7. 'augMin'\n",
       "8. 'augMed'\n",
       "9. 'augX5'\n",
       "10. 'augRange'\n",
       "11. 'annMean'\n",
       "12. 'annSD'\n",
       "13. 'annRange'\n",
       "14. 'febSD'\n",
       "15. 'augSD'\n",
       "16. 'annChl'\n",
       "17. 'augChl'\n",
       "18. 'febChl'\n",
       "\n",
       "\n"
      ],
      "text/plain": [
       " [1] \"febMean\"  \"febMax\"   \"febMed\"   \"febX95\"   \"febRange\" \"augMean\" \n",
       " [7] \"augMin\"   \"augMed\"   \"augX5\"    \"augRange\" \"annMean\"  \"annSD\"   \n",
       "[13] \"annRange\" \"febSD\"    \"augSD\"    \"annChl\"   \"augChl\"   \"febChl\"  "
      ]
     },
     "metadata": {},
     "output_type": "display_data"
    }
   ],
   "source": [
    "colnames(env)"
   ]
  },
  {
   "cell_type": "markdown",
   "id": "62f8c6f0-2c86-41fe-bc64-da1b088b9ff9",
   "metadata": {},
   "source": [
    "As we have seen, there are 18 variables (or dimensions). These data are truly multidimensional in a way that far exceeds our brains' limited ability to spatially visualise. For mathematicians these data define an 18-dimensional space, but all we can do is visualise 3-dimensions."
   ]
  },
  {
   "cell_type": "markdown",
   "id": "070c4009-f7d2-4058-93ac-6b12c564b161",
   "metadata": {},
   "source": [
    "We select only some of the thermal variables; the rest are collinear with some of the ones I import:"
   ]
  },
  {
   "cell_type": "code",
   "execution_count": 11,
   "id": "ce3acdb1-21a2-4a02-8c6b-3ea53da84ead",
   "metadata": {},
   "outputs": [],
   "source": [
    "env1 <- dplyr::select(env, febMean, febRange, febSD, augMean,\n",
    "                    augRange, augSD, annMean, annRange, annSD)"
   ]
  },
  {
   "cell_type": "markdown",
   "id": "6f9dc135-b06a-4867-9950-f0d29e126f2e",
   "metadata": {},
   "source": [
    "## Calculate *z*-scores\n",
    "\n",
    "Here we need to do something new that was not necessary with the toy data. We calculate *z*-scores, and the process is called 'standardisation'. Standardisation is necessary when the variables are measured in diffrent units---e.g. the unit for temperature is °C whereas Ch-*a* is measured in mg Chl-*a*/m3."
   ]
  },
  {
   "cell_type": "code",
   "execution_count": 12,
   "id": "41774c1e-dd53-420d-8d33-33d36bf0a2a2",
   "metadata": {},
   "outputs": [
    {
     "data": {
      "text/html": [
       "<table class=\"dataframe\">\n",
       "<caption>A data.frame: 5 × 5</caption>\n",
       "<thead>\n",
       "\t<tr><th></th><th scope=col>febMean</th><th scope=col>febRange</th><th scope=col>febSD</th><th scope=col>augMean</th><th scope=col>augRange</th></tr>\n",
       "\t<tr><th></th><th scope=col>&lt;dbl&gt;</th><th scope=col>&lt;dbl&gt;</th><th scope=col>&lt;dbl&gt;</th><th scope=col>&lt;dbl&gt;</th><th scope=col>&lt;dbl&gt;</th></tr>\n",
       "</thead>\n",
       "<tbody>\n",
       "\t<tr><th scope=row>1</th><td>-1.4915</td><td>-0.0443</td><td>-0.2713</td><td>-1.3765</td><td>-0.4735</td></tr>\n",
       "\t<tr><th scope=row>2</th><td>-1.4014</td><td>-0.1432</td><td>-0.1084</td><td>-1.4339</td><td>-0.0700</td></tr>\n",
       "\t<tr><th scope=row>3</th><td>-1.4057</td><td>-0.3932</td><td>-0.1720</td><td>-1.5269</td><td> 0.0248</td></tr>\n",
       "\t<tr><th scope=row>4</th><td>-1.4228</td><td>-0.6020</td><td>-0.3121</td><td>-1.5797</td><td>-0.0508</td></tr>\n",
       "\t<tr><th scope=row>5</th><td>-1.5368</td><td>-0.6408</td><td>-0.4096</td><td>-1.5464</td><td>-0.0983</td></tr>\n",
       "</tbody>\n",
       "</table>\n"
      ],
      "text/latex": [
       "A data.frame: 5 × 5\n",
       "\\begin{tabular}{r|lllll}\n",
       "  & febMean & febRange & febSD & augMean & augRange\\\\\n",
       "  & <dbl> & <dbl> & <dbl> & <dbl> & <dbl>\\\\\n",
       "\\hline\n",
       "\t1 & -1.4915 & -0.0443 & -0.2713 & -1.3765 & -0.4735\\\\\n",
       "\t2 & -1.4014 & -0.1432 & -0.1084 & -1.4339 & -0.0700\\\\\n",
       "\t3 & -1.4057 & -0.3932 & -0.1720 & -1.5269 &  0.0248\\\\\n",
       "\t4 & -1.4228 & -0.6020 & -0.3121 & -1.5797 & -0.0508\\\\\n",
       "\t5 & -1.5368 & -0.6408 & -0.4096 & -1.5464 & -0.0983\\\\\n",
       "\\end{tabular}\n"
      ],
      "text/markdown": [
       "\n",
       "A data.frame: 5 × 5\n",
       "\n",
       "| <!--/--> | febMean &lt;dbl&gt; | febRange &lt;dbl&gt; | febSD &lt;dbl&gt; | augMean &lt;dbl&gt; | augRange &lt;dbl&gt; |\n",
       "|---|---|---|---|---|---|\n",
       "| 1 | -1.4915 | -0.0443 | -0.2713 | -1.3765 | -0.4735 |\n",
       "| 2 | -1.4014 | -0.1432 | -0.1084 | -1.4339 | -0.0700 |\n",
       "| 3 | -1.4057 | -0.3932 | -0.1720 | -1.5269 |  0.0248 |\n",
       "| 4 | -1.4228 | -0.6020 | -0.3121 | -1.5797 | -0.0508 |\n",
       "| 5 | -1.5368 | -0.6408 | -0.4096 | -1.5464 | -0.0983 |\n",
       "\n"
      ],
      "text/plain": [
       "  febMean febRange febSD   augMean augRange\n",
       "1 -1.4915 -0.0443  -0.2713 -1.3765 -0.4735 \n",
       "2 -1.4014 -0.1432  -0.1084 -1.4339 -0.0700 \n",
       "3 -1.4057 -0.3932  -0.1720 -1.5269  0.0248 \n",
       "4 -1.4228 -0.6020  -0.3121 -1.5797 -0.0508 \n",
       "5 -1.5368 -0.6408  -0.4096 -1.5464 -0.0983 "
      ]
     },
     "metadata": {},
     "output_type": "display_data"
    }
   ],
   "source": [
    "E1 <- round(decostand(env1, method = \"standardize\"), 4)\n",
    "E1[1:5, 1:5]"
   ]
  },
  {
   "cell_type": "markdown",
   "id": "8b93987f-7504-4e24-b4ea-35f6cdbdac1e",
   "metadata": {},
   "source": [
    "## Calculate Euclidian distance"
   ]
  },
  {
   "cell_type": "code",
   "execution_count": 13,
   "id": "a7c2d7dc-25fc-4c85-85bb-3fbdaaf211fe",
   "metadata": {},
   "outputs": [
    {
     "data": {
      "text/html": [
       "<table class=\"dataframe\">\n",
       "<caption>A data.frame: 10 × 10</caption>\n",
       "<thead>\n",
       "\t<tr><th></th><th scope=col>1</th><th scope=col>2</th><th scope=col>3</th><th scope=col>4</th><th scope=col>5</th><th scope=col>6</th><th scope=col>7</th><th scope=col>8</th><th scope=col>9</th><th scope=col>10</th></tr>\n",
       "\t<tr><th></th><th scope=col>&lt;dbl&gt;</th><th scope=col>&lt;dbl&gt;</th><th scope=col>&lt;dbl&gt;</th><th scope=col>&lt;dbl&gt;</th><th scope=col>&lt;dbl&gt;</th><th scope=col>&lt;dbl&gt;</th><th scope=col>&lt;dbl&gt;</th><th scope=col>&lt;dbl&gt;</th><th scope=col>&lt;dbl&gt;</th><th scope=col>&lt;dbl&gt;</th></tr>\n",
       "</thead>\n",
       "<tbody>\n",
       "\t<tr><th scope=row>1</th><td>0.0000</td><td>0.7040</td><td>1.0006</td><td>1.1132</td><td>0.9902</td><td>0.9124</td><td>0.7849</td><td>0.7957</td><td>2.7901</td><td>2.0327</td></tr>\n",
       "\t<tr><th scope=row>2</th><td>0.7040</td><td>0.0000</td><td>0.3769</td><td>0.6126</td><td>0.6553</td><td>0.7726</td><td>0.6291</td><td>0.5565</td><td>2.2733</td><td>1.7509</td></tr>\n",
       "\t<tr><th scope=row>3</th><td>1.0006</td><td>0.3769</td><td>0.0000</td><td>0.2818</td><td>0.4729</td><td>0.7594</td><td>0.7164</td><td>0.7939</td><td>2.2692</td><td>1.8055</td></tr>\n",
       "\t<tr><th scope=row>4</th><td>1.1132</td><td>0.6126</td><td>0.2818</td><td>0.0000</td><td>0.3662</td><td>0.7566</td><td>0.7911</td><td>0.9708</td><td>2.4523</td><td>1.9019</td></tr>\n",
       "\t<tr><th scope=row>5</th><td>0.9902</td><td>0.6553</td><td>0.4729</td><td>0.3662</td><td>0.0000</td><td>0.4094</td><td>0.5261</td><td>0.9860</td><td>2.4847</td><td>2.1376</td></tr>\n",
       "\t<tr><th scope=row>6</th><td>0.9124</td><td>0.7726</td><td>0.7594</td><td>0.7566</td><td>0.4094</td><td>0.0000</td><td>0.2862</td><td>1.0129</td><td>2.4449</td><td>2.3483</td></tr>\n",
       "\t<tr><th scope=row>7</th><td>0.7849</td><td>0.6291</td><td>0.7164</td><td>0.7911</td><td>0.5261</td><td>0.2862</td><td>0.0000</td><td>0.7678</td><td>2.3035</td><td>2.1656</td></tr>\n",
       "\t<tr><th scope=row>8</th><td>0.7957</td><td>0.5565</td><td>0.7939</td><td>0.9708</td><td>0.9860</td><td>1.0129</td><td>0.7678</td><td>0.0000</td><td>2.2251</td><td>1.5609</td></tr>\n",
       "\t<tr><th scope=row>9</th><td>2.7901</td><td>2.2733</td><td>2.2692</td><td>2.4523</td><td>2.4847</td><td>2.4449</td><td>2.3035</td><td>2.2251</td><td>0.0000</td><td>2.8476</td></tr>\n",
       "\t<tr><th scope=row>10</th><td>2.0327</td><td>1.7509</td><td>1.8055</td><td>1.9019</td><td>2.1376</td><td>2.3483</td><td>2.1656</td><td>1.5609</td><td>2.8476</td><td>0.0000</td></tr>\n",
       "</tbody>\n",
       "</table>\n"
      ],
      "text/latex": [
       "A data.frame: 10 × 10\n",
       "\\begin{tabular}{r|llllllllll}\n",
       "  & 1 & 2 & 3 & 4 & 5 & 6 & 7 & 8 & 9 & 10\\\\\n",
       "  & <dbl> & <dbl> & <dbl> & <dbl> & <dbl> & <dbl> & <dbl> & <dbl> & <dbl> & <dbl>\\\\\n",
       "\\hline\n",
       "\t1 & 0.0000 & 0.7040 & 1.0006 & 1.1132 & 0.9902 & 0.9124 & 0.7849 & 0.7957 & 2.7901 & 2.0327\\\\\n",
       "\t2 & 0.7040 & 0.0000 & 0.3769 & 0.6126 & 0.6553 & 0.7726 & 0.6291 & 0.5565 & 2.2733 & 1.7509\\\\\n",
       "\t3 & 1.0006 & 0.3769 & 0.0000 & 0.2818 & 0.4729 & 0.7594 & 0.7164 & 0.7939 & 2.2692 & 1.8055\\\\\n",
       "\t4 & 1.1132 & 0.6126 & 0.2818 & 0.0000 & 0.3662 & 0.7566 & 0.7911 & 0.9708 & 2.4523 & 1.9019\\\\\n",
       "\t5 & 0.9902 & 0.6553 & 0.4729 & 0.3662 & 0.0000 & 0.4094 & 0.5261 & 0.9860 & 2.4847 & 2.1376\\\\\n",
       "\t6 & 0.9124 & 0.7726 & 0.7594 & 0.7566 & 0.4094 & 0.0000 & 0.2862 & 1.0129 & 2.4449 & 2.3483\\\\\n",
       "\t7 & 0.7849 & 0.6291 & 0.7164 & 0.7911 & 0.5261 & 0.2862 & 0.0000 & 0.7678 & 2.3035 & 2.1656\\\\\n",
       "\t8 & 0.7957 & 0.5565 & 0.7939 & 0.9708 & 0.9860 & 1.0129 & 0.7678 & 0.0000 & 2.2251 & 1.5609\\\\\n",
       "\t9 & 2.7901 & 2.2733 & 2.2692 & 2.4523 & 2.4847 & 2.4449 & 2.3035 & 2.2251 & 0.0000 & 2.8476\\\\\n",
       "\t10 & 2.0327 & 1.7509 & 1.8055 & 1.9019 & 2.1376 & 2.3483 & 2.1656 & 1.5609 & 2.8476 & 0.0000\\\\\n",
       "\\end{tabular}\n"
      ],
      "text/markdown": [
       "\n",
       "A data.frame: 10 × 10\n",
       "\n",
       "| <!--/--> | 1 &lt;dbl&gt; | 2 &lt;dbl&gt; | 3 &lt;dbl&gt; | 4 &lt;dbl&gt; | 5 &lt;dbl&gt; | 6 &lt;dbl&gt; | 7 &lt;dbl&gt; | 8 &lt;dbl&gt; | 9 &lt;dbl&gt; | 10 &lt;dbl&gt; |\n",
       "|---|---|---|---|---|---|---|---|---|---|---|\n",
       "| 1 | 0.0000 | 0.7040 | 1.0006 | 1.1132 | 0.9902 | 0.9124 | 0.7849 | 0.7957 | 2.7901 | 2.0327 |\n",
       "| 2 | 0.7040 | 0.0000 | 0.3769 | 0.6126 | 0.6553 | 0.7726 | 0.6291 | 0.5565 | 2.2733 | 1.7509 |\n",
       "| 3 | 1.0006 | 0.3769 | 0.0000 | 0.2818 | 0.4729 | 0.7594 | 0.7164 | 0.7939 | 2.2692 | 1.8055 |\n",
       "| 4 | 1.1132 | 0.6126 | 0.2818 | 0.0000 | 0.3662 | 0.7566 | 0.7911 | 0.9708 | 2.4523 | 1.9019 |\n",
       "| 5 | 0.9902 | 0.6553 | 0.4729 | 0.3662 | 0.0000 | 0.4094 | 0.5261 | 0.9860 | 2.4847 | 2.1376 |\n",
       "| 6 | 0.9124 | 0.7726 | 0.7594 | 0.7566 | 0.4094 | 0.0000 | 0.2862 | 1.0129 | 2.4449 | 2.3483 |\n",
       "| 7 | 0.7849 | 0.6291 | 0.7164 | 0.7911 | 0.5261 | 0.2862 | 0.0000 | 0.7678 | 2.3035 | 2.1656 |\n",
       "| 8 | 0.7957 | 0.5565 | 0.7939 | 0.9708 | 0.9860 | 1.0129 | 0.7678 | 0.0000 | 2.2251 | 1.5609 |\n",
       "| 9 | 2.7901 | 2.2733 | 2.2692 | 2.4523 | 2.4847 | 2.4449 | 2.3035 | 2.2251 | 0.0000 | 2.8476 |\n",
       "| 10 | 2.0327 | 1.7509 | 1.8055 | 1.9019 | 2.1376 | 2.3483 | 2.1656 | 1.5609 | 2.8476 | 0.0000 |\n",
       "\n"
      ],
      "text/plain": [
       "   1      2      3      4      5      6      7      8      9      10    \n",
       "1  0.0000 0.7040 1.0006 1.1132 0.9902 0.9124 0.7849 0.7957 2.7901 2.0327\n",
       "2  0.7040 0.0000 0.3769 0.6126 0.6553 0.7726 0.6291 0.5565 2.2733 1.7509\n",
       "3  1.0006 0.3769 0.0000 0.2818 0.4729 0.7594 0.7164 0.7939 2.2692 1.8055\n",
       "4  1.1132 0.6126 0.2818 0.0000 0.3662 0.7566 0.7911 0.9708 2.4523 1.9019\n",
       "5  0.9902 0.6553 0.4729 0.3662 0.0000 0.4094 0.5261 0.9860 2.4847 2.1376\n",
       "6  0.9124 0.7726 0.7594 0.7566 0.4094 0.0000 0.2862 1.0129 2.4449 2.3483\n",
       "7  0.7849 0.6291 0.7164 0.7911 0.5261 0.2862 0.0000 0.7678 2.3035 2.1656\n",
       "8  0.7957 0.5565 0.7939 0.9708 0.9860 1.0129 0.7678 0.0000 2.2251 1.5609\n",
       "9  2.7901 2.2733 2.2692 2.4523 2.4847 2.4449 2.3035 2.2251 0.0000 2.8476\n",
       "10 2.0327 1.7509 1.8055 1.9019 2.1376 2.3483 2.1656 1.5609 2.8476 0.0000"
      ]
     },
     "metadata": {},
     "output_type": "display_data"
    }
   ],
   "source": [
    "E1_euc <- round(vegdist(E1, method = \"euclidian\", upper = TRUE), 4)\n",
    "E1_df <- as.data.frame(as.matrix(E1_euc))\n",
    "E1_df[1:10, 1:10] # the first 20 rows and columns"
   ]
  },
  {
   "cell_type": "markdown",
   "id": "0592efec-3d0f-42cf-8e09-469dca1c5546",
   "metadata": {},
   "source": [
    "We already know how to read this matrix. Let's plot it as a function of the coastal section's number:"
   ]
  },
  {
   "cell_type": "code",
   "execution_count": 14,
   "id": "afe75eb1-177f-47c0-98f6-94b2849ce0ad",
   "metadata": {},
   "outputs": [
    {
     "data": {
      "image/png": "[encoded data removed]",
      "text/plain": [
       "plot without title"
      ]
     },
     "metadata": {
      "image/png": {
       "height": 420,
       "width": 420
      }
     },
     "output_type": "display_data"
    }
   ],
   "source": [
    "ggplot(data = E1_df, (aes(x = 1:58, y = `1`))) +\n",
    "  geom_line() + xlab(\"Coastal section, west to east\") + ylab(\"Environmental distance\")"
   ]
  },
  {
   "cell_type": "markdown",
   "id": "f0d4c84e-cf7f-4305-86fe-3e7f832b1f38",
   "metadata": {},
   "source": [
    "We will explore distance and dissimilarity matrices in more detail in later sections.\n",
    "\n",
    "## Euclidian distances of geographical data\n",
    "\n",
    "When we calculate Euclidian distances between geographic lat/lon coordinate, the relationship between sections will be the same (but scaled) as actual geographic distances."
   ]
  },
  {
   "cell_type": "code",
   "execution_count": 15,
   "id": "c25eda05-2a56-4fb4-b905-bcce83120d86",
   "metadata": {},
   "outputs": [
    {
     "data": {
      "text/html": [
       "<style>\n",
       ".list-inline {list-style: none; margin:0; padding: 0}\n",
       ".list-inline>li {display: inline-block}\n",
       ".list-inline>li:not(:last-child)::after {content: \"\\00b7\"; padding: 0 .5ex}\n",
       "</style>\n",
       "<ol class=list-inline><li>58</li><li>2</li></ol>\n"
      ],
      "text/latex": [
       "\\begin{enumerate*}\n",
       "\\item 58\n",
       "\\item 2\n",
       "\\end{enumerate*}\n"
      ],
      "text/markdown": [
       "1. 58\n",
       "2. 2\n",
       "\n",
       "\n"
      ],
      "text/plain": [
       "[1] 58  2"
      ]
     },
     "metadata": {},
     "output_type": "display_data"
    }
   ],
   "source": [
    "geo <- read.csv(\"/Users/ajsmit/Dropbox/R/workshops/Quantitative_Ecology/exercises/diversity/sites.csv\")\n",
    "dim(geo)"
   ]
  },
  {
   "cell_type": "code",
   "execution_count": 16,
   "id": "12f236ed-2981-4022-a96e-9a4522a8dd79",
   "metadata": {},
   "outputs": [
    {
     "data": {
      "text/html": [
       "<table class=\"dataframe\">\n",
       "<caption>A data.frame: 6 × 2</caption>\n",
       "<thead>\n",
       "\t<tr><th></th><th scope=col>Latitude</th><th scope=col>Longitude</th></tr>\n",
       "\t<tr><th></th><th scope=col>&lt;dbl&gt;</th><th scope=col>&lt;dbl&gt;</th></tr>\n",
       "</thead>\n",
       "<tbody>\n",
       "\t<tr><th scope=row>1</th><td>-28.98450</td><td>16.72429</td></tr>\n",
       "\t<tr><th scope=row>2</th><td>-29.38053</td><td>16.94238</td></tr>\n",
       "\t<tr><th scope=row>3</th><td>-29.83253</td><td>17.08194</td></tr>\n",
       "\t<tr><th scope=row>4</th><td>-30.26426</td><td>17.25928</td></tr>\n",
       "\t<tr><th scope=row>5</th><td>-30.67874</td><td>17.47638</td></tr>\n",
       "\t<tr><th scope=row>6</th><td>-31.08580</td><td>17.72167</td></tr>\n",
       "</tbody>\n",
       "</table>\n"
      ],
      "text/latex": [
       "A data.frame: 6 × 2\n",
       "\\begin{tabular}{r|ll}\n",
       "  & Latitude & Longitude\\\\\n",
       "  & <dbl> & <dbl>\\\\\n",
       "\\hline\n",
       "\t1 & -28.98450 & 16.72429\\\\\n",
       "\t2 & -29.38053 & 16.94238\\\\\n",
       "\t3 & -29.83253 & 17.08194\\\\\n",
       "\t4 & -30.26426 & 17.25928\\\\\n",
       "\t5 & -30.67874 & 17.47638\\\\\n",
       "\t6 & -31.08580 & 17.72167\\\\\n",
       "\\end{tabular}\n"
      ],
      "text/markdown": [
       "\n",
       "A data.frame: 6 × 2\n",
       "\n",
       "| <!--/--> | Latitude &lt;dbl&gt; | Longitude &lt;dbl&gt; |\n",
       "|---|---|---|\n",
       "| 1 | -28.98450 | 16.72429 |\n",
       "| 2 | -29.38053 | 16.94238 |\n",
       "| 3 | -29.83253 | 17.08194 |\n",
       "| 4 | -30.26426 | 17.25928 |\n",
       "| 5 | -30.67874 | 17.47638 |\n",
       "| 6 | -31.08580 | 17.72167 |\n",
       "\n"
      ],
      "text/plain": [
       "  Latitude  Longitude\n",
       "1 -28.98450 16.72429 \n",
       "2 -29.38053 16.94238 \n",
       "3 -29.83253 17.08194 \n",
       "4 -30.26426 17.25928 \n",
       "5 -30.67874 17.47638 \n",
       "6 -31.08580 17.72167 "
      ]
     },
     "metadata": {},
     "output_type": "display_data"
    }
   ],
   "source": [
    "head(geo)"
   ]
  },
  {
   "cell_type": "markdown",
   "id": "b6d4ba91-e910-489f-9563-6191a1d19504",
   "metadata": {},
   "source": [
    "The first column contains nonsense and must be removed:"
   ]
  },
  {
   "cell_type": "markdown",
   "id": "9e8668f3-a7ed-4ec4-9685-b7ee0786d933",
   "metadata": {},
   "source": [
    "Calculate geographic distances (in meters) between coordinate pairs:"
   ]
  },
  {
   "cell_type": "code",
   "execution_count": 17,
   "id": "9765beca-9b40-4753-81a9-c4a218035511",
   "metadata": {},
   "outputs": [
    {
     "data": {
      "text/html": [
       "<table class=\"dataframe\">\n",
       "<caption>A data.frame: 5 × 5</caption>\n",
       "<thead>\n",
       "\t<tr><th></th><th scope=col>1</th><th scope=col>2</th><th scope=col>3</th><th scope=col>4</th><th scope=col>5</th></tr>\n",
       "\t<tr><th></th><th scope=col>&lt;dbl&gt;</th><th scope=col>&lt;dbl&gt;</th><th scope=col>&lt;dbl&gt;</th><th scope=col>&lt;dbl&gt;</th><th scope=col>&lt;dbl&gt;</th></tr>\n",
       "</thead>\n",
       "<tbody>\n",
       "\t<tr><th scope=row>1</th><td>     0.00</td><td> 48752.45</td><td>100201.82</td><td>151021.75</td><td>201380.00</td></tr>\n",
       "\t<tr><th scope=row>2</th><td> 48752.45</td><td>     0.00</td><td> 51894.01</td><td>102638.03</td><td>152849.90</td></tr>\n",
       "\t<tr><th scope=row>3</th><td>100201.82</td><td> 51894.01</td><td>     0.00</td><td> 50822.71</td><td>101197.22</td></tr>\n",
       "\t<tr><th scope=row>4</th><td>151021.75</td><td>102638.03</td><td> 50822.71</td><td>     0.00</td><td> 50457.53</td></tr>\n",
       "\t<tr><th scope=row>5</th><td>201380.00</td><td>152849.90</td><td>101197.22</td><td> 50457.53</td><td>     0.00</td></tr>\n",
       "</tbody>\n",
       "</table>\n"
      ],
      "text/latex": [
       "A data.frame: 5 × 5\n",
       "\\begin{tabular}{r|lllll}\n",
       "  & 1 & 2 & 3 & 4 & 5\\\\\n",
       "  & <dbl> & <dbl> & <dbl> & <dbl> & <dbl>\\\\\n",
       "\\hline\n",
       "\t1 &      0.00 &  48752.45 & 100201.82 & 151021.75 & 201380.00\\\\\n",
       "\t2 &  48752.45 &      0.00 &  51894.01 & 102638.03 & 152849.90\\\\\n",
       "\t3 & 100201.82 &  51894.01 &      0.00 &  50822.71 & 101197.22\\\\\n",
       "\t4 & 151021.75 & 102638.03 &  50822.71 &      0.00 &  50457.53\\\\\n",
       "\t5 & 201380.00 & 152849.90 & 101197.22 &  50457.53 &      0.00\\\\\n",
       "\\end{tabular}\n"
      ],
      "text/markdown": [
       "\n",
       "A data.frame: 5 × 5\n",
       "\n",
       "| <!--/--> | 1 &lt;dbl&gt; | 2 &lt;dbl&gt; | 3 &lt;dbl&gt; | 4 &lt;dbl&gt; | 5 &lt;dbl&gt; |\n",
       "|---|---|---|---|---|---|\n",
       "| 1 |      0.00 |  48752.45 | 100201.82 | 151021.75 | 201380.00 |\n",
       "| 2 |  48752.45 |      0.00 |  51894.01 | 102638.03 | 152849.90 |\n",
       "| 3 | 100201.82 |  51894.01 |      0.00 |  50822.71 | 101197.22 |\n",
       "| 4 | 151021.75 | 102638.03 |  50822.71 |      0.00 |  50457.53 |\n",
       "| 5 | 201380.00 | 152849.90 | 101197.22 |  50457.53 |      0.00 |\n",
       "\n"
      ],
      "text/plain": [
       "  1         2         3         4         5        \n",
       "1      0.00  48752.45 100201.82 151021.75 201380.00\n",
       "2  48752.45      0.00  51894.01 102638.03 152849.90\n",
       "3 100201.82  51894.01      0.00  50822.71 101197.22\n",
       "4 151021.75 102638.03  50822.71      0.00  50457.53\n",
       "5 201380.00 152849.90 101197.22  50457.53      0.00"
      ]
     },
     "metadata": {},
     "output_type": "display_data"
    }
   ],
   "source": [
    "dists <- geodist(geo, paired = TRUE, measure = \"geodesic\")\n",
    "dists_df <- as.data.frame(as.matrix(dists))\n",
    "colnames(dists_df) <- seq(1:58)\n",
    "dists_df[1:5, 1:5]"
   ]
  },
  {
   "cell_type": "code",
   "execution_count": 18,
   "id": "46a4a865-08f8-41b1-896f-4a9c40cf54d8",
   "metadata": {},
   "outputs": [],
   "source": [
    "plt1 <- ggplot(data = dists_df, (aes(x = 1:58, y = `1`/1000))) +\n",
    "  geom_line() + xlab(\"Coastal section, west to east\") + ylab(\"Distance (km)\") + ggtitle(\"Actual geographic distance\")"
   ]
  },
  {
   "cell_type": "code",
   "execution_count": 19,
   "id": "1d5b0dc5-50ba-473d-96a5-c1d849d03967",
   "metadata": {},
   "outputs": [
    {
     "data": {
      "text/html": [
       "<table class=\"dataframe\">\n",
       "<caption>A data.frame: 5 × 5</caption>\n",
       "<thead>\n",
       "\t<tr><th></th><th scope=col>1</th><th scope=col>2</th><th scope=col>3</th><th scope=col>4</th><th scope=col>5</th></tr>\n",
       "\t<tr><th></th><th scope=col>&lt;dbl&gt;</th><th scope=col>&lt;dbl&gt;</th><th scope=col>&lt;dbl&gt;</th><th scope=col>&lt;dbl&gt;</th><th scope=col>&lt;dbl&gt;</th></tr>\n",
       "</thead>\n",
       "<tbody>\n",
       "\t<tr><th scope=row>1</th><td>0.0000</td><td>0.4521</td><td>0.9204</td><td>1.3871</td><td>1.8537</td></tr>\n",
       "\t<tr><th scope=row>2</th><td>0.4521</td><td>0.0000</td><td>0.4731</td><td>0.9388</td><td>1.4037</td></tr>\n",
       "\t<tr><th scope=row>3</th><td>0.9204</td><td>0.4731</td><td>0.0000</td><td>0.4667</td><td>0.9336</td></tr>\n",
       "\t<tr><th scope=row>4</th><td>1.3871</td><td>0.9388</td><td>0.4667</td><td>0.0000</td><td>0.4679</td></tr>\n",
       "\t<tr><th scope=row>5</th><td>1.8537</td><td>1.4037</td><td>0.9336</td><td>0.4679</td><td>0.0000</td></tr>\n",
       "</tbody>\n",
       "</table>\n"
      ],
      "text/latex": [
       "A data.frame: 5 × 5\n",
       "\\begin{tabular}{r|lllll}\n",
       "  & 1 & 2 & 3 & 4 & 5\\\\\n",
       "  & <dbl> & <dbl> & <dbl> & <dbl> & <dbl>\\\\\n",
       "\\hline\n",
       "\t1 & 0.0000 & 0.4521 & 0.9204 & 1.3871 & 1.8537\\\\\n",
       "\t2 & 0.4521 & 0.0000 & 0.4731 & 0.9388 & 1.4037\\\\\n",
       "\t3 & 0.9204 & 0.4731 & 0.0000 & 0.4667 & 0.9336\\\\\n",
       "\t4 & 1.3871 & 0.9388 & 0.4667 & 0.0000 & 0.4679\\\\\n",
       "\t5 & 1.8537 & 1.4037 & 0.9336 & 0.4679 & 0.0000\\\\\n",
       "\\end{tabular}\n"
      ],
      "text/markdown": [
       "\n",
       "A data.frame: 5 × 5\n",
       "\n",
       "| <!--/--> | 1 &lt;dbl&gt; | 2 &lt;dbl&gt; | 3 &lt;dbl&gt; | 4 &lt;dbl&gt; | 5 &lt;dbl&gt; |\n",
       "|---|---|---|---|---|---|\n",
       "| 1 | 0.0000 | 0.4521 | 0.9204 | 1.3871 | 1.8537 |\n",
       "| 2 | 0.4521 | 0.0000 | 0.4731 | 0.9388 | 1.4037 |\n",
       "| 3 | 0.9204 | 0.4731 | 0.0000 | 0.4667 | 0.9336 |\n",
       "| 4 | 1.3871 | 0.9388 | 0.4667 | 0.0000 | 0.4679 |\n",
       "| 5 | 1.8537 | 1.4037 | 0.9336 | 0.4679 | 0.0000 |\n",
       "\n"
      ],
      "text/plain": [
       "  1      2      3      4      5     \n",
       "1 0.0000 0.4521 0.9204 1.3871 1.8537\n",
       "2 0.4521 0.0000 0.4731 0.9388 1.4037\n",
       "3 0.9204 0.4731 0.0000 0.4667 0.9336\n",
       "4 1.3871 0.9388 0.4667 0.0000 0.4679\n",
       "5 1.8537 1.4037 0.9336 0.4679 0.0000"
      ]
     },
     "metadata": {},
     "output_type": "display_data"
    }
   ],
   "source": [
    "dists_euc <- vegdist(geo, method = \"euclidian\")\n",
    "dists_euc_df <- round(as.data.frame(as.matrix(dists_euc)), 4)\n",
    "dists_euc_df[1:5, 1:5]"
   ]
  },
  {
   "cell_type": "code",
   "execution_count": 20,
   "id": "7557113b-39a2-46d5-8adc-f8bd88541508",
   "metadata": {},
   "outputs": [],
   "source": [
    "plt2 <- ggplot(data = dists_euc_df, (aes(x = 1:58, y = `1`))) +\n",
    "  geom_line() + xlab(\"Coastal section, west to east\") + ylab(\"Euclidian distance\") + ggtitle(\"Euclidian distance\")"
   ]
  },
  {
   "cell_type": "code",
   "execution_count": 21,
   "id": "59f6e062-5f56-4d34-9259-c3fcad2db481",
   "metadata": {},
   "outputs": [
    {
     "data": {
      "image/png": "[encoded data removed]",
      "text/plain": [
       "plot without title"
      ]
     },
     "metadata": {
      "image/png": {
       "height": 420,
       "width": 420
      }
     },
     "output_type": "display_data"
    }
   ],
   "source": [
    "ggarrange(plt1, plt2, nrow = 2)"
   ]
  },
  {
   "cell_type": "markdown",
   "id": "52ed76d5-2cac-4b0d-a1b1-81fa62f426c0",
   "metadata": {},
   "source": [
    "# References\n",
    "\n",
    "Smit, A. J., Bolton, J. J., & Anderson, R. J. (2017). Seaweeds in two oceans: beta-diversity. Frontiers in Marine Science, 4, 404."
   ]
  }
 ],
 "metadata": {
  "kernelspec": {
   "display_name": "R",
   "language": "R",
   "name": "ir"
  },
  "language_info": {
   "codemirror_mode": "r",
   "file_extension": ".r",
   "mimetype": "text/x-r-source",
   "name": "R",
   "pygments_lexer": "r",
   "version": "4.1.0"
  }
 },
 "nbformat": 4,
 "nbformat_minor": 5
}
