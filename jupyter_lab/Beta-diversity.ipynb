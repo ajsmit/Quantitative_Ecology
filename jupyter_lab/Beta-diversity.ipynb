{
 "cells": [
  {
   "cell_type": "markdown",
   "id": "770ea9a2-afee-4e9d-9bb2-25c65cabb480",
   "metadata": {},
   "source": [
    "**Author:** Prof. AJ Smit\n",
    "\n",
    "Department of Biodiversity and Conservation Biology\n",
    "\n",
    "University of the Western Cape"
   ]
  },
  {
   "cell_type": "markdown",
   "id": "6d417a40-98a6-4e36-b0d7-b29498e16162",
   "metadata": {},
   "source": [
    "# Biodiversity\n",
    "\n",
    "## Three measures of biodiversity\n",
    "\n",
    "Three measures of diversity were coined by Whittaker in 1972. They represent the measurement of biodiversity across different spatial scales. α- and γ-diversity simply express the total number of species in an area. α-diversity is a representation of the number of species at the small (local) scale, such as within a quadrat, transect, plot, or trawl. Multiples of these are nested within a larger region (or ecosystem etc.) and serve as replicates, and it is the complete number of species across all of these replicates that indicates the diversity at a larger scale---this is called γ-diversity.\n",
    "\n",
    "β-diversity is something else, and will be discussed below.\n",
    "\n",
    "We will use data on seaweed of South Africa to demonstrate these ideas.\n",
    "\n",
    "# The South African seaweed data\n",
    "\n",
    "For this example we will use the seaweed data of Smit et al. (2017). For information about the study, see:\n",
    "\n",
    "https://github.com/ajsmit/Quantitative_Ecology/blob/main/_GitBook/LaTeX/The_seaweed_data.pdf\n",
    "\n",
    "I use two data sets. The first, $Y$ (in the file `seaweeds.csv`), comprises distribution records of 847 macroalgal species within each of 58 × 50 km-long sections of the South African coast (updated from Bolton and Stegenga  2002). This represents *ca*. 90% of the known seaweed flora of South Africa, but excludes some very small and/or very rare species for which data are insufficient. The data are from verifiable literature sources and John Bolton and Rob Anderson's own collections, assembled from information collected by teams of phycologists over three decades (Bolton 1986; Stegenga et al. 1997; Bolton and Stegenga 2002; De Clerck et al. 2005). The second, $E$ (in `env.csv`), is a dataset of *in situ* coastal seawater temperatures (Smit et al. 2013) derived from daily measurements over up to 40 years.\n",
    "\n",
    "## Setting up the analysis environment\n",
    "This is **R**, so first I need to find, install and load various packages. Some of the packages will be available on CRAN and can be accessed and installed in the usual way, but others will have to be downloaded from [R Forge](https://r-forge.r-project.org/R/?group_id=195)."
   ]
  },
  {
   "cell_type": "code",
   "execution_count": 1,
   "id": "daa3165c-d85c-40d3-aa4c-5fc92ce9d42b",
   "metadata": {},
   "outputs": [
    {
     "name": "stderr",
     "output_type": "stream",
     "text": [
      "── \u001b[1mAttaching packages\u001b[22m ─────────────────────────────────────────────────────────────────────────────────────────────────────────────────────────────── tidyverse 1.3.1 ──\n",
      "\n",
      "\u001b[32m✔\u001b[39m \u001b[34mggplot2\u001b[39m 3.3.4     \u001b[32m✔\u001b[39m \u001b[34mpurrr  \u001b[39m 0.3.4\n",
      "\u001b[32m✔\u001b[39m \u001b[34mtibble \u001b[39m 3.1.2     \u001b[32m✔\u001b[39m \u001b[34mdplyr  \u001b[39m 1.0.7\n",
      "\u001b[32m✔\u001b[39m \u001b[34mtidyr  \u001b[39m 1.1.3     \u001b[32m✔\u001b[39m \u001b[34mstringr\u001b[39m 1.4.0\n",
      "\u001b[32m✔\u001b[39m \u001b[34mreadr  \u001b[39m 1.4.0     \u001b[32m✔\u001b[39m \u001b[34mforcats\u001b[39m 0.5.1\n",
      "\n",
      "── \u001b[1mConflicts\u001b[22m ────────────────────────────────────────────────────────────────────────────────────────────────────────────────────────────────── tidyverse_conflicts() ──\n",
      "\u001b[31m✖\u001b[39m \u001b[34mdplyr\u001b[39m::\u001b[32mfilter()\u001b[39m masks \u001b[34mstats\u001b[39m::filter()\n",
      "\u001b[31m✖\u001b[39m \u001b[34mdplyr\u001b[39m::\u001b[32mlag()\u001b[39m    masks \u001b[34mstats\u001b[39m::lag()\n",
      "\n",
      "Loading required package: permute\n",
      "\n",
      "Loading required package: lattice\n",
      "\n",
      "This is vegan 2.5-7\n",
      "\n",
      "\n",
      "Attaching package: ‘gridExtra’\n",
      "\n",
      "\n",
      "The following object is masked from ‘package:dplyr’:\n",
      "\n",
      "    combine\n",
      "\n",
      "\n",
      "Loading required package: tcltk\n",
      "\n",
      "Registered S3 methods overwritten by 'lme4':\n",
      "  method                          from\n",
      "  cooks.distance.influence.merMod car \n",
      "  influence.merMod                car \n",
      "  dfbeta.influence.merMod         car \n",
      "  dfbetas.influence.merMod        car \n",
      "\n",
      "BiodiversityR 2.13-1: Use command BiodiversityRGUI() to launch the Graphical User Interface; \n",
      "to see changes use BiodiversityRGUI(changeLog=TRUE, backward.compatibility.messages=TRUE)\n",
      "\n",
      "\n"
     ]
    }
   ],
   "source": [
    "library(tidyverse)\n",
    "library(betapart)\n",
    "library(vegan)\n",
    "library(gridExtra)\n",
    "library(BiodiversityR)\n",
    "library(grid)\n",
    "library(gridBase)\n",
    "library(tidyr)"
   ]
  },
  {
   "cell_type": "markdown",
   "id": "554facb2-0729-4793-aa97-3607fad68051",
   "metadata": {},
   "source": [
    "## A look at the data\n",
    "\n",
    "Let's load the data and see how it is structured:"
   ]
  },
  {
   "cell_type": "code",
   "execution_count": 23,
   "id": "31a8c9a8-80d9-4439-973f-d968a56fb84e",
   "metadata": {},
   "outputs": [],
   "source": [
    "spp <- read.csv('/Users/ajsmit/Dropbox/R/workshops/Quantitative_Ecology/exercises/diversity/SeaweedsSpp.csv')\n",
    "spp <- dplyr::select(spp, -1)"
   ]
  },
  {
   "cell_type": "code",
   "execution_count": 24,
   "id": "c3a03b97-3acf-4af7-a5f1-f63127ed788b",
   "metadata": {},
   "outputs": [
    {
     "data": {
      "text/html": [
       "<style>\n",
       ".list-inline {list-style: none; margin:0; padding: 0}\n",
       ".list-inline>li {display: inline-block}\n",
       ".list-inline>li:not(:last-child)::after {content: \"\\00b7\"; padding: 0 .5ex}\n",
       "</style>\n",
       "<ol class=list-inline><li>58</li><li>847</li></ol>\n"
      ],
      "text/latex": [
       "\\begin{enumerate*}\n",
       "\\item 58\n",
       "\\item 847\n",
       "\\end{enumerate*}\n"
      ],
      "text/markdown": [
       "1. 58\n",
       "2. 847\n",
       "\n",
       "\n"
      ],
      "text/plain": [
       "[1]  58 847"
      ]
     },
     "metadata": {},
     "output_type": "display_data"
    }
   ],
   "source": [
    "# Lets look at the data:\n",
    "dim(spp)"
   ]
  },
  {
   "cell_type": "markdown",
   "id": "d68a230e-1708-4281-959e-52b96ecda971",
   "metadata": {},
   "source": [
    "We see that our dataset has 58 rows and 847 columns. What is in the columns and rows? Start with the first 5 rows and 5 columns:"
   ]
  },
  {
   "cell_type": "code",
   "execution_count": 4,
   "id": "1993c502-f7a7-478d-8309-1258d2d9a969",
   "metadata": {},
   "outputs": [
    {
     "data": {
      "text/html": [
       "<table class=\"dataframe\">\n",
       "<caption>A data.frame: 5 × 5</caption>\n",
       "<thead>\n",
       "\t<tr><th></th><th scope=col>ACECAL</th><th scope=col>ACEMOE</th><th scope=col>ACRVIR</th><th scope=col>AROSP1</th><th scope=col>ANAWRI</th></tr>\n",
       "\t<tr><th></th><th scope=col>&lt;int&gt;</th><th scope=col>&lt;int&gt;</th><th scope=col>&lt;int&gt;</th><th scope=col>&lt;int&gt;</th><th scope=col>&lt;int&gt;</th></tr>\n",
       "</thead>\n",
       "<tbody>\n",
       "\t<tr><th scope=row>1</th><td>0</td><td>0</td><td>0</td><td>0</td><td>0</td></tr>\n",
       "\t<tr><th scope=row>2</th><td>0</td><td>0</td><td>0</td><td>0</td><td>0</td></tr>\n",
       "\t<tr><th scope=row>3</th><td>0</td><td>0</td><td>0</td><td>0</td><td>0</td></tr>\n",
       "\t<tr><th scope=row>4</th><td>0</td><td>0</td><td>0</td><td>0</td><td>0</td></tr>\n",
       "\t<tr><th scope=row>5</th><td>0</td><td>0</td><td>0</td><td>0</td><td>0</td></tr>\n",
       "</tbody>\n",
       "</table>\n"
      ],
      "text/latex": [
       "A data.frame: 5 × 5\n",
       "\\begin{tabular}{r|lllll}\n",
       "  & ACECAL & ACEMOE & ACRVIR & AROSP1 & ANAWRI\\\\\n",
       "  & <int> & <int> & <int> & <int> & <int>\\\\\n",
       "\\hline\n",
       "\t1 & 0 & 0 & 0 & 0 & 0\\\\\n",
       "\t2 & 0 & 0 & 0 & 0 & 0\\\\\n",
       "\t3 & 0 & 0 & 0 & 0 & 0\\\\\n",
       "\t4 & 0 & 0 & 0 & 0 & 0\\\\\n",
       "\t5 & 0 & 0 & 0 & 0 & 0\\\\\n",
       "\\end{tabular}\n"
      ],
      "text/markdown": [
       "\n",
       "A data.frame: 5 × 5\n",
       "\n",
       "| <!--/--> | ACECAL &lt;int&gt; | ACEMOE &lt;int&gt; | ACRVIR &lt;int&gt; | AROSP1 &lt;int&gt; | ANAWRI &lt;int&gt; |\n",
       "|---|---|---|---|---|---|\n",
       "| 1 | 0 | 0 | 0 | 0 | 0 |\n",
       "| 2 | 0 | 0 | 0 | 0 | 0 |\n",
       "| 3 | 0 | 0 | 0 | 0 | 0 |\n",
       "| 4 | 0 | 0 | 0 | 0 | 0 |\n",
       "| 5 | 0 | 0 | 0 | 0 | 0 |\n",
       "\n"
      ],
      "text/plain": [
       "  ACECAL ACEMOE ACRVIR AROSP1 ANAWRI\n",
       "1 0      0      0      0      0     \n",
       "2 0      0      0      0      0     \n",
       "3 0      0      0      0      0     \n",
       "4 0      0      0      0      0     \n",
       "5 0      0      0      0      0     "
      ]
     },
     "metadata": {},
     "output_type": "display_data"
    }
   ],
   "source": [
    "spp[1:5, 1:5]"
   ]
  },
  {
   "cell_type": "markdown",
   "id": "650e31d0-fe60-4495-ad45-2eac086a0182",
   "metadata": {},
   "source": [
    "Now the last 5 rows and 5 columns:"
   ]
  },
  {
   "cell_type": "code",
   "execution_count": 5,
   "id": "59d41042-5ef1-4806-9298-cbe0353b7a57",
   "metadata": {},
   "outputs": [
    {
     "data": {
      "text/html": [
       "<table class=\"dataframe\">\n",
       "<caption>A data.frame: 6 × 6</caption>\n",
       "<thead>\n",
       "\t<tr><th></th><th scope=col>WOMKWA</th><th scope=col>WOMPAC</th><th scope=col>WRAARG</th><th scope=col>WRAPUR</th><th scope=col>WURMIN</th><th scope=col>ZONSEM</th></tr>\n",
       "\t<tr><th></th><th scope=col>&lt;int&gt;</th><th scope=col>&lt;int&gt;</th><th scope=col>&lt;int&gt;</th><th scope=col>&lt;int&gt;</th><th scope=col>&lt;int&gt;</th><th scope=col>&lt;int&gt;</th></tr>\n",
       "</thead>\n",
       "<tbody>\n",
       "\t<tr><th scope=row>53</th><td>0</td><td>0</td><td>1</td><td>0</td><td>0</td><td>0</td></tr>\n",
       "\t<tr><th scope=row>54</th><td>0</td><td>0</td><td>1</td><td>0</td><td>0</td><td>0</td></tr>\n",
       "\t<tr><th scope=row>55</th><td>0</td><td>0</td><td>1</td><td>0</td><td>0</td><td>0</td></tr>\n",
       "\t<tr><th scope=row>56</th><td>0</td><td>1</td><td>1</td><td>0</td><td>1</td><td>0</td></tr>\n",
       "\t<tr><th scope=row>57</th><td>1</td><td>0</td><td>1</td><td>0</td><td>1</td><td>0</td></tr>\n",
       "\t<tr><th scope=row>58</th><td>0</td><td>0</td><td>1</td><td>0</td><td>1</td><td>0</td></tr>\n",
       "</tbody>\n",
       "</table>\n"
      ],
      "text/latex": [
       "A data.frame: 6 × 6\n",
       "\\begin{tabular}{r|llllll}\n",
       "  & WOMKWA & WOMPAC & WRAARG & WRAPUR & WURMIN & ZONSEM\\\\\n",
       "  & <int> & <int> & <int> & <int> & <int> & <int>\\\\\n",
       "\\hline\n",
       "\t53 & 0 & 0 & 1 & 0 & 0 & 0\\\\\n",
       "\t54 & 0 & 0 & 1 & 0 & 0 & 0\\\\\n",
       "\t55 & 0 & 0 & 1 & 0 & 0 & 0\\\\\n",
       "\t56 & 0 & 1 & 1 & 0 & 1 & 0\\\\\n",
       "\t57 & 1 & 0 & 1 & 0 & 1 & 0\\\\\n",
       "\t58 & 0 & 0 & 1 & 0 & 1 & 0\\\\\n",
       "\\end{tabular}\n"
      ],
      "text/markdown": [
       "\n",
       "A data.frame: 6 × 6\n",
       "\n",
       "| <!--/--> | WOMKWA &lt;int&gt; | WOMPAC &lt;int&gt; | WRAARG &lt;int&gt; | WRAPUR &lt;int&gt; | WURMIN &lt;int&gt; | ZONSEM &lt;int&gt; |\n",
       "|---|---|---|---|---|---|---|\n",
       "| 53 | 0 | 0 | 1 | 0 | 0 | 0 |\n",
       "| 54 | 0 | 0 | 1 | 0 | 0 | 0 |\n",
       "| 55 | 0 | 0 | 1 | 0 | 0 | 0 |\n",
       "| 56 | 0 | 1 | 1 | 0 | 1 | 0 |\n",
       "| 57 | 1 | 0 | 1 | 0 | 1 | 0 |\n",
       "| 58 | 0 | 0 | 1 | 0 | 1 | 0 |\n",
       "\n"
      ],
      "text/plain": [
       "   WOMKWA WOMPAC WRAARG WRAPUR WURMIN ZONSEM\n",
       "53 0      0      1      0      0      0     \n",
       "54 0      0      1      0      0      0     \n",
       "55 0      0      1      0      0      0     \n",
       "56 0      1      1      0      1      0     \n",
       "57 1      0      1      0      1      0     \n",
       "58 0      0      1      0      1      0     "
      ]
     },
     "metadata": {},
     "output_type": "display_data"
    }
   ],
   "source": [
    "spp[(nrow(spp) - 5):nrow(spp), (ncol(spp) - 5):ncol(spp)]"
   ]
  },
  {
   "cell_type": "markdown",
   "id": "18cac25c-d3a3-4460-99cd-e12ebc955734",
   "metadata": {},
   "source": [
    "So, each of the rows corresponds to a site (i.e. each of the coastal sections), and the columns each contain a species. The species are arranged alphabetically, and they are indicated by a six-letter code.\n",
    "\n",
    "## Alpha diversity\n",
    "\n",
    "We can represent α-diversity in three ways:\n",
    "\n",
    "1. as species richness ($S$),\n",
    "\n",
    "2. as a univariate diversity index, such as Shannon diversity ($H'$) or Simpson's diversity (λ), or\n",
    "\n",
    "3. as a dissimilarity index, e.g. Bray-Curtis, Jaccard, or Sørensen dissimilarities---see Koleff (2003) for many more; also see `?vegdist`\n",
    "\n",
    "We will work through each in turn.\n",
    "\n",
    "### Species richness\n",
    "\n",
    "First, species richness. In the seaweed biodiversity data---because we view each coastal section as the local scale (the smallest unit of sampling)---I simply count the number of species within each of the sections. The `diversityresult()` function in the **BiodiversityR** package does this easily:"
   ]
  },
  {
   "cell_type": "code",
   "execution_count": 6,
   "id": "4cc7a98c-b630-4ff7-93c7-dfe5653b2e0a",
   "metadata": {},
   "outputs": [
    {
     "data": {
      "image/png": "[encoded data removed]",
      "text/plain": [
       "plot without title"
      ]
     },
     "metadata": {
      "image/png": {
       "height": 420,
       "width": 420
      }
     },
     "output_type": "display_data"
    }
   ],
   "source": [
    "spp_richness <- diversityresult(spp, index = 'richness', method = 'each site')\n",
    "# spp_richness\n",
    "ggplot(data = spp_richness, (aes(x = 1:58, y = richness))) +\n",
    "  geom_line() + xlab(\"Coastal section, west to east\") + ylab(\"Species richness\")"
   ]
  },
  {
   "cell_type": "markdown",
   "id": "fa31dcda-c294-4cde-bd35-785ed1d7a5ed",
   "metadata": {},
   "source": [
    "If the **BiodiversityR** package does not work for you, there is also the `specnumber()` function in **vegan**:"
   ]
  },
  {
   "cell_type": "code",
   "execution_count": 7,
   "id": "b502f847-aa7f-4d77-854f-bb2e4183d0a5",
   "metadata": {},
   "outputs": [
    {
     "data": {
      "text/html": [
       "<style>\n",
       ".list-inline {list-style: none; margin:0; padding: 0}\n",
       ".list-inline>li {display: inline-block}\n",
       ".list-inline>li:not(:last-child)::after {content: \"\\00b7\"; padding: 0 .5ex}\n",
       "</style>\n",
       "<ol class=list-inline><li>138</li><li>139</li><li>139</li><li>140</li><li>143</li><li>143</li><li>143</li><li>145</li><li>149</li><li>148</li><li>159</li><li>162</li><li>208</li><li>147</li><li>168</li><li>204</li><li>269</li><li>276</li><li>280</li><li>265</li><li>265</li><li>283</li><li>269</li><li>279</li><li>281</li><li>295</li><li>290</li><li>290</li><li>299</li><li>295</li><li>311</li><li>317</li><li>298</li><li>299</li><li>301</li><li>315</li><li>308</li><li>327</li><li>340</li><li>315</li><li>315</li><li>302</li><li>311</li><li>280</li><li>300</li><li>282</li><li>283</li><li>321</li><li>319</li><li>319</li><li>330</li><li>293</li><li>291</li><li>292</li><li>294</li><li>313</li><li>333</li><li>316</li></ol>\n"
      ],
      "text/latex": [
       "\\begin{enumerate*}\n",
       "\\item 138\n",
       "\\item 139\n",
       "\\item 139\n",
       "\\item 140\n",
       "\\item 143\n",
       "\\item 143\n",
       "\\item 143\n",
       "\\item 145\n",
       "\\item 149\n",
       "\\item 148\n",
       "\\item 159\n",
       "\\item 162\n",
       "\\item 208\n",
       "\\item 147\n",
       "\\item 168\n",
       "\\item 204\n",
       "\\item 269\n",
       "\\item 276\n",
       "\\item 280\n",
       "\\item 265\n",
       "\\item 265\n",
       "\\item 283\n",
       "\\item 269\n",
       "\\item 279\n",
       "\\item 281\n",
       "\\item 295\n",
       "\\item 290\n",
       "\\item 290\n",
       "\\item 299\n",
       "\\item 295\n",
       "\\item 311\n",
       "\\item 317\n",
       "\\item 298\n",
       "\\item 299\n",
       "\\item 301\n",
       "\\item 315\n",
       "\\item 308\n",
       "\\item 327\n",
       "\\item 340\n",
       "\\item 315\n",
       "\\item 315\n",
       "\\item 302\n",
       "\\item 311\n",
       "\\item 280\n",
       "\\item 300\n",
       "\\item 282\n",
       "\\item 283\n",
       "\\item 321\n",
       "\\item 319\n",
       "\\item 319\n",
       "\\item 330\n",
       "\\item 293\n",
       "\\item 291\n",
       "\\item 292\n",
       "\\item 294\n",
       "\\item 313\n",
       "\\item 333\n",
       "\\item 316\n",
       "\\end{enumerate*}\n"
      ],
      "text/markdown": [
       "1. 138\n",
       "2. 139\n",
       "3. 139\n",
       "4. 140\n",
       "5. 143\n",
       "6. 143\n",
       "7. 143\n",
       "8. 145\n",
       "9. 149\n",
       "10. 148\n",
       "11. 159\n",
       "12. 162\n",
       "13. 208\n",
       "14. 147\n",
       "15. 168\n",
       "16. 204\n",
       "17. 269\n",
       "18. 276\n",
       "19. 280\n",
       "20. 265\n",
       "21. 265\n",
       "22. 283\n",
       "23. 269\n",
       "24. 279\n",
       "25. 281\n",
       "26. 295\n",
       "27. 290\n",
       "28. 290\n",
       "29. 299\n",
       "30. 295\n",
       "31. 311\n",
       "32. 317\n",
       "33. 298\n",
       "34. 299\n",
       "35. 301\n",
       "36. 315\n",
       "37. 308\n",
       "38. 327\n",
       "39. 340\n",
       "40. 315\n",
       "41. 315\n",
       "42. 302\n",
       "43. 311\n",
       "44. 280\n",
       "45. 300\n",
       "46. 282\n",
       "47. 283\n",
       "48. 321\n",
       "49. 319\n",
       "50. 319\n",
       "51. 330\n",
       "52. 293\n",
       "53. 291\n",
       "54. 292\n",
       "55. 294\n",
       "56. 313\n",
       "57. 333\n",
       "58. 316\n",
       "\n",
       "\n"
      ],
      "text/plain": [
       " [1] 138 139 139 140 143 143 143 145 149 148 159 162 208 147 168 204 269 276 280\n",
       "[20] 265 265 283 269 279 281 295 290 290 299 295 311 317 298 299 301 315 308 327\n",
       "[39] 340 315 315 302 311 280 300 282 283 321 319 319 330 293 291 292 294 313 333\n",
       "[58] 316"
      ]
     },
     "metadata": {},
     "output_type": "display_data"
    }
   ],
   "source": [
    "# Use 'MARGIN = 1' to calculate the number of species within each row (site)\n",
    "specnumber(spp, MARGIN = 1)"
   ]
  },
  {
   "cell_type": "markdown",
   "id": "10e0faab-75b6-43ee-99ff-72d922e8b864",
   "metadata": {},
   "source": [
    "In other instances, it makes more sense to calculate the mean species richness of all the sampling units (e.g. quadrats) taken inside the ecosystem of interest. You will have to decide based on your own data.\n",
    "\n",
    "### Univariate diversity indices\n",
    "\n",
    "The second way in which we can express α-diversity is to use one of the univariate diversity indices such as Shannon's $H'$ or Simpson's λ. Shannon's $H'$ is sometimes called Shannon's diversity index, the Shannon–Wiener index, the Shannon–Weaver index, or the Shannon entropy. It is calculated as $H' = -\\sum_{i=1}^{R} p_{i} \\ln p_{i}$ where $p_{i}$ is the proportion of individuals belonging to the $i$th species, and $R$ is the species richness.\n",
    "\n",
    "Simpson's λ, or simply the Simpson index, is calculated as $\\displaystyle \\lambda = \\sum_{i=1}^{R} p_{i}^{2}$ where $R$ is the species richness and $p_{i}$ is the relative abundance of the $i$th species.\n",
    "\n",
    "We cannot calculate either of these for the seaweed data because in order to do so we require abundance data---the seaweed data are presence-absence only. Let's load a fictitious dataset of the diversity of three different communities of plants, with each community corresponding to a different light environment (dim, mid and high light):"
   ]
  },
  {
   "cell_type": "code",
   "execution_count": 8,
   "id": "8ae1ae81-5284-4782-8f37-a8cfd753a99d",
   "metadata": {},
   "outputs": [
    {
     "name": "stderr",
     "output_type": "stream",
     "text": [
      "Warning message in read.table(file = file, header = header, sep = sep, quote = quote, :\n",
      "“incomplete final line found by readTableHeader on '/Users/ajsmit/Dropbox/R/workshops/Quantitative_Ecology/exercises/diversity/light_levels.csv'”\n"
     ]
    },
    {
     "data": {
      "text/html": [
       "<table class=\"dataframe\">\n",
       "<caption>A data.frame: 3 × 7</caption>\n",
       "<thead>\n",
       "\t<tr><th scope=col>Site</th><th scope=col>A</th><th scope=col>B</th><th scope=col>C</th><th scope=col>D</th><th scope=col>E</th><th scope=col>F</th></tr>\n",
       "\t<tr><th scope=col>&lt;chr&gt;</th><th scope=col>&lt;dbl&gt;</th><th scope=col>&lt;dbl&gt;</th><th scope=col>&lt;dbl&gt;</th><th scope=col>&lt;dbl&gt;</th><th scope=col>&lt;dbl&gt;</th><th scope=col>&lt;dbl&gt;</th></tr>\n",
       "</thead>\n",
       "<tbody>\n",
       "\t<tr><td>low_light </td><td>0.75</td><td>0.62</td><td>0.24</td><td>0.33</td><td>0.21</td><td>0.14</td></tr>\n",
       "\t<tr><td>mid_light </td><td>0.38</td><td>0.15</td><td>0.52</td><td>0.57</td><td>0.28</td><td>0.29</td></tr>\n",
       "\t<tr><td>high_light</td><td>0.08</td><td>0.15</td><td>0.18</td><td>0.52</td><td>0.54</td><td>0.56</td></tr>\n",
       "</tbody>\n",
       "</table>\n"
      ],
      "text/latex": [
       "A data.frame: 3 × 7\n",
       "\\begin{tabular}{lllllll}\n",
       " Site & A & B & C & D & E & F\\\\\n",
       " <chr> & <dbl> & <dbl> & <dbl> & <dbl> & <dbl> & <dbl>\\\\\n",
       "\\hline\n",
       "\t low\\_light  & 0.75 & 0.62 & 0.24 & 0.33 & 0.21 & 0.14\\\\\n",
       "\t mid\\_light  & 0.38 & 0.15 & 0.52 & 0.57 & 0.28 & 0.29\\\\\n",
       "\t high\\_light & 0.08 & 0.15 & 0.18 & 0.52 & 0.54 & 0.56\\\\\n",
       "\\end{tabular}\n"
      ],
      "text/markdown": [
       "\n",
       "A data.frame: 3 × 7\n",
       "\n",
       "| Site &lt;chr&gt; | A &lt;dbl&gt; | B &lt;dbl&gt; | C &lt;dbl&gt; | D &lt;dbl&gt; | E &lt;dbl&gt; | F &lt;dbl&gt; |\n",
       "|---|---|---|---|---|---|---|\n",
       "| low_light  | 0.75 | 0.62 | 0.24 | 0.33 | 0.21 | 0.14 |\n",
       "| mid_light  | 0.38 | 0.15 | 0.52 | 0.57 | 0.28 | 0.29 |\n",
       "| high_light | 0.08 | 0.15 | 0.18 | 0.52 | 0.54 | 0.56 |\n",
       "\n"
      ],
      "text/plain": [
       "  Site       A    B    C    D    E    F   \n",
       "1 low_light  0.75 0.62 0.24 0.33 0.21 0.14\n",
       "2 mid_light  0.38 0.15 0.52 0.57 0.28 0.29\n",
       "3 high_light 0.08 0.15 0.18 0.52 0.54 0.56"
      ]
     },
     "metadata": {},
     "output_type": "display_data"
    }
   ],
   "source": [
    "light <- read.csv(\"/Users/ajsmit/Dropbox/R/workshops/Quantitative_Ecology/exercises/diversity/light_levels.csv\")\n",
    "light"
   ]
  },
  {
   "cell_type": "markdown",
   "id": "e1ef9f76-5f87-4a45-aee1-ce445eb98d06",
   "metadata": {},
   "source": [
    "We can see above that in stead of having data with 1s and 0s for presence-absence, here we have some values that indicate the relative amounts of each of the species in the three light environments. We calculate species richness (as before), and also the Shannon and Simpson indices using **vegan**'s `diversity()` function:"
   ]
  },
  {
   "cell_type": "code",
   "execution_count": 9,
   "id": "75499893-419a-4dc1-922b-d75e79b9cc84",
   "metadata": {},
   "outputs": [
    {
     "data": {
      "text/html": [
       "<table class=\"dataframe\">\n",
       "<caption>A data.frame: 3 × 4</caption>\n",
       "<thead>\n",
       "\t<tr><th scope=col>site</th><th scope=col>richness</th><th scope=col>shannon</th><th scope=col>simpson</th></tr>\n",
       "\t<tr><th scope=col>&lt;chr&gt;</th><th scope=col>&lt;int&gt;</th><th scope=col>&lt;dbl&gt;</th><th scope=col>&lt;dbl&gt;</th></tr>\n",
       "</thead>\n",
       "<tbody>\n",
       "\t<tr><td>low_light </td><td>6</td><td>1.62</td><td>0.78</td></tr>\n",
       "\t<tr><td>mid_light </td><td>6</td><td>1.71</td><td>0.81</td></tr>\n",
       "\t<tr><td>high_light</td><td>6</td><td>1.59</td><td>0.77</td></tr>\n",
       "</tbody>\n",
       "</table>\n"
      ],
      "text/latex": [
       "A data.frame: 3 × 4\n",
       "\\begin{tabular}{llll}\n",
       " site & richness & shannon & simpson\\\\\n",
       " <chr> & <int> & <dbl> & <dbl>\\\\\n",
       "\\hline\n",
       "\t low\\_light  & 6 & 1.62 & 0.78\\\\\n",
       "\t mid\\_light  & 6 & 1.71 & 0.81\\\\\n",
       "\t high\\_light & 6 & 1.59 & 0.77\\\\\n",
       "\\end{tabular}\n"
      ],
      "text/markdown": [
       "\n",
       "A data.frame: 3 × 4\n",
       "\n",
       "| site &lt;chr&gt; | richness &lt;int&gt; | shannon &lt;dbl&gt; | simpson &lt;dbl&gt; |\n",
       "|---|---|---|---|\n",
       "| low_light  | 6 | 1.62 | 0.78 |\n",
       "| mid_light  | 6 | 1.71 | 0.81 |\n",
       "| high_light | 6 | 1.59 | 0.77 |\n",
       "\n"
      ],
      "text/plain": [
       "  site       richness shannon simpson\n",
       "1 low_light  6        1.62    0.78   \n",
       "2 mid_light  6        1.71    0.81   \n",
       "3 high_light 6        1.59    0.77   "
      ]
     },
     "metadata": {},
     "output_type": "display_data"
    }
   ],
   "source": [
    "light_div <- data.frame(\n",
    "  site = c(\"low_light\", \"mid_light\", \"high_light\"),\n",
    "  richness = specnumber(light[, 2:7], MARGIN = 1),\n",
    "  shannon = round(diversity(light[, 2:7], MARGIN = 1, index = \"shannon\"), 2),\n",
    "  simpson = round(diversity(light[, 2:7], MARGIN = 1, index = \"simpson\"), 2)\n",
    ")\n",
    "light_div"
   ]
  },
  {
   "cell_type": "markdown",
   "id": "a9974ea4-4213-4aac-a569-0c684d08faaf",
   "metadata": {},
   "source": [
    "### Dissimilarity indices\n",
    "\n",
    "In this section we will cover the dissimilarity indices, which are special cases of diversity indices that use pairwise comparisons between sampling units, habitats, or ecosystems. Both α- and β-diversity can be expressed as dissimilarity indices, but let deal with α-diversity first.\n",
    "\n",
    "These dissimilarity indices are multivariate and compare between sites, sections, plots, etc., and must therefore not be confused with the univariate diversity indices.\n",
    "\n",
    "Recall from the lecture slides the Bray-Curtis and Jaccard dissimilarity indices for abundance data, and the Sørensen dissimilarity index for presence-absence data. The seaweed dataset is a presence-absence dataset, so we will use the Sørensen index. The interpretation of the resulting square (number of rows = number of columns) dissimilarity matrices is the same regardless of whether it is calculated for an abundance dataset or a presence-absence dataset. The values range from 0 to 1, with 0 meaning that the pair of sites being compared is identical (i.e. 0 dissimilarity) and 1 means the pair of sites is completely different (no species in common, hence 1 dissimilarity). In the square dissmilarity matrix the diagonal is 0, which essentially (and obviously) means that any site is identical to itself. Elsewhere the values will range from 0 to 1. Since this is a pairwise calculation (each site compared to every other site), our seaweed dataset will contain (58 × (58 - 1))/2 = 1653 values, each one ranging from 0 to 1.\n",
    "\n",
    "The first step involves the species table ($Y$). First we compute the Sørensen dissimilarity index ($\\beta_{\\text{sør}}$) to compare the dissimilarity of all pairs of coastal sections using on presence-absence data. The dissimilarity in species composition between two sections is calculated from three parameters, *viz*., *b* and *c*, which represent the number of species unique to each of two sites, and *a*, the number of species in common between them. It is given by:\n",
    "\n",
    "$$\\beta_\\text{sør}=\\frac{b+c}{2a+b+c}$$\n",
    "\n",
    "\n",
    "The **vegan** function `vegdist()` provides access to the dissimilarity indices. We calculate the Sørensen dissimilarity index:"
   ]
  },
  {
   "cell_type": "code",
   "execution_count": 10,
   "id": "71b354a6-818e-460c-9a12-23aada377d39",
   "metadata": {},
   "outputs": [
    {
     "data": {
      "text/html": [
       "<table class=\"dataframe\">\n",
       "<caption>A matrix: 20 × 20 of type dbl</caption>\n",
       "<thead>\n",
       "\t<tr><th></th><th scope=col>1</th><th scope=col>2</th><th scope=col>3</th><th scope=col>4</th><th scope=col>5</th><th scope=col>6</th><th scope=col>7</th><th scope=col>8</th><th scope=col>9</th><th scope=col>10</th><th scope=col>11</th><th scope=col>12</th><th scope=col>13</th><th scope=col>14</th><th scope=col>15</th><th scope=col>16</th><th scope=col>17</th><th scope=col>18</th><th scope=col>19</th><th scope=col>20</th></tr>\n",
       "</thead>\n",
       "<tbody>\n",
       "\t<tr><th scope=row>1</th><td>0.0000</td><td>0.0036</td><td>0.0036</td><td>0.0072</td><td>0.0249</td><td>0.0391</td><td>0.0391</td><td>0.0459</td><td>0.0592</td><td>0.0629</td><td>0.0976</td><td>0.1067</td><td>0.2254</td><td>0.0737</td><td>0.1503</td><td>0.2515</td><td>0.4005</td><td>0.4783</td><td>0.5072</td><td>0.5335</td></tr>\n",
       "\t<tr><th scope=row>2</th><td>0.0036</td><td>0.0000</td><td>0.0000</td><td>0.0036</td><td>0.0213</td><td>0.0355</td><td>0.0355</td><td>0.0423</td><td>0.0556</td><td>0.0592</td><td>0.0940</td><td>0.1030</td><td>0.2219</td><td>0.0769</td><td>0.1531</td><td>0.2536</td><td>0.4020</td><td>0.4795</td><td>0.5084</td><td>0.5347</td></tr>\n",
       "\t<tr><th scope=row>3</th><td>0.0036</td><td>0.0000</td><td>0.0000</td><td>0.0036</td><td>0.0213</td><td>0.0355</td><td>0.0355</td><td>0.0423</td><td>0.0556</td><td>0.0592</td><td>0.0940</td><td>0.1030</td><td>0.2219</td><td>0.0769</td><td>0.1531</td><td>0.2536</td><td>0.4020</td><td>0.4795</td><td>0.5084</td><td>0.5347</td></tr>\n",
       "\t<tr><th scope=row>4</th><td>0.0072</td><td>0.0036</td><td>0.0036</td><td>0.0000</td><td>0.0177</td><td>0.0318</td><td>0.0318</td><td>0.0386</td><td>0.0519</td><td>0.0556</td><td>0.0903</td><td>0.0993</td><td>0.2184</td><td>0.0801</td><td>0.1558</td><td>0.2558</td><td>0.4034</td><td>0.4808</td><td>0.5095</td><td>0.5358</td></tr>\n",
       "\t<tr><th scope=row>5</th><td>0.0249</td><td>0.0213</td><td>0.0213</td><td>0.0177</td><td>0.0000</td><td>0.0140</td><td>0.0140</td><td>0.0208</td><td>0.0342</td><td>0.0378</td><td>0.0728</td><td>0.0820</td><td>0.2023</td><td>0.0897</td><td>0.1640</td><td>0.2622</td><td>0.4078</td><td>0.4845</td><td>0.5130</td><td>0.5392</td></tr>\n",
       "\t<tr><th scope=row>6</th><td>0.0391</td><td>0.0355</td><td>0.0355</td><td>0.0318</td><td>0.0140</td><td>0.0000</td><td>0.0000</td><td>0.0069</td><td>0.0205</td><td>0.0241</td><td>0.0596</td><td>0.0689</td><td>0.1909</td><td>0.0897</td><td>0.1640</td><td>0.2622</td><td>0.4078</td><td>0.4845</td><td>0.5130</td><td>0.5392</td></tr>\n",
       "\t<tr><th scope=row>7</th><td>0.0391</td><td>0.0355</td><td>0.0355</td><td>0.0318</td><td>0.0140</td><td>0.0000</td><td>0.0000</td><td>0.0069</td><td>0.0205</td><td>0.0241</td><td>0.0596</td><td>0.0689</td><td>0.1909</td><td>0.0897</td><td>0.1640</td><td>0.2622</td><td>0.4078</td><td>0.4845</td><td>0.5130</td><td>0.5392</td></tr>\n",
       "\t<tr><th scope=row>8</th><td>0.0459</td><td>0.0423</td><td>0.0423</td><td>0.0386</td><td>0.0208</td><td>0.0069</td><td>0.0069</td><td>0.0000</td><td>0.0136</td><td>0.0171</td><td>0.0526</td><td>0.0619</td><td>0.1841</td><td>0.0959</td><td>0.1693</td><td>0.2665</td><td>0.4106</td><td>0.4869</td><td>0.5153</td><td>0.5415</td></tr>\n",
       "\t<tr><th scope=row>9</th><td>0.0592</td><td>0.0556</td><td>0.0556</td><td>0.0519</td><td>0.0342</td><td>0.0205</td><td>0.0205</td><td>0.0136</td><td>0.0000</td><td>0.0034</td><td>0.0390</td><td>0.0482</td><td>0.1709</td><td>0.1081</td><td>0.1798</td><td>0.2748</td><td>0.4163</td><td>0.4918</td><td>0.5198</td><td>0.5459</td></tr>\n",
       "\t<tr><th scope=row>10</th><td>0.0629</td><td>0.0592</td><td>0.0592</td><td>0.0556</td><td>0.0378</td><td>0.0241</td><td>0.0241</td><td>0.0171</td><td>0.0034</td><td>0.0000</td><td>0.0358</td><td>0.0452</td><td>0.1685</td><td>0.1051</td><td>0.1772</td><td>0.2727</td><td>0.4149</td><td>0.4906</td><td>0.5187</td><td>0.5448</td></tr>\n",
       "\t<tr><th scope=row>11</th><td>0.0976</td><td>0.0940</td><td>0.0940</td><td>0.0903</td><td>0.0728</td><td>0.0596</td><td>0.0596</td><td>0.0526</td><td>0.0390</td><td>0.0358</td><td>0.0000</td><td>0.0093</td><td>0.1335</td><td>0.1373</td><td>0.2049</td><td>0.2948</td><td>0.4299</td><td>0.5034</td><td>0.5308</td><td>0.5566</td></tr>\n",
       "\t<tr><th scope=row>12</th><td>0.1067</td><td>0.1030</td><td>0.1030</td><td>0.0993</td><td>0.0820</td><td>0.0689</td><td>0.0689</td><td>0.0619</td><td>0.0482</td><td>0.0452</td><td>0.0093</td><td>0.0000</td><td>0.1243</td><td>0.1456</td><td>0.2121</td><td>0.3005</td><td>0.4339</td><td>0.5068</td><td>0.5339</td><td>0.5597</td></tr>\n",
       "\t<tr><th scope=row>13</th><td>0.2254</td><td>0.2219</td><td>0.2219</td><td>0.2184</td><td>0.2023</td><td>0.1909</td><td>0.1909</td><td>0.1841</td><td>0.1709</td><td>0.1685</td><td>0.1335</td><td>0.1243</td><td>0.0000</td><td>0.2169</td><td>0.2500</td><td>0.3107</td><td>0.3836</td><td>0.4380</td><td>0.4467</td><td>0.4672</td></tr>\n",
       "\t<tr><th scope=row>14</th><td>0.0737</td><td>0.0769</td><td>0.0769</td><td>0.0801</td><td>0.0897</td><td>0.0897</td><td>0.0897</td><td>0.0959</td><td>0.1081</td><td>0.1051</td><td>0.1373</td><td>0.1456</td><td>0.2169</td><td>0.0000</td><td>0.0794</td><td>0.1852</td><td>0.3413</td><td>0.4232</td><td>0.4520</td><td>0.4806</td></tr>\n",
       "\t<tr><th scope=row>15</th><td>0.1503</td><td>0.1531</td><td>0.1531</td><td>0.1558</td><td>0.1640</td><td>0.1640</td><td>0.1640</td><td>0.1693</td><td>0.1798</td><td>0.1772</td><td>0.2049</td><td>0.2121</td><td>0.2500</td><td>0.0794</td><td>0.0000</td><td>0.1183</td><td>0.2769</td><td>0.3649</td><td>0.4018</td><td>0.4319</td></tr>\n",
       "\t<tr><th scope=row>16</th><td>0.2515</td><td>0.2536</td><td>0.2536</td><td>0.2558</td><td>0.2622</td><td>0.2622</td><td>0.2622</td><td>0.2665</td><td>0.2748</td><td>0.2727</td><td>0.2948</td><td>0.3005</td><td>0.3107</td><td>0.1852</td><td>0.1183</td><td>0.0000</td><td>0.1966</td><td>0.2958</td><td>0.3430</td><td>0.3689</td></tr>\n",
       "\t<tr><th scope=row>17</th><td>0.4005</td><td>0.4020</td><td>0.4020</td><td>0.4034</td><td>0.4078</td><td>0.4078</td><td>0.4078</td><td>0.4106</td><td>0.4163</td><td>0.4149</td><td>0.4299</td><td>0.4339</td><td>0.3836</td><td>0.3413</td><td>0.2769</td><td>0.1966</td><td>0.0000</td><td>0.1156</td><td>0.1694</td><td>0.1873</td></tr>\n",
       "\t<tr><th scope=row>18</th><td>0.4783</td><td>0.4795</td><td>0.4795</td><td>0.4808</td><td>0.4845</td><td>0.4845</td><td>0.4845</td><td>0.4869</td><td>0.4918</td><td>0.4906</td><td>0.5034</td><td>0.5068</td><td>0.4380</td><td>0.4232</td><td>0.3649</td><td>0.2958</td><td>0.1156</td><td>0.0000</td><td>0.0719</td><td>0.0869</td></tr>\n",
       "\t<tr><th scope=row>19</th><td>0.5072</td><td>0.5084</td><td>0.5084</td><td>0.5095</td><td>0.5130</td><td>0.5130</td><td>0.5130</td><td>0.5153</td><td>0.5198</td><td>0.5187</td><td>0.5308</td><td>0.5339</td><td>0.4467</td><td>0.4520</td><td>0.4018</td><td>0.3430</td><td>0.1694</td><td>0.0719</td><td>0.0000</td><td>0.0275</td></tr>\n",
       "\t<tr><th scope=row>20</th><td>0.5335</td><td>0.5347</td><td>0.5347</td><td>0.5358</td><td>0.5392</td><td>0.5392</td><td>0.5392</td><td>0.5415</td><td>0.5459</td><td>0.5448</td><td>0.5566</td><td>0.5597</td><td>0.4672</td><td>0.4806</td><td>0.4319</td><td>0.3689</td><td>0.1873</td><td>0.0869</td><td>0.0275</td><td>0.0000</td></tr>\n",
       "</tbody>\n",
       "</table>\n"
      ],
      "text/latex": [
       "A matrix: 20 × 20 of type dbl\n",
       "\\begin{tabular}{r|llllllllllllllllllll}\n",
       "  & 1 & 2 & 3 & 4 & 5 & 6 & 7 & 8 & 9 & 10 & 11 & 12 & 13 & 14 & 15 & 16 & 17 & 18 & 19 & 20\\\\\n",
       "\\hline\n",
       "\t1 & 0.0000 & 0.0036 & 0.0036 & 0.0072 & 0.0249 & 0.0391 & 0.0391 & 0.0459 & 0.0592 & 0.0629 & 0.0976 & 0.1067 & 0.2254 & 0.0737 & 0.1503 & 0.2515 & 0.4005 & 0.4783 & 0.5072 & 0.5335\\\\\n",
       "\t2 & 0.0036 & 0.0000 & 0.0000 & 0.0036 & 0.0213 & 0.0355 & 0.0355 & 0.0423 & 0.0556 & 0.0592 & 0.0940 & 0.1030 & 0.2219 & 0.0769 & 0.1531 & 0.2536 & 0.4020 & 0.4795 & 0.5084 & 0.5347\\\\\n",
       "\t3 & 0.0036 & 0.0000 & 0.0000 & 0.0036 & 0.0213 & 0.0355 & 0.0355 & 0.0423 & 0.0556 & 0.0592 & 0.0940 & 0.1030 & 0.2219 & 0.0769 & 0.1531 & 0.2536 & 0.4020 & 0.4795 & 0.5084 & 0.5347\\\\\n",
       "\t4 & 0.0072 & 0.0036 & 0.0036 & 0.0000 & 0.0177 & 0.0318 & 0.0318 & 0.0386 & 0.0519 & 0.0556 & 0.0903 & 0.0993 & 0.2184 & 0.0801 & 0.1558 & 0.2558 & 0.4034 & 0.4808 & 0.5095 & 0.5358\\\\\n",
       "\t5 & 0.0249 & 0.0213 & 0.0213 & 0.0177 & 0.0000 & 0.0140 & 0.0140 & 0.0208 & 0.0342 & 0.0378 & 0.0728 & 0.0820 & 0.2023 & 0.0897 & 0.1640 & 0.2622 & 0.4078 & 0.4845 & 0.5130 & 0.5392\\\\\n",
       "\t6 & 0.0391 & 0.0355 & 0.0355 & 0.0318 & 0.0140 & 0.0000 & 0.0000 & 0.0069 & 0.0205 & 0.0241 & 0.0596 & 0.0689 & 0.1909 & 0.0897 & 0.1640 & 0.2622 & 0.4078 & 0.4845 & 0.5130 & 0.5392\\\\\n",
       "\t7 & 0.0391 & 0.0355 & 0.0355 & 0.0318 & 0.0140 & 0.0000 & 0.0000 & 0.0069 & 0.0205 & 0.0241 & 0.0596 & 0.0689 & 0.1909 & 0.0897 & 0.1640 & 0.2622 & 0.4078 & 0.4845 & 0.5130 & 0.5392\\\\\n",
       "\t8 & 0.0459 & 0.0423 & 0.0423 & 0.0386 & 0.0208 & 0.0069 & 0.0069 & 0.0000 & 0.0136 & 0.0171 & 0.0526 & 0.0619 & 0.1841 & 0.0959 & 0.1693 & 0.2665 & 0.4106 & 0.4869 & 0.5153 & 0.5415\\\\\n",
       "\t9 & 0.0592 & 0.0556 & 0.0556 & 0.0519 & 0.0342 & 0.0205 & 0.0205 & 0.0136 & 0.0000 & 0.0034 & 0.0390 & 0.0482 & 0.1709 & 0.1081 & 0.1798 & 0.2748 & 0.4163 & 0.4918 & 0.5198 & 0.5459\\\\\n",
       "\t10 & 0.0629 & 0.0592 & 0.0592 & 0.0556 & 0.0378 & 0.0241 & 0.0241 & 0.0171 & 0.0034 & 0.0000 & 0.0358 & 0.0452 & 0.1685 & 0.1051 & 0.1772 & 0.2727 & 0.4149 & 0.4906 & 0.5187 & 0.5448\\\\\n",
       "\t11 & 0.0976 & 0.0940 & 0.0940 & 0.0903 & 0.0728 & 0.0596 & 0.0596 & 0.0526 & 0.0390 & 0.0358 & 0.0000 & 0.0093 & 0.1335 & 0.1373 & 0.2049 & 0.2948 & 0.4299 & 0.5034 & 0.5308 & 0.5566\\\\\n",
       "\t12 & 0.1067 & 0.1030 & 0.1030 & 0.0993 & 0.0820 & 0.0689 & 0.0689 & 0.0619 & 0.0482 & 0.0452 & 0.0093 & 0.0000 & 0.1243 & 0.1456 & 0.2121 & 0.3005 & 0.4339 & 0.5068 & 0.5339 & 0.5597\\\\\n",
       "\t13 & 0.2254 & 0.2219 & 0.2219 & 0.2184 & 0.2023 & 0.1909 & 0.1909 & 0.1841 & 0.1709 & 0.1685 & 0.1335 & 0.1243 & 0.0000 & 0.2169 & 0.2500 & 0.3107 & 0.3836 & 0.4380 & 0.4467 & 0.4672\\\\\n",
       "\t14 & 0.0737 & 0.0769 & 0.0769 & 0.0801 & 0.0897 & 0.0897 & 0.0897 & 0.0959 & 0.1081 & 0.1051 & 0.1373 & 0.1456 & 0.2169 & 0.0000 & 0.0794 & 0.1852 & 0.3413 & 0.4232 & 0.4520 & 0.4806\\\\\n",
       "\t15 & 0.1503 & 0.1531 & 0.1531 & 0.1558 & 0.1640 & 0.1640 & 0.1640 & 0.1693 & 0.1798 & 0.1772 & 0.2049 & 0.2121 & 0.2500 & 0.0794 & 0.0000 & 0.1183 & 0.2769 & 0.3649 & 0.4018 & 0.4319\\\\\n",
       "\t16 & 0.2515 & 0.2536 & 0.2536 & 0.2558 & 0.2622 & 0.2622 & 0.2622 & 0.2665 & 0.2748 & 0.2727 & 0.2948 & 0.3005 & 0.3107 & 0.1852 & 0.1183 & 0.0000 & 0.1966 & 0.2958 & 0.3430 & 0.3689\\\\\n",
       "\t17 & 0.4005 & 0.4020 & 0.4020 & 0.4034 & 0.4078 & 0.4078 & 0.4078 & 0.4106 & 0.4163 & 0.4149 & 0.4299 & 0.4339 & 0.3836 & 0.3413 & 0.2769 & 0.1966 & 0.0000 & 0.1156 & 0.1694 & 0.1873\\\\\n",
       "\t18 & 0.4783 & 0.4795 & 0.4795 & 0.4808 & 0.4845 & 0.4845 & 0.4845 & 0.4869 & 0.4918 & 0.4906 & 0.5034 & 0.5068 & 0.4380 & 0.4232 & 0.3649 & 0.2958 & 0.1156 & 0.0000 & 0.0719 & 0.0869\\\\\n",
       "\t19 & 0.5072 & 0.5084 & 0.5084 & 0.5095 & 0.5130 & 0.5130 & 0.5130 & 0.5153 & 0.5198 & 0.5187 & 0.5308 & 0.5339 & 0.4467 & 0.4520 & 0.4018 & 0.3430 & 0.1694 & 0.0719 & 0.0000 & 0.0275\\\\\n",
       "\t20 & 0.5335 & 0.5347 & 0.5347 & 0.5358 & 0.5392 & 0.5392 & 0.5392 & 0.5415 & 0.5459 & 0.5448 & 0.5566 & 0.5597 & 0.4672 & 0.4806 & 0.4319 & 0.3689 & 0.1873 & 0.0869 & 0.0275 & 0.0000\\\\\n",
       "\\end{tabular}\n"
      ],
      "text/markdown": [
       "\n",
       "A matrix: 20 × 20 of type dbl\n",
       "\n",
       "| <!--/--> | 1 | 2 | 3 | 4 | 5 | 6 | 7 | 8 | 9 | 10 | 11 | 12 | 13 | 14 | 15 | 16 | 17 | 18 | 19 | 20 |\n",
       "|---|---|---|---|---|---|---|---|---|---|---|---|---|---|---|---|---|---|---|---|---|\n",
       "| 1 | 0.0000 | 0.0036 | 0.0036 | 0.0072 | 0.0249 | 0.0391 | 0.0391 | 0.0459 | 0.0592 | 0.0629 | 0.0976 | 0.1067 | 0.2254 | 0.0737 | 0.1503 | 0.2515 | 0.4005 | 0.4783 | 0.5072 | 0.5335 |\n",
       "| 2 | 0.0036 | 0.0000 | 0.0000 | 0.0036 | 0.0213 | 0.0355 | 0.0355 | 0.0423 | 0.0556 | 0.0592 | 0.0940 | 0.1030 | 0.2219 | 0.0769 | 0.1531 | 0.2536 | 0.4020 | 0.4795 | 0.5084 | 0.5347 |\n",
       "| 3 | 0.0036 | 0.0000 | 0.0000 | 0.0036 | 0.0213 | 0.0355 | 0.0355 | 0.0423 | 0.0556 | 0.0592 | 0.0940 | 0.1030 | 0.2219 | 0.0769 | 0.1531 | 0.2536 | 0.4020 | 0.4795 | 0.5084 | 0.5347 |\n",
       "| 4 | 0.0072 | 0.0036 | 0.0036 | 0.0000 | 0.0177 | 0.0318 | 0.0318 | 0.0386 | 0.0519 | 0.0556 | 0.0903 | 0.0993 | 0.2184 | 0.0801 | 0.1558 | 0.2558 | 0.4034 | 0.4808 | 0.5095 | 0.5358 |\n",
       "| 5 | 0.0249 | 0.0213 | 0.0213 | 0.0177 | 0.0000 | 0.0140 | 0.0140 | 0.0208 | 0.0342 | 0.0378 | 0.0728 | 0.0820 | 0.2023 | 0.0897 | 0.1640 | 0.2622 | 0.4078 | 0.4845 | 0.5130 | 0.5392 |\n",
       "| 6 | 0.0391 | 0.0355 | 0.0355 | 0.0318 | 0.0140 | 0.0000 | 0.0000 | 0.0069 | 0.0205 | 0.0241 | 0.0596 | 0.0689 | 0.1909 | 0.0897 | 0.1640 | 0.2622 | 0.4078 | 0.4845 | 0.5130 | 0.5392 |\n",
       "| 7 | 0.0391 | 0.0355 | 0.0355 | 0.0318 | 0.0140 | 0.0000 | 0.0000 | 0.0069 | 0.0205 | 0.0241 | 0.0596 | 0.0689 | 0.1909 | 0.0897 | 0.1640 | 0.2622 | 0.4078 | 0.4845 | 0.5130 | 0.5392 |\n",
       "| 8 | 0.0459 | 0.0423 | 0.0423 | 0.0386 | 0.0208 | 0.0069 | 0.0069 | 0.0000 | 0.0136 | 0.0171 | 0.0526 | 0.0619 | 0.1841 | 0.0959 | 0.1693 | 0.2665 | 0.4106 | 0.4869 | 0.5153 | 0.5415 |\n",
       "| 9 | 0.0592 | 0.0556 | 0.0556 | 0.0519 | 0.0342 | 0.0205 | 0.0205 | 0.0136 | 0.0000 | 0.0034 | 0.0390 | 0.0482 | 0.1709 | 0.1081 | 0.1798 | 0.2748 | 0.4163 | 0.4918 | 0.5198 | 0.5459 |\n",
       "| 10 | 0.0629 | 0.0592 | 0.0592 | 0.0556 | 0.0378 | 0.0241 | 0.0241 | 0.0171 | 0.0034 | 0.0000 | 0.0358 | 0.0452 | 0.1685 | 0.1051 | 0.1772 | 0.2727 | 0.4149 | 0.4906 | 0.5187 | 0.5448 |\n",
       "| 11 | 0.0976 | 0.0940 | 0.0940 | 0.0903 | 0.0728 | 0.0596 | 0.0596 | 0.0526 | 0.0390 | 0.0358 | 0.0000 | 0.0093 | 0.1335 | 0.1373 | 0.2049 | 0.2948 | 0.4299 | 0.5034 | 0.5308 | 0.5566 |\n",
       "| 12 | 0.1067 | 0.1030 | 0.1030 | 0.0993 | 0.0820 | 0.0689 | 0.0689 | 0.0619 | 0.0482 | 0.0452 | 0.0093 | 0.0000 | 0.1243 | 0.1456 | 0.2121 | 0.3005 | 0.4339 | 0.5068 | 0.5339 | 0.5597 |\n",
       "| 13 | 0.2254 | 0.2219 | 0.2219 | 0.2184 | 0.2023 | 0.1909 | 0.1909 | 0.1841 | 0.1709 | 0.1685 | 0.1335 | 0.1243 | 0.0000 | 0.2169 | 0.2500 | 0.3107 | 0.3836 | 0.4380 | 0.4467 | 0.4672 |\n",
       "| 14 | 0.0737 | 0.0769 | 0.0769 | 0.0801 | 0.0897 | 0.0897 | 0.0897 | 0.0959 | 0.1081 | 0.1051 | 0.1373 | 0.1456 | 0.2169 | 0.0000 | 0.0794 | 0.1852 | 0.3413 | 0.4232 | 0.4520 | 0.4806 |\n",
       "| 15 | 0.1503 | 0.1531 | 0.1531 | 0.1558 | 0.1640 | 0.1640 | 0.1640 | 0.1693 | 0.1798 | 0.1772 | 0.2049 | 0.2121 | 0.2500 | 0.0794 | 0.0000 | 0.1183 | 0.2769 | 0.3649 | 0.4018 | 0.4319 |\n",
       "| 16 | 0.2515 | 0.2536 | 0.2536 | 0.2558 | 0.2622 | 0.2622 | 0.2622 | 0.2665 | 0.2748 | 0.2727 | 0.2948 | 0.3005 | 0.3107 | 0.1852 | 0.1183 | 0.0000 | 0.1966 | 0.2958 | 0.3430 | 0.3689 |\n",
       "| 17 | 0.4005 | 0.4020 | 0.4020 | 0.4034 | 0.4078 | 0.4078 | 0.4078 | 0.4106 | 0.4163 | 0.4149 | 0.4299 | 0.4339 | 0.3836 | 0.3413 | 0.2769 | 0.1966 | 0.0000 | 0.1156 | 0.1694 | 0.1873 |\n",
       "| 18 | 0.4783 | 0.4795 | 0.4795 | 0.4808 | 0.4845 | 0.4845 | 0.4845 | 0.4869 | 0.4918 | 0.4906 | 0.5034 | 0.5068 | 0.4380 | 0.4232 | 0.3649 | 0.2958 | 0.1156 | 0.0000 | 0.0719 | 0.0869 |\n",
       "| 19 | 0.5072 | 0.5084 | 0.5084 | 0.5095 | 0.5130 | 0.5130 | 0.5130 | 0.5153 | 0.5198 | 0.5187 | 0.5308 | 0.5339 | 0.4467 | 0.4520 | 0.4018 | 0.3430 | 0.1694 | 0.0719 | 0.0000 | 0.0275 |\n",
       "| 20 | 0.5335 | 0.5347 | 0.5347 | 0.5358 | 0.5392 | 0.5392 | 0.5392 | 0.5415 | 0.5459 | 0.5448 | 0.5566 | 0.5597 | 0.4672 | 0.4806 | 0.4319 | 0.3689 | 0.1873 | 0.0869 | 0.0275 | 0.0000 |\n",
       "\n"
      ],
      "text/plain": [
       "   1      2      3      4      5      6      7      8      9      10     11    \n",
       "1  0.0000 0.0036 0.0036 0.0072 0.0249 0.0391 0.0391 0.0459 0.0592 0.0629 0.0976\n",
       "2  0.0036 0.0000 0.0000 0.0036 0.0213 0.0355 0.0355 0.0423 0.0556 0.0592 0.0940\n",
       "3  0.0036 0.0000 0.0000 0.0036 0.0213 0.0355 0.0355 0.0423 0.0556 0.0592 0.0940\n",
       "4  0.0072 0.0036 0.0036 0.0000 0.0177 0.0318 0.0318 0.0386 0.0519 0.0556 0.0903\n",
       "5  0.0249 0.0213 0.0213 0.0177 0.0000 0.0140 0.0140 0.0208 0.0342 0.0378 0.0728\n",
       "6  0.0391 0.0355 0.0355 0.0318 0.0140 0.0000 0.0000 0.0069 0.0205 0.0241 0.0596\n",
       "7  0.0391 0.0355 0.0355 0.0318 0.0140 0.0000 0.0000 0.0069 0.0205 0.0241 0.0596\n",
       "8  0.0459 0.0423 0.0423 0.0386 0.0208 0.0069 0.0069 0.0000 0.0136 0.0171 0.0526\n",
       "9  0.0592 0.0556 0.0556 0.0519 0.0342 0.0205 0.0205 0.0136 0.0000 0.0034 0.0390\n",
       "10 0.0629 0.0592 0.0592 0.0556 0.0378 0.0241 0.0241 0.0171 0.0034 0.0000 0.0358\n",
       "11 0.0976 0.0940 0.0940 0.0903 0.0728 0.0596 0.0596 0.0526 0.0390 0.0358 0.0000\n",
       "12 0.1067 0.1030 0.1030 0.0993 0.0820 0.0689 0.0689 0.0619 0.0482 0.0452 0.0093\n",
       "13 0.2254 0.2219 0.2219 0.2184 0.2023 0.1909 0.1909 0.1841 0.1709 0.1685 0.1335\n",
       "14 0.0737 0.0769 0.0769 0.0801 0.0897 0.0897 0.0897 0.0959 0.1081 0.1051 0.1373\n",
       "15 0.1503 0.1531 0.1531 0.1558 0.1640 0.1640 0.1640 0.1693 0.1798 0.1772 0.2049\n",
       "16 0.2515 0.2536 0.2536 0.2558 0.2622 0.2622 0.2622 0.2665 0.2748 0.2727 0.2948\n",
       "17 0.4005 0.4020 0.4020 0.4034 0.4078 0.4078 0.4078 0.4106 0.4163 0.4149 0.4299\n",
       "18 0.4783 0.4795 0.4795 0.4808 0.4845 0.4845 0.4845 0.4869 0.4918 0.4906 0.5034\n",
       "19 0.5072 0.5084 0.5084 0.5095 0.5130 0.5130 0.5130 0.5153 0.5198 0.5187 0.5308\n",
       "20 0.5335 0.5347 0.5347 0.5358 0.5392 0.5392 0.5392 0.5415 0.5459 0.5448 0.5566\n",
       "   12     13     14     15     16     17     18     19     20    \n",
       "1  0.1067 0.2254 0.0737 0.1503 0.2515 0.4005 0.4783 0.5072 0.5335\n",
       "2  0.1030 0.2219 0.0769 0.1531 0.2536 0.4020 0.4795 0.5084 0.5347\n",
       "3  0.1030 0.2219 0.0769 0.1531 0.2536 0.4020 0.4795 0.5084 0.5347\n",
       "4  0.0993 0.2184 0.0801 0.1558 0.2558 0.4034 0.4808 0.5095 0.5358\n",
       "5  0.0820 0.2023 0.0897 0.1640 0.2622 0.4078 0.4845 0.5130 0.5392\n",
       "6  0.0689 0.1909 0.0897 0.1640 0.2622 0.4078 0.4845 0.5130 0.5392\n",
       "7  0.0689 0.1909 0.0897 0.1640 0.2622 0.4078 0.4845 0.5130 0.5392\n",
       "8  0.0619 0.1841 0.0959 0.1693 0.2665 0.4106 0.4869 0.5153 0.5415\n",
       "9  0.0482 0.1709 0.1081 0.1798 0.2748 0.4163 0.4918 0.5198 0.5459\n",
       "10 0.0452 0.1685 0.1051 0.1772 0.2727 0.4149 0.4906 0.5187 0.5448\n",
       "11 0.0093 0.1335 0.1373 0.2049 0.2948 0.4299 0.5034 0.5308 0.5566\n",
       "12 0.0000 0.1243 0.1456 0.2121 0.3005 0.4339 0.5068 0.5339 0.5597\n",
       "13 0.1243 0.0000 0.2169 0.2500 0.3107 0.3836 0.4380 0.4467 0.4672\n",
       "14 0.1456 0.2169 0.0000 0.0794 0.1852 0.3413 0.4232 0.4520 0.4806\n",
       "15 0.2121 0.2500 0.0794 0.0000 0.1183 0.2769 0.3649 0.4018 0.4319\n",
       "16 0.3005 0.3107 0.1852 0.1183 0.0000 0.1966 0.2958 0.3430 0.3689\n",
       "17 0.4339 0.3836 0.3413 0.2769 0.1966 0.0000 0.1156 0.1694 0.1873\n",
       "18 0.5068 0.4380 0.4232 0.3649 0.2958 0.1156 0.0000 0.0719 0.0869\n",
       "19 0.5339 0.4467 0.4520 0.4018 0.3430 0.1694 0.0719 0.0000 0.0275\n",
       "20 0.5597 0.4672 0.4806 0.4319 0.3689 0.1873 0.0869 0.0275 0.0000"
      ]
     },
     "metadata": {},
     "output_type": "display_data"
    }
   ],
   "source": [
    "sor <- vegdist(spp, binary = TRUE) # binary = TRUE sets to presence/absence data\n",
    "sor_df <- round(as.matrix(sor), 4)\n",
    "sor_df[1:20, 1:20] # the first 20 rows and columns"
   ]
  },
  {
   "cell_type": "markdown",
   "id": "fbf1a037-2d19-431b-98a9-a6afb960180a",
   "metadata": {},
   "source": [
    "What we see above is a square dissimilarity matrix. The two most important characteristics of the matrix are:\n",
    "\n",
    "i. Whereas the raw species data ($Y$) is rectangular (number rows ≠ number columns), the dissimilarity matrix is square (number rows = number columns).\n",
    "\n",
    "ii. The diagonal is filled with 0.\n",
    "\n",
    "iii. The matrix is symetrical---it is comprised of symetrical upper and lower triangles.\n",
    "\n",
    "**Questions**\n",
    "\n",
    "1. Why is the matrix square, and what determines the number of rows/columns?\n",
    "\n",
    "1. What is the meaning of the diagonal?\n",
    "\n",
    "2. What is the meaning of the non-diagonal elements?\n",
    "\n",
    "3. Take the data in row 1 and create a line graph that shows these values as a function of section number.\n",
    "\n",
    "4. Provide a mechanistic (ecological) explanation for why this figure takes the shape that it does.\n",
    "\n",
    "Submit an R script wherein you provide answers to these questions by no later than 17:00 on Wednesday 30 June 2021."
   ]
  },
  {
   "cell_type": "markdown",
   "id": "a219b6b9-dab6-48bb-b4a9-54677be2fe57",
   "metadata": {
    "tags": []
   },
   "source": [
    "## Gamma diversity\n",
    "\n",
    "Returning again to the seaweed data, $Y$, lets now look at λ-diversity---this would simply be the total number of species along the South African coastline in all 58 coastal sections. Since each column represents one species, and the dataset contains data collected at each of the 58 sites (the number of rows), we can simply do:"
   ]
  },
  {
   "cell_type": "code",
   "execution_count": 11,
   "id": "4110ea3b-3bdf-4079-bf0b-6b022cd0c8bc",
   "metadata": {
    "tags": []
   },
   "outputs": [
    {
     "data": {
      "text/html": [
       "847"
      ],
      "text/latex": [
       "847"
      ],
      "text/markdown": [
       "847"
      ],
      "text/plain": [
       "[1] 847"
      ]
     },
     "metadata": {},
     "output_type": "display_data"
    }
   ],
   "source": [
    "# the number of columns gives the total number of species in this example:\n",
    "ncol(spp)"
   ]
  },
  {
   "cell_type": "markdown",
   "id": "68b12768-67c4-423f-91fe-f8808ba355b3",
   "metadata": {},
   "source": [
    "We can also use:"
   ]
  },
  {
   "cell_type": "code",
   "execution_count": 12,
   "id": "747b7a06-a6d7-4886-8e13-c2b8e82ac5ec",
   "metadata": {},
   "outputs": [
    {
     "data": {
      "text/html": [
       "<table class=\"dataframe\">\n",
       "<caption>A data.frame: 1 × 1</caption>\n",
       "<thead>\n",
       "\t<tr><th></th><th scope=col>richness</th></tr>\n",
       "\t<tr><th></th><th scope=col>&lt;dbl&gt;</th></tr>\n",
       "</thead>\n",
       "<tbody>\n",
       "\t<tr><th scope=row>pooled</th><td>846</td></tr>\n",
       "</tbody>\n",
       "</table>\n"
      ],
      "text/latex": [
       "A data.frame: 1 × 1\n",
       "\\begin{tabular}{r|l}\n",
       "  & richness\\\\\n",
       "  & <dbl>\\\\\n",
       "\\hline\n",
       "\tpooled & 846\\\\\n",
       "\\end{tabular}\n"
      ],
      "text/markdown": [
       "\n",
       "A data.frame: 1 × 1\n",
       "\n",
       "| <!--/--> | richness &lt;dbl&gt; |\n",
       "|---|---|\n",
       "| pooled | 846 |\n",
       "\n"
      ],
      "text/plain": [
       "       richness\n",
       "pooled 846     "
      ]
     },
     "metadata": {},
     "output_type": "display_data"
    }
   ],
   "source": [
    "diversityresult(spp, index = 'richness', method = 'pooled')"
   ]
  },
  {
   "cell_type": "markdown",
   "id": "c5022a66-fee7-469d-8cb6-76f7bc265f38",
   "metadata": {},
   "source": [
    "**Questions**\n",
    "\n",
    "1. Why is there a difference between the two? \n",
    "\n",
    "2. Which is correct?"
   ]
  },
  {
   "cell_type": "markdown",
   "id": "b6f02c73-1997-4ea0-879d-c5a5294cd00b",
   "metadata": {},
   "source": [
    "Think before you calculate γ-diversity for your own data as it might not be as simple as here!\n",
    " \n",
    "## Whittaker's concept of β-diversity\n",
    "\n",
    "The first measure of β-diversity comes from Whittaker (1960) and is called *true β-diversity*. This is simply dividing the γ-diversity for the region by the α-diversity for a specific coastal section. We can calculate it all at once for the whole dataset and make a graph:"
   ]
  },
  {
   "cell_type": "code",
   "execution_count": 13,
   "id": "8a62bc80-5604-4f61-9d17-bae568cb635a",
   "metadata": {
    "tags": []
   },
   "outputs": [
    {
     "data": {
      "image/png": "[encoded data removed]",
      "text/plain": [
       "plot without title"
      ]
     },
     "metadata": {
      "image/png": {
       "height": 420,
       "width": 420
      }
     },
     "output_type": "display_data"
    }
   ],
   "source": [
    "true_beta <- data.frame(\n",
    "  beta = specnumber(spp, MARGIN = 1) / ncol(spp),\n",
    "  section_no = c(1:58)\n",
    ")\n",
    "# true_beta\n",
    "ggplot(data = true_beta, (aes(x = section_no, y = beta))) +\n",
    "  geom_line() + xlab(\"Coastal section, west to east\") + ylab(\"True beta-diversity\")"
   ]
  },
  {
   "cell_type": "markdown",
   "id": "8866048b-5841-4886-b221-d5b7859fef88",
   "metadata": {},
   "source": [
    "The second measure of β-diversity is *absolute species turnover*, and to calculate this we simply simply substract α-diversity for each section from the region's γ-diversity:"
   ]
  },
  {
   "cell_type": "code",
   "execution_count": 14,
   "id": "563f11d6-cf37-40cc-b208-94943e1862fe",
   "metadata": {
    "tags": []
   },
   "outputs": [
    {
     "data": {
      "image/png": "[encoded data removed]",
      "text/plain": [
       "plot without title"
      ]
     },
     "metadata": {
      "image/png": {
       "height": 420,
       "width": 420
      }
     },
     "output_type": "display_data"
    }
   ],
   "source": [
    "abs_beta <- data.frame(\n",
    "  beta = ncol(spp) - specnumber(spp, MARGIN = 1),\n",
    "  section_no = c(1:58)\n",
    ")\n",
    "# abs_beta\n",
    "ggplot(data = abs_beta, (aes(x = section_no, y = beta))) +\n",
    "  geom_line() + xlab(\"Coastal section, west to east\") + ylab(\"Absolute beta-diversity\")"
   ]
  },
  {
   "cell_type": "markdown",
   "id": "f560bb10-b650-4e5d-af63-bc38f6c78ac6",
   "metadata": {},
   "source": [
    "## Contemporary definitions β-diversity\n",
    "\n",
    "β-diversity is a concept that describes how species assemblages (communities) measured within the ecosystem of interest vary from place to place, e.g. between the various transects or quadrats used to sample the ecosystem. β-diversity results from habitat heterogeneity (along gradients, or randomly). We have already seen two concepts of β-diversity, viz. true β-diversity and absolute species turnover---both of these rely on knowledge of species richness at local (a measure of α-diversity) and regional (γ-diversity) scales. Much more insight into species assembly processes can be extracted, however, when we view β-diversity as a dissmilarity index. In this view, we will see that there are two processes by which β-diversity might be affected (i.e. in which the patterning of communities over landscapes might arise):\n",
    "\n",
    "**Process 1:** If a region is comprised of the species A, B, C, …, M (i.e. γ-diversity is 13), a subset of the regional flora as captured by one quadrat might be species **A**, **D**, E, whereas in another quadrat it might be species **A**, **D**, F. In this instance, the α-diversity is 3 in both instances, and heterogeneity (and hence β-diversity) results from the fact that the first quadrat has species E but the other has species F. In other words, here we have the same number of species in both quadrats, but only two of the species are the same. The process responsible for this form of β-diversity is species ‘turnover’ ($\\beta_\\text{sim}$). Turnover refers to processes that cause communities to differ due to species being lost and/or gained from section to section, i.e. the species composition changes between sections without corresponding changes in α-diversity.\n",
    "\n",
    "**Process 2:** Consider again species A, B, C, …, M. Now we have the first quadrat with species **A**, **B**, C, D, **G**, H (α-diversity is 6) and the second quadrat has a subset of this, e.g. only species **A**, **B**, **G** (α-diversity 3). Here, β-diversity comes from the fact that even if the two places share the same species, the number of species can still differ amongst the quadrats (i.e. from place to place) due to one quadrat capturing only a subset of species present in the other. This form of β-diversity is called ‘nestedness-resultant’ β-diversity ($\\beta_\\text{sne}$), and it refers to  processes that cause species to be gained or lost, and the community with the lowest α-diversity is a subset of the richer community.\n",
    "\n",
    "The above two examples show that β-diversity is coupled not only with the identity of the species in the quadrats, but also α-diversity---with species richness in particular.\n",
    "\n",
    "We express β-diversity as ‘nestedness-resultant’ ($\\beta_\\text{sne}$) and ‘turnover’ ($\\beta_\\text{sim}$) components so as to be able to distinguish between these two processes. It allows us to make inferences about the two possible drivers of β-diversity. Turnover refers to processes that cause communities to differ due to species being lost and/or gained from section to section, i.e. the species composition changes between sections without corresponding changes in α-diversity. The nestedness-resultant component implies processes that cause species to be gained or lost without replacement, and the community with the lowest α-diversity is a subset of the richer community.\n",
    "\n",
    "How do we calculate the turnover and nestedness-resultant components of β-diversity? The **betapart** package (Baselga et al. 2017) comes to the rescue. We decompose the dissimilarity into the $\\beta_\\text{sim}$ and $\\beta_\\text{sne}$ components (Baselga 2010) using the `betapart.core()` and `betapart.pair()` functions. The outcomes of this partitioning calculation are placed into the matrices $Y1$ and $Y2$. These data can then be analysed further---e.g. we can apply a principal components analysis (PCA) or another multivariate analysis on $Y$ to find the major patterns in the community data---we will do this in a later section.\n",
    "\n",
    "What can we do with these two forms of β-diversity? What do they mean? Let's do a deeper analysis and create a figure to demonstrate these findings. I regress $\\beta_{\\text{sør}}$ on the spatial distance between section pairs (see below) and on the environmental distance ($\\beta_{\\text{E}}$) in each bioregion and used the magnitude of the slope (per 100 km) of this relationship as a metric of β-diversity or ‘distance decay’ of dissimilarity. Since the connectivity between sections is constrained by their location along a shoreline, we calculated the distances between sections not as ‘as the crow flies’ distances (e.g. Section 1 is not connected in a straight line to Section 58 because of the intervening land in-between), but as the great circle geodesic distances between each pair of sections along a ‘route’. Traveling from **1** to **58** therefore requires visiting **2**, then **3**, and eventually all the way up to **58**. The total distance between a pair of arbitrary sections is thus the cumulative sum of the great circle distances between each consecutive pair of intervening sections along the route."
   ]
  },
  {
   "cell_type": "code",
   "execution_count": 15,
   "id": "14f3b86c-b8ce-457a-b923-07f31beb6965",
   "metadata": {},
   "outputs": [],
   "source": [
    "# Decompose total Sørensen dissimilarity into turnover and nestedness-resultant components:\n",
    "Y.core <- betapart.core(spp)\n",
    "Y.pair <- beta.pair(Y.core, index.family = \"sor\")\n",
    "\n",
    "# Let Y1 be the turnover component (beta-sim):\n",
    "Y1 <- as.matrix(Y.pair$beta.sim)\n",
    "\n",
    "# Let Y2 be the nestedness-resultant component (beta-sne):\n",
    "Y2 <- as.matrix(Y.pair$beta.sne)"
   ]
  },
  {
   "cell_type": "code",
   "execution_count": 16,
   "id": "fc4a96ed-3c80-4d27-902a-8d6380cebb4a",
   "metadata": {},
   "outputs": [
    {
     "data": {
      "text/html": [
       "<table class=\"dataframe\">\n",
       "<caption>A matrix: 10 × 20 of type dbl</caption>\n",
       "<thead>\n",
       "\t<tr><th></th><th scope=col>1</th><th scope=col>2</th><th scope=col>3</th><th scope=col>4</th><th scope=col>5</th><th scope=col>6</th><th scope=col>7</th><th scope=col>8</th><th scope=col>9</th><th scope=col>10</th><th scope=col>11</th><th scope=col>12</th><th scope=col>13</th><th scope=col>14</th><th scope=col>15</th><th scope=col>16</th><th scope=col>17</th><th scope=col>18</th><th scope=col>19</th><th scope=col>20</th></tr>\n",
       "</thead>\n",
       "<tbody>\n",
       "\t<tr><th scope=row>1</th><td>0.0000</td><td>0.0000</td><td>0.0000</td><td>0.0000</td><td>0.0072</td><td>0.0217</td><td>0.0217</td><td>0.0217</td><td>0.0217</td><td>0.0290</td><td>0.0290</td><td>0.0290</td><td>0.0290</td><td>0.0435</td><td>0.0580</td><td>0.0725</td><td>0.1159</td><td>0.2174</td><td>0.2536</td><td>0.3188</td></tr>\n",
       "\t<tr><th scope=row>2</th><td>0.0000</td><td>0.0000</td><td>0.0000</td><td>0.0000</td><td>0.0072</td><td>0.0216</td><td>0.0216</td><td>0.0216</td><td>0.0216</td><td>0.0288</td><td>0.0288</td><td>0.0288</td><td>0.0288</td><td>0.0504</td><td>0.0647</td><td>0.0791</td><td>0.1223</td><td>0.2230</td><td>0.2590</td><td>0.3237</td></tr>\n",
       "\t<tr><th scope=row>3</th><td>0.0000</td><td>0.0000</td><td>0.0000</td><td>0.0000</td><td>0.0072</td><td>0.0216</td><td>0.0216</td><td>0.0216</td><td>0.0216</td><td>0.0288</td><td>0.0288</td><td>0.0288</td><td>0.0288</td><td>0.0504</td><td>0.0647</td><td>0.0791</td><td>0.1223</td><td>0.2230</td><td>0.2590</td><td>0.3237</td></tr>\n",
       "\t<tr><th scope=row>4</th><td>0.0000</td><td>0.0000</td><td>0.0000</td><td>0.0000</td><td>0.0071</td><td>0.0214</td><td>0.0214</td><td>0.0214</td><td>0.0214</td><td>0.0286</td><td>0.0286</td><td>0.0286</td><td>0.0286</td><td>0.0571</td><td>0.0714</td><td>0.0857</td><td>0.1286</td><td>0.2286</td><td>0.2643</td><td>0.3286</td></tr>\n",
       "\t<tr><th scope=row>5</th><td>0.0072</td><td>0.0072</td><td>0.0072</td><td>0.0071</td><td>0.0000</td><td>0.0140</td><td>0.0140</td><td>0.0140</td><td>0.0140</td><td>0.0210</td><td>0.0210</td><td>0.0210</td><td>0.0210</td><td>0.0769</td><td>0.0909</td><td>0.1049</td><td>0.1469</td><td>0.2448</td><td>0.2797</td><td>0.3427</td></tr>\n",
       "\t<tr><th scope=row>6</th><td>0.0217</td><td>0.0216</td><td>0.0216</td><td>0.0214</td><td>0.0140</td><td>0.0000</td><td>0.0000</td><td>0.0000</td><td>0.0000</td><td>0.0070</td><td>0.0070</td><td>0.0070</td><td>0.0070</td><td>0.0769</td><td>0.0909</td><td>0.1049</td><td>0.1469</td><td>0.2448</td><td>0.2797</td><td>0.3427</td></tr>\n",
       "\t<tr><th scope=row>7</th><td>0.0217</td><td>0.0216</td><td>0.0216</td><td>0.0214</td><td>0.0140</td><td>0.0000</td><td>0.0000</td><td>0.0000</td><td>0.0000</td><td>0.0070</td><td>0.0070</td><td>0.0070</td><td>0.0070</td><td>0.0769</td><td>0.0909</td><td>0.1049</td><td>0.1469</td><td>0.2448</td><td>0.2797</td><td>0.3427</td></tr>\n",
       "\t<tr><th scope=row>8</th><td>0.0217</td><td>0.0216</td><td>0.0216</td><td>0.0214</td><td>0.0140</td><td>0.0000</td><td>0.0000</td><td>0.0000</td><td>0.0000</td><td>0.0069</td><td>0.0069</td><td>0.0069</td><td>0.0069</td><td>0.0897</td><td>0.1034</td><td>0.1172</td><td>0.1586</td><td>0.2552</td><td>0.2897</td><td>0.3517</td></tr>\n",
       "\t<tr><th scope=row>9</th><td>0.0217</td><td>0.0216</td><td>0.0216</td><td>0.0214</td><td>0.0140</td><td>0.0000</td><td>0.0000</td><td>0.0000</td><td>0.0000</td><td>0.0000</td><td>0.0067</td><td>0.0067</td><td>0.0067</td><td>0.1020</td><td>0.1275</td><td>0.1409</td><td>0.1812</td><td>0.2752</td><td>0.3087</td><td>0.3691</td></tr>\n",
       "\t<tr><th scope=row>10</th><td>0.0290</td><td>0.0288</td><td>0.0288</td><td>0.0286</td><td>0.0210</td><td>0.0070</td><td>0.0070</td><td>0.0069</td><td>0.0000</td><td>0.0000</td><td>0.0000</td><td>0.0000</td><td>0.0000</td><td>0.1020</td><td>0.1216</td><td>0.1351</td><td>0.1757</td><td>0.2703</td><td>0.3041</td><td>0.3649</td></tr>\n",
       "</tbody>\n",
       "</table>\n"
      ],
      "text/latex": [
       "A matrix: 10 × 20 of type dbl\n",
       "\\begin{tabular}{r|llllllllllllllllllll}\n",
       "  & 1 & 2 & 3 & 4 & 5 & 6 & 7 & 8 & 9 & 10 & 11 & 12 & 13 & 14 & 15 & 16 & 17 & 18 & 19 & 20\\\\\n",
       "\\hline\n",
       "\t1 & 0.0000 & 0.0000 & 0.0000 & 0.0000 & 0.0072 & 0.0217 & 0.0217 & 0.0217 & 0.0217 & 0.0290 & 0.0290 & 0.0290 & 0.0290 & 0.0435 & 0.0580 & 0.0725 & 0.1159 & 0.2174 & 0.2536 & 0.3188\\\\\n",
       "\t2 & 0.0000 & 0.0000 & 0.0000 & 0.0000 & 0.0072 & 0.0216 & 0.0216 & 0.0216 & 0.0216 & 0.0288 & 0.0288 & 0.0288 & 0.0288 & 0.0504 & 0.0647 & 0.0791 & 0.1223 & 0.2230 & 0.2590 & 0.3237\\\\\n",
       "\t3 & 0.0000 & 0.0000 & 0.0000 & 0.0000 & 0.0072 & 0.0216 & 0.0216 & 0.0216 & 0.0216 & 0.0288 & 0.0288 & 0.0288 & 0.0288 & 0.0504 & 0.0647 & 0.0791 & 0.1223 & 0.2230 & 0.2590 & 0.3237\\\\\n",
       "\t4 & 0.0000 & 0.0000 & 0.0000 & 0.0000 & 0.0071 & 0.0214 & 0.0214 & 0.0214 & 0.0214 & 0.0286 & 0.0286 & 0.0286 & 0.0286 & 0.0571 & 0.0714 & 0.0857 & 0.1286 & 0.2286 & 0.2643 & 0.3286\\\\\n",
       "\t5 & 0.0072 & 0.0072 & 0.0072 & 0.0071 & 0.0000 & 0.0140 & 0.0140 & 0.0140 & 0.0140 & 0.0210 & 0.0210 & 0.0210 & 0.0210 & 0.0769 & 0.0909 & 0.1049 & 0.1469 & 0.2448 & 0.2797 & 0.3427\\\\\n",
       "\t6 & 0.0217 & 0.0216 & 0.0216 & 0.0214 & 0.0140 & 0.0000 & 0.0000 & 0.0000 & 0.0000 & 0.0070 & 0.0070 & 0.0070 & 0.0070 & 0.0769 & 0.0909 & 0.1049 & 0.1469 & 0.2448 & 0.2797 & 0.3427\\\\\n",
       "\t7 & 0.0217 & 0.0216 & 0.0216 & 0.0214 & 0.0140 & 0.0000 & 0.0000 & 0.0000 & 0.0000 & 0.0070 & 0.0070 & 0.0070 & 0.0070 & 0.0769 & 0.0909 & 0.1049 & 0.1469 & 0.2448 & 0.2797 & 0.3427\\\\\n",
       "\t8 & 0.0217 & 0.0216 & 0.0216 & 0.0214 & 0.0140 & 0.0000 & 0.0000 & 0.0000 & 0.0000 & 0.0069 & 0.0069 & 0.0069 & 0.0069 & 0.0897 & 0.1034 & 0.1172 & 0.1586 & 0.2552 & 0.2897 & 0.3517\\\\\n",
       "\t9 & 0.0217 & 0.0216 & 0.0216 & 0.0214 & 0.0140 & 0.0000 & 0.0000 & 0.0000 & 0.0000 & 0.0000 & 0.0067 & 0.0067 & 0.0067 & 0.1020 & 0.1275 & 0.1409 & 0.1812 & 0.2752 & 0.3087 & 0.3691\\\\\n",
       "\t10 & 0.0290 & 0.0288 & 0.0288 & 0.0286 & 0.0210 & 0.0070 & 0.0070 & 0.0069 & 0.0000 & 0.0000 & 0.0000 & 0.0000 & 0.0000 & 0.1020 & 0.1216 & 0.1351 & 0.1757 & 0.2703 & 0.3041 & 0.3649\\\\\n",
       "\\end{tabular}\n"
      ],
      "text/markdown": [
       "\n",
       "A matrix: 10 × 20 of type dbl\n",
       "\n",
       "| <!--/--> | 1 | 2 | 3 | 4 | 5 | 6 | 7 | 8 | 9 | 10 | 11 | 12 | 13 | 14 | 15 | 16 | 17 | 18 | 19 | 20 |\n",
       "|---|---|---|---|---|---|---|---|---|---|---|---|---|---|---|---|---|---|---|---|---|\n",
       "| 1 | 0.0000 | 0.0000 | 0.0000 | 0.0000 | 0.0072 | 0.0217 | 0.0217 | 0.0217 | 0.0217 | 0.0290 | 0.0290 | 0.0290 | 0.0290 | 0.0435 | 0.0580 | 0.0725 | 0.1159 | 0.2174 | 0.2536 | 0.3188 |\n",
       "| 2 | 0.0000 | 0.0000 | 0.0000 | 0.0000 | 0.0072 | 0.0216 | 0.0216 | 0.0216 | 0.0216 | 0.0288 | 0.0288 | 0.0288 | 0.0288 | 0.0504 | 0.0647 | 0.0791 | 0.1223 | 0.2230 | 0.2590 | 0.3237 |\n",
       "| 3 | 0.0000 | 0.0000 | 0.0000 | 0.0000 | 0.0072 | 0.0216 | 0.0216 | 0.0216 | 0.0216 | 0.0288 | 0.0288 | 0.0288 | 0.0288 | 0.0504 | 0.0647 | 0.0791 | 0.1223 | 0.2230 | 0.2590 | 0.3237 |\n",
       "| 4 | 0.0000 | 0.0000 | 0.0000 | 0.0000 | 0.0071 | 0.0214 | 0.0214 | 0.0214 | 0.0214 | 0.0286 | 0.0286 | 0.0286 | 0.0286 | 0.0571 | 0.0714 | 0.0857 | 0.1286 | 0.2286 | 0.2643 | 0.3286 |\n",
       "| 5 | 0.0072 | 0.0072 | 0.0072 | 0.0071 | 0.0000 | 0.0140 | 0.0140 | 0.0140 | 0.0140 | 0.0210 | 0.0210 | 0.0210 | 0.0210 | 0.0769 | 0.0909 | 0.1049 | 0.1469 | 0.2448 | 0.2797 | 0.3427 |\n",
       "| 6 | 0.0217 | 0.0216 | 0.0216 | 0.0214 | 0.0140 | 0.0000 | 0.0000 | 0.0000 | 0.0000 | 0.0070 | 0.0070 | 0.0070 | 0.0070 | 0.0769 | 0.0909 | 0.1049 | 0.1469 | 0.2448 | 0.2797 | 0.3427 |\n",
       "| 7 | 0.0217 | 0.0216 | 0.0216 | 0.0214 | 0.0140 | 0.0000 | 0.0000 | 0.0000 | 0.0000 | 0.0070 | 0.0070 | 0.0070 | 0.0070 | 0.0769 | 0.0909 | 0.1049 | 0.1469 | 0.2448 | 0.2797 | 0.3427 |\n",
       "| 8 | 0.0217 | 0.0216 | 0.0216 | 0.0214 | 0.0140 | 0.0000 | 0.0000 | 0.0000 | 0.0000 | 0.0069 | 0.0069 | 0.0069 | 0.0069 | 0.0897 | 0.1034 | 0.1172 | 0.1586 | 0.2552 | 0.2897 | 0.3517 |\n",
       "| 9 | 0.0217 | 0.0216 | 0.0216 | 0.0214 | 0.0140 | 0.0000 | 0.0000 | 0.0000 | 0.0000 | 0.0000 | 0.0067 | 0.0067 | 0.0067 | 0.1020 | 0.1275 | 0.1409 | 0.1812 | 0.2752 | 0.3087 | 0.3691 |\n",
       "| 10 | 0.0290 | 0.0288 | 0.0288 | 0.0286 | 0.0210 | 0.0070 | 0.0070 | 0.0069 | 0.0000 | 0.0000 | 0.0000 | 0.0000 | 0.0000 | 0.1020 | 0.1216 | 0.1351 | 0.1757 | 0.2703 | 0.3041 | 0.3649 |\n",
       "\n"
      ],
      "text/plain": [
       "   1      2      3      4      5      6      7      8      9      10     11    \n",
       "1  0.0000 0.0000 0.0000 0.0000 0.0072 0.0217 0.0217 0.0217 0.0217 0.0290 0.0290\n",
       "2  0.0000 0.0000 0.0000 0.0000 0.0072 0.0216 0.0216 0.0216 0.0216 0.0288 0.0288\n",
       "3  0.0000 0.0000 0.0000 0.0000 0.0072 0.0216 0.0216 0.0216 0.0216 0.0288 0.0288\n",
       "4  0.0000 0.0000 0.0000 0.0000 0.0071 0.0214 0.0214 0.0214 0.0214 0.0286 0.0286\n",
       "5  0.0072 0.0072 0.0072 0.0071 0.0000 0.0140 0.0140 0.0140 0.0140 0.0210 0.0210\n",
       "6  0.0217 0.0216 0.0216 0.0214 0.0140 0.0000 0.0000 0.0000 0.0000 0.0070 0.0070\n",
       "7  0.0217 0.0216 0.0216 0.0214 0.0140 0.0000 0.0000 0.0000 0.0000 0.0070 0.0070\n",
       "8  0.0217 0.0216 0.0216 0.0214 0.0140 0.0000 0.0000 0.0000 0.0000 0.0069 0.0069\n",
       "9  0.0217 0.0216 0.0216 0.0214 0.0140 0.0000 0.0000 0.0000 0.0000 0.0000 0.0067\n",
       "10 0.0290 0.0288 0.0288 0.0286 0.0210 0.0070 0.0070 0.0069 0.0000 0.0000 0.0000\n",
       "   12     13     14     15     16     17     18     19     20    \n",
       "1  0.0290 0.0290 0.0435 0.0580 0.0725 0.1159 0.2174 0.2536 0.3188\n",
       "2  0.0288 0.0288 0.0504 0.0647 0.0791 0.1223 0.2230 0.2590 0.3237\n",
       "3  0.0288 0.0288 0.0504 0.0647 0.0791 0.1223 0.2230 0.2590 0.3237\n",
       "4  0.0286 0.0286 0.0571 0.0714 0.0857 0.1286 0.2286 0.2643 0.3286\n",
       "5  0.0210 0.0210 0.0769 0.0909 0.1049 0.1469 0.2448 0.2797 0.3427\n",
       "6  0.0070 0.0070 0.0769 0.0909 0.1049 0.1469 0.2448 0.2797 0.3427\n",
       "7  0.0070 0.0070 0.0769 0.0909 0.1049 0.1469 0.2448 0.2797 0.3427\n",
       "8  0.0069 0.0069 0.0897 0.1034 0.1172 0.1586 0.2552 0.2897 0.3517\n",
       "9  0.0067 0.0067 0.1020 0.1275 0.1409 0.1812 0.2752 0.3087 0.3691\n",
       "10 0.0000 0.0000 0.1020 0.1216 0.1351 0.1757 0.2703 0.3041 0.3649"
      ]
     },
     "metadata": {},
     "output_type": "display_data"
    }
   ],
   "source": [
    "round(Y1[1:10, 1:20], 4)"
   ]
  },
  {
   "cell_type": "code",
   "execution_count": 17,
   "id": "b59951c1-c751-4cb2-8a39-a484c766759f",
   "metadata": {},
   "outputs": [
    {
     "data": {
      "text/html": [
       "<table class=\"dataframe\">\n",
       "<caption>A matrix: 10 × 20 of type dbl</caption>\n",
       "<thead>\n",
       "\t<tr><th></th><th scope=col>1</th><th scope=col>2</th><th scope=col>3</th><th scope=col>4</th><th scope=col>5</th><th scope=col>6</th><th scope=col>7</th><th scope=col>8</th><th scope=col>9</th><th scope=col>10</th><th scope=col>11</th><th scope=col>12</th><th scope=col>13</th><th scope=col>14</th><th scope=col>15</th><th scope=col>16</th><th scope=col>17</th><th scope=col>18</th><th scope=col>19</th><th scope=col>20</th></tr>\n",
       "</thead>\n",
       "<tbody>\n",
       "\t<tr><th scope=row>1</th><td>0.0000</td><td>0.0036</td><td>0.0036</td><td>0.0072</td><td>0.0177</td><td>0.0174</td><td>0.0174</td><td>0.0242</td><td>0.0375</td><td>0.0340</td><td>0.0687</td><td>0.0777</td><td>0.1964</td><td>0.0302</td><td>0.0924</td><td>0.1790</td><td>0.2845</td><td>0.2609</td><td>0.2536</td><td>0.2147</td></tr>\n",
       "\t<tr><th scope=row>2</th><td>0.0036</td><td>0.0000</td><td>0.0000</td><td>0.0036</td><td>0.0141</td><td>0.0139</td><td>0.0139</td><td>0.0207</td><td>0.0340</td><td>0.0305</td><td>0.0652</td><td>0.0742</td><td>0.1931</td><td>0.0266</td><td>0.0883</td><td>0.1745</td><td>0.2797</td><td>0.2565</td><td>0.2494</td><td>0.2109</td></tr>\n",
       "\t<tr><th scope=row>3</th><td>0.0036</td><td>0.0000</td><td>0.0000</td><td>0.0036</td><td>0.0141</td><td>0.0139</td><td>0.0139</td><td>0.0207</td><td>0.0340</td><td>0.0305</td><td>0.0652</td><td>0.0742</td><td>0.1931</td><td>0.0266</td><td>0.0883</td><td>0.1745</td><td>0.2797</td><td>0.2565</td><td>0.2494</td><td>0.2109</td></tr>\n",
       "\t<tr><th scope=row>4</th><td>0.0072</td><td>0.0036</td><td>0.0036</td><td>0.0000</td><td>0.0105</td><td>0.0104</td><td>0.0104</td><td>0.0172</td><td>0.0305</td><td>0.0270</td><td>0.0617</td><td>0.0708</td><td>0.1898</td><td>0.0230</td><td>0.0844</td><td>0.1701</td><td>0.2749</td><td>0.2522</td><td>0.2452</td><td>0.2072</td></tr>\n",
       "\t<tr><th scope=row>5</th><td>0.0177</td><td>0.0141</td><td>0.0141</td><td>0.0105</td><td>0.0000</td><td>0.0000</td><td>0.0000</td><td>0.0068</td><td>0.0203</td><td>0.0168</td><td>0.0519</td><td>0.0610</td><td>0.1813</td><td>0.0127</td><td>0.0731</td><td>0.1574</td><td>0.2609</td><td>0.2397</td><td>0.2333</td><td>0.1966</td></tr>\n",
       "\t<tr><th scope=row>6</th><td>0.0174</td><td>0.0139</td><td>0.0139</td><td>0.0104</td><td>0.0000</td><td>0.0000</td><td>0.0000</td><td>0.0069</td><td>0.0205</td><td>0.0171</td><td>0.0526</td><td>0.0619</td><td>0.1839</td><td>0.0127</td><td>0.0731</td><td>0.1574</td><td>0.2609</td><td>0.2397</td><td>0.2333</td><td>0.1966</td></tr>\n",
       "\t<tr><th scope=row>7</th><td>0.0174</td><td>0.0139</td><td>0.0139</td><td>0.0104</td><td>0.0000</td><td>0.0000</td><td>0.0000</td><td>0.0069</td><td>0.0205</td><td>0.0171</td><td>0.0526</td><td>0.0619</td><td>0.1839</td><td>0.0127</td><td>0.0731</td><td>0.1574</td><td>0.2609</td><td>0.2397</td><td>0.2333</td><td>0.1966</td></tr>\n",
       "\t<tr><th scope=row>8</th><td>0.0242</td><td>0.0207</td><td>0.0207</td><td>0.0172</td><td>0.0068</td><td>0.0069</td><td>0.0069</td><td>0.0000</td><td>0.0136</td><td>0.0102</td><td>0.0457</td><td>0.0550</td><td>0.1772</td><td>0.0062</td><td>0.0659</td><td>0.1492</td><td>0.2520</td><td>0.2318</td><td>0.2256</td><td>0.1897</td></tr>\n",
       "\t<tr><th scope=row>9</th><td>0.0375</td><td>0.0340</td><td>0.0340</td><td>0.0305</td><td>0.0203</td><td>0.0205</td><td>0.0205</td><td>0.0136</td><td>0.0000</td><td>0.0034</td><td>0.0322</td><td>0.0415</td><td>0.1642</td><td>0.0061</td><td>0.0523</td><td>0.1338</td><td>0.2351</td><td>0.2166</td><td>0.2111</td><td>0.1768</td></tr>\n",
       "\t<tr><th scope=row>10</th><td>0.0340</td><td>0.0305</td><td>0.0305</td><td>0.0270</td><td>0.0168</td><td>0.0171</td><td>0.0171</td><td>0.0102</td><td>0.0034</td><td>0.0000</td><td>0.0358</td><td>0.0452</td><td>0.1685</td><td>0.0030</td><td>0.0556</td><td>0.1376</td><td>0.2392</td><td>0.2203</td><td>0.2146</td><td>0.1799</td></tr>\n",
       "</tbody>\n",
       "</table>\n"
      ],
      "text/latex": [
       "A matrix: 10 × 20 of type dbl\n",
       "\\begin{tabular}{r|llllllllllllllllllll}\n",
       "  & 1 & 2 & 3 & 4 & 5 & 6 & 7 & 8 & 9 & 10 & 11 & 12 & 13 & 14 & 15 & 16 & 17 & 18 & 19 & 20\\\\\n",
       "\\hline\n",
       "\t1 & 0.0000 & 0.0036 & 0.0036 & 0.0072 & 0.0177 & 0.0174 & 0.0174 & 0.0242 & 0.0375 & 0.0340 & 0.0687 & 0.0777 & 0.1964 & 0.0302 & 0.0924 & 0.1790 & 0.2845 & 0.2609 & 0.2536 & 0.2147\\\\\n",
       "\t2 & 0.0036 & 0.0000 & 0.0000 & 0.0036 & 0.0141 & 0.0139 & 0.0139 & 0.0207 & 0.0340 & 0.0305 & 0.0652 & 0.0742 & 0.1931 & 0.0266 & 0.0883 & 0.1745 & 0.2797 & 0.2565 & 0.2494 & 0.2109\\\\\n",
       "\t3 & 0.0036 & 0.0000 & 0.0000 & 0.0036 & 0.0141 & 0.0139 & 0.0139 & 0.0207 & 0.0340 & 0.0305 & 0.0652 & 0.0742 & 0.1931 & 0.0266 & 0.0883 & 0.1745 & 0.2797 & 0.2565 & 0.2494 & 0.2109\\\\\n",
       "\t4 & 0.0072 & 0.0036 & 0.0036 & 0.0000 & 0.0105 & 0.0104 & 0.0104 & 0.0172 & 0.0305 & 0.0270 & 0.0617 & 0.0708 & 0.1898 & 0.0230 & 0.0844 & 0.1701 & 0.2749 & 0.2522 & 0.2452 & 0.2072\\\\\n",
       "\t5 & 0.0177 & 0.0141 & 0.0141 & 0.0105 & 0.0000 & 0.0000 & 0.0000 & 0.0068 & 0.0203 & 0.0168 & 0.0519 & 0.0610 & 0.1813 & 0.0127 & 0.0731 & 0.1574 & 0.2609 & 0.2397 & 0.2333 & 0.1966\\\\\n",
       "\t6 & 0.0174 & 0.0139 & 0.0139 & 0.0104 & 0.0000 & 0.0000 & 0.0000 & 0.0069 & 0.0205 & 0.0171 & 0.0526 & 0.0619 & 0.1839 & 0.0127 & 0.0731 & 0.1574 & 0.2609 & 0.2397 & 0.2333 & 0.1966\\\\\n",
       "\t7 & 0.0174 & 0.0139 & 0.0139 & 0.0104 & 0.0000 & 0.0000 & 0.0000 & 0.0069 & 0.0205 & 0.0171 & 0.0526 & 0.0619 & 0.1839 & 0.0127 & 0.0731 & 0.1574 & 0.2609 & 0.2397 & 0.2333 & 0.1966\\\\\n",
       "\t8 & 0.0242 & 0.0207 & 0.0207 & 0.0172 & 0.0068 & 0.0069 & 0.0069 & 0.0000 & 0.0136 & 0.0102 & 0.0457 & 0.0550 & 0.1772 & 0.0062 & 0.0659 & 0.1492 & 0.2520 & 0.2318 & 0.2256 & 0.1897\\\\\n",
       "\t9 & 0.0375 & 0.0340 & 0.0340 & 0.0305 & 0.0203 & 0.0205 & 0.0205 & 0.0136 & 0.0000 & 0.0034 & 0.0322 & 0.0415 & 0.1642 & 0.0061 & 0.0523 & 0.1338 & 0.2351 & 0.2166 & 0.2111 & 0.1768\\\\\n",
       "\t10 & 0.0340 & 0.0305 & 0.0305 & 0.0270 & 0.0168 & 0.0171 & 0.0171 & 0.0102 & 0.0034 & 0.0000 & 0.0358 & 0.0452 & 0.1685 & 0.0030 & 0.0556 & 0.1376 & 0.2392 & 0.2203 & 0.2146 & 0.1799\\\\\n",
       "\\end{tabular}\n"
      ],
      "text/markdown": [
       "\n",
       "A matrix: 10 × 20 of type dbl\n",
       "\n",
       "| <!--/--> | 1 | 2 | 3 | 4 | 5 | 6 | 7 | 8 | 9 | 10 | 11 | 12 | 13 | 14 | 15 | 16 | 17 | 18 | 19 | 20 |\n",
       "|---|---|---|---|---|---|---|---|---|---|---|---|---|---|---|---|---|---|---|---|---|\n",
       "| 1 | 0.0000 | 0.0036 | 0.0036 | 0.0072 | 0.0177 | 0.0174 | 0.0174 | 0.0242 | 0.0375 | 0.0340 | 0.0687 | 0.0777 | 0.1964 | 0.0302 | 0.0924 | 0.1790 | 0.2845 | 0.2609 | 0.2536 | 0.2147 |\n",
       "| 2 | 0.0036 | 0.0000 | 0.0000 | 0.0036 | 0.0141 | 0.0139 | 0.0139 | 0.0207 | 0.0340 | 0.0305 | 0.0652 | 0.0742 | 0.1931 | 0.0266 | 0.0883 | 0.1745 | 0.2797 | 0.2565 | 0.2494 | 0.2109 |\n",
       "| 3 | 0.0036 | 0.0000 | 0.0000 | 0.0036 | 0.0141 | 0.0139 | 0.0139 | 0.0207 | 0.0340 | 0.0305 | 0.0652 | 0.0742 | 0.1931 | 0.0266 | 0.0883 | 0.1745 | 0.2797 | 0.2565 | 0.2494 | 0.2109 |\n",
       "| 4 | 0.0072 | 0.0036 | 0.0036 | 0.0000 | 0.0105 | 0.0104 | 0.0104 | 0.0172 | 0.0305 | 0.0270 | 0.0617 | 0.0708 | 0.1898 | 0.0230 | 0.0844 | 0.1701 | 0.2749 | 0.2522 | 0.2452 | 0.2072 |\n",
       "| 5 | 0.0177 | 0.0141 | 0.0141 | 0.0105 | 0.0000 | 0.0000 | 0.0000 | 0.0068 | 0.0203 | 0.0168 | 0.0519 | 0.0610 | 0.1813 | 0.0127 | 0.0731 | 0.1574 | 0.2609 | 0.2397 | 0.2333 | 0.1966 |\n",
       "| 6 | 0.0174 | 0.0139 | 0.0139 | 0.0104 | 0.0000 | 0.0000 | 0.0000 | 0.0069 | 0.0205 | 0.0171 | 0.0526 | 0.0619 | 0.1839 | 0.0127 | 0.0731 | 0.1574 | 0.2609 | 0.2397 | 0.2333 | 0.1966 |\n",
       "| 7 | 0.0174 | 0.0139 | 0.0139 | 0.0104 | 0.0000 | 0.0000 | 0.0000 | 0.0069 | 0.0205 | 0.0171 | 0.0526 | 0.0619 | 0.1839 | 0.0127 | 0.0731 | 0.1574 | 0.2609 | 0.2397 | 0.2333 | 0.1966 |\n",
       "| 8 | 0.0242 | 0.0207 | 0.0207 | 0.0172 | 0.0068 | 0.0069 | 0.0069 | 0.0000 | 0.0136 | 0.0102 | 0.0457 | 0.0550 | 0.1772 | 0.0062 | 0.0659 | 0.1492 | 0.2520 | 0.2318 | 0.2256 | 0.1897 |\n",
       "| 9 | 0.0375 | 0.0340 | 0.0340 | 0.0305 | 0.0203 | 0.0205 | 0.0205 | 0.0136 | 0.0000 | 0.0034 | 0.0322 | 0.0415 | 0.1642 | 0.0061 | 0.0523 | 0.1338 | 0.2351 | 0.2166 | 0.2111 | 0.1768 |\n",
       "| 10 | 0.0340 | 0.0305 | 0.0305 | 0.0270 | 0.0168 | 0.0171 | 0.0171 | 0.0102 | 0.0034 | 0.0000 | 0.0358 | 0.0452 | 0.1685 | 0.0030 | 0.0556 | 0.1376 | 0.2392 | 0.2203 | 0.2146 | 0.1799 |\n",
       "\n"
      ],
      "text/plain": [
       "   1      2      3      4      5      6      7      8      9      10     11    \n",
       "1  0.0000 0.0036 0.0036 0.0072 0.0177 0.0174 0.0174 0.0242 0.0375 0.0340 0.0687\n",
       "2  0.0036 0.0000 0.0000 0.0036 0.0141 0.0139 0.0139 0.0207 0.0340 0.0305 0.0652\n",
       "3  0.0036 0.0000 0.0000 0.0036 0.0141 0.0139 0.0139 0.0207 0.0340 0.0305 0.0652\n",
       "4  0.0072 0.0036 0.0036 0.0000 0.0105 0.0104 0.0104 0.0172 0.0305 0.0270 0.0617\n",
       "5  0.0177 0.0141 0.0141 0.0105 0.0000 0.0000 0.0000 0.0068 0.0203 0.0168 0.0519\n",
       "6  0.0174 0.0139 0.0139 0.0104 0.0000 0.0000 0.0000 0.0069 0.0205 0.0171 0.0526\n",
       "7  0.0174 0.0139 0.0139 0.0104 0.0000 0.0000 0.0000 0.0069 0.0205 0.0171 0.0526\n",
       "8  0.0242 0.0207 0.0207 0.0172 0.0068 0.0069 0.0069 0.0000 0.0136 0.0102 0.0457\n",
       "9  0.0375 0.0340 0.0340 0.0305 0.0203 0.0205 0.0205 0.0136 0.0000 0.0034 0.0322\n",
       "10 0.0340 0.0305 0.0305 0.0270 0.0168 0.0171 0.0171 0.0102 0.0034 0.0000 0.0358\n",
       "   12     13     14     15     16     17     18     19     20    \n",
       "1  0.0777 0.1964 0.0302 0.0924 0.1790 0.2845 0.2609 0.2536 0.2147\n",
       "2  0.0742 0.1931 0.0266 0.0883 0.1745 0.2797 0.2565 0.2494 0.2109\n",
       "3  0.0742 0.1931 0.0266 0.0883 0.1745 0.2797 0.2565 0.2494 0.2109\n",
       "4  0.0708 0.1898 0.0230 0.0844 0.1701 0.2749 0.2522 0.2452 0.2072\n",
       "5  0.0610 0.1813 0.0127 0.0731 0.1574 0.2609 0.2397 0.2333 0.1966\n",
       "6  0.0619 0.1839 0.0127 0.0731 0.1574 0.2609 0.2397 0.2333 0.1966\n",
       "7  0.0619 0.1839 0.0127 0.0731 0.1574 0.2609 0.2397 0.2333 0.1966\n",
       "8  0.0550 0.1772 0.0062 0.0659 0.1492 0.2520 0.2318 0.2256 0.1897\n",
       "9  0.0415 0.1642 0.0061 0.0523 0.1338 0.2351 0.2166 0.2111 0.1768\n",
       "10 0.0452 0.1685 0.0030 0.0556 0.1376 0.2392 0.2203 0.2146 0.1799"
      ]
     },
     "metadata": {},
     "output_type": "display_data"
    }
   ],
   "source": [
    "round(Y2[1:10, 1:20], 4)"
   ]
  },
  {
   "cell_type": "markdown",
   "id": "9fb2658f-f79e-4a7a-a399-c0e332dd525b",
   "metadata": {},
   "source": [
    "**Questions**\n",
    "\n",
    "1. Plot species turnover as a function of Section number, and provide a mechanistic exaplanation for the pattern observed.\n",
    "\n",
    "2. Based on an assessment of literature on the topic, provide a discussion of nestedness-resultant β-diversity. Use either a marine or terrestrial example to explain this mode of structuring biodiversity.\n",
    "\n",
    "Submit an R script wherein you provide answers to these questions by no later than 17:00 on Friday 2 July 2021."
   ]
  },
  {
   "cell_type": "markdown",
   "id": "1affddb9-aed3-462a-b73b-825718b33558",
   "metadata": {},
   "source": [
    "# References\n",
    "\n",
    "Baselga, A. (2010). Partitioning the turnover and nestedness components of beta diversity. Global Ecology and Biogeography 19, 134–143.\n",
    "\n",
    "Baselga, A., Orme, D., Villeger, S., De Bortoli, J., and Leprieur, F. (2017). betapart: Partitioning Beta Diversity into Turnover and Nestedness Components. R package version 1.4-1.\n",
    "\n",
    "Bolton, J. J. (1986). Marine phytogeography of the Benguela upwelling region on the west coast of southern Africa: A temperature dependent approach. Botanica Marina 29, 251–256.\n",
    "\n",
    "Bolton, J. J., and Stegenga, H. (2002). Seaweed species diversity in South Africa. South African Journal of Marine Science 24, 9–18.\n",
    "\n",
    "De Clerck, O., Bolton, J. J., Anderson, R. J., and Coppejans, E. (2005). Guide to the seaweeds of KwaZulu- Natal. Scripta Botanica Belgica 33, 294 pp.\n",
    "\n",
    "Koleff, P., Gaston, K. J., & Lennon, J. J. (2003). Measuring beta diversity for presence–absence data. Journal of Animal Ecology, 72(3), 367-382.\n",
    "\n",
    "Smit, A. J., Bolton, J. J., & Anderson, R. J. (2017). Seaweeds in two oceans: beta-diversity. Frontiers in Marine Science, 4, 404.\n",
    "\n",
    "Smit, A. J., Roberts, M., Anderson, R. J., Dufois, F., Dudley, S. F. J., Bornman, T. G., et al. (2013). A coastal seawater temperature dataset for biogeographical studies: large biases between in situ and remotely-sensed data sets around the coast of South Africa. PLOS ONE 8, e81944.\n",
    "\n",
    "Stegenga, H., Bolton, J. J., and Anderson, R. J. (1997). Seaweeds of the South African west coast. Contribu- tions of the Bolus Herbarium 18, 3–637.\n",
    "\n",
    "Whittaker, R. H. (1960). Vegetation of the Siskiyou Mountains, Oregon and California. Ecological Monographs. 30 (3): 279–338. "
   ]
  }
 ],
 "metadata": {
  "kernelspec": {
   "display_name": "R",
   "language": "R",
   "name": "ir"
  },
  "language_info": {
   "codemirror_mode": "r",
   "file_extension": ".r",
   "mimetype": "text/x-r-source",
   "name": "R",
   "pygments_lexer": "r",
   "version": "4.1.0"
  }
 },
 "nbformat": 4,
 "nbformat_minor": 5
}
