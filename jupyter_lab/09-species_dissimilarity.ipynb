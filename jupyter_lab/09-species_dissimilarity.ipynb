{
 "cells": [
  {
   "cell_type": "markdown",
   "id": "70df0f52-b20b-4df5-adf7-b97a9b699b3f",
   "metadata": {},
   "source": [
    "**Author:** Prof. AJ Smit\n",
    "\n",
    "Department of Biodiversity and Conservation Biology\n",
    "\n",
    "University of the Western Cape"
   ]
  },
  {
   "cell_type": "markdown",
   "id": "7d4a8d15-253c-4dcd-8a65-1e4d7e2c2972",
   "metadata": {},
   "source": [
    "# Topic 5: Species dissimilarities\n",
    "\n",
    "We have already covered all the necessary theory in Topic 3 - Biodiversity. The dissimilarity matrices that capture α-diversity and the contemporary measures of β-diversity are in fact *the same species dissmimilarity matrices I refer to in Topic 5*, and on which we will continue to rely on in the subsequent topics as input to many of the ordination techniques.\n",
    "\n",
    "So, refer back to [Topic 3 - Biodiversity](https://github.com/ajsmit/Quantitative_Ecology/blob/main/jupyter_lab/05-beta_diversity.ipynb) and remind yourselves what that's all about.\n",
    "\n",
    "To test your understanding of this important topic, please address the following questions and submit next week Monday at 17:00 via GitHub.\n",
    "\n",
    "**Questions**\n",
    "\n",
    "Using the Doubs species data in [Numerical Ecology with R](https://github.com/ajsmit/Quantitative_Ecology/tree/main/Num_Ecol_R_book_ed1):\n",
    "1. Look at the dataset and explain its structure in words.\n",
    "\n",
    "2. Would we use Bray-Curtis or Jaccard dissimilarities?\n",
    "\n",
    "3. Apply the calculation.\n",
    "\n",
    "4. Explain the meaning of the results in broad terms.\n",
    "\n",
    "5. Examine it more closely: what general pattern comes out?\n",
    "\n",
    "6. Plot this pattern (hint, it is best seen in the 1st column of the dissimilarity matrix).\n",
    "\n",
    "7. What explanation can you offer for this pattern?\n",
    "\n",
    "8. Using the `decostand()` function, create presence/absence data, and apply the appropriate `vegdist()` function to obtain a suitable dissimilarity matrix.\n",
    "\n",
    "9. Create another plot and explain the pattern."
   ]
  }
 ],
 "metadata": {
  "kernelspec": {
   "display_name": "R",
   "language": "R",
   "name": "ir"
  },
  "language_info": {
   "codemirror_mode": "r",
   "file_extension": ".r",
   "mimetype": "text/x-r-source",
   "name": "R",
   "pygments_lexer": "r",
   "version": "4.1.0"
  }
 },
 "nbformat": 4,
 "nbformat_minor": 5
}
