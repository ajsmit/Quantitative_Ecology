{
 "cells": [
  {
   "cell_type": "markdown",
   "id": "eb5d1006-f070-4d35-bb99-dd33e502c81e",
   "metadata": {},
   "source": [
    "**Author:** Prof. AJ Smit\n",
    "\n",
    "Department of Biodiversity and Conservation Biology\n",
    "\n",
    "University of the Western Cape"
   ]
  },
  {
   "cell_type": "markdown",
   "id": "ce36ed0d-187c-4bfd-876e-c143818ac4cc",
   "metadata": {},
   "source": [
    "# Topic 9: Correspondence Analysis (CA)\n",
    "\n",
    "## Set-up the analysis environment"
   ]
  },
  {
   "cell_type": "code",
   "execution_count": 1,
   "id": "960f0e06-a138-4316-aa0b-9c0919160771",
   "metadata": {},
   "outputs": [
    {
     "name": "stderr",
     "output_type": "stream",
     "text": [
      "── \u001b[1mAttaching packages\u001b[22m ──────────────────────────────────────────────────────────────────────────────────────────────────────────────────────────────── tidyverse 1.3.1 ──\n",
      "\n",
      "\u001b[32m✔\u001b[39m \u001b[34mggplot2\u001b[39m 3.3.5     \u001b[32m✔\u001b[39m \u001b[34mpurrr  \u001b[39m 0.3.4\n",
      "\u001b[32m✔\u001b[39m \u001b[34mtibble \u001b[39m 3.1.2     \u001b[32m✔\u001b[39m \u001b[34mdplyr  \u001b[39m 1.0.7\n",
      "\u001b[32m✔\u001b[39m \u001b[34mtidyr  \u001b[39m 1.1.3     \u001b[32m✔\u001b[39m \u001b[34mstringr\u001b[39m 1.4.0\n",
      "\u001b[32m✔\u001b[39m \u001b[34mreadr  \u001b[39m 1.4.0     \u001b[32m✔\u001b[39m \u001b[34mforcats\u001b[39m 0.5.1\n",
      "\n",
      "── \u001b[1mConflicts\u001b[22m ─────────────────────────────────────────────────────────────────────────────────────────────────────────────────────────────────── tidyverse_conflicts() ──\n",
      "\u001b[31m✖\u001b[39m \u001b[34mdplyr\u001b[39m::\u001b[32mfilter()\u001b[39m masks \u001b[34mstats\u001b[39m::filter()\n",
      "\u001b[31m✖\u001b[39m \u001b[34mdplyr\u001b[39m::\u001b[32mlag()\u001b[39m    masks \u001b[34mstats\u001b[39m::lag()\n",
      "\n",
      "Loading required package: permute\n",
      "\n",
      "Loading required package: lattice\n",
      "\n",
      "This is vegan 2.5-7\n",
      "\n"
     ]
    }
   ],
   "source": [
    "library(tidyverse)\n",
    "library(vegan)"
   ]
  },
  {
   "cell_type": "markdown",
   "id": "9e7d404f-cef4-44aa-8469-bb1087e8a036",
   "metadata": {},
   "source": [
    "## The Doubs River data\n",
    "\n",
    "This time we work with the species data:"
   ]
  },
  {
   "cell_type": "code",
   "execution_count": 2,
   "id": "f839a746-b72a-4ecf-bcee-6de381e4d56c",
   "metadata": {},
   "outputs": [
    {
     "data": {
      "text/html": [
       "<table class=\"dataframe\">\n",
       "<caption>A data.frame: 8 × 27</caption>\n",
       "<thead>\n",
       "\t<tr><th></th><th scope=col>Cogo</th><th scope=col>Satr</th><th scope=col>Phph</th><th scope=col>Babl</th><th scope=col>Thth</th><th scope=col>Teso</th><th scope=col>Chna</th><th scope=col>Pato</th><th scope=col>Lele</th><th scope=col>Sqce</th><th scope=col>⋯</th><th scope=col>Scer</th><th scope=col>Cyca</th><th scope=col>Titi</th><th scope=col>Abbr</th><th scope=col>Icme</th><th scope=col>Gyce</th><th scope=col>Ruru</th><th scope=col>Blbj</th><th scope=col>Alal</th><th scope=col>Anan</th></tr>\n",
       "\t<tr><th></th><th scope=col>&lt;int&gt;</th><th scope=col>&lt;int&gt;</th><th scope=col>&lt;int&gt;</th><th scope=col>&lt;int&gt;</th><th scope=col>&lt;int&gt;</th><th scope=col>&lt;int&gt;</th><th scope=col>&lt;int&gt;</th><th scope=col>&lt;int&gt;</th><th scope=col>&lt;int&gt;</th><th scope=col>&lt;int&gt;</th><th scope=col>⋯</th><th scope=col>&lt;int&gt;</th><th scope=col>&lt;int&gt;</th><th scope=col>&lt;int&gt;</th><th scope=col>&lt;int&gt;</th><th scope=col>&lt;int&gt;</th><th scope=col>&lt;int&gt;</th><th scope=col>&lt;int&gt;</th><th scope=col>&lt;int&gt;</th><th scope=col>&lt;int&gt;</th><th scope=col>&lt;int&gt;</th></tr>\n",
       "</thead>\n",
       "<tbody>\n",
       "\t<tr><th scope=row>1</th><td>0</td><td>3</td><td>0</td><td>0</td><td>0</td><td>0</td><td>0</td><td>0</td><td>0</td><td>0</td><td>⋯</td><td>0</td><td>0</td><td>0</td><td>0</td><td>0</td><td>0</td><td>0</td><td>0</td><td>0</td><td>0</td></tr>\n",
       "\t<tr><th scope=row>2</th><td>0</td><td>5</td><td>4</td><td>3</td><td>0</td><td>0</td><td>0</td><td>0</td><td>0</td><td>0</td><td>⋯</td><td>0</td><td>0</td><td>0</td><td>0</td><td>0</td><td>0</td><td>0</td><td>0</td><td>0</td><td>0</td></tr>\n",
       "\t<tr><th scope=row>3</th><td>0</td><td>5</td><td>5</td><td>5</td><td>0</td><td>0</td><td>0</td><td>0</td><td>0</td><td>0</td><td>⋯</td><td>0</td><td>0</td><td>0</td><td>0</td><td>0</td><td>0</td><td>0</td><td>0</td><td>0</td><td>0</td></tr>\n",
       "\t<tr><th scope=row>4</th><td>0</td><td>4</td><td>5</td><td>5</td><td>0</td><td>0</td><td>0</td><td>0</td><td>0</td><td>1</td><td>⋯</td><td>0</td><td>0</td><td>1</td><td>0</td><td>0</td><td>0</td><td>0</td><td>0</td><td>0</td><td>0</td></tr>\n",
       "\t<tr><th scope=row>5</th><td>0</td><td>2</td><td>3</td><td>2</td><td>0</td><td>0</td><td>0</td><td>0</td><td>5</td><td>2</td><td>⋯</td><td>2</td><td>0</td><td>3</td><td>0</td><td>0</td><td>0</td><td>5</td><td>0</td><td>0</td><td>0</td></tr>\n",
       "\t<tr><th scope=row>6</th><td>0</td><td>3</td><td>4</td><td>5</td><td>0</td><td>0</td><td>0</td><td>0</td><td>1</td><td>2</td><td>⋯</td><td>0</td><td>0</td><td>2</td><td>0</td><td>0</td><td>0</td><td>1</td><td>0</td><td>0</td><td>0</td></tr>\n",
       "\t<tr><th scope=row>7</th><td>0</td><td>5</td><td>4</td><td>5</td><td>0</td><td>0</td><td>0</td><td>0</td><td>1</td><td>1</td><td>⋯</td><td>0</td><td>0</td><td>0</td><td>0</td><td>0</td><td>0</td><td>0</td><td>0</td><td>0</td><td>0</td></tr>\n",
       "\t<tr><th scope=row>8</th><td>0</td><td>0</td><td>0</td><td>0</td><td>0</td><td>0</td><td>0</td><td>0</td><td>0</td><td>0</td><td>⋯</td><td>0</td><td>0</td><td>0</td><td>0</td><td>0</td><td>0</td><td>0</td><td>0</td><td>0</td><td>0</td></tr>\n",
       "</tbody>\n",
       "</table>\n"
      ],
      "text/latex": [
       "A data.frame: 8 × 27\n",
       "\\begin{tabular}{r|lllllllllllllllllllll}\n",
       "  & Cogo & Satr & Phph & Babl & Thth & Teso & Chna & Pato & Lele & Sqce & ⋯ & Scer & Cyca & Titi & Abbr & Icme & Gyce & Ruru & Blbj & Alal & Anan\\\\\n",
       "  & <int> & <int> & <int> & <int> & <int> & <int> & <int> & <int> & <int> & <int> & ⋯ & <int> & <int> & <int> & <int> & <int> & <int> & <int> & <int> & <int> & <int>\\\\\n",
       "\\hline\n",
       "\t1 & 0 & 3 & 0 & 0 & 0 & 0 & 0 & 0 & 0 & 0 & ⋯ & 0 & 0 & 0 & 0 & 0 & 0 & 0 & 0 & 0 & 0\\\\\n",
       "\t2 & 0 & 5 & 4 & 3 & 0 & 0 & 0 & 0 & 0 & 0 & ⋯ & 0 & 0 & 0 & 0 & 0 & 0 & 0 & 0 & 0 & 0\\\\\n",
       "\t3 & 0 & 5 & 5 & 5 & 0 & 0 & 0 & 0 & 0 & 0 & ⋯ & 0 & 0 & 0 & 0 & 0 & 0 & 0 & 0 & 0 & 0\\\\\n",
       "\t4 & 0 & 4 & 5 & 5 & 0 & 0 & 0 & 0 & 0 & 1 & ⋯ & 0 & 0 & 1 & 0 & 0 & 0 & 0 & 0 & 0 & 0\\\\\n",
       "\t5 & 0 & 2 & 3 & 2 & 0 & 0 & 0 & 0 & 5 & 2 & ⋯ & 2 & 0 & 3 & 0 & 0 & 0 & 5 & 0 & 0 & 0\\\\\n",
       "\t6 & 0 & 3 & 4 & 5 & 0 & 0 & 0 & 0 & 1 & 2 & ⋯ & 0 & 0 & 2 & 0 & 0 & 0 & 1 & 0 & 0 & 0\\\\\n",
       "\t7 & 0 & 5 & 4 & 5 & 0 & 0 & 0 & 0 & 1 & 1 & ⋯ & 0 & 0 & 0 & 0 & 0 & 0 & 0 & 0 & 0 & 0\\\\\n",
       "\t8 & 0 & 0 & 0 & 0 & 0 & 0 & 0 & 0 & 0 & 0 & ⋯ & 0 & 0 & 0 & 0 & 0 & 0 & 0 & 0 & 0 & 0\\\\\n",
       "\\end{tabular}\n"
      ],
      "text/markdown": [
       "\n",
       "A data.frame: 8 × 27\n",
       "\n",
       "| <!--/--> | Cogo &lt;int&gt; | Satr &lt;int&gt; | Phph &lt;int&gt; | Babl &lt;int&gt; | Thth &lt;int&gt; | Teso &lt;int&gt; | Chna &lt;int&gt; | Pato &lt;int&gt; | Lele &lt;int&gt; | Sqce &lt;int&gt; | ⋯ ⋯ | Scer &lt;int&gt; | Cyca &lt;int&gt; | Titi &lt;int&gt; | Abbr &lt;int&gt; | Icme &lt;int&gt; | Gyce &lt;int&gt; | Ruru &lt;int&gt; | Blbj &lt;int&gt; | Alal &lt;int&gt; | Anan &lt;int&gt; |\n",
       "|---|---|---|---|---|---|---|---|---|---|---|---|---|---|---|---|---|---|---|---|---|---|\n",
       "| 1 | 0 | 3 | 0 | 0 | 0 | 0 | 0 | 0 | 0 | 0 | ⋯ | 0 | 0 | 0 | 0 | 0 | 0 | 0 | 0 | 0 | 0 |\n",
       "| 2 | 0 | 5 | 4 | 3 | 0 | 0 | 0 | 0 | 0 | 0 | ⋯ | 0 | 0 | 0 | 0 | 0 | 0 | 0 | 0 | 0 | 0 |\n",
       "| 3 | 0 | 5 | 5 | 5 | 0 | 0 | 0 | 0 | 0 | 0 | ⋯ | 0 | 0 | 0 | 0 | 0 | 0 | 0 | 0 | 0 | 0 |\n",
       "| 4 | 0 | 4 | 5 | 5 | 0 | 0 | 0 | 0 | 0 | 1 | ⋯ | 0 | 0 | 1 | 0 | 0 | 0 | 0 | 0 | 0 | 0 |\n",
       "| 5 | 0 | 2 | 3 | 2 | 0 | 0 | 0 | 0 | 5 | 2 | ⋯ | 2 | 0 | 3 | 0 | 0 | 0 | 5 | 0 | 0 | 0 |\n",
       "| 6 | 0 | 3 | 4 | 5 | 0 | 0 | 0 | 0 | 1 | 2 | ⋯ | 0 | 0 | 2 | 0 | 0 | 0 | 1 | 0 | 0 | 0 |\n",
       "| 7 | 0 | 5 | 4 | 5 | 0 | 0 | 0 | 0 | 1 | 1 | ⋯ | 0 | 0 | 0 | 0 | 0 | 0 | 0 | 0 | 0 | 0 |\n",
       "| 8 | 0 | 0 | 0 | 0 | 0 | 0 | 0 | 0 | 0 | 0 | ⋯ | 0 | 0 | 0 | 0 | 0 | 0 | 0 | 0 | 0 | 0 |\n",
       "\n"
      ],
      "text/plain": [
       "  Cogo Satr Phph Babl Thth Teso Chna Pato Lele Sqce ⋯ Scer Cyca Titi Abbr Icme\n",
       "1 0    3    0    0    0    0    0    0    0    0    ⋯ 0    0    0    0    0   \n",
       "2 0    5    4    3    0    0    0    0    0    0    ⋯ 0    0    0    0    0   \n",
       "3 0    5    5    5    0    0    0    0    0    0    ⋯ 0    0    0    0    0   \n",
       "4 0    4    5    5    0    0    0    0    0    1    ⋯ 0    0    1    0    0   \n",
       "5 0    2    3    2    0    0    0    0    5    2    ⋯ 2    0    3    0    0   \n",
       "6 0    3    4    5    0    0    0    0    1    2    ⋯ 0    0    2    0    0   \n",
       "7 0    5    4    5    0    0    0    0    1    1    ⋯ 0    0    0    0    0   \n",
       "8 0    0    0    0    0    0    0    0    0    0    ⋯ 0    0    0    0    0   \n",
       "  Gyce Ruru Blbj Alal Anan\n",
       "1 0    0    0    0    0   \n",
       "2 0    0    0    0    0   \n",
       "3 0    0    0    0    0   \n",
       "4 0    0    0    0    0   \n",
       "5 0    5    0    0    0   \n",
       "6 0    1    0    0    0   \n",
       "7 0    0    0    0    0   \n",
       "8 0    0    0    0    0   "
      ]
     },
     "metadata": {},
     "output_type": "display_data"
    }
   ],
   "source": [
    "spe <- read.csv(\"../Num_Ecol_R_book_ed1/DoubsSpe.csv\")\n",
    "spe <- dplyr::select(spe, -1)\n",
    "head(spe, 8)"
   ]
  },
  {
   "cell_type": "markdown",
   "id": "b4873e22-5a24-48b5-820b-c4d933e6b91c",
   "metadata": {},
   "source": [
    "## Do the CA\n",
    "\n",
    "The **vegan** function `cca()` can be used for CA and Constrained Correspondence Analysis (CCA). When we do not specify constraints, as we do here, we will do a simple CA:"
   ]
  },
  {
   "cell_type": "code",
   "execution_count": 3,
   "id": "bb123672-b5c5-4498-8073-518835568530",
   "metadata": {},
   "outputs": [
    {
     "ename": "ERROR",
     "evalue": "Error in cca.default(spe): all row sums must be >0 in the community data matrix\n",
     "output_type": "error",
     "traceback": [
      "Error in cca.default(spe): all row sums must be >0 in the community data matrix\nTraceback:\n",
      "1. cca(spe)",
      "2. cca.default(spe)",
      "3. stop(\"all row sums must be >0 in the community data matrix\")"
     ]
    }
   ],
   "source": [
    "spe_ca <- cca(spe)\n",
    "spe_ca"
   ]
  },
  {
   "cell_type": "markdown",
   "id": "9a7e19fa-790b-4d31-b454-4956f2818937",
   "metadata": {},
   "source": [
    "Okay, so there's a problem. The error message says that at least one of the rows sums to 0. Which one?"
   ]
  },
  {
   "cell_type": "code",
   "execution_count": null,
   "id": "15d2f58a-495a-432b-b1fa-4a2eaf61d08b",
   "metadata": {},
   "outputs": [],
   "source": [
    "apply(spe, 1, sum)"
   ]
  },
  {
   "cell_type": "markdown",
   "id": "3854126d-5afd-4430-882b-2b6ad6f84135",
   "metadata": {},
   "source": [
    "We see that the offending row is row 8, so we can omit it. This function will omit any row that sums to zero (or less):"
   ]
  },
  {
   "cell_type": "code",
   "execution_count": null,
   "id": "930595b7-6fa3-4f15-8d75-e850286df967",
   "metadata": {},
   "outputs": [],
   "source": [
    "spe <- spe[rowSums(spe[]) > 0, ]\n",
    "head(spe, 8)"
   ]
  },
  {
   "cell_type": "markdown",
   "id": "e7e45f0d-8770-4ae0-941d-eda25319dcfe",
   "metadata": {},
   "source": [
    "Now we are ready for the CA:"
   ]
  },
  {
   "cell_type": "code",
   "execution_count": null,
   "id": "24d9c6a4-dcf3-4c68-b888-e381d13fe0e8",
   "metadata": {},
   "outputs": [],
   "source": [
    "spe_ca <- cca(spe)\n",
    "spe_ca"
   ]
  },
  {
   "cell_type": "markdown",
   "id": "7b999cff-ce43-47ca-8754-4e51ca7843a6",
   "metadata": {},
   "source": [
    "The more verbose `summary()` output:"
   ]
  },
  {
   "cell_type": "code",
   "execution_count": null,
   "id": "8f1e24ce-96fb-4d25-86b7-c16d8058559b",
   "metadata": {},
   "outputs": [],
   "source": [
    "summary(spe_ca)"
   ]
  },
  {
   "cell_type": "markdown",
   "id": "d98e5a69-8799-4a5d-aa73-01ac71a06e8a",
   "metadata": {},
   "source": [
    "The output looks similar to that of a PCA. The important things to note are the **inertia** (unconstrained and total inertia are the same), the **Eigenvalues for the unconstrained axes**, the **Species scores,** and the **Site scores**. Their interpretation is the same as before, but we can reiterate. Let us calculate the total inertia:"
   ]
  },
  {
   "cell_type": "code",
   "execution_count": null,
   "id": "bfbf2fda-6159-426f-981b-1ca779374646",
   "metadata": {},
   "outputs": [],
   "source": [
    "round(sum(spe_ca$CA$eig), 5)"
   ]
  },
  {
   "cell_type": "markdown",
   "id": "2f2b7628-f853-4ca9-a591-d8877a2436b8",
   "metadata": {},
   "source": [
    "The inertia for the first axis (CA1) is:"
   ]
  },
  {
   "cell_type": "code",
   "execution_count": null,
   "id": "5dcbd207-6e74-463e-a0f2-cf2bd19d7d7e",
   "metadata": {},
   "outputs": [],
   "source": [
    "round(spe_ca$CA$eig[1], 5)"
   ]
  },
  {
   "cell_type": "markdown",
   "id": "be517ff2-60be-4e8f-8ee8-ba1047b5b58c",
   "metadata": {},
   "source": [
    "The inertia of CA1 *and* CA2 is:"
   ]
  },
  {
   "cell_type": "code",
   "execution_count": null,
   "id": "e694708f-fbd9-4f7a-8c20-4729620f92cc",
   "metadata": {},
   "outputs": [],
   "source": [
    "round(sum(spe_ca$CA$eig[1:2]), 5)"
   ]
  },
  {
   "cell_type": "markdown",
   "id": "ba444162-279a-461f-bcc9-c37e4bf0e45e",
   "metadata": {},
   "source": [
    "The fraction of the variance explained by CA1 and CA2 is:"
   ]
  },
  {
   "cell_type": "code",
   "execution_count": null,
   "id": "f2ed3ed7-6c74-417e-b700-cf3f9fe9dc93",
   "metadata": {},
   "outputs": [],
   "source": [
    "round(sum(spe_ca$CA$eig[1:2]) / sum(spe_ca$CA$eig) * 100, 2) # result in %"
   ]
  },
  {
   "cell_type": "markdown",
   "id": "74f8acad-c7de-418e-8e4a-595e8c2b2b5e",
   "metadata": {},
   "source": [
    "Above, the value is the same one as in **Cumulative Proportion** in the `summary(spe_ca)` output under the CA2 column.\n",
    "\n",
    "Species scores are *actual* species scores as they now relate to species data. The most positive and most negative eigenvectors (or loadings) indicate those species that dominate in their influence along particular CA axes. For example, CA1 will be most heavily loaded by the species Cogo and Satr (eigenvectors of 1.50075 and 1.66167, respectively). If there is an environmental gradient, it will be these species that will be most affected. At the very least, we can say that the contributions of these species are having an overriding influence on the community differences seen between sites.\n",
    "\n",
    "Site scores are also as seen earlier in PCA. The highest positive or negative loadings indicate sites that are dispersed far apart on the biplot (in ordination space). They will have large differences in fish community composition.\n",
    "\n",
    "Please see *Numerical Ecology in R* for details (pp. 133 to 140). There you will find explanations for how to interpret the ordinations and the ordination diagrams shown below.\n",
    "\n",
    "## Ordination diagrams\n",
    "\n",
    "The biplots for the above ordination are given here:"
   ]
  },
  {
   "cell_type": "code",
   "execution_count": null,
   "id": "93778c0a-374f-4ea8-8e2d-264b1d8ea6e5",
   "metadata": {},
   "outputs": [],
   "source": [
    "plot(spe_ca, scaling = 1, main = \"CA fish abundances - biplot scaling 1\")\n",
    "plot(spe_ca, scaling = 2, main = \"CA fish abundances - biplot scaling 2\")"
   ]
  },
  {
   "cell_type": "markdown",
   "id": "b8e39f20-6bf6-4254-9507-99c868143472",
   "metadata": {},
   "source": [
    "Here are biplots with site scores, species scores for four selected species, and the species response surface showing there they are most abundant. I also include vectors for the environmental drivers and marked the ones with the greatest influence in blue."
   ]
  },
  {
   "cell_type": "code",
   "execution_count": null,
   "id": "1b4bfc7c-7c5e-4d9c-869f-1739368ea392",
   "metadata": {},
   "outputs": [],
   "source": [
    "require('viridis')\n",
    "palette(viridis(8))\n",
    "par(mar = c(4, 4, 0.9, 0.5) + .1, mfrow = c(2, 2))\n",
    "with(spe, tmp <- ordisurf(spe_ca ~ Satr, bubble = 3,\n",
    "                          family = quasipoisson, knots = 2, col = 6,\n",
    "                          display = \"sites\", main = \"Satr\"))\n",
    "abline(h = 0, v = 0, lty = 3)\n",
    "with(spe, tmp <- ordisurf(spe_ca ~ Scer, bubble = 3,\n",
    "                          family = quasipoisson, knots = 2, col = 6,\n",
    "                          display = \"sites\", main = \"Scer\"))\n",
    "abline(h = 0, v = 0, lty = 3)\n",
    "with(spe, tmp <- ordisurf(spe_ca ~ Teso, bubble = 3,\n",
    "                          family = quasipoisson, knots = 2, col = 6,\n",
    "                          display = \"sites\", main = \"Teso\"))\n",
    "abline(h = 0, v = 0, lty = 3)\n",
    "with(spe, tmp <- ordisurf(spe_ca ~ Cogo, bubble = 3,\n",
    "                          family = quasipoisson, knots = 2, col = 6,\n",
    "                          display = \"sites\", main = \"Cogo\"))\n",
    "abline(h = 0, v = 0, lty = 3)\n",
    "\n",
    "# A posteriori projection of environmental variables in a CA\n",
    "# The last plot produced (CA scaling 2) must be active\n",
    "\n",
    "env <- read.csv(\"../Num_Ecol_R_book_ed1/DoubsEnv.csv\")\n",
    "env <- dplyr::select(env, -1)\n",
    "env <- dplyr::slice(env, -8)\n",
    "\n",
    "(spe_ca_env <- envfit(spe_ca, env, scaling = 2)) # Scaling 2 is default\n",
    "plot(spe_ca_env)\n",
    "# Plot significant variables with a different colour\n",
    "plot(spe_ca_env, p.max = 0.05, col = \"red\")"
   ]
  },
  {
   "cell_type": "markdown",
   "id": "f395176d-0448-4d44-8362-8111d8eb94f0",
   "metadata": {},
   "source": [
    "### Questions\n",
    "\n",
    "1.  How would you explain the patterns seen in the four panels of the above figure?\n",
    "\n",
    "2.  Apply approaches taken from the analysis shown immediately above to these datasets:\n",
    "\n",
    "    1.  [bird communities along elevation gradient in Yushan Mountain, Taiwan](https://www.davidzeleny.net/anadat-r/doku.php/en:data:ybirds);\n",
    "\n",
    "    2.  [alpine plant communities in Aravo, France](https://www.davidzeleny.net/anadat-r/doku.php/en:data:aravo).\n",
    "\n",
    "3.  Discuss the patterns observed, and explain the ordination diagrams with particular reference to how the species are influenced by the major environmental drivers.\n",
    "\n",
    "Submit an R script wherein you provide answers to these questions by no later than 17:00 on Friday 16 July 2021."
   ]
  }
 ],
 "metadata": {
  "kernelspec": {
   "display_name": "R",
   "language": "R",
   "name": "ir"
  },
  "language_info": {
   "codemirror_mode": "r",
   "file_extension": ".r",
   "mimetype": "text/x-r-source",
   "name": "R",
   "pygments_lexer": "r",
   "version": "4.1.0"
  }
 },
 "nbformat": 4,
 "nbformat_minor": 5
}
