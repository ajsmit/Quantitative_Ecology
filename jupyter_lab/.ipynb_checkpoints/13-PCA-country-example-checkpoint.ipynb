{
 "cells": [
  {
   "cell_type": "code",
   "execution_count": null,
   "id": "1e012ade-f8f6-4353-ad0e-ab70531a9653",
   "metadata": {},
   "outputs": [],
   "source": []
  }
 ],
 "metadata": {
  "kernelspec": {
   "display_name": "R",
   "language": "R",
   "name": "ir"
  },
  "language_info": {
   "name": ""
  }
 },
 "nbformat": 4,
 "nbformat_minor": 5
}
