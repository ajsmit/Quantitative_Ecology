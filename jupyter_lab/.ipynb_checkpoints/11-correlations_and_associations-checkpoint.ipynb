{
 "cells": [
  {
   "cell_type": "markdown",
   "id": "9ccc9c95-59b1-4841-9ff6-5820cdad078f",
   "metadata": {},
   "source": [
    "**Author:** Prof. AJ Smit\n",
    "\n",
    "Department of Biodiversity and Conservation Biology\n",
    "\n",
    "University of the Western Cape"
   ]
  },
  {
   "cell_type": "markdown",
   "id": "cd02f70a-4262-4605-bd5b-ca11ee53e657",
   "metadata": {},
   "source": [
    "# Topic 6: Correlations and associations\n",
    "\n",
    "## Set-up the analysis environment"
   ]
  },
  {
   "cell_type": "code",
   "execution_count": 1,
   "id": "665a0b06-97e5-4a12-b1a2-e16a2bb66204",
   "metadata": {},
   "outputs": [
    {
     "name": "stderr",
     "output_type": "stream",
     "text": [
      "── \u001b[1mAttaching packages\u001b[22m ──────────────────────────────────────────────────────────────────────────────────────────────────────────────────────────────── tidyverse 1.3.1 ──\n",
      "\n",
      "\u001b[32m✔\u001b[39m \u001b[34mggplot2\u001b[39m 3.3.5     \u001b[32m✔\u001b[39m \u001b[34mpurrr  \u001b[39m 0.3.4\n",
      "\u001b[32m✔\u001b[39m \u001b[34mtibble \u001b[39m 3.1.2     \u001b[32m✔\u001b[39m \u001b[34mdplyr  \u001b[39m 1.0.7\n",
      "\u001b[32m✔\u001b[39m \u001b[34mtidyr  \u001b[39m 1.1.3     \u001b[32m✔\u001b[39m \u001b[34mstringr\u001b[39m 1.4.0\n",
      "\u001b[32m✔\u001b[39m \u001b[34mreadr  \u001b[39m 1.4.0     \u001b[32m✔\u001b[39m \u001b[34mforcats\u001b[39m 0.5.1\n",
      "\n",
      "── \u001b[1mConflicts\u001b[22m ─────────────────────────────────────────────────────────────────────────────────────────────────────────────────────────────────── tidyverse_conflicts() ──\n",
      "\u001b[31m✖\u001b[39m \u001b[34mdplyr\u001b[39m::\u001b[32mfilter()\u001b[39m masks \u001b[34mstats\u001b[39m::filter()\n",
      "\u001b[31m✖\u001b[39m \u001b[34mdplyr\u001b[39m::\u001b[32mlag()\u001b[39m    masks \u001b[34mstats\u001b[39m::lag()\n",
      "\n",
      "Loading required package: permute\n",
      "\n",
      "Loading required package: lattice\n",
      "\n",
      "This is vegan 2.5-7\n",
      "\n",
      "Loading required package: survival\n",
      "\n",
      "Loading required package: Formula\n",
      "\n",
      "\n",
      "Attaching package: ‘Hmisc’\n",
      "\n",
      "\n",
      "The following objects are masked from ‘package:dplyr’:\n",
      "\n",
      "    src, summarize\n",
      "\n",
      "\n",
      "The following objects are masked from ‘package:base’:\n",
      "\n",
      "    format.pval, units\n",
      "\n",
      "\n"
     ]
    }
   ],
   "source": [
    "library(tidyverse)\n",
    "library(vegan)\n",
    "library(Hmisc) # for rcorr()"
   ]
  },
  {
   "cell_type": "markdown",
   "id": "ca5e095d-42d4-4011-8377-97aee7c1db5b",
   "metadata": {},
   "source": [
    "## The Doubs River data\n",
    "\n",
    "The background to the data is described by David Zelený on his excellent [website](https://www.davidzeleny.net/anadat-r/doku.php/en:data:doubs) and in the book **Numerical Ecology with R** by Borcard et al. (2011). These data are a beautiful example of how gradients structure biodiversity. It will be in your own interest to fully understand how the various environmental factors used as explanatory variables vary along a riverine gradient from the source to the terminus of the river.\n",
    "\n",
    "### Correlations between environmental variables"
   ]
  },
  {
   "cell_type": "code",
   "execution_count": 2,
   "id": "77ed771c-2f5c-4161-bbf9-6ecf37c4965e",
   "metadata": {},
   "outputs": [
    {
     "data": {
      "text/html": [
       "<table class=\"dataframe\">\n",
       "<caption>A data.frame: 1 × 12</caption>\n",
       "<thead>\n",
       "\t<tr><th></th><th scope=col>X</th><th scope=col>dfs</th><th scope=col>alt</th><th scope=col>slo</th><th scope=col>flo</th><th scope=col>pH</th><th scope=col>har</th><th scope=col>pho</th><th scope=col>nit</th><th scope=col>amm</th><th scope=col>oxy</th><th scope=col>bod</th></tr>\n",
       "\t<tr><th></th><th scope=col>&lt;int&gt;</th><th scope=col>&lt;dbl&gt;</th><th scope=col>&lt;int&gt;</th><th scope=col>&lt;dbl&gt;</th><th scope=col>&lt;dbl&gt;</th><th scope=col>&lt;dbl&gt;</th><th scope=col>&lt;int&gt;</th><th scope=col>&lt;dbl&gt;</th><th scope=col>&lt;dbl&gt;</th><th scope=col>&lt;dbl&gt;</th><th scope=col>&lt;dbl&gt;</th><th scope=col>&lt;dbl&gt;</th></tr>\n",
       "</thead>\n",
       "<tbody>\n",
       "\t<tr><th scope=row>1</th><td>1</td><td>0.3</td><td>934</td><td>48</td><td>0.84</td><td>7.9</td><td>45</td><td>0.01</td><td>0.2</td><td>0</td><td>12.2</td><td>2.7</td></tr>\n",
       "</tbody>\n",
       "</table>\n"
      ],
      "text/latex": [
       "A data.frame: 1 × 12\n",
       "\\begin{tabular}{r|llllllllllll}\n",
       "  & X & dfs & alt & slo & flo & pH & har & pho & nit & amm & oxy & bod\\\\\n",
       "  & <int> & <dbl> & <int> & <dbl> & <dbl> & <dbl> & <int> & <dbl> & <dbl> & <dbl> & <dbl> & <dbl>\\\\\n",
       "\\hline\n",
       "\t1 & 1 & 0.3 & 934 & 48 & 0.84 & 7.9 & 45 & 0.01 & 0.2 & 0 & 12.2 & 2.7\\\\\n",
       "\\end{tabular}\n"
      ],
      "text/markdown": [
       "\n",
       "A data.frame: 1 × 12\n",
       "\n",
       "| <!--/--> | X &lt;int&gt; | dfs &lt;dbl&gt; | alt &lt;int&gt; | slo &lt;dbl&gt; | flo &lt;dbl&gt; | pH &lt;dbl&gt; | har &lt;int&gt; | pho &lt;dbl&gt; | nit &lt;dbl&gt; | amm &lt;dbl&gt; | oxy &lt;dbl&gt; | bod &lt;dbl&gt; |\n",
       "|---|---|---|---|---|---|---|---|---|---|---|---|---|\n",
       "| 1 | 1 | 0.3 | 934 | 48 | 0.84 | 7.9 | 45 | 0.01 | 0.2 | 0 | 12.2 | 2.7 |\n",
       "\n"
      ],
      "text/plain": [
       "  X dfs alt slo flo  pH  har pho  nit amm oxy  bod\n",
       "1 1 0.3 934 48  0.84 7.9 45  0.01 0.2 0   12.2 2.7"
      ]
     },
     "metadata": {},
     "output_type": "display_data"
    },
    {
     "data": {
      "text/html": [
       "<table class=\"dataframe\">\n",
       "<caption>A data.frame: 6 × 11</caption>\n",
       "<thead>\n",
       "\t<tr><th></th><th scope=col>dfs</th><th scope=col>alt</th><th scope=col>slo</th><th scope=col>flo</th><th scope=col>pH</th><th scope=col>har</th><th scope=col>pho</th><th scope=col>nit</th><th scope=col>amm</th><th scope=col>oxy</th><th scope=col>bod</th></tr>\n",
       "\t<tr><th></th><th scope=col>&lt;dbl&gt;</th><th scope=col>&lt;int&gt;</th><th scope=col>&lt;dbl&gt;</th><th scope=col>&lt;dbl&gt;</th><th scope=col>&lt;dbl&gt;</th><th scope=col>&lt;int&gt;</th><th scope=col>&lt;dbl&gt;</th><th scope=col>&lt;dbl&gt;</th><th scope=col>&lt;dbl&gt;</th><th scope=col>&lt;dbl&gt;</th><th scope=col>&lt;dbl&gt;</th></tr>\n",
       "</thead>\n",
       "<tbody>\n",
       "\t<tr><th scope=row>1</th><td> 0.3</td><td>934</td><td>48.0</td><td>0.84</td><td>7.9</td><td>45</td><td>0.01</td><td>0.20</td><td>0.00</td><td>12.2</td><td>2.7</td></tr>\n",
       "\t<tr><th scope=row>2</th><td> 2.2</td><td>932</td><td> 3.0</td><td>1.00</td><td>8.0</td><td>40</td><td>0.02</td><td>0.20</td><td>0.10</td><td>10.3</td><td>1.9</td></tr>\n",
       "\t<tr><th scope=row>3</th><td>10.2</td><td>914</td><td> 3.7</td><td>1.80</td><td>8.3</td><td>52</td><td>0.05</td><td>0.22</td><td>0.05</td><td>10.5</td><td>3.5</td></tr>\n",
       "\t<tr><th scope=row>4</th><td>18.5</td><td>854</td><td> 3.2</td><td>2.53</td><td>8.0</td><td>72</td><td>0.10</td><td>0.21</td><td>0.00</td><td>11.0</td><td>1.3</td></tr>\n",
       "\t<tr><th scope=row>5</th><td>21.5</td><td>849</td><td> 2.3</td><td>2.64</td><td>8.1</td><td>84</td><td>0.38</td><td>0.52</td><td>0.20</td><td> 8.0</td><td>6.2</td></tr>\n",
       "\t<tr><th scope=row>6</th><td>32.4</td><td>846</td><td> 3.2</td><td>2.86</td><td>7.9</td><td>60</td><td>0.20</td><td>0.15</td><td>0.00</td><td>10.2</td><td>5.3</td></tr>\n",
       "</tbody>\n",
       "</table>\n"
      ],
      "text/latex": [
       "A data.frame: 6 × 11\n",
       "\\begin{tabular}{r|lllllllllll}\n",
       "  & dfs & alt & slo & flo & pH & har & pho & nit & amm & oxy & bod\\\\\n",
       "  & <dbl> & <int> & <dbl> & <dbl> & <dbl> & <int> & <dbl> & <dbl> & <dbl> & <dbl> & <dbl>\\\\\n",
       "\\hline\n",
       "\t1 &  0.3 & 934 & 48.0 & 0.84 & 7.9 & 45 & 0.01 & 0.20 & 0.00 & 12.2 & 2.7\\\\\n",
       "\t2 &  2.2 & 932 &  3.0 & 1.00 & 8.0 & 40 & 0.02 & 0.20 & 0.10 & 10.3 & 1.9\\\\\n",
       "\t3 & 10.2 & 914 &  3.7 & 1.80 & 8.3 & 52 & 0.05 & 0.22 & 0.05 & 10.5 & 3.5\\\\\n",
       "\t4 & 18.5 & 854 &  3.2 & 2.53 & 8.0 & 72 & 0.10 & 0.21 & 0.00 & 11.0 & 1.3\\\\\n",
       "\t5 & 21.5 & 849 &  2.3 & 2.64 & 8.1 & 84 & 0.38 & 0.52 & 0.20 &  8.0 & 6.2\\\\\n",
       "\t6 & 32.4 & 846 &  3.2 & 2.86 & 7.9 & 60 & 0.20 & 0.15 & 0.00 & 10.2 & 5.3\\\\\n",
       "\\end{tabular}\n"
      ],
      "text/markdown": [
       "\n",
       "A data.frame: 6 × 11\n",
       "\n",
       "| <!--/--> | dfs &lt;dbl&gt; | alt &lt;int&gt; | slo &lt;dbl&gt; | flo &lt;dbl&gt; | pH &lt;dbl&gt; | har &lt;int&gt; | pho &lt;dbl&gt; | nit &lt;dbl&gt; | amm &lt;dbl&gt; | oxy &lt;dbl&gt; | bod &lt;dbl&gt; |\n",
       "|---|---|---|---|---|---|---|---|---|---|---|---|\n",
       "| 1 |  0.3 | 934 | 48.0 | 0.84 | 7.9 | 45 | 0.01 | 0.20 | 0.00 | 12.2 | 2.7 |\n",
       "| 2 |  2.2 | 932 |  3.0 | 1.00 | 8.0 | 40 | 0.02 | 0.20 | 0.10 | 10.3 | 1.9 |\n",
       "| 3 | 10.2 | 914 |  3.7 | 1.80 | 8.3 | 52 | 0.05 | 0.22 | 0.05 | 10.5 | 3.5 |\n",
       "| 4 | 18.5 | 854 |  3.2 | 2.53 | 8.0 | 72 | 0.10 | 0.21 | 0.00 | 11.0 | 1.3 |\n",
       "| 5 | 21.5 | 849 |  2.3 | 2.64 | 8.1 | 84 | 0.38 | 0.52 | 0.20 |  8.0 | 6.2 |\n",
       "| 6 | 32.4 | 846 |  3.2 | 2.86 | 7.9 | 60 | 0.20 | 0.15 | 0.00 | 10.2 | 5.3 |\n",
       "\n"
      ],
      "text/plain": [
       "  dfs  alt slo  flo  pH  har pho  nit  amm  oxy  bod\n",
       "1  0.3 934 48.0 0.84 7.9 45  0.01 0.20 0.00 12.2 2.7\n",
       "2  2.2 932  3.0 1.00 8.0 40  0.02 0.20 0.10 10.3 1.9\n",
       "3 10.2 914  3.7 1.80 8.3 52  0.05 0.22 0.05 10.5 3.5\n",
       "4 18.5 854  3.2 2.53 8.0 72  0.10 0.21 0.00 11.0 1.3\n",
       "5 21.5 849  2.3 2.64 8.1 84  0.38 0.52 0.20  8.0 6.2\n",
       "6 32.4 846  3.2 2.86 7.9 60  0.20 0.15 0.00 10.2 5.3"
      ]
     },
     "metadata": {},
     "output_type": "display_data"
    }
   ],
   "source": [
    "env <- read.csv(\"/Users/ajsmit/Dropbox/R/workshops/Quantitative_Ecology/Num_Ecol_R_book_ed1/DoubsEnv.csv\")\n",
    "head(env, 1)\n",
    "# drop the first column\n",
    "env <- dplyr::select(env, -1)\n",
    "head(env)"
   ]
  },
  {
   "cell_type": "markdown",
   "id": "78bea42f-78dc-45f8-9d82-4beb18f85930",
   "metadata": {},
   "source": [
    "We use [correlations](https://ajsmit.github.io/Basic_stats/correlations.html) to establish how the environmental variables relate to one another across the sample sites. We do not need to standardise as one would do for the calculation of Euclidian distances, but in some instances data transformations might be necessary:"
   ]
  },
  {
   "cell_type": "code",
   "execution_count": 3,
   "id": "7d5d665d-4376-4dff-833c-9b251981ba5d",
   "metadata": {},
   "outputs": [
    {
     "data": {
      "text/html": [
       "<table class=\"dataframe\">\n",
       "<caption>A matrix: 11 × 11 of type dbl</caption>\n",
       "<thead>\n",
       "\t<tr><th></th><th scope=col>dfs</th><th scope=col>alt</th><th scope=col>slo</th><th scope=col>flo</th><th scope=col>pH</th><th scope=col>har</th><th scope=col>pho</th><th scope=col>nit</th><th scope=col>amm</th><th scope=col>oxy</th><th scope=col>bod</th></tr>\n",
       "</thead>\n",
       "<tbody>\n",
       "\t<tr><th scope=row>dfs</th><td> 1.00</td><td>-0.94</td><td>-0.38</td><td> 0.95</td><td> 0.01</td><td> 0.70</td><td> 0.48</td><td> 0.75</td><td> 0.41</td><td>-0.51</td><td> 0.39</td></tr>\n",
       "\t<tr><th scope=row>alt</th><td>-0.94</td><td> 1.00</td><td> 0.44</td><td>-0.87</td><td>-0.04</td><td>-0.74</td><td>-0.44</td><td>-0.76</td><td>-0.38</td><td> 0.36</td><td>-0.34</td></tr>\n",
       "\t<tr><th scope=row>slo</th><td>-0.38</td><td> 0.44</td><td> 1.00</td><td>-0.34</td><td>-0.22</td><td>-0.53</td><td>-0.19</td><td>-0.31</td><td>-0.17</td><td> 0.31</td><td>-0.18</td></tr>\n",
       "\t<tr><th scope=row>flo</th><td> 0.95</td><td>-0.87</td><td>-0.34</td><td> 1.00</td><td> 0.02</td><td> 0.70</td><td> 0.39</td><td> 0.61</td><td> 0.29</td><td>-0.36</td><td> 0.25</td></tr>\n",
       "\t<tr><th scope=row>pH</th><td> 0.01</td><td>-0.04</td><td>-0.22</td><td> 0.02</td><td> 1.00</td><td> 0.09</td><td>-0.08</td><td>-0.05</td><td>-0.12</td><td> 0.18</td><td>-0.15</td></tr>\n",
       "\t<tr><th scope=row>har</th><td> 0.70</td><td>-0.74</td><td>-0.53</td><td> 0.70</td><td> 0.09</td><td> 1.00</td><td> 0.36</td><td> 0.51</td><td> 0.29</td><td>-0.38</td><td> 0.34</td></tr>\n",
       "\t<tr><th scope=row>pho</th><td> 0.48</td><td>-0.44</td><td>-0.19</td><td> 0.39</td><td>-0.08</td><td> 0.36</td><td> 1.00</td><td> 0.80</td><td> 0.97</td><td>-0.72</td><td> 0.89</td></tr>\n",
       "\t<tr><th scope=row>nit</th><td> 0.75</td><td>-0.76</td><td>-0.31</td><td> 0.61</td><td>-0.05</td><td> 0.51</td><td> 0.80</td><td> 1.00</td><td> 0.80</td><td>-0.63</td><td> 0.64</td></tr>\n",
       "\t<tr><th scope=row>amm</th><td> 0.41</td><td>-0.38</td><td>-0.17</td><td> 0.29</td><td>-0.12</td><td> 0.29</td><td> 0.97</td><td> 0.80</td><td> 1.00</td><td>-0.72</td><td> 0.89</td></tr>\n",
       "\t<tr><th scope=row>oxy</th><td>-0.51</td><td> 0.36</td><td> 0.31</td><td>-0.36</td><td> 0.18</td><td>-0.38</td><td>-0.72</td><td>-0.63</td><td>-0.72</td><td> 1.00</td><td>-0.84</td></tr>\n",
       "\t<tr><th scope=row>bod</th><td> 0.39</td><td>-0.34</td><td>-0.18</td><td> 0.25</td><td>-0.15</td><td> 0.34</td><td> 0.89</td><td> 0.64</td><td> 0.89</td><td>-0.84</td><td> 1.00</td></tr>\n",
       "</tbody>\n",
       "</table>\n"
      ],
      "text/latex": [
       "A matrix: 11 × 11 of type dbl\n",
       "\\begin{tabular}{r|lllllllllll}\n",
       "  & dfs & alt & slo & flo & pH & har & pho & nit & amm & oxy & bod\\\\\n",
       "\\hline\n",
       "\tdfs &  1.00 & -0.94 & -0.38 &  0.95 &  0.01 &  0.70 &  0.48 &  0.75 &  0.41 & -0.51 &  0.39\\\\\n",
       "\talt & -0.94 &  1.00 &  0.44 & -0.87 & -0.04 & -0.74 & -0.44 & -0.76 & -0.38 &  0.36 & -0.34\\\\\n",
       "\tslo & -0.38 &  0.44 &  1.00 & -0.34 & -0.22 & -0.53 & -0.19 & -0.31 & -0.17 &  0.31 & -0.18\\\\\n",
       "\tflo &  0.95 & -0.87 & -0.34 &  1.00 &  0.02 &  0.70 &  0.39 &  0.61 &  0.29 & -0.36 &  0.25\\\\\n",
       "\tpH &  0.01 & -0.04 & -0.22 &  0.02 &  1.00 &  0.09 & -0.08 & -0.05 & -0.12 &  0.18 & -0.15\\\\\n",
       "\thar &  0.70 & -0.74 & -0.53 &  0.70 &  0.09 &  1.00 &  0.36 &  0.51 &  0.29 & -0.38 &  0.34\\\\\n",
       "\tpho &  0.48 & -0.44 & -0.19 &  0.39 & -0.08 &  0.36 &  1.00 &  0.80 &  0.97 & -0.72 &  0.89\\\\\n",
       "\tnit &  0.75 & -0.76 & -0.31 &  0.61 & -0.05 &  0.51 &  0.80 &  1.00 &  0.80 & -0.63 &  0.64\\\\\n",
       "\tamm &  0.41 & -0.38 & -0.17 &  0.29 & -0.12 &  0.29 &  0.97 &  0.80 &  1.00 & -0.72 &  0.89\\\\\n",
       "\toxy & -0.51 &  0.36 &  0.31 & -0.36 &  0.18 & -0.38 & -0.72 & -0.63 & -0.72 &  1.00 & -0.84\\\\\n",
       "\tbod &  0.39 & -0.34 & -0.18 &  0.25 & -0.15 &  0.34 &  0.89 &  0.64 &  0.89 & -0.84 &  1.00\\\\\n",
       "\\end{tabular}\n"
      ],
      "text/markdown": [
       "\n",
       "A matrix: 11 × 11 of type dbl\n",
       "\n",
       "| <!--/--> | dfs | alt | slo | flo | pH | har | pho | nit | amm | oxy | bod |\n",
       "|---|---|---|---|---|---|---|---|---|---|---|---|\n",
       "| dfs |  1.00 | -0.94 | -0.38 |  0.95 |  0.01 |  0.70 |  0.48 |  0.75 |  0.41 | -0.51 |  0.39 |\n",
       "| alt | -0.94 |  1.00 |  0.44 | -0.87 | -0.04 | -0.74 | -0.44 | -0.76 | -0.38 |  0.36 | -0.34 |\n",
       "| slo | -0.38 |  0.44 |  1.00 | -0.34 | -0.22 | -0.53 | -0.19 | -0.31 | -0.17 |  0.31 | -0.18 |\n",
       "| flo |  0.95 | -0.87 | -0.34 |  1.00 |  0.02 |  0.70 |  0.39 |  0.61 |  0.29 | -0.36 |  0.25 |\n",
       "| pH |  0.01 | -0.04 | -0.22 |  0.02 |  1.00 |  0.09 | -0.08 | -0.05 | -0.12 |  0.18 | -0.15 |\n",
       "| har |  0.70 | -0.74 | -0.53 |  0.70 |  0.09 |  1.00 |  0.36 |  0.51 |  0.29 | -0.38 |  0.34 |\n",
       "| pho |  0.48 | -0.44 | -0.19 |  0.39 | -0.08 |  0.36 |  1.00 |  0.80 |  0.97 | -0.72 |  0.89 |\n",
       "| nit |  0.75 | -0.76 | -0.31 |  0.61 | -0.05 |  0.51 |  0.80 |  1.00 |  0.80 | -0.63 |  0.64 |\n",
       "| amm |  0.41 | -0.38 | -0.17 |  0.29 | -0.12 |  0.29 |  0.97 |  0.80 |  1.00 | -0.72 |  0.89 |\n",
       "| oxy | -0.51 |  0.36 |  0.31 | -0.36 |  0.18 | -0.38 | -0.72 | -0.63 | -0.72 |  1.00 | -0.84 |\n",
       "| bod |  0.39 | -0.34 | -0.18 |  0.25 | -0.15 |  0.34 |  0.89 |  0.64 |  0.89 | -0.84 |  1.00 |\n",
       "\n"
      ],
      "text/plain": [
       "    dfs   alt   slo   flo   pH    har   pho   nit   amm   oxy   bod  \n",
       "dfs  1.00 -0.94 -0.38  0.95  0.01  0.70  0.48  0.75  0.41 -0.51  0.39\n",
       "alt -0.94  1.00  0.44 -0.87 -0.04 -0.74 -0.44 -0.76 -0.38  0.36 -0.34\n",
       "slo -0.38  0.44  1.00 -0.34 -0.22 -0.53 -0.19 -0.31 -0.17  0.31 -0.18\n",
       "flo  0.95 -0.87 -0.34  1.00  0.02  0.70  0.39  0.61  0.29 -0.36  0.25\n",
       "pH   0.01 -0.04 -0.22  0.02  1.00  0.09 -0.08 -0.05 -0.12  0.18 -0.15\n",
       "har  0.70 -0.74 -0.53  0.70  0.09  1.00  0.36  0.51  0.29 -0.38  0.34\n",
       "pho  0.48 -0.44 -0.19  0.39 -0.08  0.36  1.00  0.80  0.97 -0.72  0.89\n",
       "nit  0.75 -0.76 -0.31  0.61 -0.05  0.51  0.80  1.00  0.80 -0.63  0.64\n",
       "amm  0.41 -0.38 -0.17  0.29 -0.12  0.29  0.97  0.80  1.00 -0.72  0.89\n",
       "oxy -0.51  0.36  0.31 -0.36  0.18 -0.38 -0.72 -0.63 -0.72  1.00 -0.84\n",
       "bod  0.39 -0.34 -0.18  0.25 -0.15  0.34  0.89  0.64  0.89 -0.84  1.00"
      ]
     },
     "metadata": {},
     "output_type": "display_data"
    }
   ],
   "source": [
    "round(cor(env), 2)"
   ]
  },
  {
   "cell_type": "markdown",
   "id": "a3e7b5fe-a796-4509-9b24-7f9242b4bfc5",
   "metadata": {},
   "source": [
    "Or if we want to see the associated *p*-values to establish a statistical significance:"
   ]
  },
  {
   "cell_type": "code",
   "execution_count": 9,
   "id": "43c84825-9178-4510-8cab-957f87b25b37",
   "metadata": {},
   "outputs": [
    {
     "data": {
      "text/plain": [
       "      dfs   alt   slo   flo    pH   har   pho   nit   amm   oxy   bod\n",
       "dfs  1.00 -0.94 -0.38  0.95  0.01  0.70  0.48  0.75  0.41 -0.51  0.39\n",
       "alt -0.94  1.00  0.44 -0.87 -0.04 -0.74 -0.44 -0.76 -0.38  0.36 -0.34\n",
       "slo -0.38  0.44  1.00 -0.34 -0.22 -0.53 -0.19 -0.31 -0.17  0.31 -0.18\n",
       "flo  0.95 -0.87 -0.34  1.00  0.02  0.70  0.39  0.61  0.29 -0.36  0.25\n",
       "pH   0.01 -0.04 -0.22  0.02  1.00  0.09 -0.08 -0.05 -0.12  0.18 -0.15\n",
       "har  0.70 -0.74 -0.53  0.70  0.09  1.00  0.36  0.51  0.29 -0.38  0.34\n",
       "pho  0.48 -0.44 -0.19  0.39 -0.08  0.36  1.00  0.80  0.97 -0.72  0.89\n",
       "nit  0.75 -0.76 -0.31  0.61 -0.05  0.51  0.80  1.00  0.80 -0.63  0.64\n",
       "amm  0.41 -0.38 -0.17  0.29 -0.12  0.29  0.97  0.80  1.00 -0.72  0.89\n",
       "oxy -0.51  0.36  0.31 -0.36  0.18 -0.38 -0.72 -0.63 -0.72  1.00 -0.84\n",
       "bod  0.39 -0.34 -0.18  0.25 -0.15  0.34  0.89  0.64  0.89 -0.84  1.00\n",
       "\n",
       "n= 30 \n",
       "\n",
       "\n",
       "P\n",
       "    dfs    alt    slo    flo    pH     har    pho    nit    amm    oxy   \n",
       "dfs        0.0000 0.0365 0.0000 0.9771 0.0000 0.0076 0.0000 0.0251 0.0040\n",
       "alt 0.0000        0.0146 0.0000 0.8447 0.0000 0.0144 0.0000 0.0376 0.0493\n",
       "slo 0.0365 0.0146        0.0625 0.2362 0.0028 0.3067 0.0997 0.3593 0.1006\n",
       "flo 0.0000 0.0000 0.0625        0.9147 0.0000 0.0355 0.0004 0.1136 0.0522\n",
       "pH  0.9771 0.8447 0.2362 0.9147        0.6405 0.6619 0.7976 0.5134 0.3494\n",
       "har 0.0000 0.0000 0.0028 0.0000 0.6405        0.0481 0.0039 0.1191 0.0370\n",
       "pho 0.0076 0.0144 0.3067 0.0355 0.6619 0.0481        0.0000 0.0000 0.0000\n",
       "nit 0.0000 0.0000 0.0997 0.0004 0.7976 0.0039 0.0000        0.0000 0.0002\n",
       "amm 0.0251 0.0376 0.3593 0.1136 0.5134 0.1191 0.0000 0.0000        0.0000\n",
       "oxy 0.0040 0.0493 0.1006 0.0522 0.3494 0.0370 0.0000 0.0002 0.0000       \n",
       "bod 0.0309 0.0677 0.3546 0.1770 0.4232 0.0619 0.0000 0.0001 0.0000 0.0000\n",
       "    bod   \n",
       "dfs 0.0309\n",
       "alt 0.0677\n",
       "slo 0.3546\n",
       "flo 0.1770\n",
       "pH  0.4232\n",
       "har 0.0619\n",
       "pho 0.0000\n",
       "nit 0.0001\n",
       "amm 0.0000\n",
       "oxy 0.0000\n",
       "bod       "
      ]
     },
     "metadata": {},
     "output_type": "display_data"
    }
   ],
   "source": [
    "rcorr(as.matrix(env))"
   ]
  },
  {
   "cell_type": "markdown",
   "id": "a3958dda-6468-47a2-b36f-a5da239a29b5",
   "metadata": {},
   "source": [
    "### Questions (A)\n",
    "\n",
    "1. Create a plot of pairwise correlations.\n",
    "\n",
    "2. Name to two top positive and two top negative *statistically-significant* correlations.\n",
    "\n",
    "3. For each, discuss the mechanism behind the relationships. Why do these relationships exist?\n",
    "\n",
    "### Association between species\n",
    "\n",
    "The Doubs River fish species dataset is an example of abundance data and it will serve well to examine the properties of an association matrix:"
   ]
  },
  {
   "cell_type": "code",
   "execution_count": 5,
   "id": "d8748fe7-eb3b-4531-af62-cb90c9d708f0",
   "metadata": {},
   "outputs": [
    {
     "data": {
      "text/html": [
       "<table class=\"dataframe\">\n",
       "<caption>A data.frame: 6 × 27</caption>\n",
       "<thead>\n",
       "\t<tr><th></th><th scope=col>Cogo</th><th scope=col>Satr</th><th scope=col>Phph</th><th scope=col>Babl</th><th scope=col>Thth</th><th scope=col>Teso</th><th scope=col>Chna</th><th scope=col>Pato</th><th scope=col>Lele</th><th scope=col>Sqce</th><th scope=col>⋯</th><th scope=col>Scer</th><th scope=col>Cyca</th><th scope=col>Titi</th><th scope=col>Abbr</th><th scope=col>Icme</th><th scope=col>Gyce</th><th scope=col>Ruru</th><th scope=col>Blbj</th><th scope=col>Alal</th><th scope=col>Anan</th></tr>\n",
       "\t<tr><th></th><th scope=col>&lt;int&gt;</th><th scope=col>&lt;int&gt;</th><th scope=col>&lt;int&gt;</th><th scope=col>&lt;int&gt;</th><th scope=col>&lt;int&gt;</th><th scope=col>&lt;int&gt;</th><th scope=col>&lt;int&gt;</th><th scope=col>&lt;int&gt;</th><th scope=col>&lt;int&gt;</th><th scope=col>&lt;int&gt;</th><th scope=col>⋯</th><th scope=col>&lt;int&gt;</th><th scope=col>&lt;int&gt;</th><th scope=col>&lt;int&gt;</th><th scope=col>&lt;int&gt;</th><th scope=col>&lt;int&gt;</th><th scope=col>&lt;int&gt;</th><th scope=col>&lt;int&gt;</th><th scope=col>&lt;int&gt;</th><th scope=col>&lt;int&gt;</th><th scope=col>&lt;int&gt;</th></tr>\n",
       "</thead>\n",
       "<tbody>\n",
       "\t<tr><th scope=row>1</th><td>0</td><td>3</td><td>0</td><td>0</td><td>0</td><td>0</td><td>0</td><td>0</td><td>0</td><td>0</td><td>⋯</td><td>0</td><td>0</td><td>0</td><td>0</td><td>0</td><td>0</td><td>0</td><td>0</td><td>0</td><td>0</td></tr>\n",
       "\t<tr><th scope=row>2</th><td>0</td><td>5</td><td>4</td><td>3</td><td>0</td><td>0</td><td>0</td><td>0</td><td>0</td><td>0</td><td>⋯</td><td>0</td><td>0</td><td>0</td><td>0</td><td>0</td><td>0</td><td>0</td><td>0</td><td>0</td><td>0</td></tr>\n",
       "\t<tr><th scope=row>3</th><td>0</td><td>5</td><td>5</td><td>5</td><td>0</td><td>0</td><td>0</td><td>0</td><td>0</td><td>0</td><td>⋯</td><td>0</td><td>0</td><td>0</td><td>0</td><td>0</td><td>0</td><td>0</td><td>0</td><td>0</td><td>0</td></tr>\n",
       "\t<tr><th scope=row>4</th><td>0</td><td>4</td><td>5</td><td>5</td><td>0</td><td>0</td><td>0</td><td>0</td><td>0</td><td>1</td><td>⋯</td><td>0</td><td>0</td><td>1</td><td>0</td><td>0</td><td>0</td><td>0</td><td>0</td><td>0</td><td>0</td></tr>\n",
       "\t<tr><th scope=row>5</th><td>0</td><td>2</td><td>3</td><td>2</td><td>0</td><td>0</td><td>0</td><td>0</td><td>5</td><td>2</td><td>⋯</td><td>2</td><td>0</td><td>3</td><td>0</td><td>0</td><td>0</td><td>5</td><td>0</td><td>0</td><td>0</td></tr>\n",
       "\t<tr><th scope=row>6</th><td>0</td><td>3</td><td>4</td><td>5</td><td>0</td><td>0</td><td>0</td><td>0</td><td>1</td><td>2</td><td>⋯</td><td>0</td><td>0</td><td>2</td><td>0</td><td>0</td><td>0</td><td>1</td><td>0</td><td>0</td><td>0</td></tr>\n",
       "</tbody>\n",
       "</table>\n"
      ],
      "text/latex": [
       "A data.frame: 6 × 27\n",
       "\\begin{tabular}{r|lllllllllllllllllllll}\n",
       "  & Cogo & Satr & Phph & Babl & Thth & Teso & Chna & Pato & Lele & Sqce & ⋯ & Scer & Cyca & Titi & Abbr & Icme & Gyce & Ruru & Blbj & Alal & Anan\\\\\n",
       "  & <int> & <int> & <int> & <int> & <int> & <int> & <int> & <int> & <int> & <int> & ⋯ & <int> & <int> & <int> & <int> & <int> & <int> & <int> & <int> & <int> & <int>\\\\\n",
       "\\hline\n",
       "\t1 & 0 & 3 & 0 & 0 & 0 & 0 & 0 & 0 & 0 & 0 & ⋯ & 0 & 0 & 0 & 0 & 0 & 0 & 0 & 0 & 0 & 0\\\\\n",
       "\t2 & 0 & 5 & 4 & 3 & 0 & 0 & 0 & 0 & 0 & 0 & ⋯ & 0 & 0 & 0 & 0 & 0 & 0 & 0 & 0 & 0 & 0\\\\\n",
       "\t3 & 0 & 5 & 5 & 5 & 0 & 0 & 0 & 0 & 0 & 0 & ⋯ & 0 & 0 & 0 & 0 & 0 & 0 & 0 & 0 & 0 & 0\\\\\n",
       "\t4 & 0 & 4 & 5 & 5 & 0 & 0 & 0 & 0 & 0 & 1 & ⋯ & 0 & 0 & 1 & 0 & 0 & 0 & 0 & 0 & 0 & 0\\\\\n",
       "\t5 & 0 & 2 & 3 & 2 & 0 & 0 & 0 & 0 & 5 & 2 & ⋯ & 2 & 0 & 3 & 0 & 0 & 0 & 5 & 0 & 0 & 0\\\\\n",
       "\t6 & 0 & 3 & 4 & 5 & 0 & 0 & 0 & 0 & 1 & 2 & ⋯ & 0 & 0 & 2 & 0 & 0 & 0 & 1 & 0 & 0 & 0\\\\\n",
       "\\end{tabular}\n"
      ],
      "text/markdown": [
       "\n",
       "A data.frame: 6 × 27\n",
       "\n",
       "| <!--/--> | Cogo &lt;int&gt; | Satr &lt;int&gt; | Phph &lt;int&gt; | Babl &lt;int&gt; | Thth &lt;int&gt; | Teso &lt;int&gt; | Chna &lt;int&gt; | Pato &lt;int&gt; | Lele &lt;int&gt; | Sqce &lt;int&gt; | ⋯ ⋯ | Scer &lt;int&gt; | Cyca &lt;int&gt; | Titi &lt;int&gt; | Abbr &lt;int&gt; | Icme &lt;int&gt; | Gyce &lt;int&gt; | Ruru &lt;int&gt; | Blbj &lt;int&gt; | Alal &lt;int&gt; | Anan &lt;int&gt; |\n",
       "|---|---|---|---|---|---|---|---|---|---|---|---|---|---|---|---|---|---|---|---|---|---|\n",
       "| 1 | 0 | 3 | 0 | 0 | 0 | 0 | 0 | 0 | 0 | 0 | ⋯ | 0 | 0 | 0 | 0 | 0 | 0 | 0 | 0 | 0 | 0 |\n",
       "| 2 | 0 | 5 | 4 | 3 | 0 | 0 | 0 | 0 | 0 | 0 | ⋯ | 0 | 0 | 0 | 0 | 0 | 0 | 0 | 0 | 0 | 0 |\n",
       "| 3 | 0 | 5 | 5 | 5 | 0 | 0 | 0 | 0 | 0 | 0 | ⋯ | 0 | 0 | 0 | 0 | 0 | 0 | 0 | 0 | 0 | 0 |\n",
       "| 4 | 0 | 4 | 5 | 5 | 0 | 0 | 0 | 0 | 0 | 1 | ⋯ | 0 | 0 | 1 | 0 | 0 | 0 | 0 | 0 | 0 | 0 |\n",
       "| 5 | 0 | 2 | 3 | 2 | 0 | 0 | 0 | 0 | 5 | 2 | ⋯ | 2 | 0 | 3 | 0 | 0 | 0 | 5 | 0 | 0 | 0 |\n",
       "| 6 | 0 | 3 | 4 | 5 | 0 | 0 | 0 | 0 | 1 | 2 | ⋯ | 0 | 0 | 2 | 0 | 0 | 0 | 1 | 0 | 0 | 0 |\n",
       "\n"
      ],
      "text/plain": [
       "  Cogo Satr Phph Babl Thth Teso Chna Pato Lele Sqce ⋯ Scer Cyca Titi Abbr Icme\n",
       "1 0    3    0    0    0    0    0    0    0    0    ⋯ 0    0    0    0    0   \n",
       "2 0    5    4    3    0    0    0    0    0    0    ⋯ 0    0    0    0    0   \n",
       "3 0    5    5    5    0    0    0    0    0    0    ⋯ 0    0    0    0    0   \n",
       "4 0    4    5    5    0    0    0    0    0    1    ⋯ 0    0    1    0    0   \n",
       "5 0    2    3    2    0    0    0    0    5    2    ⋯ 2    0    3    0    0   \n",
       "6 0    3    4    5    0    0    0    0    1    2    ⋯ 0    0    2    0    0   \n",
       "  Gyce Ruru Blbj Alal Anan\n",
       "1 0    0    0    0    0   \n",
       "2 0    0    0    0    0   \n",
       "3 0    0    0    0    0   \n",
       "4 0    0    0    0    0   \n",
       "5 0    5    0    0    0   \n",
       "6 0    1    0    0    0   "
      ]
     },
     "metadata": {},
     "output_type": "display_data"
    }
   ],
   "source": [
    "spp <- read.csv(\"/Users/ajsmit/Dropbox/R/workshops/Quantitative_Ecology/Num_Ecol_R_book_ed1/DoubsSpe.csv\")\n",
    "spp <- dplyr::select(spp, -1)\n",
    "head(spp)"
   ]
  },
  {
   "cell_type": "markdown",
   "id": "8e7f03b3-5c61-4ae4-943e-13afd9a66f9f",
   "metadata": {},
   "source": [
    "In order to calculate an association matrix for the fish species we first need to transpose the data:"
   ]
  },
  {
   "cell_type": "code",
   "execution_count": 6,
   "id": "8219c517-011b-47a9-83dd-9ce5d9613fc7",
   "metadata": {},
   "outputs": [],
   "source": [
    "spp_t <- t(spp)"
   ]
  },
  {
   "cell_type": "markdown",
   "id": "d2cf2afb-a4d2-467e-957c-4951c1b21376",
   "metadata": {},
   "source": [
    "### Questions (B)\n",
    "\n",
    "1. Why do we need to transpose the data?\n",
    "\n",
    "2. What are the properties of a transposed species table?\n",
    "\n",
    "Now we can calculate the association matrix:"
   ]
  },
  {
   "cell_type": "code",
   "execution_count": 7,
   "id": "8b98d882-32e1-4d50-9d53-ce94edc60fc7",
   "metadata": {},
   "outputs": [
    {
     "data": {
      "text/html": [
       "<table class=\"dataframe\">\n",
       "<caption>A matrix: 10 × 10 of type dbl</caption>\n",
       "<thead>\n",
       "\t<tr><th></th><th scope=col>Cogo</th><th scope=col>Satr</th><th scope=col>Phph</th><th scope=col>Babl</th><th scope=col>Thth</th><th scope=col>Teso</th><th scope=col>Chna</th><th scope=col>Pato</th><th scope=col>Lele</th><th scope=col>Sqce</th></tr>\n",
       "</thead>\n",
       "<tbody>\n",
       "\t<tr><th scope=row>Cogo</th><td>0.0000000</td><td>0.7368421</td><td>0.7794118</td><td>0.7945205</td><td>0.3333333</td><td>0.4545455</td><td>0.9354839</td><td>0.8918919</td><td>0.8627451</td><td>0.8360656</td></tr>\n",
       "\t<tr><th scope=row>Satr</th><td>0.7368421</td><td>0.0000000</td><td>0.3108108</td><td>0.4705882</td><td>0.7368421</td><td>0.7333333</td><td>0.9583333</td><td>0.9078947</td><td>0.8235294</td><td>0.7978723</td></tr>\n",
       "\t<tr><th scope=row>Phph</th><td>0.7794118</td><td>0.3108108</td><td>0.0000000</td><td>0.2804878</td><td>0.7794118</td><td>0.7571429</td><td>0.9113924</td><td>0.7948718</td><td>0.7386364</td><td>0.7346939</td></tr>\n",
       "\t<tr><th scope=row>Babl</th><td>0.7945205</td><td>0.4705882</td><td>0.2804878</td><td>0.0000000</td><td>0.8108108</td><td>0.7397260</td><td>0.8481013</td><td>0.7307692</td><td>0.6666667</td><td>0.6562500</td></tr>\n",
       "\t<tr><th scope=row>Thth</th><td>0.3333333</td><td>0.7368421</td><td>0.7794118</td><td>0.8108108</td><td>0.0000000</td><td>0.5833333</td><td>0.9000000</td><td>0.9210526</td><td>0.9056604</td><td>0.8730159</td></tr>\n",
       "\t<tr><th scope=row>Teso</th><td>0.4545455</td><td>0.7333333</td><td>0.7571429</td><td>0.7397260</td><td>0.5833333</td><td>0.0000000</td><td>0.8787879</td><td>0.7500000</td><td>0.7346939</td><td>0.8281250</td></tr>\n",
       "\t<tr><th scope=row>Chna</th><td>0.9354839</td><td>0.9583333</td><td>0.9113924</td><td>0.8481013</td><td>0.9000000</td><td>0.8787879</td><td>0.0000000</td><td>0.4827586</td><td>0.6136364</td><td>0.7017544</td></tr>\n",
       "\t<tr><th scope=row>Pato</th><td>0.8918919</td><td>0.9078947</td><td>0.7948718</td><td>0.7307692</td><td>0.9210526</td><td>0.7500000</td><td>0.4827586</td><td>0.0000000</td><td>0.5000000</td><td>0.6774194</td></tr>\n",
       "\t<tr><th scope=row>Lele</th><td>0.8627451</td><td>0.8235294</td><td>0.7386364</td><td>0.6666667</td><td>0.9056604</td><td>0.7346939</td><td>0.6136364</td><td>0.5000000</td><td>0.0000000</td><td>0.4531250</td></tr>\n",
       "\t<tr><th scope=row>Sqce</th><td>0.8360656</td><td>0.7978723</td><td>0.7346939</td><td>0.6562500</td><td>0.8730159</td><td>0.8281250</td><td>0.7017544</td><td>0.6774194</td><td>0.4531250</td><td>0.0000000</td></tr>\n",
       "</tbody>\n",
       "</table>\n"
      ],
      "text/latex": [
       "A matrix: 10 × 10 of type dbl\n",
       "\\begin{tabular}{r|llllllllll}\n",
       "  & Cogo & Satr & Phph & Babl & Thth & Teso & Chna & Pato & Lele & Sqce\\\\\n",
       "\\hline\n",
       "\tCogo & 0.0000000 & 0.7368421 & 0.7794118 & 0.7945205 & 0.3333333 & 0.4545455 & 0.9354839 & 0.8918919 & 0.8627451 & 0.8360656\\\\\n",
       "\tSatr & 0.7368421 & 0.0000000 & 0.3108108 & 0.4705882 & 0.7368421 & 0.7333333 & 0.9583333 & 0.9078947 & 0.8235294 & 0.7978723\\\\\n",
       "\tPhph & 0.7794118 & 0.3108108 & 0.0000000 & 0.2804878 & 0.7794118 & 0.7571429 & 0.9113924 & 0.7948718 & 0.7386364 & 0.7346939\\\\\n",
       "\tBabl & 0.7945205 & 0.4705882 & 0.2804878 & 0.0000000 & 0.8108108 & 0.7397260 & 0.8481013 & 0.7307692 & 0.6666667 & 0.6562500\\\\\n",
       "\tThth & 0.3333333 & 0.7368421 & 0.7794118 & 0.8108108 & 0.0000000 & 0.5833333 & 0.9000000 & 0.9210526 & 0.9056604 & 0.8730159\\\\\n",
       "\tTeso & 0.4545455 & 0.7333333 & 0.7571429 & 0.7397260 & 0.5833333 & 0.0000000 & 0.8787879 & 0.7500000 & 0.7346939 & 0.8281250\\\\\n",
       "\tChna & 0.9354839 & 0.9583333 & 0.9113924 & 0.8481013 & 0.9000000 & 0.8787879 & 0.0000000 & 0.4827586 & 0.6136364 & 0.7017544\\\\\n",
       "\tPato & 0.8918919 & 0.9078947 & 0.7948718 & 0.7307692 & 0.9210526 & 0.7500000 & 0.4827586 & 0.0000000 & 0.5000000 & 0.6774194\\\\\n",
       "\tLele & 0.8627451 & 0.8235294 & 0.7386364 & 0.6666667 & 0.9056604 & 0.7346939 & 0.6136364 & 0.5000000 & 0.0000000 & 0.4531250\\\\\n",
       "\tSqce & 0.8360656 & 0.7978723 & 0.7346939 & 0.6562500 & 0.8730159 & 0.8281250 & 0.7017544 & 0.6774194 & 0.4531250 & 0.0000000\\\\\n",
       "\\end{tabular}\n"
      ],
      "text/markdown": [
       "\n",
       "A matrix: 10 × 10 of type dbl\n",
       "\n",
       "| <!--/--> | Cogo | Satr | Phph | Babl | Thth | Teso | Chna | Pato | Lele | Sqce |\n",
       "|---|---|---|---|---|---|---|---|---|---|---|\n",
       "| Cogo | 0.0000000 | 0.7368421 | 0.7794118 | 0.7945205 | 0.3333333 | 0.4545455 | 0.9354839 | 0.8918919 | 0.8627451 | 0.8360656 |\n",
       "| Satr | 0.7368421 | 0.0000000 | 0.3108108 | 0.4705882 | 0.7368421 | 0.7333333 | 0.9583333 | 0.9078947 | 0.8235294 | 0.7978723 |\n",
       "| Phph | 0.7794118 | 0.3108108 | 0.0000000 | 0.2804878 | 0.7794118 | 0.7571429 | 0.9113924 | 0.7948718 | 0.7386364 | 0.7346939 |\n",
       "| Babl | 0.7945205 | 0.4705882 | 0.2804878 | 0.0000000 | 0.8108108 | 0.7397260 | 0.8481013 | 0.7307692 | 0.6666667 | 0.6562500 |\n",
       "| Thth | 0.3333333 | 0.7368421 | 0.7794118 | 0.8108108 | 0.0000000 | 0.5833333 | 0.9000000 | 0.9210526 | 0.9056604 | 0.8730159 |\n",
       "| Teso | 0.4545455 | 0.7333333 | 0.7571429 | 0.7397260 | 0.5833333 | 0.0000000 | 0.8787879 | 0.7500000 | 0.7346939 | 0.8281250 |\n",
       "| Chna | 0.9354839 | 0.9583333 | 0.9113924 | 0.8481013 | 0.9000000 | 0.8787879 | 0.0000000 | 0.4827586 | 0.6136364 | 0.7017544 |\n",
       "| Pato | 0.8918919 | 0.9078947 | 0.7948718 | 0.7307692 | 0.9210526 | 0.7500000 | 0.4827586 | 0.0000000 | 0.5000000 | 0.6774194 |\n",
       "| Lele | 0.8627451 | 0.8235294 | 0.7386364 | 0.6666667 | 0.9056604 | 0.7346939 | 0.6136364 | 0.5000000 | 0.0000000 | 0.4531250 |\n",
       "| Sqce | 0.8360656 | 0.7978723 | 0.7346939 | 0.6562500 | 0.8730159 | 0.8281250 | 0.7017544 | 0.6774194 | 0.4531250 | 0.0000000 |\n",
       "\n"
      ],
      "text/plain": [
       "     Cogo      Satr      Phph      Babl      Thth      Teso      Chna     \n",
       "Cogo 0.0000000 0.7368421 0.7794118 0.7945205 0.3333333 0.4545455 0.9354839\n",
       "Satr 0.7368421 0.0000000 0.3108108 0.4705882 0.7368421 0.7333333 0.9583333\n",
       "Phph 0.7794118 0.3108108 0.0000000 0.2804878 0.7794118 0.7571429 0.9113924\n",
       "Babl 0.7945205 0.4705882 0.2804878 0.0000000 0.8108108 0.7397260 0.8481013\n",
       "Thth 0.3333333 0.7368421 0.7794118 0.8108108 0.0000000 0.5833333 0.9000000\n",
       "Teso 0.4545455 0.7333333 0.7571429 0.7397260 0.5833333 0.0000000 0.8787879\n",
       "Chna 0.9354839 0.9583333 0.9113924 0.8481013 0.9000000 0.8787879 0.0000000\n",
       "Pato 0.8918919 0.9078947 0.7948718 0.7307692 0.9210526 0.7500000 0.4827586\n",
       "Lele 0.8627451 0.8235294 0.7386364 0.6666667 0.9056604 0.7346939 0.6136364\n",
       "Sqce 0.8360656 0.7978723 0.7346939 0.6562500 0.8730159 0.8281250 0.7017544\n",
       "     Pato      Lele      Sqce     \n",
       "Cogo 0.8918919 0.8627451 0.8360656\n",
       "Satr 0.9078947 0.8235294 0.7978723\n",
       "Phph 0.7948718 0.7386364 0.7346939\n",
       "Babl 0.7307692 0.6666667 0.6562500\n",
       "Thth 0.9210526 0.9056604 0.8730159\n",
       "Teso 0.7500000 0.7346939 0.8281250\n",
       "Chna 0.4827586 0.6136364 0.7017544\n",
       "Pato 0.0000000 0.5000000 0.6774194\n",
       "Lele 0.5000000 0.0000000 0.4531250\n",
       "Sqce 0.6774194 0.4531250 0.0000000"
      ]
     },
     "metadata": {},
     "output_type": "display_data"
    }
   ],
   "source": [
    "spp_assoc1 <- vegdist(spp_t, method = \"jaccard\")\n",
    "as.matrix((spp_assoc1))[1:10, 1:10] # display only a portion of the data"
   ]
  },
  {
   "cell_type": "code",
   "execution_count": 8,
   "id": "f6a81eb0-b65d-4046-8e6f-f33b5a44702b",
   "metadata": {},
   "outputs": [
    {
     "data": {
      "text/html": [
       "<table class=\"dataframe\">\n",
       "<caption>A matrix: 10 × 10 of type dbl</caption>\n",
       "<thead>\n",
       "\t<tr><th></th><th scope=col>Cogo</th><th scope=col>Satr</th><th scope=col>Phph</th><th scope=col>Babl</th><th scope=col>Thth</th><th scope=col>Teso</th><th scope=col>Chna</th><th scope=col>Pato</th><th scope=col>Lele</th><th scope=col>Sqce</th></tr>\n",
       "</thead>\n",
       "<tbody>\n",
       "\t<tr><th scope=row>Cogo</th><td>0.0000000</td><td>0.5294118</td><td>0.6000000</td><td>0.6666667</td><td>0.2222222</td><td>0.4000000</td><td>0.8888889</td><td>0.8125000</td><td>0.8181818</td><td>0.7307692</td></tr>\n",
       "\t<tr><th scope=row>Satr</th><td>0.5294118</td><td>0.0000000</td><td>0.2380952</td><td>0.3600000</td><td>0.5294118</td><td>0.6111111</td><td>0.8846154</td><td>0.8333333</td><td>0.6538462</td><td>0.5517241</td></tr>\n",
       "\t<tr><th scope=row>Phph</th><td>0.6000000</td><td>0.2380952</td><td>0.0000000</td><td>0.1666667</td><td>0.6000000</td><td>0.6000000</td><td>0.7692308</td><td>0.7083333</td><td>0.5384615</td><td>0.3928571</td></tr>\n",
       "\t<tr><th scope=row>Babl</th><td>0.6666667</td><td>0.3600000</td><td>0.1666667</td><td>0.0000000</td><td>0.6666667</td><td>0.6666667</td><td>0.6153846</td><td>0.6000000</td><td>0.3846154</td><td>0.2500000</td></tr>\n",
       "\t<tr><th scope=row>Thth</th><td>0.2222222</td><td>0.5294118</td><td>0.6000000</td><td>0.6666667</td><td>0.0000000</td><td>0.4000000</td><td>0.8235294</td><td>0.8125000</td><td>0.8181818</td><td>0.7307692</td></tr>\n",
       "\t<tr><th scope=row>Teso</th><td>0.4000000</td><td>0.6111111</td><td>0.6000000</td><td>0.6666667</td><td>0.4000000</td><td>0.0000000</td><td>0.7500000</td><td>0.6428571</td><td>0.7000000</td><td>0.7307692</td></tr>\n",
       "\t<tr><th scope=row>Chna</th><td>0.8888889</td><td>0.8846154</td><td>0.7692308</td><td>0.6153846</td><td>0.8235294</td><td>0.7500000</td><td>0.0000000</td><td>0.2307692</td><td>0.4210526</td><td>0.5200000</td></tr>\n",
       "\t<tr><th scope=row>Pato</th><td>0.8125000</td><td>0.8333333</td><td>0.7083333</td><td>0.6000000</td><td>0.8125000</td><td>0.6428571</td><td>0.2307692</td><td>0.0000000</td><td>0.3888889</td><td>0.5600000</td></tr>\n",
       "\t<tr><th scope=row>Lele</th><td>0.8181818</td><td>0.6538462</td><td>0.5384615</td><td>0.3846154</td><td>0.8181818</td><td>0.7000000</td><td>0.4210526</td><td>0.3888889</td><td>0.0000000</td><td>0.2800000</td></tr>\n",
       "\t<tr><th scope=row>Sqce</th><td>0.7307692</td><td>0.5517241</td><td>0.3928571</td><td>0.2500000</td><td>0.7307692</td><td>0.7307692</td><td>0.5200000</td><td>0.5600000</td><td>0.2800000</td><td>0.0000000</td></tr>\n",
       "</tbody>\n",
       "</table>\n"
      ],
      "text/latex": [
       "A matrix: 10 × 10 of type dbl\n",
       "\\begin{tabular}{r|llllllllll}\n",
       "  & Cogo & Satr & Phph & Babl & Thth & Teso & Chna & Pato & Lele & Sqce\\\\\n",
       "\\hline\n",
       "\tCogo & 0.0000000 & 0.5294118 & 0.6000000 & 0.6666667 & 0.2222222 & 0.4000000 & 0.8888889 & 0.8125000 & 0.8181818 & 0.7307692\\\\\n",
       "\tSatr & 0.5294118 & 0.0000000 & 0.2380952 & 0.3600000 & 0.5294118 & 0.6111111 & 0.8846154 & 0.8333333 & 0.6538462 & 0.5517241\\\\\n",
       "\tPhph & 0.6000000 & 0.2380952 & 0.0000000 & 0.1666667 & 0.6000000 & 0.6000000 & 0.7692308 & 0.7083333 & 0.5384615 & 0.3928571\\\\\n",
       "\tBabl & 0.6666667 & 0.3600000 & 0.1666667 & 0.0000000 & 0.6666667 & 0.6666667 & 0.6153846 & 0.6000000 & 0.3846154 & 0.2500000\\\\\n",
       "\tThth & 0.2222222 & 0.5294118 & 0.6000000 & 0.6666667 & 0.0000000 & 0.4000000 & 0.8235294 & 0.8125000 & 0.8181818 & 0.7307692\\\\\n",
       "\tTeso & 0.4000000 & 0.6111111 & 0.6000000 & 0.6666667 & 0.4000000 & 0.0000000 & 0.7500000 & 0.6428571 & 0.7000000 & 0.7307692\\\\\n",
       "\tChna & 0.8888889 & 0.8846154 & 0.7692308 & 0.6153846 & 0.8235294 & 0.7500000 & 0.0000000 & 0.2307692 & 0.4210526 & 0.5200000\\\\\n",
       "\tPato & 0.8125000 & 0.8333333 & 0.7083333 & 0.6000000 & 0.8125000 & 0.6428571 & 0.2307692 & 0.0000000 & 0.3888889 & 0.5600000\\\\\n",
       "\tLele & 0.8181818 & 0.6538462 & 0.5384615 & 0.3846154 & 0.8181818 & 0.7000000 & 0.4210526 & 0.3888889 & 0.0000000 & 0.2800000\\\\\n",
       "\tSqce & 0.7307692 & 0.5517241 & 0.3928571 & 0.2500000 & 0.7307692 & 0.7307692 & 0.5200000 & 0.5600000 & 0.2800000 & 0.0000000\\\\\n",
       "\\end{tabular}\n"
      ],
      "text/markdown": [
       "\n",
       "A matrix: 10 × 10 of type dbl\n",
       "\n",
       "| <!--/--> | Cogo | Satr | Phph | Babl | Thth | Teso | Chna | Pato | Lele | Sqce |\n",
       "|---|---|---|---|---|---|---|---|---|---|---|\n",
       "| Cogo | 0.0000000 | 0.5294118 | 0.6000000 | 0.6666667 | 0.2222222 | 0.4000000 | 0.8888889 | 0.8125000 | 0.8181818 | 0.7307692 |\n",
       "| Satr | 0.5294118 | 0.0000000 | 0.2380952 | 0.3600000 | 0.5294118 | 0.6111111 | 0.8846154 | 0.8333333 | 0.6538462 | 0.5517241 |\n",
       "| Phph | 0.6000000 | 0.2380952 | 0.0000000 | 0.1666667 | 0.6000000 | 0.6000000 | 0.7692308 | 0.7083333 | 0.5384615 | 0.3928571 |\n",
       "| Babl | 0.6666667 | 0.3600000 | 0.1666667 | 0.0000000 | 0.6666667 | 0.6666667 | 0.6153846 | 0.6000000 | 0.3846154 | 0.2500000 |\n",
       "| Thth | 0.2222222 | 0.5294118 | 0.6000000 | 0.6666667 | 0.0000000 | 0.4000000 | 0.8235294 | 0.8125000 | 0.8181818 | 0.7307692 |\n",
       "| Teso | 0.4000000 | 0.6111111 | 0.6000000 | 0.6666667 | 0.4000000 | 0.0000000 | 0.7500000 | 0.6428571 | 0.7000000 | 0.7307692 |\n",
       "| Chna | 0.8888889 | 0.8846154 | 0.7692308 | 0.6153846 | 0.8235294 | 0.7500000 | 0.0000000 | 0.2307692 | 0.4210526 | 0.5200000 |\n",
       "| Pato | 0.8125000 | 0.8333333 | 0.7083333 | 0.6000000 | 0.8125000 | 0.6428571 | 0.2307692 | 0.0000000 | 0.3888889 | 0.5600000 |\n",
       "| Lele | 0.8181818 | 0.6538462 | 0.5384615 | 0.3846154 | 0.8181818 | 0.7000000 | 0.4210526 | 0.3888889 | 0.0000000 | 0.2800000 |\n",
       "| Sqce | 0.7307692 | 0.5517241 | 0.3928571 | 0.2500000 | 0.7307692 | 0.7307692 | 0.5200000 | 0.5600000 | 0.2800000 | 0.0000000 |\n",
       "\n"
      ],
      "text/plain": [
       "     Cogo      Satr      Phph      Babl      Thth      Teso      Chna     \n",
       "Cogo 0.0000000 0.5294118 0.6000000 0.6666667 0.2222222 0.4000000 0.8888889\n",
       "Satr 0.5294118 0.0000000 0.2380952 0.3600000 0.5294118 0.6111111 0.8846154\n",
       "Phph 0.6000000 0.2380952 0.0000000 0.1666667 0.6000000 0.6000000 0.7692308\n",
       "Babl 0.6666667 0.3600000 0.1666667 0.0000000 0.6666667 0.6666667 0.6153846\n",
       "Thth 0.2222222 0.5294118 0.6000000 0.6666667 0.0000000 0.4000000 0.8235294\n",
       "Teso 0.4000000 0.6111111 0.6000000 0.6666667 0.4000000 0.0000000 0.7500000\n",
       "Chna 0.8888889 0.8846154 0.7692308 0.6153846 0.8235294 0.7500000 0.0000000\n",
       "Pato 0.8125000 0.8333333 0.7083333 0.6000000 0.8125000 0.6428571 0.2307692\n",
       "Lele 0.8181818 0.6538462 0.5384615 0.3846154 0.8181818 0.7000000 0.4210526\n",
       "Sqce 0.7307692 0.5517241 0.3928571 0.2500000 0.7307692 0.7307692 0.5200000\n",
       "     Pato      Lele      Sqce     \n",
       "Cogo 0.8125000 0.8181818 0.7307692\n",
       "Satr 0.8333333 0.6538462 0.5517241\n",
       "Phph 0.7083333 0.5384615 0.3928571\n",
       "Babl 0.6000000 0.3846154 0.2500000\n",
       "Thth 0.8125000 0.8181818 0.7307692\n",
       "Teso 0.6428571 0.7000000 0.7307692\n",
       "Chna 0.2307692 0.4210526 0.5200000\n",
       "Pato 0.0000000 0.3888889 0.5600000\n",
       "Lele 0.3888889 0.0000000 0.2800000\n",
       "Sqce 0.5600000 0.2800000 0.0000000"
      ]
     },
     "metadata": {},
     "output_type": "display_data"
    }
   ],
   "source": [
    "spp_assoc2 <- vegdist(spp_t, method = \"jaccard\", binary = TRUE)\n",
    "as.matrix((spp_assoc2))[1:10, 1:10] # display only a portion of the data"
   ]
  },
  {
   "cell_type": "markdown",
   "id": "601a5d70-d557-429e-8a8f-3adaffef0068",
   "metadata": {},
   "source": [
    "### Questions (C)\n",
    "\n",
    "1. What are the properties of an association matrix? How do these properties differ from that of a i) species dissmilarity matrix and from a ii) correlation matrix?\n",
    "\n",
    "2. What is the difference between `spp_assoc1` and `spp_assoc2`? Is the information contained in each markedly different from the other?\n",
    "\n",
    "3. Explain the kind of insight we are able to glean from a species association matrix.\n",
    "\n",
    "Submit an R script wherein you provide answers to these questions by no later than 17:00 on Tuesday 6 July 2021.\n",
    "    \n",
    "# References\n",
    "\n",
    "Borcard, D., Gillet, F. & Legendre, P. (2011) Numerical Ecology with R. Springer."
   ]
  }
 ],
 "metadata": {
  "kernelspec": {
   "display_name": "R",
   "language": "R",
   "name": "ir"
  },
  "language_info": {
   "codemirror_mode": "r",
   "file_extension": ".r",
   "mimetype": "text/x-r-source",
   "name": "R",
   "pygments_lexer": "r",
   "version": "4.1.0"
  }
 },
 "nbformat": 4,
 "nbformat_minor": 5
}
