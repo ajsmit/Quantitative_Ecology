{
 "cells": [
  {
   "cell_type": "markdown",
   "id": "9611fb61-87dd-40dc-92f2-446f381dbced",
   "metadata": {},
   "source": [
    "**Author:** Prof. AJ Smit\n",
    "\n",
    "Department of Biodiversity and Conservation Biology\n",
    "\n",
    "University of the Western Cape"
   ]
  },
  {
   "cell_type": "markdown",
   "id": "d1110adc-5d0b-479d-b434-f0085ead12f5",
   "metadata": {},
   "source": [
    "# Topic 17: Redundancy Analysis (RDA)\n",
    "\n",
    "Here we use a distance-based Redundancy Analysis (db-RDA) implemented in **vegan**'s `capscale()`. The helpfile states: \"Distance-based redundancy analysis (dbRDA) is an ordination method similar to Redundancy Analysis (rda), but it allows non-Euclidean dissimilarity indices, such as Manhattan or Bray–Curtis distance.\"\n",
    "\n",
    "## The seaweed dataset\n",
    "For this example we will use the seaweed data of Smit et al. (2017). Please make sure that you read it! For information about the study, see:\n",
    "\n",
    "https://github.com/ajsmit/Quantitative_Ecology/blob/main/_GitBook/LaTeX/The_seaweed_data.pdf\n",
    "\n",
    "I use two data sets. The first, $Y$ (in the file `seaweeds.csv`), comprises distribution records of 847 macroalgal species within each of 58 × 50 km-long sections of the South African coast (updated from Bolton and Stegenga  2002). This represents *ca*. 90% of the known seaweed flora of South Africa, but excludes some very small and/or very rare species for which data are insufficient. The data are from verifiable literature sources and John Bolton and Rob Anderson's own collections, assembled from information collected by teams of phycologists over three decades (Bolton 1986; Stegenga et al. 1997; Bolton and Stegenga 2002; De Clerck et al. 2005). \n",
    "\n",
    "The second, $E$ (in `env.csv`), is a dataset of *in situ* coastal seawater temperatures (Smit et al. 2013) derived from daily measurements over up to 40 years.\n",
    "\n",
    "## Set-up the analysis environment"
   ]
  },
  {
   "cell_type": "code",
   "execution_count": 24,
   "id": "c9d863e9-4860-43ff-91aa-75dafe2c1c0a",
   "metadata": {},
   "outputs": [],
   "source": [
    "library(tidyverse)\n",
    "library(betapart)\n",
    "library(vegan)\n",
    "library(gridExtra)\n",
    "library(grid)\n",
    "library(gridBase)\n",
    "library(tidyr)"
   ]
  },
  {
   "cell_type": "markdown",
   "id": "19b148cf-0908-4b44-9940-885cae01a910",
   "metadata": {},
   "source": [
    "Load the seaweed data:"
   ]
  },
  {
   "cell_type": "code",
   "execution_count": 25,
   "id": "23758853-1ecd-4abe-900f-8812e4f3e332",
   "metadata": {},
   "outputs": [
    {
     "data": {
      "text/html": [
       "<style>\n",
       ".list-inline {list-style: none; margin:0; padding: 0}\n",
       ".list-inline>li {display: inline-block}\n",
       ".list-inline>li:not(:last-child)::after {content: \"\\00b7\"; padding: 0 .5ex}\n",
       "</style>\n",
       "<ol class=list-inline><li>58</li><li>847</li></ol>\n"
      ],
      "text/latex": [
       "\\begin{enumerate*}\n",
       "\\item 58\n",
       "\\item 847\n",
       "\\end{enumerate*}\n"
      ],
      "text/markdown": [
       "1. 58\n",
       "2. 847\n",
       "\n",
       "\n"
      ],
      "text/plain": [
       "[1]  58 847"
      ]
     },
     "metadata": {},
     "output_type": "display_data"
    }
   ],
   "source": [
    "spp <- read.csv('/Users/ajsmit/Dropbox/R/workshops/Quantitative_Ecology/exercises/diversity/SeaweedsSpp.csv')\n",
    "spp <- dplyr::select(spp, -1)\n",
    "dim(spp)"
   ]
  },
  {
   "cell_type": "markdown",
   "id": "241e0d54-59ad-4e63-a431-029d6a3576f2",
   "metadata": {},
   "source": [
    "## Set-up the data\n",
    "\n",
    "The first step involves the species table ($Y$). First I compute the Sørensen dissimilarity, which I then decompose into ‘nestedness-resultant’ ($\\beta_\\text{sne}$) and ‘turnover’ ($\\beta_\\text{sim}$) components using the `betapart.core()` and `betapart.pair()` functions of the **betapart** package (Baselga et al., 2017). These are placed into the matrices $Y1$ and $Y2$. It is not necessary to decompose into $Y1$ and $Y2$, but I do so here because I want to focus on the turnover component without a nestedness-resultant influence. Optionally, I can apply a CA, PCoA, or nMDS on $Y$ to find the major patterns in the community data. The formal analysis will use the species data in a distance-based redundancy analyses (db-RDA as per **vegan**'s `capscale()` function) by coupling it with $E$."
   ]
  },
  {
   "cell_type": "code",
   "execution_count": 26,
   "id": "84f19d5b-1ccf-42ae-8563-03f051d952a3",
   "metadata": {},
   "outputs": [],
   "source": [
    "Y.core <- betapart.core(spp) \n",
    "Y.pair <- beta.pair(Y.core, index.family = \"sor\")\n",
    "\n",
    "# Let Y1 be the turnover component (beta-sim):\n",
    "Y1 <- as.matrix(Y.pair$beta.sim)"
   ]
  },
  {
   "cell_type": "markdown",
   "id": "06d581ea-024b-4134-898b-6ebfbbd7c812",
   "metadata": {},
   "source": [
    "It is now necessary to load the environmental data and some setup files that partition the 58 coastal sections (and the species and environmental data that fall within these sections) into bioregions.\n",
    "\n",
    "The thermal (environmental) data contain various variables, but in the analysis I use only some of them. These data were obtained from many sites along the South African coast, but using interpolation (not included here) I calculated the thermal properties for each of the coastal sections for which seaweed data are available. Consequently we have a data frame with 58 rows and a column for each of the thermal metrics."
   ]
  },
  {
   "cell_type": "code",
   "execution_count": 4,
   "id": "633f2cd0-4760-4408-8751-7b4b2d6b1c0b",
   "metadata": {},
   "outputs": [
    {
     "data": {
      "text/html": [
       "<style>\n",
       ".list-inline {list-style: none; margin:0; padding: 0}\n",
       ".list-inline>li {display: inline-block}\n",
       ".list-inline>li:not(:last-child)::after {content: \"\\00b7\"; padding: 0 .5ex}\n",
       "</style>\n",
       "<ol class=list-inline><li>58</li><li>18</li></ol>\n"
      ],
      "text/latex": [
       "\\begin{enumerate*}\n",
       "\\item 58\n",
       "\\item 18\n",
       "\\end{enumerate*}\n"
      ],
      "text/markdown": [
       "1. 58\n",
       "2. 18\n",
       "\n",
       "\n"
      ],
      "text/plain": [
       "[1] 58 18"
      ]
     },
     "metadata": {},
     "output_type": "display_data"
    }
   ],
   "source": [
    "load(\"/Users/ajsmit/Dropbox/R/workshops/Quantitative_Ecology/exercises/diversity/SeaweedEnv.RData\")\n",
    "dim(env)"
   ]
  },
  {
   "cell_type": "markdown",
   "id": "1fd47bb2-cb87-475b-8819-9253ed795da0",
   "metadata": {},
   "source": [
    "Note that they have the same number of rows as the seaweed data.\n",
    "\n",
    "I select only some of the thermal vars; the rest are collinear with some of the ones I import:"
   ]
  },
  {
   "cell_type": "code",
   "execution_count": 28,
   "id": "8d212a33-e5cd-48a6-aba4-90e02ba9591a",
   "metadata": {},
   "outputs": [],
   "source": [
    "E1 <- dplyr::select(env, febMean, febRange, febSD, augMean,\n",
    "                    augRange, augSD, annMean, annRange, annSD)"
   ]
  },
  {
   "cell_type": "markdown",
   "id": "29476960-e36c-44da-9d91-081c87c4be4e",
   "metadata": {},
   "source": [
    "Next I calculate *z*-scores:"
   ]
  },
  {
   "cell_type": "code",
   "execution_count": 29,
   "id": "89f52ff8-bde5-46bf-941b-c50555a52b34",
   "metadata": {},
   "outputs": [],
   "source": [
    "E1 <- decostand(E1, method = \"standardize\")"
   ]
  },
  {
   "cell_type": "markdown",
   "id": "062938ef-32ee-4eba-a572-e6d202ddc77a",
   "metadata": {},
   "source": [
    "Four bioregions are recognised for South Africa by Bolton and Anderson (2004) (the variable called `bolton`), namely the Benguela Marine Province (BMP; coastal sections **1**–**17**), the Benguela-Agulhas Transition Zone (B-ATZ; **18**–**22**), the Agulhas Marine Province (AMP; **19**–**43**/**44**) and the East Coast Transition Zone (ECTZ; **44**/**45**–**58**). My plotting functions partition the data into the bioregions and colour code the figures accordingly so I can see regional patterns in $\\beta$-diversity emerging."
   ]
  },
  {
   "cell_type": "code",
   "execution_count": 6,
   "id": "3287affe-b775-4c19-a404-bca73c8a089c",
   "metadata": {},
   "outputs": [
    {
     "data": {
      "text/html": [
       "<table class=\"dataframe\">\n",
       "<caption>A data.frame: 6 × 4</caption>\n",
       "<thead>\n",
       "\t<tr><th></th><th scope=col>spal.prov</th><th scope=col>spal.ecoreg</th><th scope=col>lombard</th><th scope=col>bolton</th></tr>\n",
       "\t<tr><th></th><th scope=col>&lt;chr&gt;</th><th scope=col>&lt;chr&gt;</th><th scope=col>&lt;chr&gt;</th><th scope=col>&lt;chr&gt;</th></tr>\n",
       "</thead>\n",
       "<tbody>\n",
       "\t<tr><th scope=row>1</th><td>BMP</td><td>NE</td><td>NamBR</td><td>BMP</td></tr>\n",
       "\t<tr><th scope=row>2</th><td>BMP</td><td>NE</td><td>NamBR</td><td>BMP</td></tr>\n",
       "\t<tr><th scope=row>3</th><td>BMP</td><td>NE</td><td>NamBR</td><td>BMP</td></tr>\n",
       "\t<tr><th scope=row>4</th><td>BMP</td><td>NE</td><td>NamBR</td><td>BMP</td></tr>\n",
       "\t<tr><th scope=row>5</th><td>BMP</td><td>NE</td><td>NamBR</td><td>BMP</td></tr>\n",
       "\t<tr><th scope=row>6</th><td>BMP</td><td>NE</td><td>NamBR</td><td>BMP</td></tr>\n",
       "</tbody>\n",
       "</table>\n"
      ],
      "text/latex": [
       "A data.frame: 6 × 4\n",
       "\\begin{tabular}{r|llll}\n",
       "  & spal.prov & spal.ecoreg & lombard & bolton\\\\\n",
       "  & <chr> & <chr> & <chr> & <chr>\\\\\n",
       "\\hline\n",
       "\t1 & BMP & NE & NamBR & BMP\\\\\n",
       "\t2 & BMP & NE & NamBR & BMP\\\\\n",
       "\t3 & BMP & NE & NamBR & BMP\\\\\n",
       "\t4 & BMP & NE & NamBR & BMP\\\\\n",
       "\t5 & BMP & NE & NamBR & BMP\\\\\n",
       "\t6 & BMP & NE & NamBR & BMP\\\\\n",
       "\\end{tabular}\n"
      ],
      "text/markdown": [
       "\n",
       "A data.frame: 6 × 4\n",
       "\n",
       "| <!--/--> | spal.prov &lt;chr&gt; | spal.ecoreg &lt;chr&gt; | lombard &lt;chr&gt; | bolton &lt;chr&gt; |\n",
       "|---|---|---|---|---|\n",
       "| 1 | BMP | NE | NamBR | BMP |\n",
       "| 2 | BMP | NE | NamBR | BMP |\n",
       "| 3 | BMP | NE | NamBR | BMP |\n",
       "| 4 | BMP | NE | NamBR | BMP |\n",
       "| 5 | BMP | NE | NamBR | BMP |\n",
       "| 6 | BMP | NE | NamBR | BMP |\n",
       "\n"
      ],
      "text/plain": [
       "  spal.prov spal.ecoreg lombard bolton\n",
       "1 BMP       NE          NamBR   BMP   \n",
       "2 BMP       NE          NamBR   BMP   \n",
       "3 BMP       NE          NamBR   BMP   \n",
       "4 BMP       NE          NamBR   BMP   \n",
       "5 BMP       NE          NamBR   BMP   \n",
       "6 BMP       NE          NamBR   BMP   "
      ]
     },
     "metadata": {},
     "output_type": "display_data"
    }
   ],
   "source": [
    "bioreg <- read.csv('/Users/ajsmit/Dropbox/R/workshops/Quantitative_Ecology/exercises/diversity/bioregions.csv', header = TRUE)\n",
    "head(bioreg)"
   ]
  },
  {
   "cell_type": "markdown",
   "id": "6d5f213a-d900-4533-b132-84d1e1c3d942",
   "metadata": {},
   "source": [
    "Load the geographic coordinates for the coastal sections:"
   ]
  },
  {
   "cell_type": "code",
   "execution_count": 7,
   "id": "bce31bdc-6c68-4459-9945-edbc5e3bc612",
   "metadata": {},
   "outputs": [
    {
     "data": {
      "text/html": [
       "<table class=\"dataframe\">\n",
       "<caption>A data.frame: 6 × 2</caption>\n",
       "<thead>\n",
       "\t<tr><th></th><th scope=col>Longitude</th><th scope=col>Latitude</th></tr>\n",
       "\t<tr><th></th><th scope=col>&lt;dbl&gt;</th><th scope=col>&lt;dbl&gt;</th></tr>\n",
       "</thead>\n",
       "<tbody>\n",
       "\t<tr><th scope=row>1</th><td>16.72429</td><td>-28.98450</td></tr>\n",
       "\t<tr><th scope=row>2</th><td>16.94238</td><td>-29.38053</td></tr>\n",
       "\t<tr><th scope=row>3</th><td>17.08194</td><td>-29.83253</td></tr>\n",
       "\t<tr><th scope=row>4</th><td>17.25928</td><td>-30.26426</td></tr>\n",
       "\t<tr><th scope=row>5</th><td>17.47638</td><td>-30.67874</td></tr>\n",
       "\t<tr><th scope=row>6</th><td>17.72167</td><td>-31.08580</td></tr>\n",
       "</tbody>\n",
       "</table>\n"
      ],
      "text/latex": [
       "A data.frame: 6 × 2\n",
       "\\begin{tabular}{r|ll}\n",
       "  & Longitude & Latitude\\\\\n",
       "  & <dbl> & <dbl>\\\\\n",
       "\\hline\n",
       "\t1 & 16.72429 & -28.98450\\\\\n",
       "\t2 & 16.94238 & -29.38053\\\\\n",
       "\t3 & 17.08194 & -29.83253\\\\\n",
       "\t4 & 17.25928 & -30.26426\\\\\n",
       "\t5 & 17.47638 & -30.67874\\\\\n",
       "\t6 & 17.72167 & -31.08580\\\\\n",
       "\\end{tabular}\n"
      ],
      "text/markdown": [
       "\n",
       "A data.frame: 6 × 2\n",
       "\n",
       "| <!--/--> | Longitude &lt;dbl&gt; | Latitude &lt;dbl&gt; |\n",
       "|---|---|---|\n",
       "| 1 | 16.72429 | -28.98450 |\n",
       "| 2 | 16.94238 | -29.38053 |\n",
       "| 3 | 17.08194 | -29.83253 |\n",
       "| 4 | 17.25928 | -30.26426 |\n",
       "| 5 | 17.47638 | -30.67874 |\n",
       "| 6 | 17.72167 | -31.08580 |\n",
       "\n"
      ],
      "text/plain": [
       "  Longitude Latitude \n",
       "1 16.72429  -28.98450\n",
       "2 16.94238  -29.38053\n",
       "3 17.08194  -29.83253\n",
       "4 17.25928  -30.26426\n",
       "5 17.47638  -30.67874\n",
       "6 17.72167  -31.08580"
      ]
     },
     "metadata": {},
     "output_type": "display_data"
    },
    {
     "data": {
      "text/html": [
       "<style>\n",
       ".list-inline {list-style: none; margin:0; padding: 0}\n",
       ".list-inline>li {display: inline-block}\n",
       ".list-inline>li:not(:last-child)::after {content: \"\\00b7\"; padding: 0 .5ex}\n",
       "</style>\n",
       "<ol class=list-inline><li>58</li><li>2</li></ol>\n"
      ],
      "text/latex": [
       "\\begin{enumerate*}\n",
       "\\item 58\n",
       "\\item 2\n",
       "\\end{enumerate*}\n"
      ],
      "text/markdown": [
       "1. 58\n",
       "2. 2\n",
       "\n",
       "\n"
      ],
      "text/plain": [
       "[1] 58  2"
      ]
     },
     "metadata": {},
     "output_type": "display_data"
    }
   ],
   "source": [
    "sites <- read.csv(\"/Users/ajsmit/Dropbox/R/workshops/Quantitative_Ecology/exercises/diversity/sites.csv\")\n",
    "sites <- sites[, c(2, 1)]\n",
    "head(sites)\n",
    "dim(sites)"
   ]
  },
  {
   "cell_type": "markdown",
   "id": "c470a276-5e44-4522-b17f-4ef79f5c190d",
   "metadata": {},
   "source": [
    "Again, we have 58 rows of data for both the coastal section coordinates and the bioregions. You may omit the dataset with spatial coordinates as it is not actually used further below. Can you think of ways in which to use this dataset to graphically represent the spatial distribution of some environmental or biodiversity data?"
   ]
  },
  {
   "cell_type": "markdown",
   "id": "ed0abdd1-3497-4113-9d67-eff910ff6d67",
   "metadata": {},
   "source": [
    "## Start the RDA\n",
    "\n",
    "I test the niche difference mechanism as the primary species compositional assembly process operating along South African shores. I suggest that the thermal gradient along the coast provides a suite of abiotic (thermal) conditions from which species can select based on their physiological tolerances, and hence this will structure $\\beta$-diversity. For this mechanism to function one would assume that all species have equal access to all sections along this stretch of coast, thus following 'Beijerinck’s Law' that everything is everywhere but the environment selects (Sauer, 1988).\n",
    "\n",
    "I do a RDA involving all the thermal variables in $E1$ (the 'global analysis' resulting in the full model, `rda_full`). Analysis shown for $Y1$:"
   ]
  },
  {
   "cell_type": "code",
   "execution_count": 8,
   "id": "a374497b-11d1-4877-a64f-2c9915b59f37",
   "metadata": {},
   "outputs": [
    {
     "data": {
      "text/plain": [
       "Call: capscale(formula = Y1 ~ febMean + febRange + febSD + augMean +\n",
       "augRange + augSD + annMean + annRange + annSD, data = E1)\n",
       "\n",
       "               Inertia Proportion Rank\n",
       "Total          7.52344    1.00000     \n",
       "Constrained    6.86398    0.91235    8\n",
       "Unconstrained  1.02840    0.13669   28\n",
       "Imaginary     -0.36895   -0.04904   24\n",
       "Inertia is squared Unknown distance \n",
       "Some constraints were aliased because they were collinear (redundant)\n",
       "\n",
       "Eigenvalues for constrained axes:\n",
       " CAP1  CAP2  CAP3  CAP4  CAP5  CAP6  CAP7  CAP8 \n",
       "5.620 1.155 0.074 0.006 0.004 0.003 0.001 0.001 \n",
       "\n",
       "Eigenvalues for unconstrained axes:\n",
       "  MDS1   MDS2   MDS3   MDS4   MDS5   MDS6   MDS7   MDS8 \n",
       "0.5768 0.1687 0.1096 0.0413 0.0322 0.0243 0.0179 0.0103 \n",
       "(Showing 8 of 28 unconstrained eigenvalues)\n"
      ]
     },
     "metadata": {},
     "output_type": "display_data"
    }
   ],
   "source": [
    "# fit the full model:\n",
    "rda_full <- capscale(Y1 ~., E1)\n",
    "rda_full\n",
    "# summary(rda_full)"
   ]
  },
  {
   "cell_type": "markdown",
   "id": "2751463c-2548-45b1-ab17-79da303a0562",
   "metadata": {},
   "source": [
    "Is the fit significant? I run a permutation test to check:"
   ]
  },
  {
   "cell_type": "code",
   "execution_count": 9,
   "id": "d507a905-2c92-4a97-af02-e8d6f49f913e",
   "metadata": {},
   "outputs": [
    {
     "data": {
      "text/html": [
       "<table class=\"dataframe\">\n",
       "<caption>A anova.cca: 2 × 4</caption>\n",
       "<thead>\n",
       "\t<tr><th></th><th scope=col>Df</th><th scope=col>SumOfSqs</th><th scope=col>F</th><th scope=col>Pr(&gt;F)</th></tr>\n",
       "\t<tr><th></th><th scope=col>&lt;dbl&gt;</th><th scope=col>&lt;dbl&gt;</th><th scope=col>&lt;dbl&gt;</th><th scope=col>&lt;dbl&gt;</th></tr>\n",
       "</thead>\n",
       "<tbody>\n",
       "\t<tr><th scope=row>Model</th><td> 8</td><td>6.863982</td><td>40.8807</td><td>0.001</td></tr>\n",
       "\t<tr><th scope=row>Residual</th><td>49</td><td>1.028405</td><td>     NA</td><td>   NA</td></tr>\n",
       "</tbody>\n",
       "</table>\n"
      ],
      "text/latex": [
       "A anova.cca: 2 × 4\n",
       "\\begin{tabular}{r|llll}\n",
       "  & Df & SumOfSqs & F & Pr(>F)\\\\\n",
       "  & <dbl> & <dbl> & <dbl> & <dbl>\\\\\n",
       "\\hline\n",
       "\tModel &  8 & 6.863982 & 40.8807 & 0.001\\\\\n",
       "\tResidual & 49 & 1.028405 &      NA &    NA\\\\\n",
       "\\end{tabular}\n"
      ],
      "text/markdown": [
       "\n",
       "A anova.cca: 2 × 4\n",
       "\n",
       "| <!--/--> | Df &lt;dbl&gt; | SumOfSqs &lt;dbl&gt; | F &lt;dbl&gt; | Pr(&gt;F) &lt;dbl&gt; |\n",
       "|---|---|---|---|---|\n",
       "| Model |  8 | 6.863982 | 40.8807 | 0.001 |\n",
       "| Residual | 49 | 1.028405 |      NA |    NA |\n",
       "\n"
      ],
      "text/plain": [
       "         Df SumOfSqs F       Pr(>F)\n",
       "Model     8 6.863982 40.8807 0.001 \n",
       "Residual 49 1.028405      NA    NA "
      ]
     },
     "metadata": {},
     "output_type": "display_data"
    }
   ],
   "source": [
    "anova(rda_full, parallel = 4) # ... yes!"
   ]
  },
  {
   "cell_type": "markdown",
   "id": "14d3d806-cedd-4223-b4d0-0b5653d7928b",
   "metadata": {},
   "source": [
    "Since the fit is significant (the environmental variables capture the variation seen in the species data), I compute the adjusted $R^{2}$:"
   ]
  },
  {
   "cell_type": "code",
   "execution_count": 10,
   "id": "c47c102f-06cd-4f6d-886b-74c59cce844f",
   "metadata": {},
   "outputs": [
    {
     "data": {
      "text/html": [
       "0.9"
      ],
      "text/latex": [
       "0.9"
      ],
      "text/markdown": [
       "0.9"
      ],
      "text/plain": [
       "[1] 0.9"
      ]
     },
     "metadata": {},
     "output_type": "display_data"
    }
   ],
   "source": [
    "rda_full_R2 <- RsquareAdj(rda_full)$adj.r.squared\n",
    "round(rda_full_R2, 2)"
   ]
  },
  {
   "cell_type": "markdown",
   "id": "c392c816-139c-4b66-9492-40c511c51969",
   "metadata": {},
   "source": [
    "What is the variation explained by the full set environmental variables?"
   ]
  },
  {
   "cell_type": "code",
   "execution_count": 11,
   "id": "dcf37c40-156d-493b-8b72-8018c474f557",
   "metadata": {},
   "outputs": [
    {
     "data": {
      "text/html": [
       "91.23"
      ],
      "text/latex": [
       "91.23"
      ],
      "text/markdown": [
       "91.23"
      ],
      "text/plain": [
       "[1] 91.23"
      ]
     },
     "metadata": {},
     "output_type": "display_data"
    }
   ],
   "source": [
    "round(sum(rda_full$CCA$eig) / rda_full$tot.chi * 100, 2) # in %"
   ]
  },
  {
   "cell_type": "markdown",
   "id": "35782d3c-a53c-4ec6-8897-570c688f7c24",
   "metadata": {},
   "source": [
    "I check for collinearity using variance inflation factors (VIF), and retain a subset of non-collinear variables to include in the 'reduced' or 'final' model. A common rule is that values over 10 indicate redundant constraints. I run the VIF procedure iteratively, each time removing the highest VIF and examining the remaining ones until these are mostly below 10.\n",
    "\n",
    "First on the full model:"
   ]
  },
  {
   "cell_type": "code",
   "execution_count": 12,
   "id": "ad33b8d0-d771-450a-99d2-430897024e62",
   "metadata": {},
   "outputs": [
    {
     "data": {
      "text/html": [
       "<style>\n",
       ".dl-inline {width: auto; margin:0; padding: 0}\n",
       ".dl-inline>dt, .dl-inline>dd {float: none; width: auto; display: inline-block}\n",
       ".dl-inline>dt::after {content: \":\\0020\"; padding-right: .5ex}\n",
       ".dl-inline>dt:not(:first-of-type) {padding-left: .5ex}\n",
       "</style><dl class=dl-inline><dt>febMean</dt><dd>91.1297004989349</dd><dt>febRange</dt><dd>6.77595855436087</dd><dt>febSD</dt><dd>7.73443622940163</dd><dt>augMean</dt><dd>73.0903818299856</dd><dt>augRange</dt><dd>8.48663062262088</dd><dt>augSD</dt><dd>12.1189137150005</dd><dt>annMean</dt><dd>233.400745999033</dd><dt>annRange</dt><dd>&lt;NA&gt;</dd><dt>annSD</dt><dd>5.39634338853676</dd></dl>\n"
      ],
      "text/latex": [
       "\\begin{description*}\n",
       "\\item[febMean] 91.1297004989349\n",
       "\\item[febRange] 6.77595855436087\n",
       "\\item[febSD] 7.73443622940163\n",
       "\\item[augMean] 73.0903818299856\n",
       "\\item[augRange] 8.48663062262088\n",
       "\\item[augSD] 12.1189137150005\n",
       "\\item[annMean] 233.400745999033\n",
       "\\item[annRange] <NA>\n",
       "\\item[annSD] 5.39634338853676\n",
       "\\end{description*}\n"
      ],
      "text/markdown": [
       "febMean\n",
       ":   91.1297004989349febRange\n",
       ":   6.77595855436087febSD\n",
       ":   7.73443622940163augMean\n",
       ":   73.0903818299856augRange\n",
       ":   8.48663062262088augSD\n",
       ":   12.1189137150005annMean\n",
       ":   233.400745999033annRange\n",
       ":   &lt;NA&gt;annSD\n",
       ":   5.39634338853676\n",
       "\n"
      ],
      "text/plain": [
       "   febMean   febRange      febSD    augMean   augRange      augSD    annMean \n",
       " 91.129700   6.775959   7.734436  73.090382   8.486631  12.118914 233.400746 \n",
       "  annRange      annSD \n",
       "        NA   5.396343 "
      ]
     },
     "metadata": {},
     "output_type": "display_data"
    }
   ],
   "source": [
    "vif.cca(rda_full)"
   ]
  },
  {
   "cell_type": "markdown",
   "id": "105ca6cf-eb35-472a-8b40-aad4e70df0e1",
   "metadata": {},
   "source": [
    "Drop annMean:"
   ]
  },
  {
   "cell_type": "code",
   "execution_count": 13,
   "id": "74ff211d-96e0-4aaf-b4b1-baaa76a2eb9a",
   "metadata": {},
   "outputs": [
    {
     "data": {
      "text/html": [
       "<style>\n",
       ".dl-inline {width: auto; margin:0; padding: 0}\n",
       ".dl-inline>dt, .dl-inline>dd {float: none; width: auto; display: inline-block}\n",
       ".dl-inline>dt::after {content: \":\\0020\"; padding-right: .5ex}\n",
       ".dl-inline>dt:not(:first-of-type) {padding-left: .5ex}\n",
       "</style><dl class=dl-inline><dt>febMean</dt><dd>24.99615213153</dd><dt>febRange</dt><dd>6.14924546371304</dd><dt>febSD</dt><dd>7.16063735671608</dd><dt>augMean</dt><dd>17.7179357614808</dd><dt>augRange</dt><dd>8.06633959857528</dd><dt>augSD</dt><dd>10.7261165223377</dd><dt>annRange</dt><dd>&lt;NA&gt;</dd><dt>annSD</dt><dd>5.39627542564953</dd></dl>\n"
      ],
      "text/latex": [
       "\\begin{description*}\n",
       "\\item[febMean] 24.99615213153\n",
       "\\item[febRange] 6.14924546371304\n",
       "\\item[febSD] 7.16063735671608\n",
       "\\item[augMean] 17.7179357614808\n",
       "\\item[augRange] 8.06633959857528\n",
       "\\item[augSD] 10.7261165223377\n",
       "\\item[annRange] <NA>\n",
       "\\item[annSD] 5.39627542564953\n",
       "\\end{description*}\n"
      ],
      "text/markdown": [
       "febMean\n",
       ":   24.99615213153febRange\n",
       ":   6.14924546371304febSD\n",
       ":   7.16063735671608augMean\n",
       ":   17.7179357614808augRange\n",
       ":   8.06633959857528augSD\n",
       ":   10.7261165223377annRange\n",
       ":   &lt;NA&gt;annSD\n",
       ":   5.39627542564953\n",
       "\n"
      ],
      "text/plain": [
       "  febMean  febRange     febSD   augMean  augRange     augSD  annRange     annSD \n",
       "24.996152  6.149245  7.160637 17.717936  8.066340 10.726117        NA  5.396275 "
      ]
     },
     "metadata": {},
     "output_type": "display_data"
    }
   ],
   "source": [
    "E2 <- dplyr::select(E1, -annMean)\n",
    "rda_sel1 <- capscale(Y1 ~., E2)\n",
    "vif.cca(rda_sel1)"
   ]
  },
  {
   "cell_type": "markdown",
   "id": "c004106f-44c6-494f-9b25-1f3abe364214",
   "metadata": {},
   "source": [
    "Drop febMean:"
   ]
  },
  {
   "cell_type": "code",
   "execution_count": 14,
   "id": "f97e2bd1-40fb-487f-985c-cae29b0fde34",
   "metadata": {},
   "outputs": [
    {
     "data": {
      "text/html": [
       "<style>\n",
       ".dl-inline {width: auto; margin:0; padding: 0}\n",
       ".dl-inline>dt, .dl-inline>dd {float: none; width: auto; display: inline-block}\n",
       ".dl-inline>dt::after {content: \":\\0020\"; padding-right: .5ex}\n",
       ".dl-inline>dt:not(:first-of-type) {padding-left: .5ex}\n",
       "</style><dl class=dl-inline><dt>febRange</dt><dd>6.14924546371304</dd><dt>febSD</dt><dd>7.16063735671607</dd><dt>augMean</dt><dd>1.61923266783647</dd><dt>augRange</dt><dd>8.06633959857528</dd><dt>augSD</dt><dd>10.7261165223377</dd><dt>annRange</dt><dd>5.52997053562175</dd><dt>annSD</dt><dd>5.39627542564953</dd></dl>\n"
      ],
      "text/latex": [
       "\\begin{description*}\n",
       "\\item[febRange] 6.14924546371304\n",
       "\\item[febSD] 7.16063735671607\n",
       "\\item[augMean] 1.61923266783647\n",
       "\\item[augRange] 8.06633959857528\n",
       "\\item[augSD] 10.7261165223377\n",
       "\\item[annRange] 5.52997053562175\n",
       "\\item[annSD] 5.39627542564953\n",
       "\\end{description*}\n"
      ],
      "text/markdown": [
       "febRange\n",
       ":   6.14924546371304febSD\n",
       ":   7.16063735671607augMean\n",
       ":   1.61923266783647augRange\n",
       ":   8.06633959857528augSD\n",
       ":   10.7261165223377annRange\n",
       ":   5.52997053562175annSD\n",
       ":   5.39627542564953\n",
       "\n"
      ],
      "text/plain": [
       " febRange     febSD   augMean  augRange     augSD  annRange     annSD \n",
       " 6.149245  7.160637  1.619233  8.066340 10.726117  5.529971  5.396275 "
      ]
     },
     "metadata": {},
     "output_type": "display_data"
    }
   ],
   "source": [
    "E3 <- dplyr::select(E2, -febMean)\n",
    "rda_sel2 <- capscale(Y1 ~., E3)\n",
    "vif.cca(rda_sel2)"
   ]
  },
  {
   "cell_type": "markdown",
   "id": "93a66535-25cf-4eb3-878c-09f5a5950d5b",
   "metadata": {},
   "source": [
    "We select E3 as the variables to construct the final model (`rda_final`) from:"
   ]
  },
  {
   "cell_type": "code",
   "execution_count": 15,
   "id": "edde7ace-2860-4e71-b925-9b3ef2efecb9",
   "metadata": {},
   "outputs": [],
   "source": [
    "rda_final <- rda_sel2"
   ]
  },
  {
   "cell_type": "markdown",
   "id": "8ff00685-c134-4bc0-8463-df21ee97fb22",
   "metadata": {},
   "source": [
    "We calculate the significance of the model, the variance explained by all the constraints (in $E3$) in the final model, as well as the $R^{2}$:"
   ]
  },
  {
   "cell_type": "code",
   "execution_count": 16,
   "id": "7d7231ac-0f72-4d18-a2b1-2cae9a8e4814",
   "metadata": {},
   "outputs": [
    {
     "data": {
      "text/html": [
       "<table class=\"dataframe\">\n",
       "<caption>A anova.cca: 2 × 4</caption>\n",
       "<thead>\n",
       "\t<tr><th></th><th scope=col>Df</th><th scope=col>SumOfSqs</th><th scope=col>F</th><th scope=col>Pr(&gt;F)</th></tr>\n",
       "\t<tr><th></th><th scope=col>&lt;dbl&gt;</th><th scope=col>&lt;dbl&gt;</th><th scope=col>&lt;dbl&gt;</th><th scope=col>&lt;dbl&gt;</th></tr>\n",
       "</thead>\n",
       "<tbody>\n",
       "\t<tr><th scope=row>Model</th><td> 7</td><td>6.825063</td><td>45.67541</td><td>0.001</td></tr>\n",
       "\t<tr><th scope=row>Residual</th><td>50</td><td>1.067324</td><td>      NA</td><td>   NA</td></tr>\n",
       "</tbody>\n",
       "</table>\n"
      ],
      "text/latex": [
       "A anova.cca: 2 × 4\n",
       "\\begin{tabular}{r|llll}\n",
       "  & Df & SumOfSqs & F & Pr(>F)\\\\\n",
       "  & <dbl> & <dbl> & <dbl> & <dbl>\\\\\n",
       "\\hline\n",
       "\tModel &  7 & 6.825063 & 45.67541 & 0.001\\\\\n",
       "\tResidual & 50 & 1.067324 &       NA &    NA\\\\\n",
       "\\end{tabular}\n"
      ],
      "text/markdown": [
       "\n",
       "A anova.cca: 2 × 4\n",
       "\n",
       "| <!--/--> | Df &lt;dbl&gt; | SumOfSqs &lt;dbl&gt; | F &lt;dbl&gt; | Pr(&gt;F) &lt;dbl&gt; |\n",
       "|---|---|---|---|---|\n",
       "| Model |  7 | 6.825063 | 45.67541 | 0.001 |\n",
       "| Residual | 50 | 1.067324 |       NA |    NA |\n",
       "\n"
      ],
      "text/plain": [
       "         Df SumOfSqs F        Pr(>F)\n",
       "Model     7 6.825063 45.67541 0.001 \n",
       "Residual 50 1.067324       NA    NA "
      ]
     },
     "metadata": {},
     "output_type": "display_data"
    }
   ],
   "source": [
    "# is the fit significant?\n",
    "anova(rda_final, parallel = 4) # ... yes!"
   ]
  },
  {
   "cell_type": "markdown",
   "id": "827cd91d-61e6-4d7d-bc46-ea64accb1b14",
   "metadata": {},
   "source": [
    "Which axes are significant?"
   ]
  },
  {
   "cell_type": "code",
   "execution_count": 17,
   "id": "795e1907-44cb-4e8c-b7f6-c735a6b98ef0",
   "metadata": {},
   "outputs": [
    {
     "data": {
      "text/html": [
       "<table class=\"dataframe\">\n",
       "<caption>A anova.cca: 8 × 4</caption>\n",
       "<thead>\n",
       "\t<tr><th></th><th scope=col>Df</th><th scope=col>SumOfSqs</th><th scope=col>F</th><th scope=col>Pr(&gt;F)</th></tr>\n",
       "\t<tr><th></th><th scope=col>&lt;dbl&gt;</th><th scope=col>&lt;dbl&gt;</th><th scope=col>&lt;dbl&gt;</th><th scope=col>&lt;dbl&gt;</th></tr>\n",
       "</thead>\n",
       "<tbody>\n",
       "\t<tr><th scope=row>CAP1</th><td> 1</td><td>5.617936009</td><td>263.17859640</td><td>0.001</td></tr>\n",
       "\t<tr><th scope=row>CAP2</th><td> 1</td><td>1.124244745</td><td> 52.66652264</td><td>0.001</td></tr>\n",
       "\t<tr><th scope=row>CAP3</th><td> 1</td><td>0.072531264</td><td>  3.39780950</td><td>0.379</td></tr>\n",
       "\t<tr><th scope=row>CAP4</th><td> 1</td><td>0.004952809</td><td>  0.23201998</td><td>1.000</td></tr>\n",
       "\t<tr><th scope=row>CAP5</th><td> 1</td><td>0.002720164</td><td>  0.12742919</td><td>1.000</td></tr>\n",
       "\t<tr><th scope=row>CAP6</th><td> 1</td><td>0.001349479</td><td>  0.06321786</td><td>1.000</td></tr>\n",
       "\t<tr><th scope=row>CAP7</th><td> 1</td><td>0.001328608</td><td>  0.06224014</td><td>0.999</td></tr>\n",
       "\t<tr><th scope=row>Residual</th><td>50</td><td>1.067323879</td><td>          NA</td><td>   NA</td></tr>\n",
       "</tbody>\n",
       "</table>\n"
      ],
      "text/latex": [
       "A anova.cca: 8 × 4\n",
       "\\begin{tabular}{r|llll}\n",
       "  & Df & SumOfSqs & F & Pr(>F)\\\\\n",
       "  & <dbl> & <dbl> & <dbl> & <dbl>\\\\\n",
       "\\hline\n",
       "\tCAP1 &  1 & 5.617936009 & 263.17859640 & 0.001\\\\\n",
       "\tCAP2 &  1 & 1.124244745 &  52.66652264 & 0.001\\\\\n",
       "\tCAP3 &  1 & 0.072531264 &   3.39780950 & 0.379\\\\\n",
       "\tCAP4 &  1 & 0.004952809 &   0.23201998 & 1.000\\\\\n",
       "\tCAP5 &  1 & 0.002720164 &   0.12742919 & 1.000\\\\\n",
       "\tCAP6 &  1 & 0.001349479 &   0.06321786 & 1.000\\\\\n",
       "\tCAP7 &  1 & 0.001328608 &   0.06224014 & 0.999\\\\\n",
       "\tResidual & 50 & 1.067323879 &           NA &    NA\\\\\n",
       "\\end{tabular}\n"
      ],
      "text/markdown": [
       "\n",
       "A anova.cca: 8 × 4\n",
       "\n",
       "| <!--/--> | Df &lt;dbl&gt; | SumOfSqs &lt;dbl&gt; | F &lt;dbl&gt; | Pr(&gt;F) &lt;dbl&gt; |\n",
       "|---|---|---|---|---|\n",
       "| CAP1 |  1 | 5.617936009 | 263.17859640 | 0.001 |\n",
       "| CAP2 |  1 | 1.124244745 |  52.66652264 | 0.001 |\n",
       "| CAP3 |  1 | 0.072531264 |   3.39780950 | 0.379 |\n",
       "| CAP4 |  1 | 0.004952809 |   0.23201998 | 1.000 |\n",
       "| CAP5 |  1 | 0.002720164 |   0.12742919 | 1.000 |\n",
       "| CAP6 |  1 | 0.001349479 |   0.06321786 | 1.000 |\n",
       "| CAP7 |  1 | 0.001328608 |   0.06224014 | 0.999 |\n",
       "| Residual | 50 | 1.067323879 |           NA |    NA |\n",
       "\n"
      ],
      "text/plain": [
       "         Df SumOfSqs    F            Pr(>F)\n",
       "CAP1      1 5.617936009 263.17859640 0.001 \n",
       "CAP2      1 1.124244745  52.66652264 0.001 \n",
       "CAP3      1 0.072531264   3.39780950 0.379 \n",
       "CAP4      1 0.004952809   0.23201998 1.000 \n",
       "CAP5      1 0.002720164   0.12742919 1.000 \n",
       "CAP6      1 0.001349479   0.06321786 1.000 \n",
       "CAP7      1 0.001328608   0.06224014 0.999 \n",
       "Residual 50 1.067323879           NA    NA "
      ]
     },
     "metadata": {},
     "output_type": "display_data"
    }
   ],
   "source": [
    "anova(rda_final, by = \"axis\", parallel = 4) # ... yes!"
   ]
  },
  {
   "cell_type": "markdown",
   "id": "6166c92f-46e4-4169-a546-f0dfc4aef53c",
   "metadata": {},
   "source": [
    "Extract the significant variables in $E3$ that are influential in the final model as influencers of seaweed community differences amongsth coastal sections:"
   ]
  },
  {
   "cell_type": "code",
   "execution_count": 18,
   "id": "a4cda137-e324-4644-8049-f6f478a616bf",
   "metadata": {},
   "outputs": [
    {
     "data": {
      "text/html": [
       "<table class=\"dataframe\">\n",
       "<caption>A anova.cca: 8 × 4</caption>\n",
       "<thead>\n",
       "\t<tr><th></th><th scope=col>Df</th><th scope=col>SumOfSqs</th><th scope=col>F</th><th scope=col>Pr(&gt;F)</th></tr>\n",
       "\t<tr><th></th><th scope=col>&lt;dbl&gt;</th><th scope=col>&lt;dbl&gt;</th><th scope=col>&lt;dbl&gt;</th><th scope=col>&lt;dbl&gt;</th></tr>\n",
       "</thead>\n",
       "<tbody>\n",
       "\t<tr><th scope=row>febRange</th><td> 1</td><td>1.09622899</td><td> 51.3540925</td><td>0.001</td></tr>\n",
       "\t<tr><th scope=row>febSD</th><td> 1</td><td>0.18497387</td><td>  8.6653111</td><td>0.001</td></tr>\n",
       "\t<tr><th scope=row>augMean</th><td> 1</td><td>5.38149659</td><td>252.1023232</td><td>0.001</td></tr>\n",
       "\t<tr><th scope=row>augRange</th><td> 1</td><td>0.09026584</td><td>  4.2286060</td><td>0.028</td></tr>\n",
       "\t<tr><th scope=row>augSD</th><td> 1</td><td>0.02117148</td><td>  0.9918020</td><td>0.363</td></tr>\n",
       "\t<tr><th scope=row>annRange</th><td> 1</td><td>0.01962051</td><td>  0.9191449</td><td>0.407</td></tr>\n",
       "\t<tr><th scope=row>annSD</th><td> 1</td><td>0.03130580</td><td>  1.4665559</td><td>0.219</td></tr>\n",
       "\t<tr><th scope=row>Residual</th><td>50</td><td>1.06732388</td><td>         NA</td><td>   NA</td></tr>\n",
       "</tbody>\n",
       "</table>\n"
      ],
      "text/latex": [
       "A anova.cca: 8 × 4\n",
       "\\begin{tabular}{r|llll}\n",
       "  & Df & SumOfSqs & F & Pr(>F)\\\\\n",
       "  & <dbl> & <dbl> & <dbl> & <dbl>\\\\\n",
       "\\hline\n",
       "\tfebRange &  1 & 1.09622899 &  51.3540925 & 0.001\\\\\n",
       "\tfebSD &  1 & 0.18497387 &   8.6653111 & 0.001\\\\\n",
       "\taugMean &  1 & 5.38149659 & 252.1023232 & 0.001\\\\\n",
       "\taugRange &  1 & 0.09026584 &   4.2286060 & 0.028\\\\\n",
       "\taugSD &  1 & 0.02117148 &   0.9918020 & 0.363\\\\\n",
       "\tannRange &  1 & 0.01962051 &   0.9191449 & 0.407\\\\\n",
       "\tannSD &  1 & 0.03130580 &   1.4665559 & 0.219\\\\\n",
       "\tResidual & 50 & 1.06732388 &          NA &    NA\\\\\n",
       "\\end{tabular}\n"
      ],
      "text/markdown": [
       "\n",
       "A anova.cca: 8 × 4\n",
       "\n",
       "| <!--/--> | Df &lt;dbl&gt; | SumOfSqs &lt;dbl&gt; | F &lt;dbl&gt; | Pr(&gt;F) &lt;dbl&gt; |\n",
       "|---|---|---|---|---|\n",
       "| febRange |  1 | 1.09622899 |  51.3540925 | 0.001 |\n",
       "| febSD |  1 | 0.18497387 |   8.6653111 | 0.001 |\n",
       "| augMean |  1 | 5.38149659 | 252.1023232 | 0.001 |\n",
       "| augRange |  1 | 0.09026584 |   4.2286060 | 0.028 |\n",
       "| augSD |  1 | 0.02117148 |   0.9918020 | 0.363 |\n",
       "| annRange |  1 | 0.01962051 |   0.9191449 | 0.407 |\n",
       "| annSD |  1 | 0.03130580 |   1.4665559 | 0.219 |\n",
       "| Residual | 50 | 1.06732388 |          NA |    NA |\n",
       "\n"
      ],
      "text/plain": [
       "         Df SumOfSqs   F           Pr(>F)\n",
       "febRange  1 1.09622899  51.3540925 0.001 \n",
       "febSD     1 0.18497387   8.6653111 0.001 \n",
       "augMean   1 5.38149659 252.1023232 0.001 \n",
       "augRange  1 0.09026584   4.2286060 0.028 \n",
       "augSD     1 0.02117148   0.9918020 0.363 \n",
       "annRange  1 0.01962051   0.9191449 0.407 \n",
       "annSD     1 0.03130580   1.4665559 0.219 \n",
       "Residual 50 1.06732388          NA    NA "
      ]
     },
     "metadata": {},
     "output_type": "display_data"
    }
   ],
   "source": [
    "(rda_final_axis_test <- anova(rda_final, by = \"terms\", parallel = 4))"
   ]
  },
  {
   "cell_type": "markdown",
   "id": "5287c671-1f00-4a65-8223-3a9b17fdbe62",
   "metadata": {},
   "source": [
    "The significant variables are:"
   ]
  },
  {
   "cell_type": "code",
   "execution_count": 19,
   "id": "5187a553-25eb-4ed4-a771-570ed6633af9",
   "metadata": {},
   "outputs": [
    {
     "data": {
      "text/html": [
       "<style>\n",
       ".list-inline {list-style: none; margin:0; padding: 0}\n",
       ".list-inline>li {display: inline-block}\n",
       ".list-inline>li:not(:last-child)::after {content: \"\\00b7\"; padding: 0 .5ex}\n",
       "</style>\n",
       "<ol class=list-inline><li>'febRange'</li><li>'febSD'</li><li>'augMean'</li><li>'augRange'</li></ol>\n"
      ],
      "text/latex": [
       "\\begin{enumerate*}\n",
       "\\item 'febRange'\n",
       "\\item 'febSD'\n",
       "\\item 'augMean'\n",
       "\\item 'augRange'\n",
       "\\end{enumerate*}\n"
      ],
      "text/markdown": [
       "1. 'febRange'\n",
       "2. 'febSD'\n",
       "3. 'augMean'\n",
       "4. 'augRange'\n",
       "\n",
       "\n"
      ],
      "text/plain": [
       "[1] \"febRange\" \"febSD\"    \"augMean\"  \"augRange\""
      ]
     },
     "metadata": {},
     "output_type": "display_data"
    }
   ],
   "source": [
    "rda_final_ax <- which(rda_final_axis_test[, 4] < 0.05)\n",
    "rda_final_sign_ax <- colnames(E3[,rda_final_ax])\n",
    "rda_final_sign_ax"
   ]
  },
  {
   "cell_type": "markdown",
   "id": "fd4aa16a-4aab-4ed3-ae14-81284cc8cd77",
   "metadata": {},
   "source": [
    "The adjusted $R^{2}$ for the constraints:"
   ]
  },
  {
   "cell_type": "code",
   "execution_count": 20,
   "id": "57f7665e-5786-4183-acab-35f2472efcaf",
   "metadata": {},
   "outputs": [
    {
     "data": {
      "text/html": [
       "0.89"
      ],
      "text/latex": [
       "0.89"
      ],
      "text/markdown": [
       "0.89"
      ],
      "text/plain": [
       "[1] 0.89"
      ]
     },
     "metadata": {},
     "output_type": "display_data"
    }
   ],
   "source": [
    "round(rda_final_R2 <- RsquareAdj(rda_final)$adj.r.squared, 2) # %"
   ]
  },
  {
   "cell_type": "markdown",
   "id": "bf9dca03-d3c4-47c2-bf7a-09bc0c89cb66",
   "metadata": {},
   "source": [
    "Variance explained by reduced (final) model:"
   ]
  },
  {
   "cell_type": "code",
   "execution_count": 21,
   "id": "5ff98134-32c4-4cfb-8c6a-f8d8cebf79d6",
   "metadata": {},
   "outputs": [
    {
     "data": {
      "text/html": [
       "90.72"
      ],
      "text/latex": [
       "90.72"
      ],
      "text/markdown": [
       "90.72"
      ],
      "text/plain": [
       "[1] 90.72"
      ]
     },
     "metadata": {},
     "output_type": "display_data"
    }
   ],
   "source": [
    "round(sum(rda_final$CCA$eig) / rda_final$tot.chi * 100, 2)"
   ]
  },
  {
   "cell_type": "markdown",
   "id": "d51b54f6-0a16-4755-bca5-7799dcb0dd04",
   "metadata": {},
   "source": [
    "The biplot scores for constraining variables:"
   ]
  },
  {
   "cell_type": "code",
   "execution_count": 22,
   "id": "c438da8f-bc19-48c0-b79e-d4aa3bb2937f",
   "metadata": {},
   "outputs": [
    {
     "data": {
      "text/html": [
       "<table class=\"dataframe\">\n",
       "<caption>A matrix: 7 × 2 of type dbl</caption>\n",
       "<thead>\n",
       "\t<tr><th></th><th scope=col>CAP1</th><th scope=col>CAP2</th></tr>\n",
       "</thead>\n",
       "<tbody>\n",
       "\t<tr><th scope=row>febRange</th><td>-0.17951109</td><td>-0.90202271</td></tr>\n",
       "\t<tr><th scope=row>febSD</th><td>-0.08259676</td><td>-0.50969451</td></tr>\n",
       "\t<tr><th scope=row>augMean</th><td> 0.98516406</td><td> 0.15657181</td></tr>\n",
       "\t<tr><th scope=row>augRange</th><td> 0.03499429</td><td>-0.14728687</td></tr>\n",
       "\t<tr><th scope=row>augSD</th><td>-0.01944793</td><td>-0.07441746</td></tr>\n",
       "\t<tr><th scope=row>annRange</th><td> 0.41313533</td><td>-0.18050396</td></tr>\n",
       "\t<tr><th scope=row>annSD</th><td> 0.20412535</td><td>-0.56833391</td></tr>\n",
       "</tbody>\n",
       "</table>\n"
      ],
      "text/latex": [
       "A matrix: 7 × 2 of type dbl\n",
       "\\begin{tabular}{r|ll}\n",
       "  & CAP1 & CAP2\\\\\n",
       "\\hline\n",
       "\tfebRange & -0.17951109 & -0.90202271\\\\\n",
       "\tfebSD & -0.08259676 & -0.50969451\\\\\n",
       "\taugMean &  0.98516406 &  0.15657181\\\\\n",
       "\taugRange &  0.03499429 & -0.14728687\\\\\n",
       "\taugSD & -0.01944793 & -0.07441746\\\\\n",
       "\tannRange &  0.41313533 & -0.18050396\\\\\n",
       "\tannSD &  0.20412535 & -0.56833391\\\\\n",
       "\\end{tabular}\n"
      ],
      "text/markdown": [
       "\n",
       "A matrix: 7 × 2 of type dbl\n",
       "\n",
       "| <!--/--> | CAP1 | CAP2 |\n",
       "|---|---|---|\n",
       "| febRange | -0.17951109 | -0.90202271 |\n",
       "| febSD | -0.08259676 | -0.50969451 |\n",
       "| augMean |  0.98516406 |  0.15657181 |\n",
       "| augRange |  0.03499429 | -0.14728687 |\n",
       "| augSD | -0.01944793 | -0.07441746 |\n",
       "| annRange |  0.41313533 | -0.18050396 |\n",
       "| annSD |  0.20412535 | -0.56833391 |\n",
       "\n"
      ],
      "text/plain": [
       "         CAP1        CAP2       \n",
       "febRange -0.17951109 -0.90202271\n",
       "febSD    -0.08259676 -0.50969451\n",
       "augMean   0.98516406  0.15657181\n",
       "augRange  0.03499429 -0.14728687\n",
       "augSD    -0.01944793 -0.07441746\n",
       "annRange  0.41313533 -0.18050396\n",
       "annSD     0.20412535 -0.56833391"
      ]
     },
     "metadata": {},
     "output_type": "display_data"
    }
   ],
   "source": [
    "scores(rda_final, display = \"bp\", choices = c(1:2))"
   ]
  },
  {
   "cell_type": "markdown",
   "id": "995a8f8e-fbd5-40c3-8c6a-b9a12db4dde6",
   "metadata": {},
   "source": [
    "These biplot scores will mark the position of the termini of the arrows that indicate the direction and strength of the constraining variables."
   ]
  },
  {
   "cell_type": "markdown",
   "id": "8f9a83c3-7015-4b11-a330-3df3585f9de2",
   "metadata": {},
   "source": [
    "## Ordination diagrams"
   ]
  },
  {
   "cell_type": "markdown",
   "id": "8a55bdf4-b458-404a-8d50-f766c8e82470",
   "metadata": {},
   "source": [
    "This code recreates Figure 2a in Smit et al. (2017):"
   ]
  },
  {
   "cell_type": "code",
   "execution_count": 31,
   "id": "7de2e6ca-6446-4060-88b1-d567153bac92",
   "metadata": {},
   "outputs": [
    {
     "data": {
      "image/png": "[encoded data removed]",
      "text/plain": [
       "plot without title"
      ]
     },
     "metadata": {
      "image/png": {
       "height": 420,
       "width": 420
      }
     },
     "output_type": "display_data"
    }
   ],
   "source": [
    "# use scaling = 1 or scaling = 2 for site and species scaling, respectively\n",
    "rda_final_scrs <- scores(rda_final, display = c(\"sp\", \"wa\", \"lc\", \"bp\"))\n",
    "# see ?plot.cca for insight into the use of lc vs wa scores\n",
    "# below I splot the wa (site) scores rather than lc (constraints) scores\n",
    "site_scores <- data.frame(rda_final_scrs$site) # the wa scores\n",
    "site_scores$bioreg <- bioreg$bolton\n",
    "site_scores$section <- seq(1:58)\n",
    "colnames(site_scores) <- c(\"x\", \"y\", \"Bioregion\", \"Section\")\n",
    "\n",
    "biplot_scores <- data.frame(rda_final_scrs$biplot)\n",
    "biplot_scores$labels <- rownames(biplot_scores)\n",
    "biplot_scores_sign <- biplot_scores[biplot_scores$labels %in% rda_final_sign_ax,]\n",
    "\n",
    "ggplot(data = site_scores, aes(x, y, colour = Bioregion)) +\n",
    "  geom_point(size = 5.0, shape = 24, fill = \"white\") +\n",
    "  geom_text(aes(label = Section), size = 3.0, col = \"black\") +\n",
    "  geom_label(data = biplot_scores_sign,\n",
    "            aes(CAP1, CAP2, label = rownames(biplot_scores_sign)),\n",
    "            color = \"black\") +\n",
    "  geom_segment(data = biplot_scores_sign,\n",
    "               aes(x = 0, y = 0, xend = CAP1, yend = CAP2),\n",
    "               arrow = arrow(length = unit(0.2, \"cm\"), type = \"closed\"),\n",
    "               color = \"lightseagreen\", alpha = 1, size = 0.7) +\n",
    "  xlab(\"CAP1\") + ylab(\"CAP2\") +\n",
    "  ggtitle(expression(paste(\"Significant thermal variables and \", beta[sim]))) +\n",
    "  theme_grey() +\n",
    "  theme(panel.grid.minor = element_blank(),\n",
    "        legend.position = \"none\",\n",
    "        aspect.ratio = 0.8)"
   ]
  },
  {
   "cell_type": "markdown",
   "id": "e8e43964-08ce-465f-b276-b5157cfe2988",
   "metadata": {},
   "source": [
    "Note that in Smit et al. (2017, Fig. 2a) I plot the linear constraints (lc scores) rather than the site scores (wa scores). The fact that the positioning of the site scores in ordination space in the figure, above, represents a crude map of South Africa corresponding with geographical coordinates (N-E-S-W) is coincidental (yet it can be logically explained). The coenoclines and gradients are clearly discernible, and the west to east numbering of sites and transitioning of one bioregon into the next are obvious. This map-like arrangement of sites disappears when lc scores are used, but the interpretation of how the thermal drivers structure seaweed biodiversity remains the same."
   ]
  },
  {
   "cell_type": "markdown",
   "id": "bf9c80cd-fd84-409e-b991-9f0ceaa4f7bb",
   "metadata": {},
   "source": [
    "## References\n",
    "\n",
    "Baselga, A., Orme, D., Villeger, S., De Bortoli, J., and Leprieur, F. (2017). betapart: Partitioning Beta Diversity into Turnover and Nestedness Components. R package version 1.4-1. Available online at: https://CRAN.R-project.org/package=betapart\n",
    "\n",
    "Bolton, J. J. (1986). Marine phytogeography of the Benguela upwelling region on the west coast of southern Africa: A temperature dependent approach. Botanica Marina 29, 251–256.\n",
    "\n",
    "Bolton, J. J., and Anderson, R. J. (2004). “Marine vegetation,” in Vegetation of Southern Africa, eds R. M. Cowling, D. M. Richardson, and S. M. Pierce, (Cambridge, UK: Cambridge University Press), 348–370.\n",
    "\n",
    "Bolton, J. J., and Stegenga, H. (2002). Seaweed species diversity in South Africa. South African Journal of Marine Science 24, 9–18.\n",
    "\n",
    "De Clerck, O., Bolton, J. J., Anderson, R. J., and Coppejans, E. (2005). Guide to the seaweeds of KwaZulu- Natal. Scripta Botanica Belgica 33, 294 pp.\n",
    "\n",
    "Sauer, J. D. (1988). Plant migration: The dynamics of geographic patterning in seed plant species. University of California Press.\n",
    "\n",
    "Smit, A. J., Bolton, J. J., and Anderson, R. J. (2017). Seaweeds in two oceans: beta-diversity. Frontiers in Marine Science, 4, 404.\n",
    "\n",
    "Stegenga, H., Bolton, J. J., and Anderson, R. J. (1997). Seaweeds of the South African west coast. Contributions of the Bolus Herbarium 18, 3–637."
   ]
  }
 ],
 "metadata": {
  "kernelspec": {
   "display_name": "R",
   "language": "R",
   "name": "ir"
  },
  "language_info": {
   "codemirror_mode": "r",
   "file_extension": ".r",
   "mimetype": "text/x-r-source",
   "name": "R",
   "pygments_lexer": "r",
   "version": "4.1.0"
  }
 },
 "nbformat": 4,
 "nbformat_minor": 5
}
