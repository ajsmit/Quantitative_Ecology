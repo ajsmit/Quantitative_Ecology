{
 "cells": [
  {
   "cell_type": "markdown",
   "id": "82e3c46b-5a8c-4850-8b50-d0aa91689f49",
   "metadata": {},
   "source": [
    "**Author:** Prof. AJ Smit\n",
    "\n",
    "Department of Biodiversity and Conservation Biology\n",
    "\n",
    "University of the Western Cape"
   ]
  },
  {
   "cell_type": "markdown",
   "id": "8bf1709b-d607-4d90-8cf8-64ca00b59c9a",
   "metadata": {},
   "source": [
    "# Environmental distances\n",
    "\n",
    "## Set up the analysis environment"
   ]
  },
  {
   "cell_type": "code",
   "execution_count": 96,
   "id": "2f519b42-ab5a-48e6-aa1e-ec645b6d7826",
   "metadata": {},
   "outputs": [],
   "source": [
    "library(vegan)\n",
    "library(ggplot2)\n",
    "library(geodist) # for calculating geographical distances between lats/lons\n",
    "library(ggpubr) # to arrange the multipanel graphs"
   ]
  },
  {
   "cell_type": "markdown",
   "id": "924ea237-adef-4c59-9cc6-ee0fc095853e",
   "metadata": {},
   "source": [
    "## Toy data\n",
    "\n",
    "The toy data have arbitrary columns to demonstrate the Euclidian distance calculation in the lecture slides:\n",
    "\n",
    "$$ d(a,b) = \\sqrt{(a_x - b_x)^2 + (a_y - b_y)^2 + (a_z - b_z)^2} $$\n",
    "\n",
    "The distance is found between every pair of points named __*a*__ to __*g*__ whose locations are marked by the 'coordinates' $x$, $y$, and $z$---i.e. this is an example of 3-dimensional data (a space or volume, as opposed to 2D data situated on a $x$, $y$ place). We might also call each coordinate a 'variable' (sometimes called a 'dimension') and hence we have multivariate or multidimensional data.\n",
    "\n",
    "Let's load the dataset and find the size of the dataframe:"
   ]
  },
  {
   "cell_type": "code",
   "execution_count": 99,
   "id": "b42866cf-5269-49c3-89e0-bcf07e99e568",
   "metadata": {},
   "outputs": [
    {
     "data": {
      "text/html": [
       "<style>\n",
       ".list-inline {list-style: none; margin:0; padding: 0}\n",
       ".list-inline>li {display: inline-block}\n",
       ".list-inline>li:not(:last-child)::after {content: \"\\00b7\"; padding: 0 .5ex}\n",
       "</style>\n",
       "<ol class=list-inline><li>7</li><li>4</li></ol>\n"
      ],
      "text/latex": [
       "\\begin{enumerate*}\n",
       "\\item 7\n",
       "\\item 4\n",
       "\\end{enumerate*}\n"
      ],
      "text/markdown": [
       "1. 7\n",
       "2. 4\n",
       "\n",
       "\n"
      ],
      "text/plain": [
       "[1] 7 4"
      ]
     },
     "metadata": {},
     "output_type": "display_data"
    }
   ],
   "source": [
    "xyz <- read.csv(\"/Users/ajsmit/Dropbox/R/workshops/Quantitative_Ecology/_GitBook/data/Euclidian_dustance_demo_data_xyz.csv\")\n",
    "dim(xyz)"
   ]
  },
  {
   "cell_type": "markdown",
   "id": "0eaca0ca-b934-4489-87f3-224c5fccf9d2",
   "metadata": {},
   "source": [
    "There are seven rows and 4 columns.\n",
    "\n",
    "The data look like:"
   ]
  },
  {
   "cell_type": "code",
   "execution_count": 100,
   "id": "7a12d473-1f6c-4aa0-bd17-f5f62bcdd349",
   "metadata": {},
   "outputs": [
    {
     "data": {
      "text/html": [
       "<table class=\"dataframe\">\n",
       "<caption>A data.frame: 7 × 4</caption>\n",
       "<thead>\n",
       "\t<tr><th scope=col>site</th><th scope=col>x</th><th scope=col>y</th><th scope=col>z</th></tr>\n",
       "\t<tr><th scope=col>&lt;chr&gt;</th><th scope=col>&lt;int&gt;</th><th scope=col>&lt;int&gt;</th><th scope=col>&lt;int&gt;</th></tr>\n",
       "</thead>\n",
       "<tbody>\n",
       "\t<tr><td>a</td><td>4</td><td>1</td><td>3</td></tr>\n",
       "\t<tr><td>b</td><td>5</td><td>5</td><td>5</td></tr>\n",
       "\t<tr><td>c</td><td>6</td><td>6</td><td>4</td></tr>\n",
       "\t<tr><td>d</td><td>1</td><td>4</td><td>9</td></tr>\n",
       "\t<tr><td>e</td><td>2</td><td>3</td><td>8</td></tr>\n",
       "\t<tr><td>f</td><td>8</td><td>3</td><td>1</td></tr>\n",
       "\t<tr><td>g</td><td>9</td><td>1</td><td>5</td></tr>\n",
       "</tbody>\n",
       "</table>\n"
      ],
      "text/latex": [
       "A data.frame: 7 × 4\n",
       "\\begin{tabular}{llll}\n",
       " site & x & y & z\\\\\n",
       " <chr> & <int> & <int> & <int>\\\\\n",
       "\\hline\n",
       "\t a & 4 & 1 & 3\\\\\n",
       "\t b & 5 & 5 & 5\\\\\n",
       "\t c & 6 & 6 & 4\\\\\n",
       "\t d & 1 & 4 & 9\\\\\n",
       "\t e & 2 & 3 & 8\\\\\n",
       "\t f & 8 & 3 & 1\\\\\n",
       "\t g & 9 & 1 & 5\\\\\n",
       "\\end{tabular}\n"
      ],
      "text/markdown": [
       "\n",
       "A data.frame: 7 × 4\n",
       "\n",
       "| site &lt;chr&gt; | x &lt;int&gt; | y &lt;int&gt; | z &lt;int&gt; |\n",
       "|---|---|---|---|\n",
       "| a | 4 | 1 | 3 |\n",
       "| b | 5 | 5 | 5 |\n",
       "| c | 6 | 6 | 4 |\n",
       "| d | 1 | 4 | 9 |\n",
       "| e | 2 | 3 | 8 |\n",
       "| f | 8 | 3 | 1 |\n",
       "| g | 9 | 1 | 5 |\n",
       "\n"
      ],
      "text/plain": [
       "  site x y z\n",
       "1 a    4 1 3\n",
       "2 b    5 5 5\n",
       "3 c    6 6 4\n",
       "4 d    1 4 9\n",
       "5 e    2 3 8\n",
       "6 f    8 3 1\n",
       "7 g    9 1 5"
      ]
     },
     "metadata": {},
     "output_type": "display_data"
    }
   ],
   "source": [
    "xyz"
   ]
  },
  {
   "cell_type": "markdown",
   "id": "bf3b0abb-0595-42f6-b87f-b384fd549a4f",
   "metadata": {},
   "source": [
    "Calculate the Euclidian distance using **vegan**'s `vegdist()` function and view the lower triangle with the diagonal:"
   ]
  },
  {
   "cell_type": "code",
   "execution_count": 107,
   "id": "910bd49e-5fd8-4950-a9bc-5fa6d41a04ed",
   "metadata": {},
   "outputs": [
    {
     "data": {
      "text/plain": [
       "          1         2         3         4         5         6         7\n",
       "1  0.000000                                                            \n",
       "2  4.582576  0.000000                                                  \n",
       "3  5.477226  1.732051  0.000000                                        \n",
       "4  7.348469  5.744563  7.348469  0.000000                              \n",
       "5  5.744563  4.690416  6.403124  1.732051  0.000000                    \n",
       "6  4.898979  5.385165  4.690416 10.677078  9.219544  0.000000          \n",
       "7  5.385165  5.656854  5.916080  9.433981  7.874008  4.582576  0.000000"
      ]
     },
     "metadata": {},
     "output_type": "display_data"
    }
   ],
   "source": [
    "xyz_euc <- vegdist(xyz[, 2:4], method = \"euclidian\", upper = FALSE, diag = TRUE) # select only cols 2, 3 and 4\n",
    "xyz_euc"
   ]
  },
  {
   "cell_type": "markdown",
   "id": "a921115a-5940-4991-8218-001f81e7f5af",
   "metadata": {},
   "source": [
    "Convert to a dataframe and view it:"
   ]
  },
  {
   "cell_type": "code",
   "execution_count": 105,
   "id": "0754dc9d-72fb-40ab-be3d-79507da4b01c",
   "metadata": {},
   "outputs": [
    {
     "data": {
      "text/html": [
       "<table class=\"dataframe\">\n",
       "<caption>A data.frame: 7 × 7</caption>\n",
       "<thead>\n",
       "\t<tr><th></th><th scope=col>1</th><th scope=col>2</th><th scope=col>3</th><th scope=col>4</th><th scope=col>5</th><th scope=col>6</th><th scope=col>7</th></tr>\n",
       "\t<tr><th></th><th scope=col>&lt;dbl&gt;</th><th scope=col>&lt;dbl&gt;</th><th scope=col>&lt;dbl&gt;</th><th scope=col>&lt;dbl&gt;</th><th scope=col>&lt;dbl&gt;</th><th scope=col>&lt;dbl&gt;</th><th scope=col>&lt;dbl&gt;</th></tr>\n",
       "</thead>\n",
       "<tbody>\n",
       "\t<tr><th scope=row>1</th><td>0.000000</td><td>4.582576</td><td>5.477226</td><td> 7.348469</td><td>5.744563</td><td> 4.898979</td><td>5.385165</td></tr>\n",
       "\t<tr><th scope=row>2</th><td>4.582576</td><td>0.000000</td><td>1.732051</td><td> 5.744563</td><td>4.690416</td><td> 5.385165</td><td>5.656854</td></tr>\n",
       "\t<tr><th scope=row>3</th><td>5.477226</td><td>1.732051</td><td>0.000000</td><td> 7.348469</td><td>6.403124</td><td> 4.690416</td><td>5.916080</td></tr>\n",
       "\t<tr><th scope=row>4</th><td>7.348469</td><td>5.744563</td><td>7.348469</td><td> 0.000000</td><td>1.732051</td><td>10.677078</td><td>9.433981</td></tr>\n",
       "\t<tr><th scope=row>5</th><td>5.744563</td><td>4.690416</td><td>6.403124</td><td> 1.732051</td><td>0.000000</td><td> 9.219544</td><td>7.874008</td></tr>\n",
       "\t<tr><th scope=row>6</th><td>4.898979</td><td>5.385165</td><td>4.690416</td><td>10.677078</td><td>9.219544</td><td> 0.000000</td><td>4.582576</td></tr>\n",
       "\t<tr><th scope=row>7</th><td>5.385165</td><td>5.656854</td><td>5.916080</td><td> 9.433981</td><td>7.874008</td><td> 4.582576</td><td>0.000000</td></tr>\n",
       "</tbody>\n",
       "</table>\n"
      ],
      "text/latex": [
       "A data.frame: 7 × 7\n",
       "\\begin{tabular}{r|lllllll}\n",
       "  & 1 & 2 & 3 & 4 & 5 & 6 & 7\\\\\n",
       "  & <dbl> & <dbl> & <dbl> & <dbl> & <dbl> & <dbl> & <dbl>\\\\\n",
       "\\hline\n",
       "\t1 & 0.000000 & 4.582576 & 5.477226 &  7.348469 & 5.744563 &  4.898979 & 5.385165\\\\\n",
       "\t2 & 4.582576 & 0.000000 & 1.732051 &  5.744563 & 4.690416 &  5.385165 & 5.656854\\\\\n",
       "\t3 & 5.477226 & 1.732051 & 0.000000 &  7.348469 & 6.403124 &  4.690416 & 5.916080\\\\\n",
       "\t4 & 7.348469 & 5.744563 & 7.348469 &  0.000000 & 1.732051 & 10.677078 & 9.433981\\\\\n",
       "\t5 & 5.744563 & 4.690416 & 6.403124 &  1.732051 & 0.000000 &  9.219544 & 7.874008\\\\\n",
       "\t6 & 4.898979 & 5.385165 & 4.690416 & 10.677078 & 9.219544 &  0.000000 & 4.582576\\\\\n",
       "\t7 & 5.385165 & 5.656854 & 5.916080 &  9.433981 & 7.874008 &  4.582576 & 0.000000\\\\\n",
       "\\end{tabular}\n"
      ],
      "text/markdown": [
       "\n",
       "A data.frame: 7 × 7\n",
       "\n",
       "| <!--/--> | 1 &lt;dbl&gt; | 2 &lt;dbl&gt; | 3 &lt;dbl&gt; | 4 &lt;dbl&gt; | 5 &lt;dbl&gt; | 6 &lt;dbl&gt; | 7 &lt;dbl&gt; |\n",
       "|---|---|---|---|---|---|---|---|\n",
       "| 1 | 0.000000 | 4.582576 | 5.477226 |  7.348469 | 5.744563 |  4.898979 | 5.385165 |\n",
       "| 2 | 4.582576 | 0.000000 | 1.732051 |  5.744563 | 4.690416 |  5.385165 | 5.656854 |\n",
       "| 3 | 5.477226 | 1.732051 | 0.000000 |  7.348469 | 6.403124 |  4.690416 | 5.916080 |\n",
       "| 4 | 7.348469 | 5.744563 | 7.348469 |  0.000000 | 1.732051 | 10.677078 | 9.433981 |\n",
       "| 5 | 5.744563 | 4.690416 | 6.403124 |  1.732051 | 0.000000 |  9.219544 | 7.874008 |\n",
       "| 6 | 4.898979 | 5.385165 | 4.690416 | 10.677078 | 9.219544 |  0.000000 | 4.582576 |\n",
       "| 7 | 5.385165 | 5.656854 | 5.916080 |  9.433981 | 7.874008 |  4.582576 | 0.000000 |\n",
       "\n"
      ],
      "text/plain": [
       "  1        2        3        4         5        6         7       \n",
       "1 0.000000 4.582576 5.477226  7.348469 5.744563  4.898979 5.385165\n",
       "2 4.582576 0.000000 1.732051  5.744563 4.690416  5.385165 5.656854\n",
       "3 5.477226 1.732051 0.000000  7.348469 6.403124  4.690416 5.916080\n",
       "4 7.348469 5.744563 7.348469  0.000000 1.732051 10.677078 9.433981\n",
       "5 5.744563 4.690416 6.403124  1.732051 0.000000  9.219544 7.874008\n",
       "6 4.898979 5.385165 4.690416 10.677078 9.219544  0.000000 4.582576\n",
       "7 5.385165 5.656854 5.916080  9.433981 7.874008  4.582576 0.000000"
      ]
     },
     "metadata": {},
     "output_type": "display_data"
    }
   ],
   "source": [
    "xyz_df <- as.data.frame(as.matrix(xyz_euc))\n",
    "xyz_df"
   ]
  },
  {
   "cell_type": "markdown",
   "id": "a72d960f-c8ca-403c-b3fa-0b026ee9322a",
   "metadata": {},
   "source": [
    "Distance matirices have the same properties as dissimilarity matrices, i.e.:\n",
    "\n",
    "i. The distance matrix is square (number rows = number columns).\n",
    "\n",
    "ii. The diagonal is filled with 0.\n",
    "\n",
    "iii. The matrix is symetrical---it is comprised of symetrical upper and lower triangles.\n",
    "\n",
    "In terms of the meaning of the cell values, their interpretation is also analogous with that of the species dissimilarities. A value of 0 means the properties of the sites (or sections, plots, transects, quadrats, etc.) in terms of their environmental conditions are identical (this is always the case the the diagonal). The larger the numer (which may be >1) the more different sites are in terms of their environmental conditions.\n",
    "\n",
    "Since each column, $x$, $y$, and $z$, is a variable, we can substitute them for *actual* variables or properties of the environment within which species are present. Let load such data (again fictitious):"
   ]
  },
  {
   "cell_type": "code",
   "execution_count": 110,
   "id": "d8c55418-0cc3-4b3b-ad94-b687e1f1959c",
   "metadata": {},
   "outputs": [
    {
     "data": {
      "text/html": [
       "<table class=\"dataframe\">\n",
       "<caption>A data.frame: 2 × 4</caption>\n",
       "<thead>\n",
       "\t<tr><th></th><th scope=col>site</th><th scope=col>temperature</th><th scope=col>depth</th><th scope=col>light</th></tr>\n",
       "\t<tr><th></th><th scope=col>&lt;chr&gt;</th><th scope=col>&lt;int&gt;</th><th scope=col>&lt;int&gt;</th><th scope=col>&lt;int&gt;</th></tr>\n",
       "</thead>\n",
       "<tbody>\n",
       "\t<tr><th scope=row>1</th><td>a</td><td>4</td><td>1</td><td>3</td></tr>\n",
       "\t<tr><th scope=row>2</th><td>b</td><td>5</td><td>5</td><td>5</td></tr>\n",
       "</tbody>\n",
       "</table>\n"
      ],
      "text/latex": [
       "A data.frame: 2 × 4\n",
       "\\begin{tabular}{r|llll}\n",
       "  & site & temperature & depth & light\\\\\n",
       "  & <chr> & <int> & <int> & <int>\\\\\n",
       "\\hline\n",
       "\t1 & a & 4 & 1 & 3\\\\\n",
       "\t2 & b & 5 & 5 & 5\\\\\n",
       "\\end{tabular}\n"
      ],
      "text/markdown": [
       "\n",
       "A data.frame: 2 × 4\n",
       "\n",
       "| <!--/--> | site &lt;chr&gt; | temperature &lt;int&gt; | depth &lt;int&gt; | light &lt;int&gt; |\n",
       "|---|---|---|---|---|\n",
       "| 1 | a | 4 | 1 | 3 |\n",
       "| 2 | b | 5 | 5 | 5 |\n",
       "\n"
      ],
      "text/plain": [
       "  site temperature depth light\n",
       "1 a    4           1     3    \n",
       "2 b    5           5     5    "
      ]
     },
     "metadata": {},
     "output_type": "display_data"
    }
   ],
   "source": [
    "env_fict <- read.csv(\"/Users/ajsmit/Dropbox/R/workshops/Quantitative_Ecology/_GitBook/data/Euclidian_dustance_demo_data_env.csv\")\n",
    "head(env_fict, 2) # print first two rows only"
   ]
  },
  {
   "cell_type": "markdown",
   "id": "dbf51470-7fb1-490a-ae83-aa2404617e30",
   "metadata": {},
   "source": [
    "These are the same data as in `Euclidian_dustance_demo_data_xyz.csv` but I simply renamed the columns to names of the variables temperature, depth, and light intensity. I won't repleat the analysis here as everything remains the same.\n",
    "\n",
    "Now, let use some real data."
   ]
  },
  {
   "cell_type": "markdown",
   "id": "1e456fc5-a451-4223-bf13-7212c4bd6fe7",
   "metadata": {},
   "source": [
    "## A look at the seaweed environmental data"
   ]
  },
  {
   "cell_type": "code",
   "execution_count": 111,
   "id": "54aad35e-bea9-4f88-bea3-8d3a08f94330",
   "metadata": {},
   "outputs": [
    {
     "data": {
      "text/html": [
       "<style>\n",
       ".list-inline {list-style: none; margin:0; padding: 0}\n",
       ".list-inline>li {display: inline-block}\n",
       ".list-inline>li:not(:last-child)::after {content: \"\\00b7\"; padding: 0 .5ex}\n",
       "</style>\n",
       "<ol class=list-inline><li>58</li><li>18</li></ol>\n"
      ],
      "text/latex": [
       "\\begin{enumerate*}\n",
       "\\item 58\n",
       "\\item 18\n",
       "\\end{enumerate*}\n"
      ],
      "text/markdown": [
       "1. 58\n",
       "2. 18\n",
       "\n",
       "\n"
      ],
      "text/plain": [
       "[1] 58 18"
      ]
     },
     "metadata": {},
     "output_type": "display_data"
    }
   ],
   "source": [
    "load(\"/Users/ajsmit/Dropbox/R/workshops/Quantitative_Ecology/exercises/diversity/SeaweedEnv.RData\")\n",
    "\n",
    "# lets look at the data\n",
    "dim(env)"
   ]
  },
  {
   "cell_type": "markdown",
   "id": "66083190-f9a5-4753-9650-476ea02cbaf1",
   "metadata": {},
   "source": [
    "We see that the data have 58 rows and 18 columns... the same number of rows as the `seaweed.csv` data. What is in the first five rows?"
   ]
  },
  {
   "cell_type": "code",
   "execution_count": 18,
   "id": "1068546e-5d79-467e-a91e-b63febd88e58",
   "metadata": {},
   "outputs": [
    {
     "data": {
      "text/html": [
       "<table class=\"dataframe\">\n",
       "<caption>A data.frame: 5 × 5</caption>\n",
       "<thead>\n",
       "\t<tr><th></th><th scope=col>febMean</th><th scope=col>febMax</th><th scope=col>febMed</th><th scope=col>febX95</th><th scope=col>febRange</th></tr>\n",
       "\t<tr><th></th><th scope=col>&lt;dbl&gt;</th><th scope=col>&lt;dbl&gt;</th><th scope=col>&lt;dbl&gt;</th><th scope=col>&lt;dbl&gt;</th><th scope=col>&lt;dbl&gt;</th></tr>\n",
       "</thead>\n",
       "<tbody>\n",
       "\t<tr><th scope=row>1</th><td>13.00117</td><td>18.72044</td><td>12.66004</td><td>16.80969</td><td>6.070326</td></tr>\n",
       "\t<tr><th scope=row>2</th><td>13.37950</td><td>18.61897</td><td>13.18389</td><td>17.07242</td><td>5.889300</td></tr>\n",
       "\t<tr><th scope=row>3</th><td>13.36163</td><td>17.86458</td><td>13.23187</td><td>16.61114</td><td>5.431383</td></tr>\n",
       "\t<tr><th scope=row>4</th><td>13.28966</td><td>17.12073</td><td>13.10284</td><td>16.12137</td><td>5.049024</td></tr>\n",
       "\t<tr><th scope=row>5</th><td>12.81128</td><td>16.37829</td><td>12.40032</td><td>15.53240</td><td>4.977916</td></tr>\n",
       "</tbody>\n",
       "</table>\n"
      ],
      "text/latex": [
       "A data.frame: 5 × 5\n",
       "\\begin{tabular}{r|lllll}\n",
       "  & febMean & febMax & febMed & febX95 & febRange\\\\\n",
       "  & <dbl> & <dbl> & <dbl> & <dbl> & <dbl>\\\\\n",
       "\\hline\n",
       "\t1 & 13.00117 & 18.72044 & 12.66004 & 16.80969 & 6.070326\\\\\n",
       "\t2 & 13.37950 & 18.61897 & 13.18389 & 17.07242 & 5.889300\\\\\n",
       "\t3 & 13.36163 & 17.86458 & 13.23187 & 16.61114 & 5.431383\\\\\n",
       "\t4 & 13.28966 & 17.12073 & 13.10284 & 16.12137 & 5.049024\\\\\n",
       "\t5 & 12.81128 & 16.37829 & 12.40032 & 15.53240 & 4.977916\\\\\n",
       "\\end{tabular}\n"
      ],
      "text/markdown": [
       "\n",
       "A data.frame: 5 × 5\n",
       "\n",
       "| <!--/--> | febMean &lt;dbl&gt; | febMax &lt;dbl&gt; | febMed &lt;dbl&gt; | febX95 &lt;dbl&gt; | febRange &lt;dbl&gt; |\n",
       "|---|---|---|---|---|---|\n",
       "| 1 | 13.00117 | 18.72044 | 12.66004 | 16.80969 | 6.070326 |\n",
       "| 2 | 13.37950 | 18.61897 | 13.18389 | 17.07242 | 5.889300 |\n",
       "| 3 | 13.36163 | 17.86458 | 13.23187 | 16.61114 | 5.431383 |\n",
       "| 4 | 13.28966 | 17.12073 | 13.10284 | 16.12137 | 5.049024 |\n",
       "| 5 | 12.81128 | 16.37829 | 12.40032 | 15.53240 | 4.977916 |\n",
       "\n"
      ],
      "text/plain": [
       "  febMean  febMax   febMed   febX95   febRange\n",
       "1 13.00117 18.72044 12.66004 16.80969 6.070326\n",
       "2 13.37950 18.61897 13.18389 17.07242 5.889300\n",
       "3 13.36163 17.86458 13.23187 16.61114 5.431383\n",
       "4 13.28966 17.12073 13.10284 16.12137 5.049024\n",
       "5 12.81128 16.37829 12.40032 15.53240 4.977916"
      ]
     },
     "metadata": {},
     "output_type": "display_data"
    }
   ],
   "source": [
    "env[1:5, 1:5]"
   ]
  },
  {
   "cell_type": "markdown",
   "id": "2ff66f95-865a-4e32-9013-099137a22c96",
   "metadata": {},
   "source": [
    "And the last five rows?"
   ]
  },
  {
   "cell_type": "code",
   "execution_count": 19,
   "id": "f2e29bab-cb3b-4382-b82e-7dc1630e4f2a",
   "metadata": {},
   "outputs": [
    {
     "data": {
      "text/html": [
       "<table class=\"dataframe\">\n",
       "<caption>A data.frame: 6 × 6</caption>\n",
       "<thead>\n",
       "\t<tr><th></th><th scope=col>annRange</th><th scope=col>febSD</th><th scope=col>augSD</th><th scope=col>annChl</th><th scope=col>augChl</th><th scope=col>febChl</th></tr>\n",
       "\t<tr><th></th><th scope=col>&lt;dbl&gt;</th><th scope=col>&lt;dbl&gt;</th><th scope=col>&lt;dbl&gt;</th><th scope=col>&lt;dbl&gt;</th><th scope=col>&lt;dbl&gt;</th><th scope=col>&lt;dbl&gt;</th></tr>\n",
       "</thead>\n",
       "<tbody>\n",
       "\t<tr><th scope=row>53</th><td>4.370659</td><td>1.042273</td><td>0.7735190</td><td>4.3419700</td><td>4.3923120</td><td>4.6901580</td></tr>\n",
       "\t<tr><th scope=row>54</th><td>4.335768</td><td>1.155572</td><td>0.9103987</td><td>1.6468625</td><td>2.2654360</td><td>1.6929672</td></tr>\n",
       "\t<tr><th scope=row>55</th><td>4.410438</td><td>1.198775</td><td>0.8427142</td><td>0.2325333</td><td>0.6000800</td><td>0.5421586</td></tr>\n",
       "\t<tr><th scope=row>56</th><td>4.608864</td><td>1.190868</td><td>0.6630736</td><td>0.1320700</td><td>0.4766400</td><td>0.3463820</td></tr>\n",
       "\t<tr><th scope=row>57</th><td>4.969270</td><td>1.142911</td><td>0.4993544</td><td>0.1339000</td><td>0.5845300</td><td>0.3185440</td></tr>\n",
       "\t<tr><th scope=row>58</th><td>5.574320</td><td>1.000036</td><td>0.3493623</td><td>0.1486500</td><td>0.7363475</td><td>0.4165325</td></tr>\n",
       "</tbody>\n",
       "</table>\n"
      ],
      "text/latex": [
       "A data.frame: 6 × 6\n",
       "\\begin{tabular}{r|llllll}\n",
       "  & annRange & febSD & augSD & annChl & augChl & febChl\\\\\n",
       "  & <dbl> & <dbl> & <dbl> & <dbl> & <dbl> & <dbl>\\\\\n",
       "\\hline\n",
       "\t53 & 4.370659 & 1.042273 & 0.7735190 & 4.3419700 & 4.3923120 & 4.6901580\\\\\n",
       "\t54 & 4.335768 & 1.155572 & 0.9103987 & 1.6468625 & 2.2654360 & 1.6929672\\\\\n",
       "\t55 & 4.410438 & 1.198775 & 0.8427142 & 0.2325333 & 0.6000800 & 0.5421586\\\\\n",
       "\t56 & 4.608864 & 1.190868 & 0.6630736 & 0.1320700 & 0.4766400 & 0.3463820\\\\\n",
       "\t57 & 4.969270 & 1.142911 & 0.4993544 & 0.1339000 & 0.5845300 & 0.3185440\\\\\n",
       "\t58 & 5.574320 & 1.000036 & 0.3493623 & 0.1486500 & 0.7363475 & 0.4165325\\\\\n",
       "\\end{tabular}\n"
      ],
      "text/markdown": [
       "\n",
       "A data.frame: 6 × 6\n",
       "\n",
       "| <!--/--> | annRange &lt;dbl&gt; | febSD &lt;dbl&gt; | augSD &lt;dbl&gt; | annChl &lt;dbl&gt; | augChl &lt;dbl&gt; | febChl &lt;dbl&gt; |\n",
       "|---|---|---|---|---|---|---|\n",
       "| 53 | 4.370659 | 1.042273 | 0.7735190 | 4.3419700 | 4.3923120 | 4.6901580 |\n",
       "| 54 | 4.335768 | 1.155572 | 0.9103987 | 1.6468625 | 2.2654360 | 1.6929672 |\n",
       "| 55 | 4.410438 | 1.198775 | 0.8427142 | 0.2325333 | 0.6000800 | 0.5421586 |\n",
       "| 56 | 4.608864 | 1.190868 | 0.6630736 | 0.1320700 | 0.4766400 | 0.3463820 |\n",
       "| 57 | 4.969270 | 1.142911 | 0.4993544 | 0.1339000 | 0.5845300 | 0.3185440 |\n",
       "| 58 | 5.574320 | 1.000036 | 0.3493623 | 0.1486500 | 0.7363475 | 0.4165325 |\n",
       "\n"
      ],
      "text/plain": [
       "   annRange febSD    augSD     annChl    augChl    febChl   \n",
       "53 4.370659 1.042273 0.7735190 4.3419700 4.3923120 4.6901580\n",
       "54 4.335768 1.155572 0.9103987 1.6468625 2.2654360 1.6929672\n",
       "55 4.410438 1.198775 0.8427142 0.2325333 0.6000800 0.5421586\n",
       "56 4.608864 1.190868 0.6630736 0.1320700 0.4766400 0.3463820\n",
       "57 4.969270 1.142911 0.4993544 0.1339000 0.5845300 0.3185440\n",
       "58 5.574320 1.000036 0.3493623 0.1486500 0.7363475 0.4165325"
      ]
     },
     "metadata": {},
     "output_type": "display_data"
    }
   ],
   "source": [
    "env[(nrow(env) - 5):nrow(env), (ncol(env) - 5):ncol(env)]"
   ]
  },
  {
   "cell_type": "markdown",
   "id": "36720c56-cae0-4107-aeb6-988d76c8b1e1",
   "metadata": {},
   "source": [
    "So, each of the rows corresponds to a site (i.e. each of the coastal sections), and the columns each contains an environmental variable. The names of the environmental variables are:"
   ]
  },
  {
   "cell_type": "code",
   "execution_count": 112,
   "id": "66f938fe-7d11-499b-bd16-0df35f3f87ee",
   "metadata": {},
   "outputs": [
    {
     "data": {
      "text/html": [
       "<style>\n",
       ".list-inline {list-style: none; margin:0; padding: 0}\n",
       ".list-inline>li {display: inline-block}\n",
       ".list-inline>li:not(:last-child)::after {content: \"\\00b7\"; padding: 0 .5ex}\n",
       "</style>\n",
       "<ol class=list-inline><li>'febMean'</li><li>'febMax'</li><li>'febMed'</li><li>'febX95'</li><li>'febRange'</li><li>'augMean'</li><li>'augMin'</li><li>'augMed'</li><li>'augX5'</li><li>'augRange'</li><li>'annMean'</li><li>'annSD'</li><li>'annRange'</li><li>'febSD'</li><li>'augSD'</li><li>'annChl'</li><li>'augChl'</li><li>'febChl'</li></ol>\n"
      ],
      "text/latex": [
       "\\begin{enumerate*}\n",
       "\\item 'febMean'\n",
       "\\item 'febMax'\n",
       "\\item 'febMed'\n",
       "\\item 'febX95'\n",
       "\\item 'febRange'\n",
       "\\item 'augMean'\n",
       "\\item 'augMin'\n",
       "\\item 'augMed'\n",
       "\\item 'augX5'\n",
       "\\item 'augRange'\n",
       "\\item 'annMean'\n",
       "\\item 'annSD'\n",
       "\\item 'annRange'\n",
       "\\item 'febSD'\n",
       "\\item 'augSD'\n",
       "\\item 'annChl'\n",
       "\\item 'augChl'\n",
       "\\item 'febChl'\n",
       "\\end{enumerate*}\n"
      ],
      "text/markdown": [
       "1. 'febMean'\n",
       "2. 'febMax'\n",
       "3. 'febMed'\n",
       "4. 'febX95'\n",
       "5. 'febRange'\n",
       "6. 'augMean'\n",
       "7. 'augMin'\n",
       "8. 'augMed'\n",
       "9. 'augX5'\n",
       "10. 'augRange'\n",
       "11. 'annMean'\n",
       "12. 'annSD'\n",
       "13. 'annRange'\n",
       "14. 'febSD'\n",
       "15. 'augSD'\n",
       "16. 'annChl'\n",
       "17. 'augChl'\n",
       "18. 'febChl'\n",
       "\n",
       "\n"
      ],
      "text/plain": [
       " [1] \"febMean\"  \"febMax\"   \"febMed\"   \"febX95\"   \"febRange\" \"augMean\" \n",
       " [7] \"augMin\"   \"augMed\"   \"augX5\"    \"augRange\" \"annMean\"  \"annSD\"   \n",
       "[13] \"annRange\" \"febSD\"    \"augSD\"    \"annChl\"   \"augChl\"   \"febChl\"  "
      ]
     },
     "metadata": {},
     "output_type": "display_data"
    }
   ],
   "source": [
    "colnames(env)"
   ]
  },
  {
   "cell_type": "markdown",
   "id": "62f8c6f0-2c86-41fe-bc64-da1b088b9ff9",
   "metadata": {},
   "source": [
    "As we have seen, there are 18 variables (or dimensions). These data are truly multidimensional in a way that far exceeds our brains' limited ability to spatially visualise. For mathematicians these data define an 18-dimensional space, but all we can do is visualise 3-dimensions."
   ]
  },
  {
   "cell_type": "markdown",
   "id": "070c4009-f7d2-4058-93ac-6b12c564b161",
   "metadata": {},
   "source": [
    "We select only some of the thermal variables; the rest are collinear with some of the ones I import:"
   ]
  },
  {
   "cell_type": "code",
   "execution_count": 28,
   "id": "ce3acdb1-21a2-4a02-8c6b-3ea53da84ead",
   "metadata": {},
   "outputs": [],
   "source": [
    "env1 <- dplyr::select(env, febMean, febRange, febSD, augMean,\n",
    "                    augRange, augSD, annMean, annRange, annSD)"
   ]
  },
  {
   "cell_type": "markdown",
   "id": "6f9dc135-b06a-4867-9950-f0d29e126f2e",
   "metadata": {},
   "source": [
    "## Calculate *z*-scores\n",
    "\n",
    "Here we need to do something new that was not necessary with the toy data. We calculate *z*-scores, and the process is called 'standardisation'. Standardisation is necessary when the variables are measured in diffrent units---e.g. the unit for temperature is °C whereas Ch-*a* is measured in mg Chl-*a*/m3."
   ]
  },
  {
   "cell_type": "code",
   "execution_count": 97,
   "id": "41774c1e-dd53-420d-8d33-33d36bf0a2a2",
   "metadata": {},
   "outputs": [
    {
     "data": {
      "text/html": [
       "<table class=\"dataframe\">\n",
       "<caption>A data.frame: 5 × 5</caption>\n",
       "<thead>\n",
       "\t<tr><th></th><th scope=col>febMean</th><th scope=col>febRange</th><th scope=col>febSD</th><th scope=col>augMean</th><th scope=col>augRange</th></tr>\n",
       "\t<tr><th></th><th scope=col>&lt;dbl&gt;</th><th scope=col>&lt;dbl&gt;</th><th scope=col>&lt;dbl&gt;</th><th scope=col>&lt;dbl&gt;</th><th scope=col>&lt;dbl&gt;</th></tr>\n",
       "</thead>\n",
       "<tbody>\n",
       "\t<tr><th scope=row>1</th><td>-1.491549</td><td>-0.04433865</td><td>-0.2713395</td><td>-1.376511</td><td>-0.47349787</td></tr>\n",
       "\t<tr><th scope=row>2</th><td>-1.401403</td><td>-0.14318268</td><td>-0.1083868</td><td>-1.433925</td><td>-0.06998551</td></tr>\n",
       "\t<tr><th scope=row>3</th><td>-1.405660</td><td>-0.39321619</td><td>-0.1719978</td><td>-1.526950</td><td> 0.02484832</td></tr>\n",
       "\t<tr><th scope=row>4</th><td>-1.422810</td><td>-0.60199306</td><td>-0.3120605</td><td>-1.579735</td><td>-0.05076148</td></tr>\n",
       "\t<tr><th scope=row>5</th><td>-1.536797</td><td>-0.64081940</td><td>-0.4095900</td><td>-1.546420</td><td>-0.09833845</td></tr>\n",
       "</tbody>\n",
       "</table>\n"
      ],
      "text/latex": [
       "A data.frame: 5 × 5\n",
       "\\begin{tabular}{r|lllll}\n",
       "  & febMean & febRange & febSD & augMean & augRange\\\\\n",
       "  & <dbl> & <dbl> & <dbl> & <dbl> & <dbl>\\\\\n",
       "\\hline\n",
       "\t1 & -1.491549 & -0.04433865 & -0.2713395 & -1.376511 & -0.47349787\\\\\n",
       "\t2 & -1.401403 & -0.14318268 & -0.1083868 & -1.433925 & -0.06998551\\\\\n",
       "\t3 & -1.405660 & -0.39321619 & -0.1719978 & -1.526950 &  0.02484832\\\\\n",
       "\t4 & -1.422810 & -0.60199306 & -0.3120605 & -1.579735 & -0.05076148\\\\\n",
       "\t5 & -1.536797 & -0.64081940 & -0.4095900 & -1.546420 & -0.09833845\\\\\n",
       "\\end{tabular}\n"
      ],
      "text/markdown": [
       "\n",
       "A data.frame: 5 × 5\n",
       "\n",
       "| <!--/--> | febMean &lt;dbl&gt; | febRange &lt;dbl&gt; | febSD &lt;dbl&gt; | augMean &lt;dbl&gt; | augRange &lt;dbl&gt; |\n",
       "|---|---|---|---|---|---|\n",
       "| 1 | -1.491549 | -0.04433865 | -0.2713395 | -1.376511 | -0.47349787 |\n",
       "| 2 | -1.401403 | -0.14318268 | -0.1083868 | -1.433925 | -0.06998551 |\n",
       "| 3 | -1.405660 | -0.39321619 | -0.1719978 | -1.526950 |  0.02484832 |\n",
       "| 4 | -1.422810 | -0.60199306 | -0.3120605 | -1.579735 | -0.05076148 |\n",
       "| 5 | -1.536797 | -0.64081940 | -0.4095900 | -1.546420 | -0.09833845 |\n",
       "\n"
      ],
      "text/plain": [
       "  febMean   febRange    febSD      augMean   augRange   \n",
       "1 -1.491549 -0.04433865 -0.2713395 -1.376511 -0.47349787\n",
       "2 -1.401403 -0.14318268 -0.1083868 -1.433925 -0.06998551\n",
       "3 -1.405660 -0.39321619 -0.1719978 -1.526950  0.02484832\n",
       "4 -1.422810 -0.60199306 -0.3120605 -1.579735 -0.05076148\n",
       "5 -1.536797 -0.64081940 -0.4095900 -1.546420 -0.09833845"
      ]
     },
     "metadata": {},
     "output_type": "display_data"
    }
   ],
   "source": [
    "E1 <- decostand(env1, method = \"standardize\")\n",
    "E1[1:5, 1:5]"
   ]
  },
  {
   "cell_type": "markdown",
   "id": "8b93987f-7504-4e24-b4ea-35f6cdbdac1e",
   "metadata": {},
   "source": [
    "## Calculate Euclidian distance"
   ]
  },
  {
   "cell_type": "code",
   "execution_count": 32,
   "id": "a7c2d7dc-25fc-4c85-85bb-3fbdaaf211fe",
   "metadata": {},
   "outputs": [
    {
     "data": {
      "text/html": [
       "<table class=\"dataframe\">\n",
       "<caption>A data.frame: 10 × 10</caption>\n",
       "<thead>\n",
       "\t<tr><th></th><th scope=col>1</th><th scope=col>2</th><th scope=col>3</th><th scope=col>4</th><th scope=col>5</th><th scope=col>6</th><th scope=col>7</th><th scope=col>8</th><th scope=col>9</th><th scope=col>10</th></tr>\n",
       "\t<tr><th></th><th scope=col>&lt;dbl&gt;</th><th scope=col>&lt;dbl&gt;</th><th scope=col>&lt;dbl&gt;</th><th scope=col>&lt;dbl&gt;</th><th scope=col>&lt;dbl&gt;</th><th scope=col>&lt;dbl&gt;</th><th scope=col>&lt;dbl&gt;</th><th scope=col>&lt;dbl&gt;</th><th scope=col>&lt;dbl&gt;</th><th scope=col>&lt;dbl&gt;</th></tr>\n",
       "</thead>\n",
       "<tbody>\n",
       "\t<tr><th scope=row>1</th><td>0.0000000</td><td>0.7040158</td><td>1.0006019</td><td>1.1131873</td><td>0.9901043</td><td>0.9123118</td><td>0.7848267</td><td>0.7956702</td><td>2.790118</td><td>2.032729</td></tr>\n",
       "\t<tr><th scope=row>2</th><td>0.7040158</td><td>0.0000000</td><td>0.3769798</td><td>0.6125779</td><td>0.6553512</td><td>0.7726246</td><td>0.6291150</td><td>0.5565375</td><td>2.273257</td><td>1.750949</td></tr>\n",
       "\t<tr><th scope=row>3</th><td>1.0006019</td><td>0.3769798</td><td>0.0000000</td><td>0.2817262</td><td>0.4730105</td><td>0.7595062</td><td>0.7164466</td><td>0.7940035</td><td>2.269254</td><td>1.805588</td></tr>\n",
       "\t<tr><th scope=row>4</th><td>1.1131873</td><td>0.6125779</td><td>0.2817262</td><td>0.0000000</td><td>0.3661855</td><td>0.7566083</td><td>0.7911675</td><td>0.9707696</td><td>2.452254</td><td>1.901946</td></tr>\n",
       "\t<tr><th scope=row>5</th><td>0.9901043</td><td>0.6553512</td><td>0.4730105</td><td>0.3661855</td><td>0.0000000</td><td>0.4093824</td><td>0.5261295</td><td>0.9859856</td><td>2.484725</td><td>2.137716</td></tr>\n",
       "\t<tr><th scope=row>6</th><td>0.9123118</td><td>0.7726246</td><td>0.7595062</td><td>0.7566083</td><td>0.4093824</td><td>0.0000000</td><td>0.2862718</td><td>1.0129257</td><td>2.444926</td><td>2.348422</td></tr>\n",
       "\t<tr><th scope=row>7</th><td>0.7848267</td><td>0.6291150</td><td>0.7164466</td><td>0.7911675</td><td>0.5261295</td><td>0.2862718</td><td>0.0000000</td><td>0.7677663</td><td>2.303537</td><td>2.165662</td></tr>\n",
       "\t<tr><th scope=row>8</th><td>0.7956702</td><td>0.5565375</td><td>0.7940035</td><td>0.9707696</td><td>0.9859856</td><td>1.0129257</td><td>0.7677663</td><td>0.0000000</td><td>2.225097</td><td>1.560861</td></tr>\n",
       "\t<tr><th scope=row>9</th><td>2.7901179</td><td>2.2732575</td><td>2.2692540</td><td>2.4522545</td><td>2.4847247</td><td>2.4449262</td><td>2.3035374</td><td>2.2250973</td><td>0.000000</td><td>2.847564</td></tr>\n",
       "\t<tr><th scope=row>10</th><td>2.0327287</td><td>1.7509495</td><td>1.8055877</td><td>1.9019457</td><td>2.1377165</td><td>2.3484219</td><td>2.1656621</td><td>1.5608609</td><td>2.847564</td><td>0.000000</td></tr>\n",
       "</tbody>\n",
       "</table>\n"
      ],
      "text/latex": [
       "A data.frame: 10 × 10\n",
       "\\begin{tabular}{r|llllllllll}\n",
       "  & 1 & 2 & 3 & 4 & 5 & 6 & 7 & 8 & 9 & 10\\\\\n",
       "  & <dbl> & <dbl> & <dbl> & <dbl> & <dbl> & <dbl> & <dbl> & <dbl> & <dbl> & <dbl>\\\\\n",
       "\\hline\n",
       "\t1 & 0.0000000 & 0.7040158 & 1.0006019 & 1.1131873 & 0.9901043 & 0.9123118 & 0.7848267 & 0.7956702 & 2.790118 & 2.032729\\\\\n",
       "\t2 & 0.7040158 & 0.0000000 & 0.3769798 & 0.6125779 & 0.6553512 & 0.7726246 & 0.6291150 & 0.5565375 & 2.273257 & 1.750949\\\\\n",
       "\t3 & 1.0006019 & 0.3769798 & 0.0000000 & 0.2817262 & 0.4730105 & 0.7595062 & 0.7164466 & 0.7940035 & 2.269254 & 1.805588\\\\\n",
       "\t4 & 1.1131873 & 0.6125779 & 0.2817262 & 0.0000000 & 0.3661855 & 0.7566083 & 0.7911675 & 0.9707696 & 2.452254 & 1.901946\\\\\n",
       "\t5 & 0.9901043 & 0.6553512 & 0.4730105 & 0.3661855 & 0.0000000 & 0.4093824 & 0.5261295 & 0.9859856 & 2.484725 & 2.137716\\\\\n",
       "\t6 & 0.9123118 & 0.7726246 & 0.7595062 & 0.7566083 & 0.4093824 & 0.0000000 & 0.2862718 & 1.0129257 & 2.444926 & 2.348422\\\\\n",
       "\t7 & 0.7848267 & 0.6291150 & 0.7164466 & 0.7911675 & 0.5261295 & 0.2862718 & 0.0000000 & 0.7677663 & 2.303537 & 2.165662\\\\\n",
       "\t8 & 0.7956702 & 0.5565375 & 0.7940035 & 0.9707696 & 0.9859856 & 1.0129257 & 0.7677663 & 0.0000000 & 2.225097 & 1.560861\\\\\n",
       "\t9 & 2.7901179 & 2.2732575 & 2.2692540 & 2.4522545 & 2.4847247 & 2.4449262 & 2.3035374 & 2.2250973 & 0.000000 & 2.847564\\\\\n",
       "\t10 & 2.0327287 & 1.7509495 & 1.8055877 & 1.9019457 & 2.1377165 & 2.3484219 & 2.1656621 & 1.5608609 & 2.847564 & 0.000000\\\\\n",
       "\\end{tabular}\n"
      ],
      "text/markdown": [
       "\n",
       "A data.frame: 10 × 10\n",
       "\n",
       "| <!--/--> | 1 &lt;dbl&gt; | 2 &lt;dbl&gt; | 3 &lt;dbl&gt; | 4 &lt;dbl&gt; | 5 &lt;dbl&gt; | 6 &lt;dbl&gt; | 7 &lt;dbl&gt; | 8 &lt;dbl&gt; | 9 &lt;dbl&gt; | 10 &lt;dbl&gt; |\n",
       "|---|---|---|---|---|---|---|---|---|---|---|\n",
       "| 1 | 0.0000000 | 0.7040158 | 1.0006019 | 1.1131873 | 0.9901043 | 0.9123118 | 0.7848267 | 0.7956702 | 2.790118 | 2.032729 |\n",
       "| 2 | 0.7040158 | 0.0000000 | 0.3769798 | 0.6125779 | 0.6553512 | 0.7726246 | 0.6291150 | 0.5565375 | 2.273257 | 1.750949 |\n",
       "| 3 | 1.0006019 | 0.3769798 | 0.0000000 | 0.2817262 | 0.4730105 | 0.7595062 | 0.7164466 | 0.7940035 | 2.269254 | 1.805588 |\n",
       "| 4 | 1.1131873 | 0.6125779 | 0.2817262 | 0.0000000 | 0.3661855 | 0.7566083 | 0.7911675 | 0.9707696 | 2.452254 | 1.901946 |\n",
       "| 5 | 0.9901043 | 0.6553512 | 0.4730105 | 0.3661855 | 0.0000000 | 0.4093824 | 0.5261295 | 0.9859856 | 2.484725 | 2.137716 |\n",
       "| 6 | 0.9123118 | 0.7726246 | 0.7595062 | 0.7566083 | 0.4093824 | 0.0000000 | 0.2862718 | 1.0129257 | 2.444926 | 2.348422 |\n",
       "| 7 | 0.7848267 | 0.6291150 | 0.7164466 | 0.7911675 | 0.5261295 | 0.2862718 | 0.0000000 | 0.7677663 | 2.303537 | 2.165662 |\n",
       "| 8 | 0.7956702 | 0.5565375 | 0.7940035 | 0.9707696 | 0.9859856 | 1.0129257 | 0.7677663 | 0.0000000 | 2.225097 | 1.560861 |\n",
       "| 9 | 2.7901179 | 2.2732575 | 2.2692540 | 2.4522545 | 2.4847247 | 2.4449262 | 2.3035374 | 2.2250973 | 0.000000 | 2.847564 |\n",
       "| 10 | 2.0327287 | 1.7509495 | 1.8055877 | 1.9019457 | 2.1377165 | 2.3484219 | 2.1656621 | 1.5608609 | 2.847564 | 0.000000 |\n",
       "\n"
      ],
      "text/plain": [
       "   1         2         3         4         5         6         7        \n",
       "1  0.0000000 0.7040158 1.0006019 1.1131873 0.9901043 0.9123118 0.7848267\n",
       "2  0.7040158 0.0000000 0.3769798 0.6125779 0.6553512 0.7726246 0.6291150\n",
       "3  1.0006019 0.3769798 0.0000000 0.2817262 0.4730105 0.7595062 0.7164466\n",
       "4  1.1131873 0.6125779 0.2817262 0.0000000 0.3661855 0.7566083 0.7911675\n",
       "5  0.9901043 0.6553512 0.4730105 0.3661855 0.0000000 0.4093824 0.5261295\n",
       "6  0.9123118 0.7726246 0.7595062 0.7566083 0.4093824 0.0000000 0.2862718\n",
       "7  0.7848267 0.6291150 0.7164466 0.7911675 0.5261295 0.2862718 0.0000000\n",
       "8  0.7956702 0.5565375 0.7940035 0.9707696 0.9859856 1.0129257 0.7677663\n",
       "9  2.7901179 2.2732575 2.2692540 2.4522545 2.4847247 2.4449262 2.3035374\n",
       "10 2.0327287 1.7509495 1.8055877 1.9019457 2.1377165 2.3484219 2.1656621\n",
       "   8         9        10      \n",
       "1  0.7956702 2.790118 2.032729\n",
       "2  0.5565375 2.273257 1.750949\n",
       "3  0.7940035 2.269254 1.805588\n",
       "4  0.9707696 2.452254 1.901946\n",
       "5  0.9859856 2.484725 2.137716\n",
       "6  1.0129257 2.444926 2.348422\n",
       "7  0.7677663 2.303537 2.165662\n",
       "8  0.0000000 2.225097 1.560861\n",
       "9  2.2250973 0.000000 2.847564\n",
       "10 1.5608609 2.847564 0.000000"
      ]
     },
     "metadata": {},
     "output_type": "display_data"
    }
   ],
   "source": [
    "E1_euc <- vegdist(E1, method = \"euclidian\", upper = TRUE)\n",
    "E1_df <- as.data.frame(as.matrix(E1_euc))\n",
    "E1_df[1:10, 1:10] # the first 20 rows and columns"
   ]
  },
  {
   "cell_type": "markdown",
   "id": "0592efec-3d0f-42cf-8e09-469dca1c5546",
   "metadata": {},
   "source": [
    "We already know how to read this matrix. Let's plot it as a function of the coastal section's number:"
   ]
  },
  {
   "cell_type": "code",
   "execution_count": 41,
   "id": "afe75eb1-177f-47c0-98f6-94b2849ce0ad",
   "metadata": {},
   "outputs": [
    {
     "data": {
      "image/png": "[encoded data removed]",
      "text/plain": [
       "plot without title"
      ]
     },
     "metadata": {
      "image/png": {
       "height": 420,
       "width": 420
      }
     },
     "output_type": "display_data"
    }
   ],
   "source": [
    "ggplot(data = E1_df, (aes(x = 1:58, y = `1`))) +\n",
    "  geom_line() + xlab(\"Coastal section, west to east\") + ylab(\"Environmental distance\")"
   ]
  },
  {
   "cell_type": "markdown",
   "id": "f0d4c84e-cf7f-4305-86fe-3e7f832b1f38",
   "metadata": {},
   "source": [
    "We will explore distance and dissimilarity matrices in more detail in later sections.\n",
    "\n",
    "## Euclidian distances of geographical data\n",
    "\n",
    "When we calculate Euclidian distances between geographic lat/lon coordinate, the relationship between sections will be the same (but scaled) as actual geographic distances."
   ]
  },
  {
   "cell_type": "code",
   "execution_count": 72,
   "id": "c25eda05-2a56-4fb4-b905-bcce83120d86",
   "metadata": {},
   "outputs": [
    {
     "data": {
      "text/html": [
       "<style>\n",
       ".list-inline {list-style: none; margin:0; padding: 0}\n",
       ".list-inline>li {display: inline-block}\n",
       ".list-inline>li:not(:last-child)::after {content: \"\\00b7\"; padding: 0 .5ex}\n",
       "</style>\n",
       "<ol class=list-inline><li>58</li><li>2</li></ol>\n"
      ],
      "text/latex": [
       "\\begin{enumerate*}\n",
       "\\item 58\n",
       "\\item 2\n",
       "\\end{enumerate*}\n"
      ],
      "text/markdown": [
       "1. 58\n",
       "2. 2\n",
       "\n",
       "\n"
      ],
      "text/plain": [
       "[1] 58  2"
      ]
     },
     "metadata": {},
     "output_type": "display_data"
    }
   ],
   "source": [
    "geo <- read.csv(\"/Users/ajsmit/Dropbox/R/workshops/Quantitative_Ecology/exercises/diversity/sites.csv\")\n",
    "dim(geo)"
   ]
  },
  {
   "cell_type": "code",
   "execution_count": 53,
   "id": "12f236ed-2981-4022-a96e-9a4522a8dd79",
   "metadata": {},
   "outputs": [
    {
     "data": {
      "text/html": [
       "<table class=\"dataframe\">\n",
       "<caption>A data.frame: 6 × 2</caption>\n",
       "<thead>\n",
       "\t<tr><th></th><th scope=col>Latitude</th><th scope=col>Longitude</th></tr>\n",
       "\t<tr><th></th><th scope=col>&lt;dbl&gt;</th><th scope=col>&lt;dbl&gt;</th></tr>\n",
       "</thead>\n",
       "<tbody>\n",
       "\t<tr><th scope=row>1</th><td>-28.98450</td><td>16.72429</td></tr>\n",
       "\t<tr><th scope=row>2</th><td>-29.38053</td><td>16.94238</td></tr>\n",
       "\t<tr><th scope=row>3</th><td>-29.83253</td><td>17.08194</td></tr>\n",
       "\t<tr><th scope=row>4</th><td>-30.26426</td><td>17.25928</td></tr>\n",
       "\t<tr><th scope=row>5</th><td>-30.67874</td><td>17.47638</td></tr>\n",
       "\t<tr><th scope=row>6</th><td>-31.08580</td><td>17.72167</td></tr>\n",
       "</tbody>\n",
       "</table>\n"
      ],
      "text/latex": [
       "A data.frame: 6 × 2\n",
       "\\begin{tabular}{r|ll}\n",
       "  & Latitude & Longitude\\\\\n",
       "  & <dbl> & <dbl>\\\\\n",
       "\\hline\n",
       "\t1 & -28.98450 & 16.72429\\\\\n",
       "\t2 & -29.38053 & 16.94238\\\\\n",
       "\t3 & -29.83253 & 17.08194\\\\\n",
       "\t4 & -30.26426 & 17.25928\\\\\n",
       "\t5 & -30.67874 & 17.47638\\\\\n",
       "\t6 & -31.08580 & 17.72167\\\\\n",
       "\\end{tabular}\n"
      ],
      "text/markdown": [
       "\n",
       "A data.frame: 6 × 2\n",
       "\n",
       "| <!--/--> | Latitude &lt;dbl&gt; | Longitude &lt;dbl&gt; |\n",
       "|---|---|---|\n",
       "| 1 | -28.98450 | 16.72429 |\n",
       "| 2 | -29.38053 | 16.94238 |\n",
       "| 3 | -29.83253 | 17.08194 |\n",
       "| 4 | -30.26426 | 17.25928 |\n",
       "| 5 | -30.67874 | 17.47638 |\n",
       "| 6 | -31.08580 | 17.72167 |\n",
       "\n"
      ],
      "text/plain": [
       "  Latitude  Longitude\n",
       "1 -28.98450 16.72429 \n",
       "2 -29.38053 16.94238 \n",
       "3 -29.83253 17.08194 \n",
       "4 -30.26426 17.25928 \n",
       "5 -30.67874 17.47638 \n",
       "6 -31.08580 17.72167 "
      ]
     },
     "metadata": {},
     "output_type": "display_data"
    }
   ],
   "source": [
    "head(geo)"
   ]
  },
  {
   "cell_type": "markdown",
   "id": "b6d4ba91-e910-489f-9563-6191a1d19504",
   "metadata": {},
   "source": [
    "The first column contains nonsense and must be removed:"
   ]
  },
  {
   "cell_type": "markdown",
   "id": "9e8668f3-a7ed-4ec4-9685-b7ee0786d933",
   "metadata": {},
   "source": [
    "Calculate geographic distances (in meters) between coordinate pairs:"
   ]
  },
  {
   "cell_type": "code",
   "execution_count": 73,
   "id": "9765beca-9b40-4753-81a9-c4a218035511",
   "metadata": {},
   "outputs": [
    {
     "data": {
      "text/html": [
       "<table class=\"dataframe\">\n",
       "<caption>A data.frame: 5 × 5</caption>\n",
       "<thead>\n",
       "\t<tr><th></th><th scope=col>1</th><th scope=col>2</th><th scope=col>3</th><th scope=col>4</th><th scope=col>5</th></tr>\n",
       "\t<tr><th></th><th scope=col>&lt;dbl&gt;</th><th scope=col>&lt;dbl&gt;</th><th scope=col>&lt;dbl&gt;</th><th scope=col>&lt;dbl&gt;</th><th scope=col>&lt;dbl&gt;</th></tr>\n",
       "</thead>\n",
       "<tbody>\n",
       "\t<tr><th scope=row>1</th><td>     0.00</td><td> 48752.45</td><td>100201.82</td><td>151021.75</td><td>201380.00</td></tr>\n",
       "\t<tr><th scope=row>2</th><td> 48752.45</td><td>     0.00</td><td> 51894.01</td><td>102638.03</td><td>152849.90</td></tr>\n",
       "\t<tr><th scope=row>3</th><td>100201.82</td><td> 51894.01</td><td>     0.00</td><td> 50822.71</td><td>101197.22</td></tr>\n",
       "\t<tr><th scope=row>4</th><td>151021.75</td><td>102638.03</td><td> 50822.71</td><td>     0.00</td><td> 50457.53</td></tr>\n",
       "\t<tr><th scope=row>5</th><td>201380.00</td><td>152849.90</td><td>101197.22</td><td> 50457.53</td><td>     0.00</td></tr>\n",
       "</tbody>\n",
       "</table>\n"
      ],
      "text/latex": [
       "A data.frame: 5 × 5\n",
       "\\begin{tabular}{r|lllll}\n",
       "  & 1 & 2 & 3 & 4 & 5\\\\\n",
       "  & <dbl> & <dbl> & <dbl> & <dbl> & <dbl>\\\\\n",
       "\\hline\n",
       "\t1 &      0.00 &  48752.45 & 100201.82 & 151021.75 & 201380.00\\\\\n",
       "\t2 &  48752.45 &      0.00 &  51894.01 & 102638.03 & 152849.90\\\\\n",
       "\t3 & 100201.82 &  51894.01 &      0.00 &  50822.71 & 101197.22\\\\\n",
       "\t4 & 151021.75 & 102638.03 &  50822.71 &      0.00 &  50457.53\\\\\n",
       "\t5 & 201380.00 & 152849.90 & 101197.22 &  50457.53 &      0.00\\\\\n",
       "\\end{tabular}\n"
      ],
      "text/markdown": [
       "\n",
       "A data.frame: 5 × 5\n",
       "\n",
       "| <!--/--> | 1 &lt;dbl&gt; | 2 &lt;dbl&gt; | 3 &lt;dbl&gt; | 4 &lt;dbl&gt; | 5 &lt;dbl&gt; |\n",
       "|---|---|---|---|---|---|\n",
       "| 1 |      0.00 |  48752.45 | 100201.82 | 151021.75 | 201380.00 |\n",
       "| 2 |  48752.45 |      0.00 |  51894.01 | 102638.03 | 152849.90 |\n",
       "| 3 | 100201.82 |  51894.01 |      0.00 |  50822.71 | 101197.22 |\n",
       "| 4 | 151021.75 | 102638.03 |  50822.71 |      0.00 |  50457.53 |\n",
       "| 5 | 201380.00 | 152849.90 | 101197.22 |  50457.53 |      0.00 |\n",
       "\n"
      ],
      "text/plain": [
       "  1         2         3         4         5        \n",
       "1      0.00  48752.45 100201.82 151021.75 201380.00\n",
       "2  48752.45      0.00  51894.01 102638.03 152849.90\n",
       "3 100201.82  51894.01      0.00  50822.71 101197.22\n",
       "4 151021.75 102638.03  50822.71      0.00  50457.53\n",
       "5 201380.00 152849.90 101197.22  50457.53      0.00"
      ]
     },
     "metadata": {},
     "output_type": "display_data"
    }
   ],
   "source": [
    "dists <- geodist(geo, paired = TRUE, measure = \"geodesic\")\n",
    "dists_df <- as.data.frame(as.matrix(dists))\n",
    "colnames(dists_df) <- seq(1:58)\n",
    "dists_df[1:5, 1:5]"
   ]
  },
  {
   "cell_type": "code",
   "execution_count": 95,
   "id": "46a4a865-08f8-41b1-896f-4a9c40cf54d8",
   "metadata": {},
   "outputs": [],
   "source": [
    "plt1 <- ggplot(data = dists_df, (aes(x = 1:58, y = `1`/1000))) +\n",
    "  geom_line() + xlab(\"Coastal section, west to east\") + ylab(\"Distance (km)\") + ggtitle(\"Actual geographic distance\")"
   ]
  },
  {
   "cell_type": "code",
   "execution_count": 75,
   "id": "1d5b0dc5-50ba-473d-96a5-c1d849d03967",
   "metadata": {},
   "outputs": [
    {
     "data": {
      "text/html": [
       "<table class=\"dataframe\">\n",
       "<caption>A data.frame: 5 × 5</caption>\n",
       "<thead>\n",
       "\t<tr><th></th><th scope=col>1</th><th scope=col>2</th><th scope=col>3</th><th scope=col>4</th><th scope=col>5</th></tr>\n",
       "\t<tr><th></th><th scope=col>&lt;dbl&gt;</th><th scope=col>&lt;dbl&gt;</th><th scope=col>&lt;dbl&gt;</th><th scope=col>&lt;dbl&gt;</th><th scope=col>&lt;dbl&gt;</th></tr>\n",
       "</thead>\n",
       "<tbody>\n",
       "\t<tr><th scope=row>1</th><td>0.0000000</td><td>0.4521095</td><td>0.9203632</td><td>1.3870833</td><td>1.8536689</td></tr>\n",
       "\t<tr><th scope=row>2</th><td>0.4521095</td><td>0.0000000</td><td>0.4730550</td><td>0.9388314</td><td>1.4037468</td></tr>\n",
       "\t<tr><th scope=row>3</th><td>0.9203632</td><td>0.4730550</td><td>0.0000000</td><td>0.4667336</td><td>0.9336243</td></tr>\n",
       "\t<tr><th scope=row>4</th><td>1.3870833</td><td>0.9388314</td><td>0.4667336</td><td>0.0000000</td><td>0.4678954</td></tr>\n",
       "\t<tr><th scope=row>5</th><td>1.8536689</td><td>1.4037468</td><td>0.9336243</td><td>0.4678954</td><td>0.0000000</td></tr>\n",
       "</tbody>\n",
       "</table>\n"
      ],
      "text/latex": [
       "A data.frame: 5 × 5\n",
       "\\begin{tabular}{r|lllll}\n",
       "  & 1 & 2 & 3 & 4 & 5\\\\\n",
       "  & <dbl> & <dbl> & <dbl> & <dbl> & <dbl>\\\\\n",
       "\\hline\n",
       "\t1 & 0.0000000 & 0.4521095 & 0.9203632 & 1.3870833 & 1.8536689\\\\\n",
       "\t2 & 0.4521095 & 0.0000000 & 0.4730550 & 0.9388314 & 1.4037468\\\\\n",
       "\t3 & 0.9203632 & 0.4730550 & 0.0000000 & 0.4667336 & 0.9336243\\\\\n",
       "\t4 & 1.3870833 & 0.9388314 & 0.4667336 & 0.0000000 & 0.4678954\\\\\n",
       "\t5 & 1.8536689 & 1.4037468 & 0.9336243 & 0.4678954 & 0.0000000\\\\\n",
       "\\end{tabular}\n"
      ],
      "text/markdown": [
       "\n",
       "A data.frame: 5 × 5\n",
       "\n",
       "| <!--/--> | 1 &lt;dbl&gt; | 2 &lt;dbl&gt; | 3 &lt;dbl&gt; | 4 &lt;dbl&gt; | 5 &lt;dbl&gt; |\n",
       "|---|---|---|---|---|---|\n",
       "| 1 | 0.0000000 | 0.4521095 | 0.9203632 | 1.3870833 | 1.8536689 |\n",
       "| 2 | 0.4521095 | 0.0000000 | 0.4730550 | 0.9388314 | 1.4037468 |\n",
       "| 3 | 0.9203632 | 0.4730550 | 0.0000000 | 0.4667336 | 0.9336243 |\n",
       "| 4 | 1.3870833 | 0.9388314 | 0.4667336 | 0.0000000 | 0.4678954 |\n",
       "| 5 | 1.8536689 | 1.4037468 | 0.9336243 | 0.4678954 | 0.0000000 |\n",
       "\n"
      ],
      "text/plain": [
       "  1         2         3         4         5        \n",
       "1 0.0000000 0.4521095 0.9203632 1.3870833 1.8536689\n",
       "2 0.4521095 0.0000000 0.4730550 0.9388314 1.4037468\n",
       "3 0.9203632 0.4730550 0.0000000 0.4667336 0.9336243\n",
       "4 1.3870833 0.9388314 0.4667336 0.0000000 0.4678954\n",
       "5 1.8536689 1.4037468 0.9336243 0.4678954 0.0000000"
      ]
     },
     "metadata": {},
     "output_type": "display_data"
    }
   ],
   "source": [
    "dists_euc <- vegdist(geo, method = \"euclidian\")\n",
    "dists_euc_df <- as.data.frame(as.matrix(dists_euc))\n",
    "dists_euc_df[1:5, 1:5]"
   ]
  },
  {
   "cell_type": "code",
   "execution_count": 91,
   "id": "7557113b-39a2-46d5-8adc-f8bd88541508",
   "metadata": {},
   "outputs": [],
   "source": [
    "plt2 <- ggplot(data = dists_euc_df, (aes(x = 1:58, y = `1`))) +\n",
    "  geom_line() + xlab(\"Coastal section, west to east\") + ylab(\"Euclidian distance\") + ggtitle(\"Euclidian distance\")"
   ]
  },
  {
   "cell_type": "code",
   "execution_count": 94,
   "id": "59f6e062-5f56-4d34-9259-c3fcad2db481",
   "metadata": {},
   "outputs": [
    {
     "data": {
      "image/png": "[encoded data removed]",
      "text/plain": [
       "plot without title"
      ]
     },
     "metadata": {
      "image/png": {
       "height": 420,
       "width": 420
      }
     },
     "output_type": "display_data"
    }
   ],
   "source": [
    "ggarrange(plt1, plt2, nrow = 2)"
   ]
  }
 ],
 "metadata": {
  "kernelspec": {
   "display_name": "R",
   "language": "R",
   "name": "ir"
  },
  "language_info": {
   "codemirror_mode": "r",
   "file_extension": ".r",
   "mimetype": "text/x-r-source",
   "name": "R",
   "pygments_lexer": "r",
   "version": "4.1.0"
  }
 },
 "nbformat": 4,
 "nbformat_minor": 5
}
