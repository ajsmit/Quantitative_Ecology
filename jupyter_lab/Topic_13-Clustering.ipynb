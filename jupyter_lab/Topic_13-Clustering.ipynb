{
 "cells": [
  {
   "cell_type": "markdown",
   "id": "65fc5bad-b00c-4f95-b1de-215a7418e3a7",
   "metadata": {},
   "source": [
    "**Author:** Prof. AJ Smit\n",
    "\n",
    "Department of Biodiversity and Conservation Biology\n",
    "\n",
    "University of the Western Cape\n",
    "\n",
    "# Topic 14: Cluster analysis\n",
    "\n",
    "In this example we will apply two types of cluster analysis. **K-means clustering** and **hierarchical clustering**. Whereas ordination attempts to display the presence and influence of gradients, clustering tries to place our samples into a certain number of discrete units or clusters.\n",
    "\n",
    "## Set-up the analysis environment"
   ]
  },
  {
   "cell_type": "code",
   "execution_count": 5,
   "id": "85775c0b-ce16-4a9d-840e-e8c973c2e956",
   "metadata": {},
   "outputs": [
    {
     "name": "stderr",
     "output_type": "stream",
     "text": [
      "Loading required package: permute\n",
      "\n",
      "\n",
      "Attaching package: ‘permute’\n",
      "\n",
      "\n",
      "The following object is masked from ‘package:dendextend’:\n",
      "\n",
      "    shuffle\n",
      "\n",
      "\n",
      "Loading required package: lattice\n",
      "\n",
      "Registered S3 method overwritten by 'vegan':\n",
      "  method     from      \n",
      "  rev.hclust dendextend\n",
      "\n",
      "This is vegan 2.5-7\n",
      "\n"
     ]
    }
   ],
   "source": [
    "library(tidyverse) \n",
    "library(GGally)\n",
    "library(cluster)\n",
    "library(purrr)\n",
    "library(dendextend)\n",
    "library(ggcorrplot)\n",
    "library(DataExplorer)\n",
    "library(factoextra)\n",
    "library(gridExtra)\n",
    "library(vegan)"
   ]
  },
  {
   "cell_type": "markdown",
   "id": "824c0da4-3996-4506-afbd-00fa0631cd0c",
   "metadata": {},
   "source": [
    "## Country data\n",
    "\n",
    "Data taken from a [Kaggle challenge](https://www.kaggle.com/rohan0301/unsupervised-learning-on-country-data). Information about the data and the analysis is repeated here almost verbatim, but I have included various edits and modifications to the analysis.\n",
    "\n",
    "### Clustering the Countries by using Unsupervised Learning for HELP International\n",
    "#### Objective\n",
    "To categorise the countries using socio-economic and health factors that determine the overall development of the country.\n",
    "\n",
    "#### About organization\n",
    "HELP International is an international humanitarian NGO that is committed to fighting poverty and providing the people of backward countries with basic amenities and relief during the time of disasters and natural calamities.\n",
    "\n",
    "#### Problem Statement\n",
    "HELP International have been able to raise around $ 10 million. Now the CEO of the NGO needs to decide how to use this money strategically and effectively. So, CEO has to make decision to choose the countries that are in the direst need of aid. Hence, your Job as a Data scientist is to categorise the countries using some socio-economic and health factors that determine the overall development of the country. Then you need to suggest the countries which the CEO needs to focus on the most.\n",
    "\n",
    "## Load the data and examine it"
   ]
  },
  {
   "cell_type": "code",
   "execution_count": 3,
   "id": "a2f358b5-564e-4c67-9436-db84140fe0ee",
   "metadata": {},
   "outputs": [
    {
     "name": "stderr",
     "output_type": "stream",
     "text": [
      "\n",
      "\u001b[36m──\u001b[39m \u001b[1m\u001b[1mColumn specification\u001b[1m\u001b[22m \u001b[36m──────────────────────────────────────────────────────────────────────────────────────────────────────────────────────────────────────\u001b[39m\n",
      "cols(\n",
      "  country = \u001b[31mcol_character()\u001b[39m,\n",
      "  child_mort = \u001b[32mcol_double()\u001b[39m,\n",
      "  exports = \u001b[32mcol_double()\u001b[39m,\n",
      "  health = \u001b[32mcol_double()\u001b[39m,\n",
      "  imports = \u001b[32mcol_double()\u001b[39m,\n",
      "  income = \u001b[32mcol_double()\u001b[39m,\n",
      "  inflation = \u001b[32mcol_double()\u001b[39m,\n",
      "  life_expec = \u001b[32mcol_double()\u001b[39m,\n",
      "  total_fer = \u001b[32mcol_double()\u001b[39m,\n",
      "  gdpp = \u001b[32mcol_double()\u001b[39m\n",
      ")\n",
      "\n",
      "\n"
     ]
    },
    {
     "data": {
      "text/html": [
       "<table class=\"dataframe\">\n",
       "<caption>A tibble: 6 × 10</caption>\n",
       "<thead>\n",
       "\t<tr><th scope=col>country</th><th scope=col>child_mort</th><th scope=col>exports</th><th scope=col>health</th><th scope=col>imports</th><th scope=col>income</th><th scope=col>inflation</th><th scope=col>life_expec</th><th scope=col>total_fer</th><th scope=col>gdpp</th></tr>\n",
       "\t<tr><th scope=col>&lt;chr&gt;</th><th scope=col>&lt;dbl&gt;</th><th scope=col>&lt;dbl&gt;</th><th scope=col>&lt;dbl&gt;</th><th scope=col>&lt;dbl&gt;</th><th scope=col>&lt;dbl&gt;</th><th scope=col>&lt;dbl&gt;</th><th scope=col>&lt;dbl&gt;</th><th scope=col>&lt;dbl&gt;</th><th scope=col>&lt;dbl&gt;</th></tr>\n",
       "</thead>\n",
       "<tbody>\n",
       "\t<tr><td>Afghanistan        </td><td> 90.2</td><td>10.0</td><td>7.58</td><td>44.9</td><td> 1610</td><td> 9.44</td><td>56.2</td><td>5.82</td><td>  553</td></tr>\n",
       "\t<tr><td>Albania            </td><td> 16.6</td><td>28.0</td><td>6.55</td><td>48.6</td><td> 9930</td><td> 4.49</td><td>76.3</td><td>1.65</td><td> 4090</td></tr>\n",
       "\t<tr><td>Algeria            </td><td> 27.3</td><td>38.4</td><td>4.17</td><td>31.4</td><td>12900</td><td>16.10</td><td>76.5</td><td>2.89</td><td> 4460</td></tr>\n",
       "\t<tr><td>Angola             </td><td>119.0</td><td>62.3</td><td>2.85</td><td>42.9</td><td> 5900</td><td>22.40</td><td>60.1</td><td>6.16</td><td> 3530</td></tr>\n",
       "\t<tr><td>Antigua and Barbuda</td><td> 10.3</td><td>45.5</td><td>6.03</td><td>58.9</td><td>19100</td><td> 1.44</td><td>76.8</td><td>2.13</td><td>12200</td></tr>\n",
       "\t<tr><td>Argentina          </td><td> 14.5</td><td>18.9</td><td>8.10</td><td>16.0</td><td>18700</td><td>20.90</td><td>75.8</td><td>2.37</td><td>10300</td></tr>\n",
       "</tbody>\n",
       "</table>\n"
      ],
      "text/latex": [
       "A tibble: 6 × 10\n",
       "\\begin{tabular}{llllllllll}\n",
       " country & child\\_mort & exports & health & imports & income & inflation & life\\_expec & total\\_fer & gdpp\\\\\n",
       " <chr> & <dbl> & <dbl> & <dbl> & <dbl> & <dbl> & <dbl> & <dbl> & <dbl> & <dbl>\\\\\n",
       "\\hline\n",
       "\t Afghanistan         &  90.2 & 10.0 & 7.58 & 44.9 &  1610 &  9.44 & 56.2 & 5.82 &   553\\\\\n",
       "\t Albania             &  16.6 & 28.0 & 6.55 & 48.6 &  9930 &  4.49 & 76.3 & 1.65 &  4090\\\\\n",
       "\t Algeria             &  27.3 & 38.4 & 4.17 & 31.4 & 12900 & 16.10 & 76.5 & 2.89 &  4460\\\\\n",
       "\t Angola              & 119.0 & 62.3 & 2.85 & 42.9 &  5900 & 22.40 & 60.1 & 6.16 &  3530\\\\\n",
       "\t Antigua and Barbuda &  10.3 & 45.5 & 6.03 & 58.9 & 19100 &  1.44 & 76.8 & 2.13 & 12200\\\\\n",
       "\t Argentina           &  14.5 & 18.9 & 8.10 & 16.0 & 18700 & 20.90 & 75.8 & 2.37 & 10300\\\\\n",
       "\\end{tabular}\n"
      ],
      "text/markdown": [
       "\n",
       "A tibble: 6 × 10\n",
       "\n",
       "| country &lt;chr&gt; | child_mort &lt;dbl&gt; | exports &lt;dbl&gt; | health &lt;dbl&gt; | imports &lt;dbl&gt; | income &lt;dbl&gt; | inflation &lt;dbl&gt; | life_expec &lt;dbl&gt; | total_fer &lt;dbl&gt; | gdpp &lt;dbl&gt; |\n",
       "|---|---|---|---|---|---|---|---|---|---|\n",
       "| Afghanistan         |  90.2 | 10.0 | 7.58 | 44.9 |  1610 |  9.44 | 56.2 | 5.82 |   553 |\n",
       "| Albania             |  16.6 | 28.0 | 6.55 | 48.6 |  9930 |  4.49 | 76.3 | 1.65 |  4090 |\n",
       "| Algeria             |  27.3 | 38.4 | 4.17 | 31.4 | 12900 | 16.10 | 76.5 | 2.89 |  4460 |\n",
       "| Angola              | 119.0 | 62.3 | 2.85 | 42.9 |  5900 | 22.40 | 60.1 | 6.16 |  3530 |\n",
       "| Antigua and Barbuda |  10.3 | 45.5 | 6.03 | 58.9 | 19100 |  1.44 | 76.8 | 2.13 | 12200 |\n",
       "| Argentina           |  14.5 | 18.9 | 8.10 | 16.0 | 18700 | 20.90 | 75.8 | 2.37 | 10300 |\n",
       "\n"
      ],
      "text/plain": [
       "  country             child_mort exports health imports income inflation\n",
       "1 Afghanistan          90.2      10.0    7.58   44.9     1610   9.44    \n",
       "2 Albania              16.6      28.0    6.55   48.6     9930   4.49    \n",
       "3 Algeria              27.3      38.4    4.17   31.4    12900  16.10    \n",
       "4 Angola              119.0      62.3    2.85   42.9     5900  22.40    \n",
       "5 Antigua and Barbuda  10.3      45.5    6.03   58.9    19100   1.44    \n",
       "6 Argentina            14.5      18.9    8.10   16.0    18700  20.90    \n",
       "  life_expec total_fer gdpp \n",
       "1 56.2       5.82        553\n",
       "2 76.3       1.65       4090\n",
       "3 76.5       2.89       4460\n",
       "4 60.1       6.16       3530\n",
       "5 76.8       2.13      12200\n",
       "6 75.8       2.37      10300"
      ]
     },
     "metadata": {},
     "output_type": "display_data"
    },
    {
     "data": {
      "text/plain": [
       "   country            child_mort        exports            health      \n",
       " Length:167         Min.   :  2.60   Min.   :  0.109   Min.   : 1.810  \n",
       " Class :character   1st Qu.:  8.25   1st Qu.: 23.800   1st Qu.: 4.920  \n",
       " Mode  :character   Median : 19.30   Median : 35.000   Median : 6.320  \n",
       "                    Mean   : 38.27   Mean   : 41.109   Mean   : 6.816  \n",
       "                    3rd Qu.: 62.10   3rd Qu.: 51.350   3rd Qu.: 8.600  \n",
       "                    Max.   :208.00   Max.   :200.000   Max.   :17.900  \n",
       "    imports             income         inflation         life_expec   \n",
       " Min.   :  0.0659   Min.   :   609   Min.   : -4.210   Min.   :32.10  \n",
       " 1st Qu.: 30.2000   1st Qu.:  3355   1st Qu.:  1.810   1st Qu.:65.30  \n",
       " Median : 43.3000   Median :  9960   Median :  5.390   Median :73.10  \n",
       " Mean   : 46.8902   Mean   : 17145   Mean   :  7.782   Mean   :70.56  \n",
       " 3rd Qu.: 58.7500   3rd Qu.: 22800   3rd Qu.: 10.750   3rd Qu.:76.80  \n",
       " Max.   :174.0000   Max.   :125000   Max.   :104.000   Max.   :82.80  \n",
       "   total_fer          gdpp       \n",
       " Min.   :1.150   Min.   :   231  \n",
       " 1st Qu.:1.795   1st Qu.:  1330  \n",
       " Median :2.410   Median :  4660  \n",
       " Mean   :2.948   Mean   : 12964  \n",
       " 3rd Qu.:3.880   3rd Qu.: 14050  \n",
       " Max.   :7.490   Max.   :105000  "
      ]
     },
     "metadata": {},
     "output_type": "display_data"
    }
   ],
   "source": [
    "data <- read_csv(\"/Users/ajsmit/Dropbox/R/workshops/Quantitative_Ecology/_GitBook/data/Country-data.csv\")\n",
    "head(data)\n",
    "summary(data)"
   ]
  },
  {
   "cell_type": "markdown",
   "id": "29019f80-b653-408b-a29b-d15640bc3e51",
   "metadata": {},
   "source": [
    "See the data descriptors:"
   ]
  },
  {
   "cell_type": "code",
   "execution_count": 2,
   "id": "fc50c4de-0717-476f-8dff-6f1b9fec69f6",
   "metadata": {},
   "outputs": [
    {
     "name": "stderr",
     "output_type": "stream",
     "text": [
      "\n",
      "\u001b[36m──\u001b[39m \u001b[1m\u001b[1mColumn specification\u001b[1m\u001b[22m \u001b[36m──────────────────────────────────────────────────────────────────────────────────────────────────────────────────────────────────────\u001b[39m\n",
      "cols(\n",
      "  `Column Name` = \u001b[31mcol_character()\u001b[39m,\n",
      "  Description = \u001b[31mcol_character()\u001b[39m\n",
      ")\n",
      "\n",
      "\n"
     ]
    },
    {
     "data": {
      "text/html": [
       "<table class=\"dataframe\">\n",
       "<caption>A spec_tbl_df: 10 × 2</caption>\n",
       "<thead>\n",
       "\t<tr><th scope=col>Column Name</th><th scope=col>Description</th></tr>\n",
       "\t<tr><th scope=col>&lt;chr&gt;</th><th scope=col>&lt;chr&gt;</th></tr>\n",
       "</thead>\n",
       "<tbody>\n",
       "\t<tr><td>country   </td><td>Name of the country                                                                                             </td></tr>\n",
       "\t<tr><td>child_mort</td><td>Death of children under 5 years of age per 1000 live births                                                     </td></tr>\n",
       "\t<tr><td>exports   </td><td>Exports of goods and services per capita. Given as %age of the GDP per capita                                   </td></tr>\n",
       "\t<tr><td>health    </td><td>Total health spending per capita. Given as %age of GDP per capita                                               </td></tr>\n",
       "\t<tr><td>imports   </td><td>Imports of goods and services per capita. Given as %age of the GDP per capita                                   </td></tr>\n",
       "\t<tr><td>Income    </td><td>Net income per person                                                                                           </td></tr>\n",
       "\t<tr><td>Inflation </td><td>The measurement of the annual growth rate of the Total GDP                                                      </td></tr>\n",
       "\t<tr><td>life_expec</td><td>The average number of years a new born child would live if the current mortality patterns are to remain the same</td></tr>\n",
       "\t<tr><td>total_fer </td><td>The number of children that would be born to each woman if the current age-fertility rates remain the same.     </td></tr>\n",
       "\t<tr><td>gdpp      </td><td>The GDP per capita. Calculated as the Total GDP divided by the total population.                                </td></tr>\n",
       "</tbody>\n",
       "</table>\n"
      ],
      "text/latex": [
       "A spec\\_tbl\\_df: 10 × 2\n",
       "\\begin{tabular}{ll}\n",
       " Column Name & Description\\\\\n",
       " <chr> & <chr>\\\\\n",
       "\\hline\n",
       "\t country    & Name of the country                                                                                             \\\\\n",
       "\t child\\_mort & Death of children under 5 years of age per 1000 live births                                                     \\\\\n",
       "\t exports    & Exports of goods and services per capita. Given as \\%age of the GDP per capita                                   \\\\\n",
       "\t health     & Total health spending per capita. Given as \\%age of GDP per capita                                               \\\\\n",
       "\t imports    & Imports of goods and services per capita. Given as \\%age of the GDP per capita                                   \\\\\n",
       "\t Income     & Net income per person                                                                                           \\\\\n",
       "\t Inflation  & The measurement of the annual growth rate of the Total GDP                                                      \\\\\n",
       "\t life\\_expec & The average number of years a new born child would live if the current mortality patterns are to remain the same\\\\\n",
       "\t total\\_fer  & The number of children that would be born to each woman if the current age-fertility rates remain the same.     \\\\\n",
       "\t gdpp       & The GDP per capita. Calculated as the Total GDP divided by the total population.                                \\\\\n",
       "\\end{tabular}\n"
      ],
      "text/markdown": [
       "\n",
       "A spec_tbl_df: 10 × 2\n",
       "\n",
       "| Column Name &lt;chr&gt; | Description &lt;chr&gt; |\n",
       "|---|---|\n",
       "| country    | Name of the country                                                                                              |\n",
       "| child_mort | Death of children under 5 years of age per 1000 live births                                                      |\n",
       "| exports    | Exports of goods and services per capita. Given as %age of the GDP per capita                                    |\n",
       "| health     | Total health spending per capita. Given as %age of GDP per capita                                                |\n",
       "| imports    | Imports of goods and services per capita. Given as %age of the GDP per capita                                    |\n",
       "| Income     | Net income per person                                                                                            |\n",
       "| Inflation  | The measurement of the annual growth rate of the Total GDP                                                       |\n",
       "| life_expec | The average number of years a new born child would live if the current mortality patterns are to remain the same |\n",
       "| total_fer  | The number of children that would be born to each woman if the current age-fertility rates remain the same.      |\n",
       "| gdpp       | The GDP per capita. Calculated as the Total GDP divided by the total population.                                 |\n",
       "\n"
      ],
      "text/plain": [
       "   Column Name\n",
       "1  country    \n",
       "2  child_mort \n",
       "3  exports    \n",
       "4  health     \n",
       "5  imports    \n",
       "6  Income     \n",
       "7  Inflation  \n",
       "8  life_expec \n",
       "9  total_fer  \n",
       "10 gdpp       \n",
       "   Description                                                                                                     \n",
       "1  Name of the country                                                                                             \n",
       "2  Death of children under 5 years of age per 1000 live births                                                     \n",
       "3  Exports of goods and services per capita. Given as %age of the GDP per capita                                   \n",
       "4  Total health spending per capita. Given as %age of GDP per capita                                               \n",
       "5  Imports of goods and services per capita. Given as %age of the GDP per capita                                   \n",
       "6  Net income per person                                                                                           \n",
       "7  The measurement of the annual growth rate of the Total GDP                                                      \n",
       "8  The average number of years a new born child would live if the current mortality patterns are to remain the same\n",
       "9  The number of children that would be born to each woman if the current age-fertility rates remain the same.     \n",
       "10 The GDP per capita. Calculated as the Total GDP divided by the total population.                                "
      ]
     },
     "metadata": {},
     "output_type": "display_data"
    }
   ],
   "source": [
    "read_csv(\"/Users/ajsmit/Dropbox/R/workshops/Quantitative_Ecology/_GitBook/data/data-dictionary.csv\")"
   ]
  },
  {
   "cell_type": "markdown",
   "id": "442d714a-7539-4daa-aef9-4d00c0ed08c8",
   "metadata": {},
   "source": [
    "The data are in different measurement scales, so standardise it:"
   ]
  },
  {
   "cell_type": "code",
   "execution_count": 6,
   "id": "96529dac-b788-4e7b-9883-281f108ad234",
   "metadata": {},
   "outputs": [],
   "source": [
    "data_std <- decostand(data[, 2:10], method = \"standardize\")"
   ]
  },
  {
   "cell_type": "markdown",
   "id": "a82e4789-81ea-4dad-807b-32a997f86c81",
   "metadata": {},
   "source": [
    "## Do the clustering"
   ]
  },
  {
   "cell_type": "code",
   "execution_count": null,
   "id": "7fd07df0-9fff-4b1d-a698-890509476dd4",
   "metadata": {},
   "outputs": [],
   "source": []
  }
 ],
 "metadata": {
  "kernelspec": {
   "display_name": "R",
   "language": "R",
   "name": "ir"
  },
  "language_info": {
   "codemirror_mode": "r",
   "file_extension": ".r",
   "mimetype": "text/x-r-source",
   "name": "R",
   "pygments_lexer": "r",
   "version": "4.1.0"
  }
 },
 "nbformat": 4,
 "nbformat_minor": 5
}
